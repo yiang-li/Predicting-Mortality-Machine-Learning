{
 "cells": [
  {
   "attachments": {},
   "cell_type": "markdown",
   "metadata": {
    "pycharm": {
     "name": "#%% md\n"
    }
   },
   "source": [
    "# Predicting Long-Term Mortality: Evidence from the Health and Retirement Study"
   ]
  },
  {
   "attachments": {},
   "cell_type": "markdown",
   "metadata": {
    "pycharm": {
     "name": "#%% md\n"
    }
   },
   "source": [
    "### Yiang Li"
   ]
  },
  {
   "attachments": {},
   "cell_type": "markdown",
   "metadata": {
    "pycharm": {
     "name": "#%% md\n"
    }
   },
   "source": [
    "### S0. problem formulation"
   ]
  },
  {
   "attachments": {},
   "cell_type": "markdown",
   "metadata": {
    "pycharm": {
     "name": "#%% md\n"
    }
   },
   "source": [
    "#### Background:\n",
    "\n",
    "The current academic literature in predicting mortality has extensively focused on disease and frailty, although social, behavioral, and psychological statuses may herald broad physiological decline. I tested the effectiveness of the machine learning algorithms on the NSHAP sample in Project 1 and learnt the important features predicting mortality. This project will extend the analysis by 1) using a different set of predictors 2) applying some new algorithms in addition to tree-based algorithm 3) using a different dataset.\n",
    "\n",
    "#### Context:\n",
    "\n",
    "Health and Retirement Survey (HRS) is a nationally representative survey of the older US adults (aged 50-61) collected every two years from 1992 to 2018. I use 2002 characteristics as baseline and 2016 disposition status (reported in the 2018 wave) as target (n = 20218). The choice of the baseline year of 2002 is because the 2002 wave is the first wave of the HRS that have consistent and detailed health-related measurements. \n",
    "\n",
    "#### Goal\n",
    "The goal of this project is to predict mortality in the next 14 years using the baseline characteristics in 2002. I will also discussed the social and demographic characteristics of the cases whose disposition statuses were either wrongly predicted as death or alive by the algorithms. The findings will serve important purposes for public health practitioners in understanding the risk and protective factors of mortality in the aging process.\n",
    "\n",
    "#### Task: \n",
    "The task is to train a supervized binary classification model to predict mortality in the next 14 years using the baseline characteristics in 2002.\n",
    "\n",
    "#### Dataset Links:\n",
    "<a href= \"https://hrs.isr.umich.edu/sites/default/files/meta/2002/core/codebook/h02_00.html?_ga=2.14020593.714056361.1676427746-1610833755.1676427746\">Codebook</a>\n",
    "\n",
    "<a href= \"https://hrs.isr.umich.edu/data-products\">Dataset</a>"
   ]
  },
  {
   "attachments": {},
   "cell_type": "markdown",
   "metadata": {
    "pycharm": {
     "name": "#%% md\n"
    }
   },
   "source": [
    "#### List of features I will be using:\n",
    "1. Body mass index: HRS: HC139 - weight in pounds (continuous)\n",
    "2. Hypertension: HRS: HC005 (binary)\n",
    "3. Diabetes: HRS: HC010 (binary)\n",
    "4. Self-rated health: HRS: HC001 (ordinal)\n",
    "5. Arthritis: HRS: HC070 (binary)\n",
    "6. Smoking: HRS: HC117 (binary)\n",
    "7. Drunk alcohol: HRS: HC128 (binary)\n",
    "8. Age at baseline: HRS: HX067_R (ordinal, year of birth)\n",
    "9. Education: HRS: HB014A (ordinal)\n",
    "10. Net household assets: HRS: HC134 + HQ331 + HQ376 (continuous)\n",
    "11. Marital status: HRS: HMARITAL (binary)\n",
    "12. Sex: HRS: HX060_R (binary)\n",
    "13. Race: HRS: HB031A (binary)\n",
    "14. Religion Importance:  HRS: HB053 (ordinal)\n",
    "15. Children co-residence: HRS: HE012 (binary)\n",
    "16. Grandchildren: HRS: HE046 (ordinal)\n",
    "17. Relatives: HRS: HF174 (binary)\n",
    "18. Volunteer: HRS: HG092 (binary)\n",
    "19. Friends: HRS: HF176 (ordinal)\n",
    "20. Functional limitations: HRS: HG001 (binary)"
   ]
  },
  {
   "attachments": {},
   "cell_type": "markdown",
   "metadata": {
    "pycharm": {
     "name": "#%% md\n"
    }
   },
   "source": [
    "#### Import packages for the analysis"
   ]
  },
  {
   "cell_type": "code",
   "execution_count": 38,
   "metadata": {
    "pycharm": {
     "name": "#%%\n"
    }
   },
   "outputs": [],
   "source": [
    "# Data Preprocessing package\n",
    "import glob\n",
    "\n",
    "import matplotlib.pyplot as plt\n",
    "import numpy as np\n",
    "import pandas as pd\n",
    "import seaborn as sns\n",
    "# Machine Learning package\n",
    "from sklearn import metrics\n",
    "from sklearn.linear_model import LogisticRegression\n",
    "from sklearn.metrics import classification_report, make_scorer, precision_score\n",
    "from sklearn.model_selection import GridSearchCV\n",
    "from sklearn.model_selection import train_test_split\n",
    "from sklearn.neighbors import KNeighborsClassifier\n",
    "from sklearn.neural_network import MLPClassifier\n",
    "from sklearn.preprocessing import MinMaxScaler\n",
    "import joblib # save gridsearch model\n",
    "import warnings\n",
    "warnings.filterwarnings('ignore')\n",
    "seed = 42"
   ]
  },
  {
   "attachments": {},
   "cell_type": "markdown",
   "metadata": {
    "pycharm": {
     "name": "#%% md\n"
    }
   },
   "source": [
    "### S1: Exploratory Data Analysis & Data Preprocessing"
   ]
  },
  {
   "attachments": {},
   "cell_type": "markdown",
   "metadata": {
    "pycharm": {
     "name": "#%% md\n"
    }
   },
   "source": [
    "Because the HRS dataset of each wave (e.g., 2002) is stored in 20+ files (in multiple formats), I first need to merge the files into one dataframe. The following code is used to merge the files. I used the CSV version of the HRS raw dataset.\n",
    "\n",
    "Then, I have concatenated the disposition statuses of the 8 subsequent waves since 2002 until 2018 to create a new variable called \"disposition\" that indicates the status of the respondents in 2018. The disposition status is coded as 0 (alive) and 1 (dead) in the new variable. Those not in the disposition datasets are still alive."
   ]
  },
  {
   "cell_type": "code",
   "execution_count": 2,
   "metadata": {
    "pycharm": {
     "name": "#%%\n"
    }
   },
   "outputs": [
    {
     "data": {
      "text/html": [
       "<div>\n",
       "<style scoped>\n",
       "    .dataframe tbody tr th:only-of-type {\n",
       "        vertical-align: middle;\n",
       "    }\n",
       "\n",
       "    .dataframe tbody tr th {\n",
       "        vertical-align: top;\n",
       "    }\n",
       "\n",
       "    .dataframe thead th {\n",
       "        text-align: right;\n",
       "    }\n",
       "</style>\n",
       "<table border=\"1\" class=\"dataframe\">\n",
       "  <thead>\n",
       "    <tr style=\"text-align: right;\">\n",
       "      <th></th>\n",
       "      <th>HHID</th>\n",
       "      <th>PN</th>\n",
       "      <th>HC139</th>\n",
       "      <th>HC005</th>\n",
       "      <th>HC010</th>\n",
       "      <th>HC001</th>\n",
       "      <th>HC070</th>\n",
       "      <th>HC117</th>\n",
       "      <th>HC128</th>\n",
       "      <th>HX067_R</th>\n",
       "      <th>...</th>\n",
       "      <th>HMARITAL</th>\n",
       "      <th>HX060_R</th>\n",
       "      <th>HB031A</th>\n",
       "      <th>HB053</th>\n",
       "      <th>HE012</th>\n",
       "      <th>HE046</th>\n",
       "      <th>HF174</th>\n",
       "      <th>HG092</th>\n",
       "      <th>HF176</th>\n",
       "      <th>HG001</th>\n",
       "    </tr>\n",
       "  </thead>\n",
       "  <tbody>\n",
       "    <tr>\n",
       "      <th>0</th>\n",
       "      <td>3</td>\n",
       "      <td>10</td>\n",
       "      <td>170.0</td>\n",
       "      <td>5.0</td>\n",
       "      <td>5.0</td>\n",
       "      <td>3.0</td>\n",
       "      <td>5.0</td>\n",
       "      <td>5.0</td>\n",
       "      <td>1.0</td>\n",
       "      <td>1936.0</td>\n",
       "      <td>...</td>\n",
       "      <td>1.0</td>\n",
       "      <td>1.0</td>\n",
       "      <td>1.0</td>\n",
       "      <td>1</td>\n",
       "      <td>5.0</td>\n",
       "      <td>12.0</td>\n",
       "      <td>5.0</td>\n",
       "      <td>20.0</td>\n",
       "      <td>1.0</td>\n",
       "      <td>5.0</td>\n",
       "    </tr>\n",
       "    <tr>\n",
       "      <th>1</th>\n",
       "      <td>3</td>\n",
       "      <td>20</td>\n",
       "      <td>179.0</td>\n",
       "      <td>5.0</td>\n",
       "      <td>5.0</td>\n",
       "      <td>3.0</td>\n",
       "      <td>1.0</td>\n",
       "      <td>5.0</td>\n",
       "      <td>5.0</td>\n",
       "      <td>1938.0</td>\n",
       "      <td>...</td>\n",
       "      <td>1.0</td>\n",
       "      <td>2.0</td>\n",
       "      <td>1.0</td>\n",
       "      <td>1</td>\n",
       "      <td>5.0</td>\n",
       "      <td>12.0</td>\n",
       "      <td>5.0</td>\n",
       "      <td>100.0</td>\n",
       "      <td>1.0</td>\n",
       "      <td>5.0</td>\n",
       "    </tr>\n",
       "    <tr>\n",
       "      <th>2</th>\n",
       "      <td>10001</td>\n",
       "      <td>10</td>\n",
       "      <td>180.0</td>\n",
       "      <td>5.0</td>\n",
       "      <td>5.0</td>\n",
       "      <td>2.0</td>\n",
       "      <td>5.0</td>\n",
       "      <td>5.0</td>\n",
       "      <td>5.0</td>\n",
       "      <td>1939.0</td>\n",
       "      <td>...</td>\n",
       "      <td>6.0</td>\n",
       "      <td>1.0</td>\n",
       "      <td>1.0</td>\n",
       "      <td>3</td>\n",
       "      <td>NaN</td>\n",
       "      <td>NaN</td>\n",
       "      <td>5.0</td>\n",
       "      <td>9998.0</td>\n",
       "      <td>3.0</td>\n",
       "      <td>5.0</td>\n",
       "    </tr>\n",
       "    <tr>\n",
       "      <th>3</th>\n",
       "      <td>10003</td>\n",
       "      <td>30</td>\n",
       "      <td>120.0</td>\n",
       "      <td>1.0</td>\n",
       "      <td>5.0</td>\n",
       "      <td>1.0</td>\n",
       "      <td>5.0</td>\n",
       "      <td>5.0</td>\n",
       "      <td>5.0</td>\n",
       "      <td>1956.0</td>\n",
       "      <td>...</td>\n",
       "      <td>5.0</td>\n",
       "      <td>2.0</td>\n",
       "      <td>1.0</td>\n",
       "      <td>1</td>\n",
       "      <td>NaN</td>\n",
       "      <td>NaN</td>\n",
       "      <td>5.0</td>\n",
       "      <td>0.0</td>\n",
       "      <td>0.0</td>\n",
       "      <td>5.0</td>\n",
       "    </tr>\n",
       "    <tr>\n",
       "      <th>4</th>\n",
       "      <td>10004</td>\n",
       "      <td>10</td>\n",
       "      <td>230.0</td>\n",
       "      <td>1.0</td>\n",
       "      <td>5.0</td>\n",
       "      <td>2.0</td>\n",
       "      <td>1.0</td>\n",
       "      <td>5.0</td>\n",
       "      <td>1.0</td>\n",
       "      <td>1939.0</td>\n",
       "      <td>...</td>\n",
       "      <td>1.0</td>\n",
       "      <td>1.0</td>\n",
       "      <td>1.0</td>\n",
       "      <td>1</td>\n",
       "      <td>1.0</td>\n",
       "      <td>95.0</td>\n",
       "      <td>1.0</td>\n",
       "      <td>200.0</td>\n",
       "      <td>1.0</td>\n",
       "      <td>5.0</td>\n",
       "    </tr>\n",
       "  </tbody>\n",
       "</table>\n",
       "<p>5 rows × 24 columns</p>\n",
       "</div>"
      ],
      "text/plain": [
       "    HHID  PN  HC139  HC005  HC010  HC001  HC070  HC117  HC128  HX067_R  ...  \\\n",
       "0      3  10  170.0    5.0    5.0    3.0    5.0    5.0    1.0   1936.0  ...   \n",
       "1      3  20  179.0    5.0    5.0    3.0    1.0    5.0    5.0   1938.0  ...   \n",
       "2  10001  10  180.0    5.0    5.0    2.0    5.0    5.0    5.0   1939.0  ...   \n",
       "3  10003  30  120.0    1.0    5.0    1.0    5.0    5.0    5.0   1956.0  ...   \n",
       "4  10004  10  230.0    1.0    5.0    2.0    1.0    5.0    1.0   1939.0  ...   \n",
       "\n",
       "   HMARITAL  HX060_R  HB031A  HB053  HE012  HE046  HF174   HG092  HF176  HG001  \n",
       "0       1.0      1.0     1.0      1    5.0   12.0    5.0    20.0    1.0    5.0  \n",
       "1       1.0      2.0     1.0      1    5.0   12.0    5.0   100.0    1.0    5.0  \n",
       "2       6.0      1.0     1.0      3    NaN    NaN    5.0  9998.0    3.0    5.0  \n",
       "3       5.0      2.0     1.0      1    NaN    NaN    5.0     0.0    0.0    5.0  \n",
       "4       1.0      1.0     1.0      1    1.0   95.0    1.0   200.0    1.0    5.0  \n",
       "\n",
       "[5 rows x 24 columns]"
      ]
     },
     "execution_count": 2,
     "metadata": {},
     "output_type": "execute_result"
    }
   ],
   "source": [
    "# Import all the core files in the baseline wave 2002\n",
    "all_core_files = glob.glob('hrs_data/*.csv')\n",
    "# Create an empty dataframe to concatenate with all the dataframes\n",
    "core_data_raw = pd.DataFrame()\n",
    "# Loop through all the files and read them into a dataframe\n",
    "for filename in all_core_files:\n",
    "    dfcore = pd.read_csv(filename, index_col=None, header=0)\n",
    "    col_to_merge = dfcore.columns.difference(core_data_raw.columns)\n",
    "    if filename.endswith('R.csv'):\n",
    "        core_data_raw = pd.concat([core_data_raw, dfcore[col_to_merge]], axis=1)\n",
    "    elif filename.endswith('H.csv'):\n",
    "        dfmerge = pd.concat([dfcore[col_to_merge], dfcore['HHID']], axis=1)\n",
    "        core_data_raw = core_data_raw.merge(dfmerge,\n",
    "                                            on=[\"HHID\"], how=\"inner\")\n",
    "# Select the columns we need\n",
    "core_data = core_data_raw[['HHID', 'PN',\n",
    "                           'HC139', 'HC005', 'HC010', 'HC001', 'HC070',\n",
    "                           'HC117', 'HC128', 'HX067_R', 'HB014A', 'HC134', 'HQ331', 'HQ376', 'HMARITAL', 'HX060_R',\n",
    "                           'HB031A',\n",
    "                           'HB053', 'HE012', 'HE046', 'HF174', 'HG092', 'HF176',\n",
    "                           'HG001'\n",
    "                           ]]\n",
    "# Show the first 5 rows of the dataframe\n",
    "core_data.head()"
   ]
  },
  {
   "cell_type": "code",
   "execution_count": 3,
   "metadata": {
    "pycharm": {
     "name": "#%%\n"
    }
   },
   "outputs": [
    {
     "data": {
      "text/html": [
       "<div>\n",
       "<style scoped>\n",
       "    .dataframe tbody tr th:only-of-type {\n",
       "        vertical-align: middle;\n",
       "    }\n",
       "\n",
       "    .dataframe tbody tr th {\n",
       "        vertical-align: top;\n",
       "    }\n",
       "\n",
       "    .dataframe thead th {\n",
       "        text-align: right;\n",
       "    }\n",
       "</style>\n",
       "<table border=\"1\" class=\"dataframe\">\n",
       "  <thead>\n",
       "    <tr style=\"text-align: right;\">\n",
       "      <th></th>\n",
       "      <th>HHID</th>\n",
       "      <th>PN</th>\n",
       "      <th>deceased</th>\n",
       "    </tr>\n",
       "  </thead>\n",
       "  <tbody>\n",
       "    <tr>\n",
       "      <th>0</th>\n",
       "      <td>10475</td>\n",
       "      <td>10</td>\n",
       "      <td>1</td>\n",
       "    </tr>\n",
       "    <tr>\n",
       "      <th>1</th>\n",
       "      <td>10592</td>\n",
       "      <td>10</td>\n",
       "      <td>1</td>\n",
       "    </tr>\n",
       "    <tr>\n",
       "      <th>2</th>\n",
       "      <td>11219</td>\n",
       "      <td>10</td>\n",
       "      <td>1</td>\n",
       "    </tr>\n",
       "    <tr>\n",
       "      <th>3</th>\n",
       "      <td>11575</td>\n",
       "      <td>20</td>\n",
       "      <td>1</td>\n",
       "    </tr>\n",
       "    <tr>\n",
       "      <th>4</th>\n",
       "      <td>11626</td>\n",
       "      <td>10</td>\n",
       "      <td>1</td>\n",
       "    </tr>\n",
       "    <tr>\n",
       "      <th>...</th>\n",
       "      <td>...</td>\n",
       "      <td>...</td>\n",
       "      <td>...</td>\n",
       "    </tr>\n",
       "    <tr>\n",
       "      <th>10027</th>\n",
       "      <td>213379</td>\n",
       "      <td>10</td>\n",
       "      <td>1</td>\n",
       "    </tr>\n",
       "    <tr>\n",
       "      <th>10028</th>\n",
       "      <td>213410</td>\n",
       "      <td>10</td>\n",
       "      <td>1</td>\n",
       "    </tr>\n",
       "    <tr>\n",
       "      <th>10029</th>\n",
       "      <td>213418</td>\n",
       "      <td>10</td>\n",
       "      <td>1</td>\n",
       "    </tr>\n",
       "    <tr>\n",
       "      <th>10030</th>\n",
       "      <td>213428</td>\n",
       "      <td>10</td>\n",
       "      <td>1</td>\n",
       "    </tr>\n",
       "    <tr>\n",
       "      <th>10031</th>\n",
       "      <td>213434</td>\n",
       "      <td>10</td>\n",
       "      <td>1</td>\n",
       "    </tr>\n",
       "  </tbody>\n",
       "</table>\n",
       "<p>10032 rows × 3 columns</p>\n",
       "</div>"
      ],
      "text/plain": [
       "         HHID  PN  deceased\n",
       "0       10475  10         1\n",
       "1       10592  10         1\n",
       "2       11219  10         1\n",
       "3       11575  20         1\n",
       "4       11626  10         1\n",
       "...       ...  ..       ...\n",
       "10027  213379  10         1\n",
       "10028  213410  10         1\n",
       "10029  213418  10         1\n",
       "10030  213428  10         1\n",
       "10031  213434  10         1\n",
       "\n",
       "[10032 rows x 3 columns]"
      ]
     },
     "execution_count": 3,
     "metadata": {},
     "output_type": "execute_result"
    }
   ],
   "source": [
    "# Importing all disposition files of every wave\n",
    "all_dispositon_files = glob.glob('hrs_data/disposition/*.csv')\n",
    "# Create an empty dataframe to store all the dataframes\n",
    "dispositon_data_full = pd.DataFrame()\n",
    "# Loop through all the files and read them into a list of dataframes\n",
    "for filename in all_dispositon_files:\n",
    "    df_disposition = pd.read_csv(filename, index_col=None, header=0)\n",
    "    dispositon_data_full = pd.concat([dispositon_data_full, df_disposition], axis=0, ignore_index=True)\n",
    "# Concatenate all the dataframes into one dataframe\n",
    "dispositon_data = dispositon_data_full.iloc[:, :2].copy()\n",
    "# As these are all the disposition files, we can set deceased to 1\n",
    "dispositon_data['deceased'] = 1\n",
    "dispositon_data"
   ]
  },
  {
   "attachments": {},
   "cell_type": "markdown",
   "metadata": {
    "pycharm": {
     "name": "#%% md\n"
    }
   },
   "source": [
    "After getting the 2002 core dataset and the disposition dataset, I merged the two datasets on the unique identifier \"id\" to create the final dataset for the analysis.\n",
    "\n",
    "Then, I have checked whether the outcome variable is balanced. Different from the NSHAP dataset that Zejian and I used in Project 1, the HRS dataset is pretty balaced with 54.3% of the respondents alive and 45.7% of the respondents dead. Hence, working with the balanced dataset allows the machine learning algorithms to learn the patterns of the predictors better on both the alive and deceased classes."
   ]
  },
  {
   "cell_type": "code",
   "execution_count": 4,
   "metadata": {
    "pycharm": {
     "name": "#%%\n"
    }
   },
   "outputs": [
    {
     "data": {
      "text/plain": [
       "0.0    10973\n",
       "1.0     9245\n",
       "Name: deceased, dtype: int64"
      ]
     },
     "execution_count": 4,
     "metadata": {},
     "output_type": "execute_result"
    }
   ],
   "source": [
    "# Merge the core data with the disposition data\n",
    "df02_d = core_data.merge(dispositon_data, on=[\"HHID\", \"PN\"], how=\"left\")\n",
    "# Fill the respondents not appearing in the disposition data as not deceased\n",
    "df02_d['deceased'] = df02_d['deceased'].fillna(0)\n",
    "# Show the breakdown of deceased and not deceased\n",
    "df02_d['deceased'].value_counts()"
   ]
  },
  {
   "cell_type": "code",
   "execution_count": 5,
   "metadata": {
    "pycharm": {
     "name": "#%%\n"
    }
   },
   "outputs": [
    {
     "data": {
      "text/html": [
       "<div>\n",
       "<style scoped>\n",
       "    .dataframe tbody tr th:only-of-type {\n",
       "        vertical-align: middle;\n",
       "    }\n",
       "\n",
       "    .dataframe tbody tr th {\n",
       "        vertical-align: top;\n",
       "    }\n",
       "\n",
       "    .dataframe thead th {\n",
       "        text-align: right;\n",
       "    }\n",
       "</style>\n",
       "<table border=\"1\" class=\"dataframe\">\n",
       "  <thead>\n",
       "    <tr style=\"text-align: right;\">\n",
       "      <th></th>\n",
       "      <th>HHID</th>\n",
       "      <th>PN</th>\n",
       "      <th>HC139</th>\n",
       "      <th>HC005</th>\n",
       "      <th>HC010</th>\n",
       "      <th>HC001</th>\n",
       "      <th>HC070</th>\n",
       "      <th>HC117</th>\n",
       "      <th>HC128</th>\n",
       "      <th>HX067_R</th>\n",
       "      <th>...</th>\n",
       "      <th>HX060_R</th>\n",
       "      <th>HB031A</th>\n",
       "      <th>HB053</th>\n",
       "      <th>HE012</th>\n",
       "      <th>HE046</th>\n",
       "      <th>HF174</th>\n",
       "      <th>HG092</th>\n",
       "      <th>HF176</th>\n",
       "      <th>HG001</th>\n",
       "      <th>deceased</th>\n",
       "    </tr>\n",
       "  </thead>\n",
       "  <tbody>\n",
       "    <tr>\n",
       "      <th>0</th>\n",
       "      <td>3</td>\n",
       "      <td>10</td>\n",
       "      <td>170.0</td>\n",
       "      <td>5.0</td>\n",
       "      <td>5.0</td>\n",
       "      <td>3.0</td>\n",
       "      <td>5.0</td>\n",
       "      <td>5.0</td>\n",
       "      <td>1.0</td>\n",
       "      <td>1936.0</td>\n",
       "      <td>...</td>\n",
       "      <td>1.0</td>\n",
       "      <td>1.0</td>\n",
       "      <td>1</td>\n",
       "      <td>5.0</td>\n",
       "      <td>12.0</td>\n",
       "      <td>5.0</td>\n",
       "      <td>20.0</td>\n",
       "      <td>1.0</td>\n",
       "      <td>5.0</td>\n",
       "      <td>1.0</td>\n",
       "    </tr>\n",
       "    <tr>\n",
       "      <th>1</th>\n",
       "      <td>3</td>\n",
       "      <td>20</td>\n",
       "      <td>179.0</td>\n",
       "      <td>5.0</td>\n",
       "      <td>5.0</td>\n",
       "      <td>3.0</td>\n",
       "      <td>1.0</td>\n",
       "      <td>5.0</td>\n",
       "      <td>5.0</td>\n",
       "      <td>1938.0</td>\n",
       "      <td>...</td>\n",
       "      <td>2.0</td>\n",
       "      <td>1.0</td>\n",
       "      <td>1</td>\n",
       "      <td>5.0</td>\n",
       "      <td>12.0</td>\n",
       "      <td>5.0</td>\n",
       "      <td>100.0</td>\n",
       "      <td>1.0</td>\n",
       "      <td>5.0</td>\n",
       "      <td>1.0</td>\n",
       "    </tr>\n",
       "    <tr>\n",
       "      <th>2</th>\n",
       "      <td>10001</td>\n",
       "      <td>10</td>\n",
       "      <td>180.0</td>\n",
       "      <td>5.0</td>\n",
       "      <td>5.0</td>\n",
       "      <td>2.0</td>\n",
       "      <td>5.0</td>\n",
       "      <td>5.0</td>\n",
       "      <td>5.0</td>\n",
       "      <td>1939.0</td>\n",
       "      <td>...</td>\n",
       "      <td>1.0</td>\n",
       "      <td>1.0</td>\n",
       "      <td>3</td>\n",
       "      <td>NaN</td>\n",
       "      <td>NaN</td>\n",
       "      <td>5.0</td>\n",
       "      <td>9998.0</td>\n",
       "      <td>3.0</td>\n",
       "      <td>5.0</td>\n",
       "      <td>0.0</td>\n",
       "    </tr>\n",
       "    <tr>\n",
       "      <th>3</th>\n",
       "      <td>10003</td>\n",
       "      <td>30</td>\n",
       "      <td>120.0</td>\n",
       "      <td>1.0</td>\n",
       "      <td>5.0</td>\n",
       "      <td>1.0</td>\n",
       "      <td>5.0</td>\n",
       "      <td>5.0</td>\n",
       "      <td>5.0</td>\n",
       "      <td>1956.0</td>\n",
       "      <td>...</td>\n",
       "      <td>2.0</td>\n",
       "      <td>1.0</td>\n",
       "      <td>1</td>\n",
       "      <td>NaN</td>\n",
       "      <td>NaN</td>\n",
       "      <td>5.0</td>\n",
       "      <td>0.0</td>\n",
       "      <td>0.0</td>\n",
       "      <td>5.0</td>\n",
       "      <td>0.0</td>\n",
       "    </tr>\n",
       "    <tr>\n",
       "      <th>4</th>\n",
       "      <td>10004</td>\n",
       "      <td>10</td>\n",
       "      <td>230.0</td>\n",
       "      <td>1.0</td>\n",
       "      <td>5.0</td>\n",
       "      <td>2.0</td>\n",
       "      <td>1.0</td>\n",
       "      <td>5.0</td>\n",
       "      <td>1.0</td>\n",
       "      <td>1939.0</td>\n",
       "      <td>...</td>\n",
       "      <td>1.0</td>\n",
       "      <td>1.0</td>\n",
       "      <td>1</td>\n",
       "      <td>1.0</td>\n",
       "      <td>95.0</td>\n",
       "      <td>1.0</td>\n",
       "      <td>200.0</td>\n",
       "      <td>1.0</td>\n",
       "      <td>5.0</td>\n",
       "      <td>1.0</td>\n",
       "    </tr>\n",
       "  </tbody>\n",
       "</table>\n",
       "<p>5 rows × 25 columns</p>\n",
       "</div>"
      ],
      "text/plain": [
       "    HHID  PN  HC139  HC005  HC010  HC001  HC070  HC117  HC128  HX067_R  ...  \\\n",
       "0      3  10  170.0    5.0    5.0    3.0    5.0    5.0    1.0   1936.0  ...   \n",
       "1      3  20  179.0    5.0    5.0    3.0    1.0    5.0    5.0   1938.0  ...   \n",
       "2  10001  10  180.0    5.0    5.0    2.0    5.0    5.0    5.0   1939.0  ...   \n",
       "3  10003  30  120.0    1.0    5.0    1.0    5.0    5.0    5.0   1956.0  ...   \n",
       "4  10004  10  230.0    1.0    5.0    2.0    1.0    5.0    1.0   1939.0  ...   \n",
       "\n",
       "   HX060_R  HB031A  HB053  HE012  HE046  HF174   HG092  HF176  HG001  deceased  \n",
       "0      1.0     1.0      1    5.0   12.0    5.0    20.0    1.0    5.0       1.0  \n",
       "1      2.0     1.0      1    5.0   12.0    5.0   100.0    1.0    5.0       1.0  \n",
       "2      1.0     1.0      3    NaN    NaN    5.0  9998.0    3.0    5.0       0.0  \n",
       "3      2.0     1.0      1    NaN    NaN    5.0     0.0    0.0    5.0       0.0  \n",
       "4      1.0     1.0      1    1.0   95.0    1.0   200.0    1.0    5.0       1.0  \n",
       "\n",
       "[5 rows x 25 columns]"
      ]
     },
     "metadata": {},
     "output_type": "display_data"
    },
    {
     "data": {
      "text/plain": [
       "((20218, 25), None)"
      ]
     },
     "execution_count": 5,
     "metadata": {},
     "output_type": "execute_result"
    }
   ],
   "source": [
    "#check the data size and display the top 5 rows\n",
    "df02_d.shape, display(df02_d.head())"
   ]
  },
  {
   "attachments": {},
   "cell_type": "markdown",
   "metadata": {
    "pycharm": {
     "name": "#%% md\n"
    }
   },
   "source": [
    "After checking the balance of the outcome variable and the missingness of the predictors, I will go ahead to preprocess the data for the analysis by 1) imputing the missing values separately for continuous and categorical variables 2) construct some variables based on multiple other variables 3) scaling the continuous variables."
   ]
  },
  {
   "attachments": {},
   "cell_type": "markdown",
   "metadata": {
    "pycharm": {
     "name": "#%% md\n"
    }
   },
   "source": [
    "##### **Preprocessing the continuous/ordinal variables**\n",
    "Here I first preprocess special ordinal variables: household asset and age. Then I scale the continuous variables of household asset using the standard scaler. Finally, I address the missing values of the continuous variables. They are either codes as NA or coded as impractical numbers e.g., 9, 99, 999, 9999, etc. I impute the missing values of the continuous variables using the mean imputation method. I have also set the column names of the continuous variables for the convenience of the analysis.\n",
    "\n",
    "We see from the descriptive statistics of the continuous variables that they do make sense in reality, except age. There are some very young respondents in a longitidunal study representing US older adults. I will later fix it and provide the reason for the outliers."
   ]
  },
  {
   "cell_type": "code",
   "execution_count": 6,
   "metadata": {
    "pycharm": {
     "name": "#%%\n"
    }
   },
   "outputs": [
    {
     "name": "stdout",
     "output_type": "stream",
     "text": [
      "Filled 9043 respondents' missing ordinal variables by mean\n"
     ]
    },
    {
     "data": {
      "text/html": [
       "<div>\n",
       "<style scoped>\n",
       "    .dataframe tbody tr th:only-of-type {\n",
       "        vertical-align: middle;\n",
       "    }\n",
       "\n",
       "    .dataframe tbody tr th {\n",
       "        vertical-align: top;\n",
       "    }\n",
       "\n",
       "    .dataframe thead th {\n",
       "        text-align: right;\n",
       "    }\n",
       "</style>\n",
       "<table border=\"1\" class=\"dataframe\">\n",
       "  <thead>\n",
       "    <tr style=\"text-align: right;\">\n",
       "      <th></th>\n",
       "      <th>Weight (Pounds)</th>\n",
       "      <th>Self-Rated Health</th>\n",
       "      <th>Education Yrs</th>\n",
       "      <th>Religion Importance</th>\n",
       "      <th>Number of Grandchildren</th>\n",
       "      <th>Hours of Volunteering</th>\n",
       "      <th>Number of Times Socializing</th>\n",
       "      <th>Wealth</th>\n",
       "      <th>Age</th>\n",
       "    </tr>\n",
       "  </thead>\n",
       "  <tbody>\n",
       "    <tr>\n",
       "      <th>count</th>\n",
       "      <td>20218.000000</td>\n",
       "      <td>20218.000000</td>\n",
       "      <td>20218.000000</td>\n",
       "      <td>20218.000000</td>\n",
       "      <td>20218.000000</td>\n",
       "      <td>20218.000000</td>\n",
       "      <td>20218.000000</td>\n",
       "      <td>20218.000000</td>\n",
       "      <td>20218.000000</td>\n",
       "    </tr>\n",
       "    <tr>\n",
       "      <th>mean</th>\n",
       "      <td>171.296493</td>\n",
       "      <td>2.868444</td>\n",
       "      <td>12.100723</td>\n",
       "      <td>1.905974</td>\n",
       "      <td>6.657524</td>\n",
       "      <td>45.703950</td>\n",
       "      <td>1.406329</td>\n",
       "      <td>2.767061</td>\n",
       "      <td>68.788793</td>\n",
       "    </tr>\n",
       "    <tr>\n",
       "      <th>std</th>\n",
       "      <td>38.282986</td>\n",
       "      <td>1.112213</td>\n",
       "      <td>3.363827</td>\n",
       "      <td>1.359676</td>\n",
       "      <td>5.093500</td>\n",
       "      <td>165.001137</td>\n",
       "      <td>5.934359</td>\n",
       "      <td>12.135002</td>\n",
       "      <td>9.954431</td>\n",
       "    </tr>\n",
       "    <tr>\n",
       "      <th>min</th>\n",
       "      <td>65.000000</td>\n",
       "      <td>1.000000</td>\n",
       "      <td>0.000000</td>\n",
       "      <td>1.000000</td>\n",
       "      <td>0.000000</td>\n",
       "      <td>0.000000</td>\n",
       "      <td>0.000000</td>\n",
       "      <td>0.000000</td>\n",
       "      <td>26.000000</td>\n",
       "    </tr>\n",
       "    <tr>\n",
       "      <th>25%</th>\n",
       "      <td>145.000000</td>\n",
       "      <td>2.000000</td>\n",
       "      <td>11.000000</td>\n",
       "      <td>1.000000</td>\n",
       "      <td>3.000000</td>\n",
       "      <td>0.000000</td>\n",
       "      <td>1.000000</td>\n",
       "      <td>0.000000</td>\n",
       "      <td>62.000000</td>\n",
       "    </tr>\n",
       "    <tr>\n",
       "      <th>50%</th>\n",
       "      <td>170.000000</td>\n",
       "      <td>3.000000</td>\n",
       "      <td>12.000000</td>\n",
       "      <td>1.000000</td>\n",
       "      <td>6.657524</td>\n",
       "      <td>10.000000</td>\n",
       "      <td>1.000000</td>\n",
       "      <td>0.000000</td>\n",
       "      <td>68.788793</td>\n",
       "    </tr>\n",
       "    <tr>\n",
       "      <th>75%</th>\n",
       "      <td>192.000000</td>\n",
       "      <td>4.000000</td>\n",
       "      <td>14.000000</td>\n",
       "      <td>3.000000</td>\n",
       "      <td>7.000000</td>\n",
       "      <td>45.703950</td>\n",
       "      <td>2.000000</td>\n",
       "      <td>0.000000</td>\n",
       "      <td>75.000000</td>\n",
       "    </tr>\n",
       "    <tr>\n",
       "      <th>max</th>\n",
       "      <td>400.000000</td>\n",
       "      <td>5.000000</td>\n",
       "      <td>17.000000</td>\n",
       "      <td>5.000000</td>\n",
       "      <td>77.000000</td>\n",
       "      <td>9000.000000</td>\n",
       "      <td>365.000000</td>\n",
       "      <td>100.000000</td>\n",
       "      <td>110.000000</td>\n",
       "    </tr>\n",
       "  </tbody>\n",
       "</table>\n",
       "</div>"
      ],
      "text/plain": [
       "       Weight (Pounds)  Self-Rated Health  Education Yrs  Religion Importance  \\\n",
       "count     20218.000000       20218.000000   20218.000000         20218.000000   \n",
       "mean        171.296493           2.868444      12.100723             1.905974   \n",
       "std          38.282986           1.112213       3.363827             1.359676   \n",
       "min          65.000000           1.000000       0.000000             1.000000   \n",
       "25%         145.000000           2.000000      11.000000             1.000000   \n",
       "50%         170.000000           3.000000      12.000000             1.000000   \n",
       "75%         192.000000           4.000000      14.000000             3.000000   \n",
       "max         400.000000           5.000000      17.000000             5.000000   \n",
       "\n",
       "       Number of Grandchildren  Hours of Volunteering  \\\n",
       "count             20218.000000           20218.000000   \n",
       "mean                  6.657524              45.703950   \n",
       "std                   5.093500             165.001137   \n",
       "min                   0.000000               0.000000   \n",
       "25%                   3.000000               0.000000   \n",
       "50%                   6.657524              10.000000   \n",
       "75%                   7.000000              45.703950   \n",
       "max                  77.000000            9000.000000   \n",
       "\n",
       "       Number of Times Socializing        Wealth           Age  \n",
       "count                 20218.000000  20218.000000  20218.000000  \n",
       "mean                      1.406329      2.767061     68.788793  \n",
       "std                       5.934359     12.135002      9.954431  \n",
       "min                       0.000000      0.000000     26.000000  \n",
       "25%                       1.000000      0.000000     62.000000  \n",
       "50%                       1.000000      0.000000     68.788793  \n",
       "75%                       2.000000      0.000000     75.000000  \n",
       "max                     365.000000    100.000000    110.000000  "
      ]
     },
     "execution_count": 6,
     "metadata": {},
     "output_type": "execute_result"
    }
   ],
   "source": [
    "# select the continuous and ordinal variables\n",
    "con_col = ['HC139', 'HC001', 'HB014A', 'HB053', 'HE046', 'HG092', 'HF176',\n",
    "           'HX067_R', 'HC134', 'HQ331', 'HQ376']\n",
    "# Create a new dataframe with only continuous/ordinal variables\n",
    "df02_d_ord = df02_d[con_col].copy()\n",
    "# Construct the household asset variable\n",
    "wealth_col = ['HC134', 'HQ331', 'HQ376']\n",
    "for col in wealth_col:\n",
    "    # Set values of no wealth to 0\n",
    "    df02_d_ord[col] = df02_d_ord[col].replace(np.nan, 0)\n",
    "df02_d_ord['wealth_amt'] = df02_d_ord['HC134'] + df02_d_ord['HQ331'] + df02_d_ord['HQ376']\n",
    "# Scale the wealth variable to 0-100\n",
    "scaler = MinMaxScaler(feature_range=(0, 100))\n",
    "df02_d_ord['wealth_amt'] = scaler.fit_transform(df02_d_ord['wealth_amt'].values.reshape(-1, 1))\n",
    "df02_d_ord.drop(['HC134', 'HQ331', 'HQ376'], axis=1, inplace=True)\n",
    "# Construct the age variable\n",
    "df02_d_ord['age'] = 2002 - df02_d_ord['HX067_R']\n",
    "df02_d_ord.drop(['HX067_R'], axis=1, inplace=True)\n",
    "# Set values of missing ordinal variables originally coded as negative to nan\n",
    "df02_d_ord[df02_d_ord < 0] = np.nan\n",
    "for i in df02_d_ord.columns:\n",
    "    if max(df02_d_ord[i]) == 9999:\n",
    "        df02_d_ord[i] = df02_d_ord[i].replace([9999, 9998], np.nan)\n",
    "    elif max(df02_d_ord[i]) == 999:\n",
    "        df02_d_ord[i] = df02_d_ord[i].replace([999, 998], np.nan)\n",
    "    elif max(df02_d_ord[i]) == 99:\n",
    "        df02_d_ord[i] = df02_d_ord[i].replace([99, 98, 97, 95], np.nan)\n",
    "    elif max(df02_d_ord[i]) == 9:\n",
    "        df02_d_ord[i] = df02_d_ord[i].replace([9, 8], np.nan)\n",
    "# Check the number of missing values in original ordinal variables\n",
    "df02_d_ord_nona = df02_d_ord.dropna()\n",
    "print(\"Filled {} respondents' missing ordinal variables by mean\".format(len(df02_d_ord) - len(df02_d_ord_nona)))\n",
    "# Fill the missing values with the mean of the variable\n",
    "df02_d_ord.fillna(df02_d_ord.mean(), inplace=True)\n",
    "# Name the columns\n",
    "df02_d_ord.columns = ['Weight (Pounds)', 'Self-Rated Health', 'Education Yrs',\n",
    "                      'Religion Importance', 'Number of Grandchildren',\n",
    "                      'Hours of Volunteering', 'Number of Times Socializing',\n",
    "                      'Wealth', 'Age'\n",
    "                      ]\n",
    "# Get the summary statistics of the ordinal variables\n",
    "df02_d_ord.describe()"
   ]
  },
  {
   "attachments": {},
   "cell_type": "markdown",
   "metadata": {
    "pycharm": {
     "name": "#%% md\n"
    }
   },
   "source": [
    "Then, I check the correlation between continuous variables in the dataset. Given that there is no strong correlation between the continuous variables, I do not need to drop any of the continuous variables.\n",
    "\n",
    "Among the correlations, there is a negative correlation of 0.2 between years of education and number of grandchildren. This is because the number of grandchildren is only available for those who have children and the number of children is positively correlated with years of education. Therefore, the number of grandchildren is negatively correlated with years of education. However, the correlation is not strong enough to drop either of the two variables."
   ]
  },
  {
   "cell_type": "code",
   "execution_count": 7,
   "metadata": {
    "pycharm": {
     "name": "#%%\n"
    }
   },
   "outputs": [
    {
     "data": {
      "image/png": "[encoded data removed]",
      "text/plain": [
       "<Figure size 1200x600 with 2 Axes>"
      ]
     },
     "metadata": {},
     "output_type": "display_data"
    }
   ],
   "source": [
    "# Analyze the correlation amongst the continuous and ordinal variables\n",
    "_, ax = plt.subplots(figsize=(12, 6))\n",
    "# Create a mask to hide the upper triangle of the heatmap\n",
    "matrix = np.triu(df02_d_ord.corr())\n",
    "# Plot the heatmap\n",
    "sns.heatmap(df02_d_ord.corr(), annot=True, fmt='.1g', cmap='RdYlGn', ax=ax,\n",
    "            mask=matrix)\n",
    "plt.title('Correlation between continuous and ordinal variables')\n",
    "plt.show()"
   ]
  },
  {
   "attachments": {},
   "cell_type": "markdown",
   "metadata": {
    "pycharm": {
     "name": "#%% md\n"
    }
   },
   "source": [
    "##### **Preprocessing the binary variables**\n",
    "I also preprocess the binary variables in the dataset. \n",
    "\n",
    "First, I construct some binary variables based on categorical responses: whether the respondent has hypertension, diabetes, arthritis, smoking, drunk alcohol, married, children nearby, relatives nearby, and functional limitations. This is because HRS initially records the responses in high accuracy for nuances sociological research purposes. The category of 1 and 3 in the first 3 varaibles indicate \"Yes\" and \"Disputes previous wave record, but now has condition\". Here, we treat both of them as \"Yes\". In the other cases, the category of 1 indicates Yes and 3 or 5 indicates Ever Had and No respectively. Here, we also treat them as Yes and No.\n",
    "\n",
    "Then, I address the missing values of the binary variables. They are coded as NA. I impute the missing values of the binary variables using the mode imputation method. I have also set the column names of the binary variables for the convenience of the analysis."
   ]
  },
  {
   "cell_type": "code",
   "execution_count": 8,
   "metadata": {
    "pycharm": {
     "name": "#%%\n"
    }
   },
   "outputs": [
    {
     "name": "stdout",
     "output_type": "stream",
     "text": [
      "Missing values in the columns \n",
      " HC005        663\n",
      "HC010        663\n",
      "HC070        663\n",
      "HC117        786\n",
      "HC128        663\n",
      "HMARITAL       1\n",
      "HE012       2107\n",
      "HF174        669\n",
      "HG001        671\n",
      "HX060_R     2051\n",
      "HB031A        41\n",
      "dtype: int64\n"
     ]
    },
    {
     "data": {
      "text/html": [
       "<div>\n",
       "<style scoped>\n",
       "    .dataframe tbody tr th:only-of-type {\n",
       "        vertical-align: middle;\n",
       "    }\n",
       "\n",
       "    .dataframe tbody tr th {\n",
       "        vertical-align: top;\n",
       "    }\n",
       "\n",
       "    .dataframe thead th {\n",
       "        text-align: right;\n",
       "    }\n",
       "</style>\n",
       "<table border=\"1\" class=\"dataframe\">\n",
       "  <thead>\n",
       "    <tr style=\"text-align: right;\">\n",
       "      <th></th>\n",
       "      <th>Hypertension</th>\n",
       "      <th>Diabetes</th>\n",
       "      <th>Arthritis</th>\n",
       "      <th>Smoking</th>\n",
       "      <th>Drunk Alcohol</th>\n",
       "      <th>Married</th>\n",
       "      <th>Children Nearby</th>\n",
       "      <th>Relatives Nearby</th>\n",
       "      <th>Functional Limitations</th>\n",
       "      <th>Sex_Male</th>\n",
       "      <th>Race_White</th>\n",
       "    </tr>\n",
       "  </thead>\n",
       "  <tbody>\n",
       "    <tr>\n",
       "      <th>0</th>\n",
       "      <td>False</td>\n",
       "      <td>False</td>\n",
       "      <td>False</td>\n",
       "      <td>False</td>\n",
       "      <td>True</td>\n",
       "      <td>True</td>\n",
       "      <td>False</td>\n",
       "      <td>False</td>\n",
       "      <td>False</td>\n",
       "      <td>True</td>\n",
       "      <td>True</td>\n",
       "    </tr>\n",
       "    <tr>\n",
       "      <th>1</th>\n",
       "      <td>False</td>\n",
       "      <td>False</td>\n",
       "      <td>True</td>\n",
       "      <td>False</td>\n",
       "      <td>False</td>\n",
       "      <td>True</td>\n",
       "      <td>False</td>\n",
       "      <td>False</td>\n",
       "      <td>False</td>\n",
       "      <td>False</td>\n",
       "      <td>True</td>\n",
       "    </tr>\n",
       "    <tr>\n",
       "      <th>2</th>\n",
       "      <td>False</td>\n",
       "      <td>False</td>\n",
       "      <td>False</td>\n",
       "      <td>False</td>\n",
       "      <td>False</td>\n",
       "      <td>False</td>\n",
       "      <td>True</td>\n",
       "      <td>False</td>\n",
       "      <td>False</td>\n",
       "      <td>True</td>\n",
       "      <td>True</td>\n",
       "    </tr>\n",
       "    <tr>\n",
       "      <th>3</th>\n",
       "      <td>True</td>\n",
       "      <td>False</td>\n",
       "      <td>False</td>\n",
       "      <td>False</td>\n",
       "      <td>False</td>\n",
       "      <td>False</td>\n",
       "      <td>True</td>\n",
       "      <td>False</td>\n",
       "      <td>False</td>\n",
       "      <td>False</td>\n",
       "      <td>True</td>\n",
       "    </tr>\n",
       "    <tr>\n",
       "      <th>4</th>\n",
       "      <td>True</td>\n",
       "      <td>False</td>\n",
       "      <td>True</td>\n",
       "      <td>False</td>\n",
       "      <td>True</td>\n",
       "      <td>True</td>\n",
       "      <td>True</td>\n",
       "      <td>True</td>\n",
       "      <td>False</td>\n",
       "      <td>True</td>\n",
       "      <td>True</td>\n",
       "    </tr>\n",
       "    <tr>\n",
       "      <th>...</th>\n",
       "      <td>...</td>\n",
       "      <td>...</td>\n",
       "      <td>...</td>\n",
       "      <td>...</td>\n",
       "      <td>...</td>\n",
       "      <td>...</td>\n",
       "      <td>...</td>\n",
       "      <td>...</td>\n",
       "      <td>...</td>\n",
       "      <td>...</td>\n",
       "      <td>...</td>\n",
       "    </tr>\n",
       "    <tr>\n",
       "      <th>20213</th>\n",
       "      <td>True</td>\n",
       "      <td>False</td>\n",
       "      <td>True</td>\n",
       "      <td>False</td>\n",
       "      <td>False</td>\n",
       "      <td>False</td>\n",
       "      <td>True</td>\n",
       "      <td>False</td>\n",
       "      <td>False</td>\n",
       "      <td>False</td>\n",
       "      <td>True</td>\n",
       "    </tr>\n",
       "    <tr>\n",
       "      <th>20214</th>\n",
       "      <td>True</td>\n",
       "      <td>False</td>\n",
       "      <td>True</td>\n",
       "      <td>False</td>\n",
       "      <td>False</td>\n",
       "      <td>False</td>\n",
       "      <td>True</td>\n",
       "      <td>False</td>\n",
       "      <td>False</td>\n",
       "      <td>False</td>\n",
       "      <td>True</td>\n",
       "    </tr>\n",
       "    <tr>\n",
       "      <th>20215</th>\n",
       "      <td>True</td>\n",
       "      <td>False</td>\n",
       "      <td>True</td>\n",
       "      <td>False</td>\n",
       "      <td>False</td>\n",
       "      <td>False</td>\n",
       "      <td>False</td>\n",
       "      <td>False</td>\n",
       "      <td>False</td>\n",
       "      <td>False</td>\n",
       "      <td>False</td>\n",
       "    </tr>\n",
       "    <tr>\n",
       "      <th>20216</th>\n",
       "      <td>True</td>\n",
       "      <td>False</td>\n",
       "      <td>True</td>\n",
       "      <td>False</td>\n",
       "      <td>False</td>\n",
       "      <td>True</td>\n",
       "      <td>True</td>\n",
       "      <td>False</td>\n",
       "      <td>False</td>\n",
       "      <td>False</td>\n",
       "      <td>True</td>\n",
       "    </tr>\n",
       "    <tr>\n",
       "      <th>20217</th>\n",
       "      <td>True</td>\n",
       "      <td>False</td>\n",
       "      <td>True</td>\n",
       "      <td>False</td>\n",
       "      <td>False</td>\n",
       "      <td>True</td>\n",
       "      <td>True</td>\n",
       "      <td>False</td>\n",
       "      <td>False</td>\n",
       "      <td>False</td>\n",
       "      <td>True</td>\n",
       "    </tr>\n",
       "  </tbody>\n",
       "</table>\n",
       "<p>20218 rows × 11 columns</p>\n",
       "</div>"
      ],
      "text/plain": [
       "       Hypertension  Diabetes  Arthritis  Smoking  Drunk Alcohol  Married  \\\n",
       "0             False     False      False    False           True     True   \n",
       "1             False     False       True    False          False     True   \n",
       "2             False     False      False    False          False    False   \n",
       "3              True     False      False    False          False    False   \n",
       "4              True     False       True    False           True     True   \n",
       "...             ...       ...        ...      ...            ...      ...   \n",
       "20213          True     False       True    False          False    False   \n",
       "20214          True     False       True    False          False    False   \n",
       "20215          True     False       True    False          False    False   \n",
       "20216          True     False       True    False          False     True   \n",
       "20217          True     False       True    False          False     True   \n",
       "\n",
       "       Children Nearby  Relatives Nearby  Functional Limitations  Sex_Male  \\\n",
       "0                False             False                   False      True   \n",
       "1                False             False                   False     False   \n",
       "2                 True             False                   False      True   \n",
       "3                 True             False                   False     False   \n",
       "4                 True              True                   False      True   \n",
       "...                ...               ...                     ...       ...   \n",
       "20213             True             False                   False     False   \n",
       "20214             True             False                   False     False   \n",
       "20215            False             False                   False     False   \n",
       "20216             True             False                   False     False   \n",
       "20217             True             False                   False     False   \n",
       "\n",
       "       Race_White  \n",
       "0            True  \n",
       "1            True  \n",
       "2            True  \n",
       "3            True  \n",
       "4            True  \n",
       "...           ...  \n",
       "20213        True  \n",
       "20214        True  \n",
       "20215       False  \n",
       "20216        True  \n",
       "20217        True  \n",
       "\n",
       "[20218 rows x 11 columns]"
      ]
     },
     "execution_count": 8,
     "metadata": {},
     "output_type": "execute_result"
    }
   ],
   "source": [
    "# Preprocessing the binary/categorical variables\n",
    "cat_col = ['HC005', 'HC010', 'HC070', 'HC117', 'HC128', 'HMARITAL', 'HE012',\n",
    "           'HF174', 'HG001',\n",
    "           'HX060_R', 'HB031A']\n",
    "df02_d_cat = df02_d[cat_col].copy()\n",
    "# Check the number of missing values in original categorical variables\n",
    "print(\"Missing values in the columns\", \"\\n\", df02_d_cat.isnull().sum())\n",
    "# Fill the missing values with the mode of the variable\n",
    "df02_d_cat.fillna(df02_d_cat.mode().iloc[0], inplace=True)\n",
    "# Dichotomize the categorical variables\n",
    "for i in cat_col[:3]:\n",
    "    df02_d_cat[i] = df02_d_cat[i].isin([1, 3])\n",
    "for i in cat_col[3:11]:\n",
    "    df02_d_cat[i] = df02_d_cat[i].isin([1])\n",
    "# Name the columns\n",
    "df02_d_cat.columns = ['Hypertension', 'Diabetes', 'Arthritis', 'Smoking',\n",
    "                      'Drunk Alcohol', 'Married', 'Children Nearby',\n",
    "                      'Relatives Nearby', 'Functional Limitations',\n",
    "                      'Sex_Male', 'Race_White']\n",
    "df02_d_cat"
   ]
  },
  {
   "attachments": {},
   "cell_type": "markdown",
   "metadata": {
    "pycharm": {
     "name": "#%% md\n"
    }
   },
   "source": [
    "From the earlier descriptive statistics in cleaning continuous variables, I see that the variable <code>age</code> variable includes the respondents aged below 51. This is because HRS sample collection is based on the households and include the spouse or partner of the main household respondent whose age may below 51. I will remove the respondents aged below 51 in the data cleaning process because they will bias the analysis. "
   ]
  },
  {
   "cell_type": "code",
   "execution_count": 9,
   "metadata": {
    "pycharm": {
     "name": "#%%\n"
    }
   },
   "outputs": [
    {
     "data": {
      "text/html": [
       "<div>\n",
       "<style scoped>\n",
       "    .dataframe tbody tr th:only-of-type {\n",
       "        vertical-align: middle;\n",
       "    }\n",
       "\n",
       "    .dataframe tbody tr th {\n",
       "        vertical-align: top;\n",
       "    }\n",
       "\n",
       "    .dataframe thead th {\n",
       "        text-align: right;\n",
       "    }\n",
       "</style>\n",
       "<table border=\"1\" class=\"dataframe\">\n",
       "  <thead>\n",
       "    <tr style=\"text-align: right;\">\n",
       "      <th></th>\n",
       "      <th>deceased</th>\n",
       "      <th>Weight (Pounds)</th>\n",
       "      <th>Self-Rated Health</th>\n",
       "      <th>Education Yrs</th>\n",
       "      <th>Religion Importance</th>\n",
       "      <th>Number of Grandchildren</th>\n",
       "      <th>Hours of Volunteering</th>\n",
       "      <th>Number of Times Socializing</th>\n",
       "      <th>Wealth</th>\n",
       "      <th>Age</th>\n",
       "      <th>...</th>\n",
       "      <th>Diabetes</th>\n",
       "      <th>Arthritis</th>\n",
       "      <th>Smoking</th>\n",
       "      <th>Drunk Alcohol</th>\n",
       "      <th>Married</th>\n",
       "      <th>Children Nearby</th>\n",
       "      <th>Relatives Nearby</th>\n",
       "      <th>Functional Limitations</th>\n",
       "      <th>Sex_Male</th>\n",
       "      <th>Race_White</th>\n",
       "    </tr>\n",
       "  </thead>\n",
       "  <tbody>\n",
       "    <tr>\n",
       "      <th>0</th>\n",
       "      <td>1.0</td>\n",
       "      <td>170.000000</td>\n",
       "      <td>3.000000</td>\n",
       "      <td>12.0</td>\n",
       "      <td>1.0</td>\n",
       "      <td>12.000000</td>\n",
       "      <td>20.00000</td>\n",
       "      <td>1.000000</td>\n",
       "      <td>0.0</td>\n",
       "      <td>66.000000</td>\n",
       "      <td>...</td>\n",
       "      <td>False</td>\n",
       "      <td>False</td>\n",
       "      <td>False</td>\n",
       "      <td>True</td>\n",
       "      <td>True</td>\n",
       "      <td>False</td>\n",
       "      <td>False</td>\n",
       "      <td>False</td>\n",
       "      <td>True</td>\n",
       "      <td>True</td>\n",
       "    </tr>\n",
       "    <tr>\n",
       "      <th>1</th>\n",
       "      <td>1.0</td>\n",
       "      <td>179.000000</td>\n",
       "      <td>3.000000</td>\n",
       "      <td>16.0</td>\n",
       "      <td>1.0</td>\n",
       "      <td>12.000000</td>\n",
       "      <td>100.00000</td>\n",
       "      <td>1.000000</td>\n",
       "      <td>0.0</td>\n",
       "      <td>64.000000</td>\n",
       "      <td>...</td>\n",
       "      <td>False</td>\n",
       "      <td>True</td>\n",
       "      <td>False</td>\n",
       "      <td>False</td>\n",
       "      <td>True</td>\n",
       "      <td>False</td>\n",
       "      <td>False</td>\n",
       "      <td>False</td>\n",
       "      <td>False</td>\n",
       "      <td>True</td>\n",
       "    </tr>\n",
       "    <tr>\n",
       "      <th>2</th>\n",
       "      <td>0.0</td>\n",
       "      <td>180.000000</td>\n",
       "      <td>2.000000</td>\n",
       "      <td>12.0</td>\n",
       "      <td>3.0</td>\n",
       "      <td>6.657524</td>\n",
       "      <td>45.70395</td>\n",
       "      <td>3.000000</td>\n",
       "      <td>0.0</td>\n",
       "      <td>63.000000</td>\n",
       "      <td>...</td>\n",
       "      <td>False</td>\n",
       "      <td>False</td>\n",
       "      <td>False</td>\n",
       "      <td>False</td>\n",
       "      <td>False</td>\n",
       "      <td>True</td>\n",
       "      <td>False</td>\n",
       "      <td>False</td>\n",
       "      <td>True</td>\n",
       "      <td>True</td>\n",
       "    </tr>\n",
       "    <tr>\n",
       "      <th>4</th>\n",
       "      <td>1.0</td>\n",
       "      <td>230.000000</td>\n",
       "      <td>2.000000</td>\n",
       "      <td>16.0</td>\n",
       "      <td>1.0</td>\n",
       "      <td>6.657524</td>\n",
       "      <td>200.00000</td>\n",
       "      <td>1.000000</td>\n",
       "      <td>0.0</td>\n",
       "      <td>63.000000</td>\n",
       "      <td>...</td>\n",
       "      <td>False</td>\n",
       "      <td>True</td>\n",
       "      <td>False</td>\n",
       "      <td>True</td>\n",
       "      <td>True</td>\n",
       "      <td>True</td>\n",
       "      <td>True</td>\n",
       "      <td>False</td>\n",
       "      <td>True</td>\n",
       "      <td>True</td>\n",
       "    </tr>\n",
       "    <tr>\n",
       "      <th>5</th>\n",
       "      <td>0.0</td>\n",
       "      <td>155.000000</td>\n",
       "      <td>1.000000</td>\n",
       "      <td>12.0</td>\n",
       "      <td>1.0</td>\n",
       "      <td>6.657524</td>\n",
       "      <td>40.00000</td>\n",
       "      <td>1.000000</td>\n",
       "      <td>0.0</td>\n",
       "      <td>56.000000</td>\n",
       "      <td>...</td>\n",
       "      <td>False</td>\n",
       "      <td>False</td>\n",
       "      <td>False</td>\n",
       "      <td>True</td>\n",
       "      <td>True</td>\n",
       "      <td>True</td>\n",
       "      <td>True</td>\n",
       "      <td>False</td>\n",
       "      <td>False</td>\n",
       "      <td>True</td>\n",
       "    </tr>\n",
       "    <tr>\n",
       "      <th>...</th>\n",
       "      <td>...</td>\n",
       "      <td>...</td>\n",
       "      <td>...</td>\n",
       "      <td>...</td>\n",
       "      <td>...</td>\n",
       "      <td>...</td>\n",
       "      <td>...</td>\n",
       "      <td>...</td>\n",
       "      <td>...</td>\n",
       "      <td>...</td>\n",
       "      <td>...</td>\n",
       "      <td>...</td>\n",
       "      <td>...</td>\n",
       "      <td>...</td>\n",
       "      <td>...</td>\n",
       "      <td>...</td>\n",
       "      <td>...</td>\n",
       "      <td>...</td>\n",
       "      <td>...</td>\n",
       "      <td>...</td>\n",
       "      <td>...</td>\n",
       "    </tr>\n",
       "    <tr>\n",
       "      <th>20213</th>\n",
       "      <td>0.0</td>\n",
       "      <td>171.296493</td>\n",
       "      <td>2.868444</td>\n",
       "      <td>0.0</td>\n",
       "      <td>1.0</td>\n",
       "      <td>20.000000</td>\n",
       "      <td>45.70395</td>\n",
       "      <td>1.406329</td>\n",
       "      <td>0.0</td>\n",
       "      <td>68.788793</td>\n",
       "      <td>...</td>\n",
       "      <td>False</td>\n",
       "      <td>True</td>\n",
       "      <td>False</td>\n",
       "      <td>False</td>\n",
       "      <td>False</td>\n",
       "      <td>True</td>\n",
       "      <td>False</td>\n",
       "      <td>False</td>\n",
       "      <td>False</td>\n",
       "      <td>True</td>\n",
       "    </tr>\n",
       "    <tr>\n",
       "      <th>20214</th>\n",
       "      <td>0.0</td>\n",
       "      <td>171.296493</td>\n",
       "      <td>2.868444</td>\n",
       "      <td>14.0</td>\n",
       "      <td>1.0</td>\n",
       "      <td>2.000000</td>\n",
       "      <td>45.70395</td>\n",
       "      <td>1.406329</td>\n",
       "      <td>0.0</td>\n",
       "      <td>68.788793</td>\n",
       "      <td>...</td>\n",
       "      <td>False</td>\n",
       "      <td>True</td>\n",
       "      <td>False</td>\n",
       "      <td>False</td>\n",
       "      <td>False</td>\n",
       "      <td>True</td>\n",
       "      <td>False</td>\n",
       "      <td>False</td>\n",
       "      <td>False</td>\n",
       "      <td>True</td>\n",
       "    </tr>\n",
       "    <tr>\n",
       "      <th>20215</th>\n",
       "      <td>1.0</td>\n",
       "      <td>171.296493</td>\n",
       "      <td>2.868444</td>\n",
       "      <td>12.0</td>\n",
       "      <td>3.0</td>\n",
       "      <td>8.000000</td>\n",
       "      <td>45.70395</td>\n",
       "      <td>1.406329</td>\n",
       "      <td>0.0</td>\n",
       "      <td>68.788793</td>\n",
       "      <td>...</td>\n",
       "      <td>False</td>\n",
       "      <td>True</td>\n",
       "      <td>False</td>\n",
       "      <td>False</td>\n",
       "      <td>False</td>\n",
       "      <td>False</td>\n",
       "      <td>False</td>\n",
       "      <td>False</td>\n",
       "      <td>False</td>\n",
       "      <td>False</td>\n",
       "    </tr>\n",
       "    <tr>\n",
       "      <th>20216</th>\n",
       "      <td>1.0</td>\n",
       "      <td>171.296493</td>\n",
       "      <td>2.868444</td>\n",
       "      <td>15.0</td>\n",
       "      <td>5.0</td>\n",
       "      <td>2.000000</td>\n",
       "      <td>45.70395</td>\n",
       "      <td>1.406329</td>\n",
       "      <td>0.0</td>\n",
       "      <td>68.788793</td>\n",
       "      <td>...</td>\n",
       "      <td>False</td>\n",
       "      <td>True</td>\n",
       "      <td>False</td>\n",
       "      <td>False</td>\n",
       "      <td>True</td>\n",
       "      <td>True</td>\n",
       "      <td>False</td>\n",
       "      <td>False</td>\n",
       "      <td>False</td>\n",
       "      <td>True</td>\n",
       "    </tr>\n",
       "    <tr>\n",
       "      <th>20217</th>\n",
       "      <td>0.0</td>\n",
       "      <td>171.296493</td>\n",
       "      <td>2.868444</td>\n",
       "      <td>15.0</td>\n",
       "      <td>5.0</td>\n",
       "      <td>2.000000</td>\n",
       "      <td>45.70395</td>\n",
       "      <td>1.406329</td>\n",
       "      <td>0.0</td>\n",
       "      <td>68.788793</td>\n",
       "      <td>...</td>\n",
       "      <td>False</td>\n",
       "      <td>True</td>\n",
       "      <td>False</td>\n",
       "      <td>False</td>\n",
       "      <td>True</td>\n",
       "      <td>True</td>\n",
       "      <td>False</td>\n",
       "      <td>False</td>\n",
       "      <td>False</td>\n",
       "      <td>True</td>\n",
       "    </tr>\n",
       "  </tbody>\n",
       "</table>\n",
       "<p>19762 rows × 21 columns</p>\n",
       "</div>"
      ],
      "text/plain": [
       "       deceased  Weight (Pounds)  Self-Rated Health  Education Yrs  \\\n",
       "0           1.0       170.000000           3.000000           12.0   \n",
       "1           1.0       179.000000           3.000000           16.0   \n",
       "2           0.0       180.000000           2.000000           12.0   \n",
       "4           1.0       230.000000           2.000000           16.0   \n",
       "5           0.0       155.000000           1.000000           12.0   \n",
       "...         ...              ...                ...            ...   \n",
       "20213       0.0       171.296493           2.868444            0.0   \n",
       "20214       0.0       171.296493           2.868444           14.0   \n",
       "20215       1.0       171.296493           2.868444           12.0   \n",
       "20216       1.0       171.296493           2.868444           15.0   \n",
       "20217       0.0       171.296493           2.868444           15.0   \n",
       "\n",
       "       Religion Importance  Number of Grandchildren  Hours of Volunteering  \\\n",
       "0                      1.0                12.000000               20.00000   \n",
       "1                      1.0                12.000000              100.00000   \n",
       "2                      3.0                 6.657524               45.70395   \n",
       "4                      1.0                 6.657524              200.00000   \n",
       "5                      1.0                 6.657524               40.00000   \n",
       "...                    ...                      ...                    ...   \n",
       "20213                  1.0                20.000000               45.70395   \n",
       "20214                  1.0                 2.000000               45.70395   \n",
       "20215                  3.0                 8.000000               45.70395   \n",
       "20216                  5.0                 2.000000               45.70395   \n",
       "20217                  5.0                 2.000000               45.70395   \n",
       "\n",
       "       Number of Times Socializing  Wealth        Age  ...  Diabetes  \\\n",
       "0                         1.000000     0.0  66.000000  ...     False   \n",
       "1                         1.000000     0.0  64.000000  ...     False   \n",
       "2                         3.000000     0.0  63.000000  ...     False   \n",
       "4                         1.000000     0.0  63.000000  ...     False   \n",
       "5                         1.000000     0.0  56.000000  ...     False   \n",
       "...                            ...     ...        ...  ...       ...   \n",
       "20213                     1.406329     0.0  68.788793  ...     False   \n",
       "20214                     1.406329     0.0  68.788793  ...     False   \n",
       "20215                     1.406329     0.0  68.788793  ...     False   \n",
       "20216                     1.406329     0.0  68.788793  ...     False   \n",
       "20217                     1.406329     0.0  68.788793  ...     False   \n",
       "\n",
       "       Arthritis  Smoking  Drunk Alcohol  Married  Children Nearby  \\\n",
       "0          False    False           True     True            False   \n",
       "1           True    False          False     True            False   \n",
       "2          False    False          False    False             True   \n",
       "4           True    False           True     True             True   \n",
       "5          False    False           True     True             True   \n",
       "...          ...      ...            ...      ...              ...   \n",
       "20213       True    False          False    False             True   \n",
       "20214       True    False          False    False             True   \n",
       "20215       True    False          False    False            False   \n",
       "20216       True    False          False     True             True   \n",
       "20217       True    False          False     True             True   \n",
       "\n",
       "       Relatives Nearby  Functional Limitations  Sex_Male  Race_White  \n",
       "0                 False                   False      True        True  \n",
       "1                 False                   False     False        True  \n",
       "2                 False                   False      True        True  \n",
       "4                  True                   False      True        True  \n",
       "5                  True                   False     False        True  \n",
       "...                 ...                     ...       ...         ...  \n",
       "20213             False                   False     False        True  \n",
       "20214             False                   False     False        True  \n",
       "20215             False                   False     False       False  \n",
       "20216             False                   False     False        True  \n",
       "20217             False                   False     False        True  \n",
       "\n",
       "[19762 rows x 21 columns]"
      ]
     },
     "execution_count": 9,
     "metadata": {},
     "output_type": "execute_result"
    }
   ],
   "source": [
    "# Concatenate the continuous/ordinal and categorical variables\n",
    "hrs_clean_full = pd.concat([df02_d['deceased'], df02_d_ord, df02_d_cat], axis=1)\n",
    "# Select the respondents aged 51 and above\n",
    "hrs_clean = hrs_clean_full[hrs_clean_full['Age'] >= 51]\n",
    "hrs_clean"
   ]
  },
  {
   "cell_type": "code",
   "execution_count": 10,
   "metadata": {
    "pycharm": {
     "name": "#%%\n"
    }
   },
   "outputs": [],
   "source": [
    "# Save the cleaned data\n",
    "hrs_clean.to_csv('hrs_clean.csv', index=False)"
   ]
  },
  {
   "attachments": {},
   "cell_type": "markdown",
   "metadata": {
    "pycharm": {
     "name": "#%% md\n"
    }
   },
   "source": [
    "### S2: Pipeline: Feature Selection, Parameter Tuning, and Model Training"
   ]
  },
  {
   "attachments": {},
   "cell_type": "markdown",
   "metadata": {
    "pycharm": {
     "name": "#%% md\n"
    }
   },
   "source": [
    "Now, moving on to the machine learning part of the analysis. I will first use the pipeline to select the features, tune the parameters, and validate the data. The pipeline will be used to train the following algorithms: logistic regression, neural network, and KNN."
   ]
  },
  {
   "attachments": {},
   "cell_type": "markdown",
   "metadata": {
    "pycharm": {
     "name": "#%% md\n"
    }
   },
   "source": [
    "First, I split the sample into training and testing data with shuffle that allows the random permutations. BY doing so, I try to prevent the knowledge leakage from test dataset during the process of feature selection and parameter tuning. I will use the training dataset to select the features and tune the parameters. Then, I will use the testing dataset to validate the model performance."
   ]
  },
  {
   "cell_type": "code",
   "execution_count": 11,
   "metadata": {
    "pycharm": {
     "name": "#%%\n"
    }
   },
   "outputs": [
    {
     "name": "stdout",
     "output_type": "stream",
     "text": [
      "X_train size:  (11856, 20)\n",
      "X_test size:  (3953, 20)\n",
      "y_train size:  (11856, 1)\n",
      "y_test size:  (3953, 1)\n"
     ]
    }
   ],
   "source": [
    "hrs_df = pd.read_csv('hrs_clean.csv')\n",
    "\n",
    "# Split the data into training, validation, and test sets\n",
    "y_df = hrs_df[['deceased']]\n",
    "X_df = hrs_df.drop(columns=['deceased'], inplace=False)\n",
    "X_train_v, X_test, y_train_v, y_test = train_test_split(X_df, y_df,\n",
    "                                                        test_size=0.2,\n",
    "                                                        random_state=seed,\n",
    "                                                        shuffle=True)\n",
    "X_train, X_val, y_train, y_val = train_test_split(X_train_v, y_train_v,\n",
    "                                                  test_size=0.25,\n",
    "                                                  random_state=seed,\n",
    "                                                  shuffle=True)\n",
    "\n",
    "# check the data size after splitting\n",
    "print(\"X_train size: \", X_train.shape)\n",
    "print(\"X_test size: \", X_test.shape)\n",
    "print(\"y_train size: \", y_train.shape)\n",
    "print(\"y_test size: \", y_test.shape)"
   ]
  },
  {
   "cell_type": "markdown",
   "metadata": {
    "pycharm": {
     "name": "#%% md\n"
    }
   },
   "source": [
    "After splitting the dataset, there are 15809 observations in the training dataset and 3953 observations in the testing dataset.\n",
    "\n",
    "The variable distribution shows a similar distribution between the training and testing datasets and the outcome variable is roughly balanced in both datasets."
   ]
  },
  {
   "cell_type": "code",
   "execution_count": 12,
   "metadata": {
    "pycharm": {
     "name": "#%%\n"
    }
   },
   "outputs": [
    {
     "name": "stdout",
     "output_type": "stream",
     "text": [
      "y_train distribution: \n",
      " 0.0    6414\n",
      "1.0    5442\n",
      "Name: deceased, dtype: int64\n",
      "y_test distribution: \n",
      " 0.0    2115\n",
      "1.0    1838\n",
      "Name: deceased, dtype: int64\n"
     ]
    }
   ],
   "source": [
    "# check the distribution of the target variable in the train and test data\n",
    "print(\"y_train distribution: \\n\", y_train['deceased'].value_counts())\n",
    "print(\"y_test distribution: \\n\", y_test['deceased'].value_counts())"
   ]
  },
  {
   "attachments": {},
   "cell_type": "markdown",
   "metadata": {
    "pycharm": {
     "name": "#%% md\n"
    }
   },
   "source": [
    "##### **Hyperparameter tuning for logistic regression**\n",
    "In the logistic regression, the model performance on the training set increases by the value of c, controlling for the type of regularization used. This is because the larger the value of c, the less regularization penalizing model complexity is applied to the model and more weight is given to maximize the loss. Hence, the model fits the data better, but might result in overfitting. The model with no penalty has the highest $R^2$ score because it has no regularization and thus fits the data best. \n",
    "\n",
    "Controlling for c, the model with L1 penalty has the lowest $R^2$ score because it has L1 regularization that results in sparse models with many coefficients being zero. The model with L2 penalty results in many non-zero coefficients in similar magnitude. For this dataset, L2 regularization results in a better model performance than L1 regularization.\n",
    "\n",
    "Hence, I need to balance the model performance and model complexity (i.e., bias-variance trade-off). To do so, I will use the gridsearch CV with 5-fold cross validation to test on different values of c and the type of regularization. The gridsearch CV will return the best model with the best parameters based on one of the four metrics: accuracy, precision, recall, and F1 score. For the relatively balanced dataset, I will primarily use the F1 score as the metric to evaluate the model performance as it is the harmonic mean of precision and recall and intuitively captures the concept of classifying the deceased and alive classes correctly. Parameters that maximized the performance in terms of other measures will also be considered, especially if the parameters are different to the ones selected by the F1 score."
   ]
  },
  {
   "cell_type": "code",
   "execution_count": 13,
   "metadata": {
    "collapsed": false,
    "pycharm": {
     "name": "#%%\n"
    }
   },
   "outputs": [
    {
     "name": "stdout",
     "output_type": "stream",
     "text": [
      "# Tuning hyper-parameters for precision\n"
     ]
    },
    {
     "name": "stderr",
     "output_type": "stream",
     "text": [
      "/opt/anaconda3/envs/MACS/lib/python3.9/site-packages/sklearn/metrics/_classification.py:1334: UndefinedMetricWarning: Precision is ill-defined and being set to 0.0 due to no predicted samples. Use `zero_division` parameter to control this behavior.\n",
      "  _warn_prf(average, modifier, msg_start, len(result))\n",
      "/opt/anaconda3/envs/MACS/lib/python3.9/site-packages/sklearn/metrics/_classification.py:1334: UndefinedMetricWarning: Precision is ill-defined and being set to 0.0 due to no predicted samples. Use `zero_division` parameter to control this behavior.\n",
      "  _warn_prf(average, modifier, msg_start, len(result))\n",
      "/opt/anaconda3/envs/MACS/lib/python3.9/site-packages/sklearn/metrics/_classification.py:1334: UndefinedMetricWarning: Precision is ill-defined and being set to 0.0 due to no predicted samples. Use `zero_division` parameter to control this behavior.\n",
      "  _warn_prf(average, modifier, msg_start, len(result))\n",
      "/opt/anaconda3/envs/MACS/lib/python3.9/site-packages/sklearn/metrics/_classification.py:1334: UndefinedMetricWarning: Precision is ill-defined and being set to 0.0 due to no predicted samples. Use `zero_division` parameter to control this behavior.\n",
      "  _warn_prf(average, modifier, msg_start, len(result))\n",
      "/opt/anaconda3/envs/MACS/lib/python3.9/site-packages/sklearn/metrics/_classification.py:1334: UndefinedMetricWarning: Precision is ill-defined and being set to 0.0 due to no predicted samples. Use `zero_division` parameter to control this behavior.\n",
      "  _warn_prf(average, modifier, msg_start, len(result))\n",
      "/opt/anaconda3/envs/MACS/lib/python3.9/site-packages/sklearn/metrics/_classification.py:1334: UndefinedMetricWarning: Precision is ill-defined and being set to 0.0 due to no predicted samples. Use `zero_division` parameter to control this behavior.\n",
      "  _warn_prf(average, modifier, msg_start, len(result))\n",
      "/opt/anaconda3/envs/MACS/lib/python3.9/site-packages/sklearn/metrics/_classification.py:1334: UndefinedMetricWarning: Precision is ill-defined and being set to 0.0 due to no predicted samples. Use `zero_division` parameter to control this behavior.\n",
      "  _warn_prf(average, modifier, msg_start, len(result))\n",
      "/opt/anaconda3/envs/MACS/lib/python3.9/site-packages/sklearn/metrics/_classification.py:1334: UndefinedMetricWarning: Precision is ill-defined and being set to 0.0 due to no predicted samples. Use `zero_division` parameter to control this behavior.\n",
      "  _warn_prf(average, modifier, msg_start, len(result))\n",
      "/opt/anaconda3/envs/MACS/lib/python3.9/site-packages/sklearn/metrics/_classification.py:1334: UndefinedMetricWarning: Precision is ill-defined and being set to 0.0 due to no predicted samples. Use `zero_division` parameter to control this behavior.\n",
      "  _warn_prf(average, modifier, msg_start, len(result))\n",
      "/opt/anaconda3/envs/MACS/lib/python3.9/site-packages/sklearn/metrics/_classification.py:1334: UndefinedMetricWarning: Precision is ill-defined and being set to 0.0 due to no predicted samples. Use `zero_division` parameter to control this behavior.\n",
      "  _warn_prf(average, modifier, msg_start, len(result))\n"
     ]
    },
    {
     "name": "stdout",
     "output_type": "stream",
     "text": [
      "Best parameters set found on development set:\n",
      "{'C': 5, 'penalty': 'l2'}\n",
      "Grid scores on development set:\n",
      "\n",
      "0.000 (+/-0.000) for {'C': 1e-05, 'penalty': 'l1'}\n",
      "0.588 (+/-0.021) for {'C': 1e-05, 'penalty': 'l2'}\n",
      "0.000 (+/-0.000) for {'C': 0.0001, 'penalty': 'l1'}\n",
      "0.610 (+/-0.023) for {'C': 0.0001, 'penalty': 'l2'}\n",
      "0.608 (+/-0.023) for {'C': 0.001, 'penalty': 'l1'}\n",
      "0.625 (+/-0.028) for {'C': 0.001, 'penalty': 'l2'}\n",
      "0.621 (+/-0.024) for {'C': 0.01, 'penalty': 'l1'}\n",
      "0.625 (+/-0.011) for {'C': 0.01, 'penalty': 'l2'}\n",
      "0.624 (+/-0.016) for {'C': 0.1, 'penalty': 'l1'}\n",
      "0.623 (+/-0.014) for {'C': 0.1, 'penalty': 'l2'}\n",
      "0.625 (+/-0.016) for {'C': 1.0, 'penalty': 'l1'}\n",
      "0.625 (+/-0.017) for {'C': 1.0, 'penalty': 'l2'}\n",
      "0.625 (+/-0.016) for {'C': 2, 'penalty': 'l1'}\n",
      "0.625 (+/-0.017) for {'C': 2, 'penalty': 'l2'}\n",
      "0.625 (+/-0.016) for {'C': 3, 'penalty': 'l1'}\n",
      "0.625 (+/-0.016) for {'C': 3, 'penalty': 'l2'}\n",
      "0.625 (+/-0.016) for {'C': 4, 'penalty': 'l1'}\n",
      "0.625 (+/-0.016) for {'C': 4, 'penalty': 'l2'}\n",
      "0.625 (+/-0.016) for {'C': 5, 'penalty': 'l1'}\n",
      "0.625 (+/-0.016) for {'C': 5, 'penalty': 'l2'}\n",
      "0.625 (+/-0.016) for {'C': 6, 'penalty': 'l1'}\n",
      "0.625 (+/-0.016) for {'C': 6, 'penalty': 'l2'}\n",
      "0.625 (+/-0.016) for {'C': 7, 'penalty': 'l1'}\n",
      "0.625 (+/-0.017) for {'C': 7, 'penalty': 'l2'}\n",
      "0.625 (+/-0.016) for {'C': 8, 'penalty': 'l1'}\n",
      "0.625 (+/-0.016) for {'C': 8, 'penalty': 'l2'}\n",
      "Detailed classification report:\n",
      "\n",
      "The model is trained on the full development set.\n",
      "The scores are computed on the full evaluation set.\n",
      "\n",
      "              precision    recall  f1-score   support\n",
      "\n",
      "         0.0       0.62      0.73      0.67      2121\n",
      "         1.0       0.61      0.48      0.54      1832\n",
      "\n",
      "    accuracy                           0.62      3953\n",
      "   macro avg       0.62      0.61      0.61      3953\n",
      "weighted avg       0.62      0.62      0.61      3953\n",
      "\n",
      "\n",
      "# Tuning hyper-parameters for recall\n",
      "Best parameters set found on development set:\n",
      "{'C': 2, 'penalty': 'l2'}\n",
      "Grid scores on development set:\n",
      "\n",
      "0.000 (+/-0.000) for {'C': 1e-05, 'penalty': 'l1'}\n",
      "0.400 (+/-0.032) for {'C': 1e-05, 'penalty': 'l2'}\n",
      "0.000 (+/-0.000) for {'C': 0.0001, 'penalty': 'l1'}\n",
      "0.456 (+/-0.024) for {'C': 0.0001, 'penalty': 'l2'}\n",
      "0.434 (+/-0.024) for {'C': 0.001, 'penalty': 'l1'}\n",
      "0.482 (+/-0.027) for {'C': 0.001, 'penalty': 'l2'}\n",
      "0.480 (+/-0.027) for {'C': 0.01, 'penalty': 'l1'}\n",
      "0.504 (+/-0.025) for {'C': 0.01, 'penalty': 'l2'}\n",
      "0.508 (+/-0.024) for {'C': 0.1, 'penalty': 'l1'}\n",
      "0.509 (+/-0.021) for {'C': 0.1, 'penalty': 'l2'}\n",
      "0.510 (+/-0.024) for {'C': 1.0, 'penalty': 'l1'}\n",
      "0.511 (+/-0.025) for {'C': 1.0, 'penalty': 'l2'}\n",
      "0.511 (+/-0.024) for {'C': 2, 'penalty': 'l1'}\n",
      "0.512 (+/-0.025) for {'C': 2, 'penalty': 'l2'}\n",
      "0.511 (+/-0.024) for {'C': 3, 'penalty': 'l1'}\n",
      "0.512 (+/-0.025) for {'C': 3, 'penalty': 'l2'}\n",
      "0.511 (+/-0.024) for {'C': 4, 'penalty': 'l1'}\n",
      "0.511 (+/-0.024) for {'C': 4, 'penalty': 'l2'}\n",
      "0.511 (+/-0.024) for {'C': 5, 'penalty': 'l1'}\n",
      "0.512 (+/-0.024) for {'C': 5, 'penalty': 'l2'}\n",
      "0.511 (+/-0.024) for {'C': 6, 'penalty': 'l1'}\n",
      "0.512 (+/-0.025) for {'C': 6, 'penalty': 'l2'}\n",
      "0.511 (+/-0.024) for {'C': 7, 'penalty': 'l1'}\n",
      "0.511 (+/-0.024) for {'C': 7, 'penalty': 'l2'}\n",
      "0.511 (+/-0.024) for {'C': 8, 'penalty': 'l1'}\n",
      "0.512 (+/-0.024) for {'C': 8, 'penalty': 'l2'}\n",
      "Detailed classification report:\n",
      "\n",
      "The model is trained on the full development set.\n",
      "The scores are computed on the full evaluation set.\n",
      "\n",
      "              precision    recall  f1-score   support\n",
      "\n",
      "         0.0       0.62      0.73      0.67      2121\n",
      "         1.0       0.61      0.48      0.54      1832\n",
      "\n",
      "    accuracy                           0.62      3953\n",
      "   macro avg       0.61      0.61      0.60      3953\n",
      "weighted avg       0.61      0.62      0.61      3953\n",
      "\n",
      "\n",
      "# Tuning hyper-parameters for f1\n",
      "Best parameters set found on development set:\n",
      "{'C': 6, 'penalty': 'l2'}\n",
      "Grid scores on development set:\n",
      "\n",
      "0.000 (+/-0.000) for {'C': 1e-05, 'penalty': 'l1'}\n",
      "0.476 (+/-0.028) for {'C': 1e-05, 'penalty': 'l2'}\n",
      "0.000 (+/-0.000) for {'C': 0.0001, 'penalty': 'l1'}\n",
      "0.522 (+/-0.022) for {'C': 0.0001, 'penalty': 'l2'}\n",
      "0.507 (+/-0.021) for {'C': 0.001, 'penalty': 'l1'}\n",
      "0.544 (+/-0.026) for {'C': 0.001, 'penalty': 'l2'}\n",
      "0.542 (+/-0.025) for {'C': 0.01, 'penalty': 'l1'}\n",
      "0.558 (+/-0.019) for {'C': 0.01, 'penalty': 'l2'}\n",
      "0.560 (+/-0.020) for {'C': 0.1, 'penalty': 'l1'}\n",
      "0.560 (+/-0.017) for {'C': 0.1, 'penalty': 'l2'}\n",
      "0.562 (+/-0.020) for {'C': 1.0, 'penalty': 'l1'}\n",
      "0.562 (+/-0.021) for {'C': 1.0, 'penalty': 'l2'}\n",
      "0.562 (+/-0.020) for {'C': 2, 'penalty': 'l1'}\n",
      "0.563 (+/-0.021) for {'C': 2, 'penalty': 'l2'}\n",
      "0.562 (+/-0.020) for {'C': 3, 'penalty': 'l1'}\n",
      "0.563 (+/-0.021) for {'C': 3, 'penalty': 'l2'}\n",
      "0.562 (+/-0.020) for {'C': 4, 'penalty': 'l1'}\n",
      "0.562 (+/-0.020) for {'C': 4, 'penalty': 'l2'}\n",
      "0.562 (+/-0.020) for {'C': 5, 'penalty': 'l1'}\n",
      "0.563 (+/-0.020) for {'C': 5, 'penalty': 'l2'}\n",
      "0.562 (+/-0.020) for {'C': 6, 'penalty': 'l1'}\n",
      "0.563 (+/-0.021) for {'C': 6, 'penalty': 'l2'}\n",
      "0.562 (+/-0.020) for {'C': 7, 'penalty': 'l1'}\n",
      "0.562 (+/-0.021) for {'C': 7, 'penalty': 'l2'}\n",
      "0.562 (+/-0.020) for {'C': 8, 'penalty': 'l1'}\n",
      "0.563 (+/-0.020) for {'C': 8, 'penalty': 'l2'}\n",
      "Detailed classification report:\n",
      "\n",
      "The model is trained on the full development set.\n",
      "The scores are computed on the full evaluation set.\n",
      "\n",
      "              precision    recall  f1-score   support\n",
      "\n",
      "         0.0       0.62      0.73      0.67      2121\n",
      "         1.0       0.61      0.48      0.54      1832\n",
      "\n",
      "    accuracy                           0.62      3953\n",
      "   macro avg       0.62      0.61      0.61      3953\n",
      "weighted avg       0.62      0.62      0.61      3953\n",
      "\n",
      "\n",
      "# Tuning hyper-parameters for roc_auc\n",
      "Best parameters set found on development set:\n",
      "{'C': 0.1, 'penalty': 'l2'}\n",
      "Grid scores on development set:\n",
      "\n",
      "0.500 (+/-0.000) for {'C': 1e-05, 'penalty': 'l1'}\n",
      "0.627 (+/-0.012) for {'C': 1e-05, 'penalty': 'l2'}\n",
      "0.563 (+/-0.017) for {'C': 0.0001, 'penalty': 'l1'}\n",
      "0.649 (+/-0.015) for {'C': 0.0001, 'penalty': 'l2'}\n",
      "0.643 (+/-0.017) for {'C': 0.001, 'penalty': 'l1'}\n",
      "0.664 (+/-0.014) for {'C': 0.001, 'penalty': 'l2'}\n",
      "0.661 (+/-0.017) for {'C': 0.01, 'penalty': 'l1'}\n",
      "0.673 (+/-0.012) for {'C': 0.01, 'penalty': 'l2'}\n",
      "0.673 (+/-0.013) for {'C': 0.1, 'penalty': 'l1'}\n",
      "0.674 (+/-0.014) for {'C': 0.1, 'penalty': 'l2'}\n",
      "0.674 (+/-0.014) for {'C': 1.0, 'penalty': 'l1'}\n",
      "0.674 (+/-0.014) for {'C': 1.0, 'penalty': 'l2'}\n",
      "0.674 (+/-0.014) for {'C': 2, 'penalty': 'l1'}\n",
      "0.674 (+/-0.014) for {'C': 2, 'penalty': 'l2'}\n",
      "0.674 (+/-0.014) for {'C': 3, 'penalty': 'l1'}\n",
      "0.674 (+/-0.014) for {'C': 3, 'penalty': 'l2'}\n",
      "0.674 (+/-0.014) for {'C': 4, 'penalty': 'l1'}\n",
      "0.674 (+/-0.014) for {'C': 4, 'penalty': 'l2'}\n",
      "0.674 (+/-0.014) for {'C': 5, 'penalty': 'l1'}\n",
      "0.674 (+/-0.014) for {'C': 5, 'penalty': 'l2'}\n",
      "0.674 (+/-0.014) for {'C': 6, 'penalty': 'l1'}\n",
      "0.674 (+/-0.014) for {'C': 6, 'penalty': 'l2'}\n",
      "0.674 (+/-0.014) for {'C': 7, 'penalty': 'l1'}\n",
      "0.674 (+/-0.014) for {'C': 7, 'penalty': 'l2'}\n",
      "0.674 (+/-0.014) for {'C': 8, 'penalty': 'l1'}\n",
      "0.674 (+/-0.014) for {'C': 8, 'penalty': 'l2'}\n",
      "Detailed classification report:\n",
      "\n",
      "The model is trained on the full development set.\n",
      "The scores are computed on the full evaluation set.\n",
      "\n",
      "              precision    recall  f1-score   support\n",
      "\n",
      "         0.0       0.62      0.73      0.67      2121\n",
      "         1.0       0.61      0.48      0.54      1832\n",
      "\n",
      "    accuracy                           0.62      3953\n",
      "   macro avg       0.62      0.61      0.61      3953\n",
      "weighted avg       0.62      0.62      0.61      3953\n",
      "\n",
      "\n"
     ]
    }
   ],
   "source": [
    "# Parameters for the grid search on logistic regression\n",
    "parameters = [{'penalty': ['l1', 'l2'],\n",
    "               'C': [1e-5, 1e-4, 1e-3, 1e-2, 1e-1, 1e0, 2, 3, 4, 5, 6, 7, 8]}]\n",
    "# Evaluation metrics\n",
    "scores = {\"precision\": make_scorer(precision_score, zero_division=0),\n",
    "          \"recall\": \"recall\", \"f1\": \"f1\", \"roc_auc\": \"roc_auc\"}\n",
    "\n",
    "# Create a dictionary to store the grid search results\n",
    "records_lr = dict()\n",
    "\n",
    "# Loop through the evaluation metrics\n",
    "for score in scores:\n",
    "    print(\"# Tuning hyper-parameters for %s\" % score)\n",
    "\n",
    "    #Construct a grid search object with 5-fold cross validation\n",
    "    clf = GridSearchCV(LogisticRegression(random_state=seed, solver='liblinear',\n",
    "                                          max_iter=1000),\n",
    "                       parameters, cv=5, scoring=score, n_jobs=-1)\n",
    "    #Doing 5-fold cross validation on the training set\n",
    "    clf.fit(X_train, np.ravel(y_train))\n",
    "    #Print the best parameters and the corresponding score\n",
    "    print(\"Best parameters set found on development set:\")\n",
    "    print(clf.best_params_)\n",
    "    print(\"Grid scores on development set:\")\n",
    "    print()\n",
    "    means = clf.cv_results_['mean_test_score']\n",
    "    stds = clf.cv_results_['std_test_score']\n",
    "\n",
    "    records_lr[score] = clf\n",
    "\n",
    "    # List all performance of all parameters combination\n",
    "    for mean, std, params in zip(means, stds, clf.cv_results_['params']):\n",
    "        print(\"%0.3f (+/-%0.03f) for %r\"\n",
    "              % (mean, std * 2, params))\n",
    "\n",
    "    print(\"Detailed classification report:\")\n",
    "    print()\n",
    "    print(\"The model is trained on the full development set.\")\n",
    "    print(\"The scores are computed on the full evaluation set.\")\n",
    "    print()\n",
    "    y_true, y_pred = y_val, clf.predict(X_val)\n",
    "\n",
    "    # Print the classification report based on the best parameters\n",
    "    print(classification_report(y_true, y_pred))\n",
    "\n",
    "    print()"
   ]
  },
  {
   "attachments": {},
   "cell_type": "markdown",
   "metadata": {
    "pycharm": {
     "name": "#%% md\n"
    }
   },
   "source": [
    "Based on the gridsearch CV, the best model has the following parameters: {'C': 6, 'penalty': 'l2'} with F1 score of 0.67 for the alive class and 0.54 for the deceased class. The model performance is not bad, but it is not great either because the average F1 score is 0.67, which is not close to 1.\n",
    "\n",
    "If using the parameters of the best model measured by other performance metrics, the results are similar. The parameter of {'C': 5, 'penalty': 'l2'} and {'C': 2, 'penalty': 'l2'} maximizes the precision and recall respectively and achieves similar F1 scores. However, when maximizing the Area Under the Curve (AUC), the best model has the parameters of {'C': 0.1, 'penalty': 'l2'}.\n",
    "\n",
    "Given the difference between two parameters when using the metric of F1 and AUC, I will check the model performance on the testing dataset using both parameters and see which one suffers from less overfitting.\n",
    "\n",
    "They are:\n",
    "{'C': 6, 'penalty': 'l2'} and {'C': 0.1, 'penalty': 'l2'}"
   ]
  },
  {
   "attachments": {},
   "cell_type": "markdown",
   "metadata": {
    "collapsed": false,
    "pycharm": {
     "name": "#%% md\n"
    }
   },
   "source": [
    "##### **Hyperparameter tuning for neural network**\n",
    "Neural network is a powerful machine learning algorithm that can learn the complex patterns of the predictors. However, it is also prone to overfitting. Therefore, I need to tune the hyperparameters of the neural network to prevent overfitting.\n",
    "\n",
    "The hidden layer size is the number of neurons in the hidden layer. The larger the number of neurons, the more complex the model can be. However, the larger the number of neurons, the more likely the model is to overfit.\n",
    "\n",
    "The activation function is the function that transforms the input to the output. The activation function is applied to the weighted sum of the inputs and the bias. The different activation functions have different properties. For example, the identity function is linear and the relu function is non-linear. The relu function is the most commonly used activation function in neural networks. It is non-linear and can avoid the vanishing gradient problem.\n",
    "\n",
    "The alpha is the regularization parameter. It controls the strength of the regularization. The larger the alpha, the more regularization is applied to the model and the less complex the model is. The smaller the alpha, the less regularization is applied to the model and the more complex the model is.\n",
    "\n",
    "The learning rate is the step size of the gradient descent algorithm. The larger the learning rate, the faster the model converges to the optimal solution. However, the larger the learning rate, the more likely the model is to overshoot the optimal solution and diverge. The smaller the learning rate, the slower the model converges to the optimal solution. However, the smaller the learning rate, the less likely the model is to overshoot the optimal solution and diverge.\n",
    "\n",
    "Again, when tuning the hyperparameters, I need to balance the model performance and model complexity (i.e., bias-variance trade-off). To do so, I will use the gridsearch CV with 5-fold cross validation to test on different values of the hyperparameters. The gridsearch CV will return the best model with the best parameters based on one of the four metrics: accuracy, precision, recall, and F1 score. For the relatively balanced dataset, I will primarily use the F1 score as the metric to evaluate the model performance as it is the harmonic mean of precision and recall and intuitively captures the concept of classifying the deceased and alive classes correctly. Parameters that maximized the performance in terms of other measures will also be considered, especially if the parameters are different to the ones selected by the F1 score.\n",
    "\n",
    "The solver is set as default adam because it is the most commonly used solver for neural networks. The solver is the algorithm that is used to minimize the loss function. The adam solver is a variant of the stochastic gradient descent algorithm. It is a combination of the adaptive gradient algorithm and the root mean square propagation algorithm. The adaptive gradient algorithm adjusts the learning rate for each parameter based on the gradients of the loss function. The root mean square propagation algorithm adjusts the learning rate for each parameter based on the average of the squares of the gradients of the loss function. The adam solver is a combination of the adaptive gradient algorithm and the root mean square propagation algorithm. It adjusts the learning rate for each parameter based on both the gradients of the loss function and the average of the squares of the gradients of the loss function. The adam solver is the most commonly used solver for neural networks because it is fast and robust."
   ]
  },
  {
   "cell_type": "code",
   "execution_count": 14,
   "metadata": {
    "collapsed": false,
    "pycharm": {
     "name": "#%%\n"
    }
   },
   "outputs": [
    {
     "name": "stdout",
     "output_type": "stream",
     "text": [
      "# Tuning hyper-parameters for precision\n",
      "Best parameters set found on development set:\n",
      "{'activation': 'identity', 'alpha': 0, 'hidden_layer_sizes': (10, 5), 'learning_rate_init': 0.001}\n",
      "Grid scores on development set:\n",
      "\n",
      "0.542 (+/-0.019) for {'activation': 'identity', 'alpha': 0, 'hidden_layer_sizes': (1,), 'learning_rate_init': 1e-05}\n",
      "0.592 (+/-0.025) for {'activation': 'identity', 'alpha': 0, 'hidden_layer_sizes': (1,), 'learning_rate_init': 0.0001}\n",
      "0.626 (+/-0.038) for {'activation': 'identity', 'alpha': 0, 'hidden_layer_sizes': (1,), 'learning_rate_init': 0.001}\n",
      "0.562 (+/-0.021) for {'activation': 'identity', 'alpha': 0, 'hidden_layer_sizes': (30,), 'learning_rate_init': 1e-05}\n",
      "0.624 (+/-0.028) for {'activation': 'identity', 'alpha': 0, 'hidden_layer_sizes': (30,), 'learning_rate_init': 0.0001}\n",
      "0.642 (+/-0.138) for {'activation': 'identity', 'alpha': 0, 'hidden_layer_sizes': (30,), 'learning_rate_init': 0.001}\n",
      "0.606 (+/-0.023) for {'activation': 'identity', 'alpha': 0, 'hidden_layer_sizes': (100,), 'learning_rate_init': 1e-05}\n",
      "0.635 (+/-0.064) for {'activation': 'identity', 'alpha': 0, 'hidden_layer_sizes': (100,), 'learning_rate_init': 0.0001}\n",
      "0.635 (+/-0.150) for {'activation': 'identity', 'alpha': 0, 'hidden_layer_sizes': (100,), 'learning_rate_init': 0.001}\n",
      "0.570 (+/-0.017) for {'activation': 'identity', 'alpha': 0, 'hidden_layer_sizes': (10, 5), 'learning_rate_init': 1e-05}\n",
      "0.618 (+/-0.053) for {'activation': 'identity', 'alpha': 0, 'hidden_layer_sizes': (10, 5), 'learning_rate_init': 0.0001}\n",
      "0.643 (+/-0.092) for {'activation': 'identity', 'alpha': 0, 'hidden_layer_sizes': (10, 5), 'learning_rate_init': 0.001}\n",
      "0.542 (+/-0.019) for {'activation': 'identity', 'alpha': 0.0001, 'hidden_layer_sizes': (1,), 'learning_rate_init': 1e-05}\n",
      "0.592 (+/-0.025) for {'activation': 'identity', 'alpha': 0.0001, 'hidden_layer_sizes': (1,), 'learning_rate_init': 0.0001}\n",
      "0.626 (+/-0.038) for {'activation': 'identity', 'alpha': 0.0001, 'hidden_layer_sizes': (1,), 'learning_rate_init': 0.001}\n",
      "0.562 (+/-0.021) for {'activation': 'identity', 'alpha': 0.0001, 'hidden_layer_sizes': (30,), 'learning_rate_init': 1e-05}\n",
      "0.624 (+/-0.028) for {'activation': 'identity', 'alpha': 0.0001, 'hidden_layer_sizes': (30,), 'learning_rate_init': 0.0001}\n",
      "0.642 (+/-0.138) for {'activation': 'identity', 'alpha': 0.0001, 'hidden_layer_sizes': (30,), 'learning_rate_init': 0.001}\n",
      "0.606 (+/-0.023) for {'activation': 'identity', 'alpha': 0.0001, 'hidden_layer_sizes': (100,), 'learning_rate_init': 1e-05}\n",
      "0.635 (+/-0.064) for {'activation': 'identity', 'alpha': 0.0001, 'hidden_layer_sizes': (100,), 'learning_rate_init': 0.0001}\n",
      "0.635 (+/-0.150) for {'activation': 'identity', 'alpha': 0.0001, 'hidden_layer_sizes': (100,), 'learning_rate_init': 0.001}\n",
      "0.570 (+/-0.017) for {'activation': 'identity', 'alpha': 0.0001, 'hidden_layer_sizes': (10, 5), 'learning_rate_init': 1e-05}\n",
      "0.618 (+/-0.053) for {'activation': 'identity', 'alpha': 0.0001, 'hidden_layer_sizes': (10, 5), 'learning_rate_init': 0.0001}\n",
      "0.643 (+/-0.092) for {'activation': 'identity', 'alpha': 0.0001, 'hidden_layer_sizes': (10, 5), 'learning_rate_init': 0.001}\n",
      "0.542 (+/-0.019) for {'activation': 'identity', 'alpha': 0.01, 'hidden_layer_sizes': (1,), 'learning_rate_init': 1e-05}\n",
      "0.592 (+/-0.025) for {'activation': 'identity', 'alpha': 0.01, 'hidden_layer_sizes': (1,), 'learning_rate_init': 0.0001}\n",
      "0.626 (+/-0.038) for {'activation': 'identity', 'alpha': 0.01, 'hidden_layer_sizes': (1,), 'learning_rate_init': 0.001}\n",
      "0.562 (+/-0.021) for {'activation': 'identity', 'alpha': 0.01, 'hidden_layer_sizes': (30,), 'learning_rate_init': 1e-05}\n",
      "0.624 (+/-0.029) for {'activation': 'identity', 'alpha': 0.01, 'hidden_layer_sizes': (30,), 'learning_rate_init': 0.0001}\n",
      "0.641 (+/-0.138) for {'activation': 'identity', 'alpha': 0.01, 'hidden_layer_sizes': (30,), 'learning_rate_init': 0.001}\n",
      "0.606 (+/-0.023) for {'activation': 'identity', 'alpha': 0.01, 'hidden_layer_sizes': (100,), 'learning_rate_init': 1e-05}\n",
      "0.636 (+/-0.064) for {'activation': 'identity', 'alpha': 0.01, 'hidden_layer_sizes': (100,), 'learning_rate_init': 0.0001}\n",
      "0.636 (+/-0.151) for {'activation': 'identity', 'alpha': 0.01, 'hidden_layer_sizes': (100,), 'learning_rate_init': 0.001}\n",
      "0.570 (+/-0.018) for {'activation': 'identity', 'alpha': 0.01, 'hidden_layer_sizes': (10, 5), 'learning_rate_init': 1e-05}\n",
      "0.618 (+/-0.053) for {'activation': 'identity', 'alpha': 0.01, 'hidden_layer_sizes': (10, 5), 'learning_rate_init': 0.0001}\n",
      "0.643 (+/-0.092) for {'activation': 'identity', 'alpha': 0.01, 'hidden_layer_sizes': (10, 5), 'learning_rate_init': 0.001}\n",
      "0.000 (+/-0.000) for {'activation': 'relu', 'alpha': 0, 'hidden_layer_sizes': (1,), 'learning_rate_init': 1e-05}\n",
      "0.000 (+/-0.000) for {'activation': 'relu', 'alpha': 0, 'hidden_layer_sizes': (1,), 'learning_rate_init': 0.0001}\n",
      "0.000 (+/-0.000) for {'activation': 'relu', 'alpha': 0, 'hidden_layer_sizes': (1,), 'learning_rate_init': 0.001}\n",
      "0.555 (+/-0.022) for {'activation': 'relu', 'alpha': 0, 'hidden_layer_sizes': (30,), 'learning_rate_init': 1e-05}\n",
      "0.607 (+/-0.026) for {'activation': 'relu', 'alpha': 0, 'hidden_layer_sizes': (30,), 'learning_rate_init': 0.0001}\n",
      "0.612 (+/-0.041) for {'activation': 'relu', 'alpha': 0, 'hidden_layer_sizes': (30,), 'learning_rate_init': 0.001}\n",
      "0.583 (+/-0.027) for {'activation': 'relu', 'alpha': 0, 'hidden_layer_sizes': (100,), 'learning_rate_init': 1e-05}\n",
      "0.622 (+/-0.044) for {'activation': 'relu', 'alpha': 0, 'hidden_layer_sizes': (100,), 'learning_rate_init': 0.0001}\n",
      "0.624 (+/-0.064) for {'activation': 'relu', 'alpha': 0, 'hidden_layer_sizes': (100,), 'learning_rate_init': 0.001}\n",
      "0.552 (+/-0.019) for {'activation': 'relu', 'alpha': 0, 'hidden_layer_sizes': (10, 5), 'learning_rate_init': 1e-05}\n",
      "0.600 (+/-0.018) for {'activation': 'relu', 'alpha': 0, 'hidden_layer_sizes': (10, 5), 'learning_rate_init': 0.0001}\n",
      "0.616 (+/-0.019) for {'activation': 'relu', 'alpha': 0, 'hidden_layer_sizes': (10, 5), 'learning_rate_init': 0.001}\n",
      "0.000 (+/-0.000) for {'activation': 'relu', 'alpha': 0.0001, 'hidden_layer_sizes': (1,), 'learning_rate_init': 1e-05}\n",
      "0.000 (+/-0.000) for {'activation': 'relu', 'alpha': 0.0001, 'hidden_layer_sizes': (1,), 'learning_rate_init': 0.0001}\n",
      "0.000 (+/-0.000) for {'activation': 'relu', 'alpha': 0.0001, 'hidden_layer_sizes': (1,), 'learning_rate_init': 0.001}\n",
      "0.555 (+/-0.022) for {'activation': 'relu', 'alpha': 0.0001, 'hidden_layer_sizes': (30,), 'learning_rate_init': 1e-05}\n",
      "0.607 (+/-0.026) for {'activation': 'relu', 'alpha': 0.0001, 'hidden_layer_sizes': (30,), 'learning_rate_init': 0.0001}\n",
      "0.632 (+/-0.084) for {'activation': 'relu', 'alpha': 0.0001, 'hidden_layer_sizes': (30,), 'learning_rate_init': 0.001}\n",
      "0.583 (+/-0.027) for {'activation': 'relu', 'alpha': 0.0001, 'hidden_layer_sizes': (100,), 'learning_rate_init': 1e-05}\n",
      "0.629 (+/-0.027) for {'activation': 'relu', 'alpha': 0.0001, 'hidden_layer_sizes': (100,), 'learning_rate_init': 0.0001}\n",
      "0.595 (+/-0.083) for {'activation': 'relu', 'alpha': 0.0001, 'hidden_layer_sizes': (100,), 'learning_rate_init': 0.001}\n",
      "0.552 (+/-0.019) for {'activation': 'relu', 'alpha': 0.0001, 'hidden_layer_sizes': (10, 5), 'learning_rate_init': 1e-05}\n",
      "0.600 (+/-0.018) for {'activation': 'relu', 'alpha': 0.0001, 'hidden_layer_sizes': (10, 5), 'learning_rate_init': 0.0001}\n",
      "0.616 (+/-0.018) for {'activation': 'relu', 'alpha': 0.0001, 'hidden_layer_sizes': (10, 5), 'learning_rate_init': 0.001}\n",
      "0.000 (+/-0.000) for {'activation': 'relu', 'alpha': 0.01, 'hidden_layer_sizes': (1,), 'learning_rate_init': 1e-05}\n",
      "0.000 (+/-0.000) for {'activation': 'relu', 'alpha': 0.01, 'hidden_layer_sizes': (1,), 'learning_rate_init': 0.0001}\n",
      "0.000 (+/-0.000) for {'activation': 'relu', 'alpha': 0.01, 'hidden_layer_sizes': (1,), 'learning_rate_init': 0.001}\n",
      "0.554 (+/-0.022) for {'activation': 'relu', 'alpha': 0.01, 'hidden_layer_sizes': (30,), 'learning_rate_init': 1e-05}\n",
      "0.607 (+/-0.026) for {'activation': 'relu', 'alpha': 0.01, 'hidden_layer_sizes': (30,), 'learning_rate_init': 0.0001}\n",
      "0.631 (+/-0.084) for {'activation': 'relu', 'alpha': 0.01, 'hidden_layer_sizes': (30,), 'learning_rate_init': 0.001}\n",
      "0.583 (+/-0.027) for {'activation': 'relu', 'alpha': 0.01, 'hidden_layer_sizes': (100,), 'learning_rate_init': 1e-05}\n",
      "0.631 (+/-0.032) for {'activation': 'relu', 'alpha': 0.01, 'hidden_layer_sizes': (100,), 'learning_rate_init': 0.0001}\n",
      "0.608 (+/-0.109) for {'activation': 'relu', 'alpha': 0.01, 'hidden_layer_sizes': (100,), 'learning_rate_init': 0.001}\n",
      "0.551 (+/-0.020) for {'activation': 'relu', 'alpha': 0.01, 'hidden_layer_sizes': (10, 5), 'learning_rate_init': 1e-05}\n",
      "0.600 (+/-0.019) for {'activation': 'relu', 'alpha': 0.01, 'hidden_layer_sizes': (10, 5), 'learning_rate_init': 0.0001}\n",
      "0.616 (+/-0.019) for {'activation': 'relu', 'alpha': 0.01, 'hidden_layer_sizes': (10, 5), 'learning_rate_init': 0.001}\n",
      "Detailed classification report:\n",
      "\n",
      "The model is trained on the full development set.\n",
      "The scores are computed on the full evaluation set.\n",
      "\n",
      "              precision    recall  f1-score   support\n",
      "\n",
      "         0.0       0.60      0.85      0.70      2121\n",
      "         1.0       0.66      0.34      0.45      1832\n",
      "\n",
      "    accuracy                           0.61      3953\n",
      "   macro avg       0.63      0.60      0.58      3953\n",
      "weighted avg       0.63      0.61      0.58      3953\n",
      "\n",
      "\n",
      "Learning stops at iter num_39\n"
     ]
    },
    {
     "data": {
      "image/png": "[encoded data removed]",
      "text/plain": [
       "<Figure size 640x480 with 1 Axes>"
      ]
     },
     "metadata": {},
     "output_type": "display_data"
    },
    {
     "name": "stdout",
     "output_type": "stream",
     "text": [
      "# Tuning hyper-parameters for recall\n",
      "Best parameters set found on development set:\n",
      "{'activation': 'relu', 'alpha': 0.0001, 'hidden_layer_sizes': (100,), 'learning_rate_init': 0.001}\n",
      "Grid scores on development set:\n",
      "\n",
      "0.472 (+/-0.044) for {'activation': 'identity', 'alpha': 0, 'hidden_layer_sizes': (1,), 'learning_rate_init': 1e-05}\n",
      "0.498 (+/-0.055) for {'activation': 'identity', 'alpha': 0, 'hidden_layer_sizes': (1,), 'learning_rate_init': 0.0001}\n",
      "0.485 (+/-0.102) for {'activation': 'identity', 'alpha': 0, 'hidden_layer_sizes': (1,), 'learning_rate_init': 0.001}\n",
      "0.481 (+/-0.034) for {'activation': 'identity', 'alpha': 0, 'hidden_layer_sizes': (30,), 'learning_rate_init': 1e-05}\n",
      "0.481 (+/-0.120) for {'activation': 'identity', 'alpha': 0, 'hidden_layer_sizes': (30,), 'learning_rate_init': 0.0001}\n",
      "0.449 (+/-0.372) for {'activation': 'identity', 'alpha': 0, 'hidden_layer_sizes': (30,), 'learning_rate_init': 0.001}\n",
      "0.471 (+/-0.076) for {'activation': 'identity', 'alpha': 0, 'hidden_layer_sizes': (100,), 'learning_rate_init': 1e-05}\n",
      "0.446 (+/-0.192) for {'activation': 'identity', 'alpha': 0, 'hidden_layer_sizes': (100,), 'learning_rate_init': 0.0001}\n",
      "0.430 (+/-0.424) for {'activation': 'identity', 'alpha': 0, 'hidden_layer_sizes': (100,), 'learning_rate_init': 0.001}\n",
      "0.514 (+/-0.032) for {'activation': 'identity', 'alpha': 0, 'hidden_layer_sizes': (10, 5), 'learning_rate_init': 1e-05}\n",
      "0.496 (+/-0.176) for {'activation': 'identity', 'alpha': 0, 'hidden_layer_sizes': (10, 5), 'learning_rate_init': 0.0001}\n",
      "0.450 (+/-0.216) for {'activation': 'identity', 'alpha': 0, 'hidden_layer_sizes': (10, 5), 'learning_rate_init': 0.001}\n",
      "0.472 (+/-0.044) for {'activation': 'identity', 'alpha': 0.0001, 'hidden_layer_sizes': (1,), 'learning_rate_init': 1e-05}\n",
      "0.498 (+/-0.055) for {'activation': 'identity', 'alpha': 0.0001, 'hidden_layer_sizes': (1,), 'learning_rate_init': 0.0001}\n",
      "0.485 (+/-0.102) for {'activation': 'identity', 'alpha': 0.0001, 'hidden_layer_sizes': (1,), 'learning_rate_init': 0.001}\n",
      "0.481 (+/-0.034) for {'activation': 'identity', 'alpha': 0.0001, 'hidden_layer_sizes': (30,), 'learning_rate_init': 1e-05}\n",
      "0.481 (+/-0.120) for {'activation': 'identity', 'alpha': 0.0001, 'hidden_layer_sizes': (30,), 'learning_rate_init': 0.0001}\n",
      "0.449 (+/-0.372) for {'activation': 'identity', 'alpha': 0.0001, 'hidden_layer_sizes': (30,), 'learning_rate_init': 0.001}\n",
      "0.471 (+/-0.076) for {'activation': 'identity', 'alpha': 0.0001, 'hidden_layer_sizes': (100,), 'learning_rate_init': 1e-05}\n",
      "0.446 (+/-0.192) for {'activation': 'identity', 'alpha': 0.0001, 'hidden_layer_sizes': (100,), 'learning_rate_init': 0.0001}\n",
      "0.430 (+/-0.424) for {'activation': 'identity', 'alpha': 0.0001, 'hidden_layer_sizes': (100,), 'learning_rate_init': 0.001}\n",
      "0.514 (+/-0.032) for {'activation': 'identity', 'alpha': 0.0001, 'hidden_layer_sizes': (10, 5), 'learning_rate_init': 1e-05}\n",
      "0.496 (+/-0.176) for {'activation': 'identity', 'alpha': 0.0001, 'hidden_layer_sizes': (10, 5), 'learning_rate_init': 0.0001}\n",
      "0.450 (+/-0.216) for {'activation': 'identity', 'alpha': 0.0001, 'hidden_layer_sizes': (10, 5), 'learning_rate_init': 0.001}\n",
      "0.472 (+/-0.044) for {'activation': 'identity', 'alpha': 0.01, 'hidden_layer_sizes': (1,), 'learning_rate_init': 1e-05}\n",
      "0.497 (+/-0.056) for {'activation': 'identity', 'alpha': 0.01, 'hidden_layer_sizes': (1,), 'learning_rate_init': 0.0001}\n",
      "0.485 (+/-0.102) for {'activation': 'identity', 'alpha': 0.01, 'hidden_layer_sizes': (1,), 'learning_rate_init': 0.001}\n",
      "0.481 (+/-0.034) for {'activation': 'identity', 'alpha': 0.01, 'hidden_layer_sizes': (30,), 'learning_rate_init': 1e-05}\n",
      "0.481 (+/-0.120) for {'activation': 'identity', 'alpha': 0.01, 'hidden_layer_sizes': (30,), 'learning_rate_init': 0.0001}\n",
      "0.448 (+/-0.372) for {'activation': 'identity', 'alpha': 0.01, 'hidden_layer_sizes': (30,), 'learning_rate_init': 0.001}\n",
      "0.471 (+/-0.076) for {'activation': 'identity', 'alpha': 0.01, 'hidden_layer_sizes': (100,), 'learning_rate_init': 1e-05}\n",
      "0.446 (+/-0.192) for {'activation': 'identity', 'alpha': 0.01, 'hidden_layer_sizes': (100,), 'learning_rate_init': 0.0001}\n",
      "0.428 (+/-0.426) for {'activation': 'identity', 'alpha': 0.01, 'hidden_layer_sizes': (100,), 'learning_rate_init': 0.001}\n",
      "0.514 (+/-0.032) for {'activation': 'identity', 'alpha': 0.01, 'hidden_layer_sizes': (10, 5), 'learning_rate_init': 1e-05}\n",
      "0.496 (+/-0.176) for {'activation': 'identity', 'alpha': 0.01, 'hidden_layer_sizes': (10, 5), 'learning_rate_init': 0.0001}\n",
      "0.450 (+/-0.216) for {'activation': 'identity', 'alpha': 0.01, 'hidden_layer_sizes': (10, 5), 'learning_rate_init': 0.001}\n",
      "0.000 (+/-0.000) for {'activation': 'relu', 'alpha': 0, 'hidden_layer_sizes': (1,), 'learning_rate_init': 1e-05}\n",
      "0.000 (+/-0.000) for {'activation': 'relu', 'alpha': 0, 'hidden_layer_sizes': (1,), 'learning_rate_init': 0.0001}\n",
      "0.000 (+/-0.000) for {'activation': 'relu', 'alpha': 0, 'hidden_layer_sizes': (1,), 'learning_rate_init': 0.001}\n",
      "0.488 (+/-0.028) for {'activation': 'relu', 'alpha': 0, 'hidden_layer_sizes': (30,), 'learning_rate_init': 1e-05}\n",
      "0.521 (+/-0.079) for {'activation': 'relu', 'alpha': 0, 'hidden_layer_sizes': (30,), 'learning_rate_init': 0.0001}\n",
      "0.529 (+/-0.191) for {'activation': 'relu', 'alpha': 0, 'hidden_layer_sizes': (30,), 'learning_rate_init': 0.001}\n",
      "0.446 (+/-0.035) for {'activation': 'relu', 'alpha': 0, 'hidden_layer_sizes': (100,), 'learning_rate_init': 1e-05}\n",
      "0.483 (+/-0.141) for {'activation': 'relu', 'alpha': 0, 'hidden_layer_sizes': (100,), 'learning_rate_init': 0.0001}\n",
      "0.448 (+/-0.324) for {'activation': 'relu', 'alpha': 0, 'hidden_layer_sizes': (100,), 'learning_rate_init': 0.001}\n",
      "0.516 (+/-0.026) for {'activation': 'relu', 'alpha': 0, 'hidden_layer_sizes': (10, 5), 'learning_rate_init': 1e-05}\n",
      "0.510 (+/-0.089) for {'activation': 'relu', 'alpha': 0, 'hidden_layer_sizes': (10, 5), 'learning_rate_init': 0.0001}\n",
      "0.487 (+/-0.105) for {'activation': 'relu', 'alpha': 0, 'hidden_layer_sizes': (10, 5), 'learning_rate_init': 0.001}\n",
      "0.000 (+/-0.000) for {'activation': 'relu', 'alpha': 0.0001, 'hidden_layer_sizes': (1,), 'learning_rate_init': 1e-05}\n",
      "0.000 (+/-0.000) for {'activation': 'relu', 'alpha': 0.0001, 'hidden_layer_sizes': (1,), 'learning_rate_init': 0.0001}\n",
      "0.000 (+/-0.000) for {'activation': 'relu', 'alpha': 0.0001, 'hidden_layer_sizes': (1,), 'learning_rate_init': 0.001}\n",
      "0.488 (+/-0.028) for {'activation': 'relu', 'alpha': 0.0001, 'hidden_layer_sizes': (30,), 'learning_rate_init': 1e-05}\n",
      "0.521 (+/-0.079) for {'activation': 'relu', 'alpha': 0.0001, 'hidden_layer_sizes': (30,), 'learning_rate_init': 0.0001}\n",
      "0.469 (+/-0.265) for {'activation': 'relu', 'alpha': 0.0001, 'hidden_layer_sizes': (30,), 'learning_rate_init': 0.001}\n",
      "0.446 (+/-0.035) for {'activation': 'relu', 'alpha': 0.0001, 'hidden_layer_sizes': (100,), 'learning_rate_init': 1e-05}\n",
      "0.462 (+/-0.112) for {'activation': 'relu', 'alpha': 0.0001, 'hidden_layer_sizes': (100,), 'learning_rate_init': 0.0001}\n",
      "0.561 (+/-0.289) for {'activation': 'relu', 'alpha': 0.0001, 'hidden_layer_sizes': (100,), 'learning_rate_init': 0.001}\n",
      "0.516 (+/-0.026) for {'activation': 'relu', 'alpha': 0.0001, 'hidden_layer_sizes': (10, 5), 'learning_rate_init': 1e-05}\n",
      "0.510 (+/-0.089) for {'activation': 'relu', 'alpha': 0.0001, 'hidden_layer_sizes': (10, 5), 'learning_rate_init': 0.0001}\n",
      "0.486 (+/-0.104) for {'activation': 'relu', 'alpha': 0.0001, 'hidden_layer_sizes': (10, 5), 'learning_rate_init': 0.001}\n",
      "0.000 (+/-0.000) for {'activation': 'relu', 'alpha': 0.01, 'hidden_layer_sizes': (1,), 'learning_rate_init': 1e-05}\n",
      "0.000 (+/-0.000) for {'activation': 'relu', 'alpha': 0.01, 'hidden_layer_sizes': (1,), 'learning_rate_init': 0.0001}\n",
      "0.000 (+/-0.000) for {'activation': 'relu', 'alpha': 0.01, 'hidden_layer_sizes': (1,), 'learning_rate_init': 0.001}\n",
      "0.488 (+/-0.028) for {'activation': 'relu', 'alpha': 0.01, 'hidden_layer_sizes': (30,), 'learning_rate_init': 1e-05}\n",
      "0.521 (+/-0.080) for {'activation': 'relu', 'alpha': 0.01, 'hidden_layer_sizes': (30,), 'learning_rate_init': 0.0001}\n",
      "0.482 (+/-0.235) for {'activation': 'relu', 'alpha': 0.01, 'hidden_layer_sizes': (30,), 'learning_rate_init': 0.001}\n",
      "0.446 (+/-0.035) for {'activation': 'relu', 'alpha': 0.01, 'hidden_layer_sizes': (100,), 'learning_rate_init': 1e-05}\n",
      "0.461 (+/-0.112) for {'activation': 'relu', 'alpha': 0.01, 'hidden_layer_sizes': (100,), 'learning_rate_init': 0.0001}\n",
      "0.529 (+/-0.397) for {'activation': 'relu', 'alpha': 0.01, 'hidden_layer_sizes': (100,), 'learning_rate_init': 0.001}\n",
      "0.516 (+/-0.027) for {'activation': 'relu', 'alpha': 0.01, 'hidden_layer_sizes': (10, 5), 'learning_rate_init': 1e-05}\n",
      "0.510 (+/-0.088) for {'activation': 'relu', 'alpha': 0.01, 'hidden_layer_sizes': (10, 5), 'learning_rate_init': 0.0001}\n",
      "0.486 (+/-0.103) for {'activation': 'relu', 'alpha': 0.01, 'hidden_layer_sizes': (10, 5), 'learning_rate_init': 0.001}\n",
      "Detailed classification report:\n",
      "\n",
      "The model is trained on the full development set.\n",
      "The scores are computed on the full evaluation set.\n",
      "\n",
      "              precision    recall  f1-score   support\n",
      "\n",
      "         0.0       0.60      0.78      0.68      2121\n",
      "         1.0       0.61      0.38      0.47      1832\n",
      "\n",
      "    accuracy                           0.60      3953\n",
      "   macro avg       0.60      0.58      0.57      3953\n",
      "weighted avg       0.60      0.60      0.58      3953\n",
      "\n",
      "\n",
      "Learning stops at iter num_20\n"
     ]
    },
    {
     "data": {
      "image/png": "[encoded data removed]",
      "text/plain": [
       "<Figure size 640x480 with 1 Axes>"
      ]
     },
     "metadata": {},
     "output_type": "display_data"
    },
    {
     "name": "stdout",
     "output_type": "stream",
     "text": [
      "# Tuning hyper-parameters for f1\n",
      "Best parameters set found on development set:\n",
      "{'activation': 'relu', 'alpha': 0.0001, 'hidden_layer_sizes': (100,), 'learning_rate_init': 0.001}\n",
      "Grid scores on development set:\n",
      "\n",
      "0.504 (+/-0.031) for {'activation': 'identity', 'alpha': 0, 'hidden_layer_sizes': (1,), 'learning_rate_init': 1e-05}\n",
      "0.540 (+/-0.035) for {'activation': 'identity', 'alpha': 0, 'hidden_layer_sizes': (1,), 'learning_rate_init': 0.0001}\n",
      "0.544 (+/-0.051) for {'activation': 'identity', 'alpha': 0, 'hidden_layer_sizes': (1,), 'learning_rate_init': 0.001}\n",
      "0.518 (+/-0.024) for {'activation': 'identity', 'alpha': 0, 'hidden_layer_sizes': (30,), 'learning_rate_init': 1e-05}\n",
      "0.540 (+/-0.072) for {'activation': 'identity', 'alpha': 0, 'hidden_layer_sizes': (30,), 'learning_rate_init': 0.0001}\n",
      "0.494 (+/-0.203) for {'activation': 'identity', 'alpha': 0, 'hidden_layer_sizes': (30,), 'learning_rate_init': 0.001}\n",
      "0.529 (+/-0.043) for {'activation': 'identity', 'alpha': 0, 'hidden_layer_sizes': (100,), 'learning_rate_init': 1e-05}\n",
      "0.515 (+/-0.114) for {'activation': 'identity', 'alpha': 0, 'hidden_layer_sizes': (100,), 'learning_rate_init': 0.0001}\n",
      "0.469 (+/-0.231) for {'activation': 'identity', 'alpha': 0, 'hidden_layer_sizes': (100,), 'learning_rate_init': 0.001}\n",
      "0.541 (+/-0.024) for {'activation': 'identity', 'alpha': 0, 'hidden_layer_sizes': (10, 5), 'learning_rate_init': 1e-05}\n",
      "0.544 (+/-0.090) for {'activation': 'identity', 'alpha': 0, 'hidden_layer_sizes': (10, 5), 'learning_rate_init': 0.0001}\n",
      "0.517 (+/-0.132) for {'activation': 'identity', 'alpha': 0, 'hidden_layer_sizes': (10, 5), 'learning_rate_init': 0.001}\n",
      "0.504 (+/-0.031) for {'activation': 'identity', 'alpha': 0.0001, 'hidden_layer_sizes': (1,), 'learning_rate_init': 1e-05}\n",
      "0.540 (+/-0.035) for {'activation': 'identity', 'alpha': 0.0001, 'hidden_layer_sizes': (1,), 'learning_rate_init': 0.0001}\n",
      "0.544 (+/-0.051) for {'activation': 'identity', 'alpha': 0.0001, 'hidden_layer_sizes': (1,), 'learning_rate_init': 0.001}\n",
      "0.518 (+/-0.024) for {'activation': 'identity', 'alpha': 0.0001, 'hidden_layer_sizes': (30,), 'learning_rate_init': 1e-05}\n",
      "0.540 (+/-0.072) for {'activation': 'identity', 'alpha': 0.0001, 'hidden_layer_sizes': (30,), 'learning_rate_init': 0.0001}\n",
      "0.494 (+/-0.203) for {'activation': 'identity', 'alpha': 0.0001, 'hidden_layer_sizes': (30,), 'learning_rate_init': 0.001}\n",
      "0.529 (+/-0.043) for {'activation': 'identity', 'alpha': 0.0001, 'hidden_layer_sizes': (100,), 'learning_rate_init': 1e-05}\n",
      "0.515 (+/-0.114) for {'activation': 'identity', 'alpha': 0.0001, 'hidden_layer_sizes': (100,), 'learning_rate_init': 0.0001}\n",
      "0.469 (+/-0.231) for {'activation': 'identity', 'alpha': 0.0001, 'hidden_layer_sizes': (100,), 'learning_rate_init': 0.001}\n",
      "0.541 (+/-0.024) for {'activation': 'identity', 'alpha': 0.0001, 'hidden_layer_sizes': (10, 5), 'learning_rate_init': 1e-05}\n",
      "0.544 (+/-0.090) for {'activation': 'identity', 'alpha': 0.0001, 'hidden_layer_sizes': (10, 5), 'learning_rate_init': 0.0001}\n",
      "0.517 (+/-0.132) for {'activation': 'identity', 'alpha': 0.0001, 'hidden_layer_sizes': (10, 5), 'learning_rate_init': 0.001}\n",
      "0.504 (+/-0.031) for {'activation': 'identity', 'alpha': 0.01, 'hidden_layer_sizes': (1,), 'learning_rate_init': 1e-05}\n",
      "0.540 (+/-0.036) for {'activation': 'identity', 'alpha': 0.01, 'hidden_layer_sizes': (1,), 'learning_rate_init': 0.0001}\n",
      "0.544 (+/-0.051) for {'activation': 'identity', 'alpha': 0.01, 'hidden_layer_sizes': (1,), 'learning_rate_init': 0.001}\n",
      "0.518 (+/-0.024) for {'activation': 'identity', 'alpha': 0.01, 'hidden_layer_sizes': (30,), 'learning_rate_init': 1e-05}\n",
      "0.540 (+/-0.071) for {'activation': 'identity', 'alpha': 0.01, 'hidden_layer_sizes': (30,), 'learning_rate_init': 0.0001}\n",
      "0.494 (+/-0.204) for {'activation': 'identity', 'alpha': 0.01, 'hidden_layer_sizes': (30,), 'learning_rate_init': 0.001}\n",
      "0.529 (+/-0.044) for {'activation': 'identity', 'alpha': 0.01, 'hidden_layer_sizes': (100,), 'learning_rate_init': 1e-05}\n",
      "0.515 (+/-0.114) for {'activation': 'identity', 'alpha': 0.01, 'hidden_layer_sizes': (100,), 'learning_rate_init': 0.0001}\n",
      "0.467 (+/-0.231) for {'activation': 'identity', 'alpha': 0.01, 'hidden_layer_sizes': (100,), 'learning_rate_init': 0.001}\n",
      "0.541 (+/-0.024) for {'activation': 'identity', 'alpha': 0.01, 'hidden_layer_sizes': (10, 5), 'learning_rate_init': 1e-05}\n",
      "0.544 (+/-0.090) for {'activation': 'identity', 'alpha': 0.01, 'hidden_layer_sizes': (10, 5), 'learning_rate_init': 0.0001}\n",
      "0.517 (+/-0.132) for {'activation': 'identity', 'alpha': 0.01, 'hidden_layer_sizes': (10, 5), 'learning_rate_init': 0.001}\n",
      "0.000 (+/-0.000) for {'activation': 'relu', 'alpha': 0, 'hidden_layer_sizes': (1,), 'learning_rate_init': 1e-05}\n",
      "0.000 (+/-0.000) for {'activation': 'relu', 'alpha': 0, 'hidden_layer_sizes': (1,), 'learning_rate_init': 0.0001}\n",
      "0.000 (+/-0.000) for {'activation': 'relu', 'alpha': 0, 'hidden_layer_sizes': (1,), 'learning_rate_init': 0.001}\n",
      "0.519 (+/-0.019) for {'activation': 'relu', 'alpha': 0, 'hidden_layer_sizes': (30,), 'learning_rate_init': 1e-05}\n",
      "0.559 (+/-0.039) for {'activation': 'relu', 'alpha': 0, 'hidden_layer_sizes': (30,), 'learning_rate_init': 0.0001}\n",
      "0.561 (+/-0.105) for {'activation': 'relu', 'alpha': 0, 'hidden_layer_sizes': (30,), 'learning_rate_init': 0.001}\n",
      "0.505 (+/-0.027) for {'activation': 'relu', 'alpha': 0, 'hidden_layer_sizes': (100,), 'learning_rate_init': 1e-05}\n",
      "0.539 (+/-0.075) for {'activation': 'relu', 'alpha': 0, 'hidden_layer_sizes': (100,), 'learning_rate_init': 0.0001}\n",
      "0.500 (+/-0.200) for {'activation': 'relu', 'alpha': 0, 'hidden_layer_sizes': (100,), 'learning_rate_init': 0.001}\n",
      "0.533 (+/-0.021) for {'activation': 'relu', 'alpha': 0, 'hidden_layer_sizes': (10, 5), 'learning_rate_init': 1e-05}\n",
      "0.550 (+/-0.052) for {'activation': 'relu', 'alpha': 0, 'hidden_layer_sizes': (10, 5), 'learning_rate_init': 0.0001}\n",
      "0.542 (+/-0.058) for {'activation': 'relu', 'alpha': 0, 'hidden_layer_sizes': (10, 5), 'learning_rate_init': 0.001}\n",
      "0.000 (+/-0.000) for {'activation': 'relu', 'alpha': 0.0001, 'hidden_layer_sizes': (1,), 'learning_rate_init': 1e-05}\n",
      "0.000 (+/-0.000) for {'activation': 'relu', 'alpha': 0.0001, 'hidden_layer_sizes': (1,), 'learning_rate_init': 0.0001}\n",
      "0.000 (+/-0.000) for {'activation': 'relu', 'alpha': 0.0001, 'hidden_layer_sizes': (1,), 'learning_rate_init': 0.001}\n",
      "0.519 (+/-0.019) for {'activation': 'relu', 'alpha': 0.0001, 'hidden_layer_sizes': (30,), 'learning_rate_init': 1e-05}\n",
      "0.559 (+/-0.039) for {'activation': 'relu', 'alpha': 0.0001, 'hidden_layer_sizes': (30,), 'learning_rate_init': 0.0001}\n",
      "0.522 (+/-0.159) for {'activation': 'relu', 'alpha': 0.0001, 'hidden_layer_sizes': (30,), 'learning_rate_init': 0.001}\n",
      "0.505 (+/-0.026) for {'activation': 'relu', 'alpha': 0.0001, 'hidden_layer_sizes': (100,), 'learning_rate_init': 1e-05}\n",
      "0.530 (+/-0.065) for {'activation': 'relu', 'alpha': 0.0001, 'hidden_layer_sizes': (100,), 'learning_rate_init': 0.0001}\n",
      "0.562 (+/-0.109) for {'activation': 'relu', 'alpha': 0.0001, 'hidden_layer_sizes': (100,), 'learning_rate_init': 0.001}\n",
      "0.533 (+/-0.021) for {'activation': 'relu', 'alpha': 0.0001, 'hidden_layer_sizes': (10, 5), 'learning_rate_init': 1e-05}\n",
      "0.550 (+/-0.052) for {'activation': 'relu', 'alpha': 0.0001, 'hidden_layer_sizes': (10, 5), 'learning_rate_init': 0.0001}\n",
      "0.541 (+/-0.058) for {'activation': 'relu', 'alpha': 0.0001, 'hidden_layer_sizes': (10, 5), 'learning_rate_init': 0.001}\n",
      "0.000 (+/-0.000) for {'activation': 'relu', 'alpha': 0.01, 'hidden_layer_sizes': (1,), 'learning_rate_init': 1e-05}\n",
      "0.000 (+/-0.000) for {'activation': 'relu', 'alpha': 0.01, 'hidden_layer_sizes': (1,), 'learning_rate_init': 0.0001}\n",
      "0.000 (+/-0.000) for {'activation': 'relu', 'alpha': 0.01, 'hidden_layer_sizes': (1,), 'learning_rate_init': 0.001}\n",
      "0.519 (+/-0.019) for {'activation': 'relu', 'alpha': 0.01, 'hidden_layer_sizes': (30,), 'learning_rate_init': 1e-05}\n",
      "0.559 (+/-0.040) for {'activation': 'relu', 'alpha': 0.01, 'hidden_layer_sizes': (30,), 'learning_rate_init': 0.0001}\n",
      "0.533 (+/-0.145) for {'activation': 'relu', 'alpha': 0.01, 'hidden_layer_sizes': (30,), 'learning_rate_init': 0.001}\n",
      "0.505 (+/-0.026) for {'activation': 'relu', 'alpha': 0.01, 'hidden_layer_sizes': (100,), 'learning_rate_init': 1e-05}\n",
      "0.530 (+/-0.064) for {'activation': 'relu', 'alpha': 0.01, 'hidden_layer_sizes': (100,), 'learning_rate_init': 0.0001}\n",
      "0.536 (+/-0.180) for {'activation': 'relu', 'alpha': 0.01, 'hidden_layer_sizes': (100,), 'learning_rate_init': 0.001}\n",
      "0.533 (+/-0.022) for {'activation': 'relu', 'alpha': 0.01, 'hidden_layer_sizes': (10, 5), 'learning_rate_init': 1e-05}\n",
      "0.550 (+/-0.052) for {'activation': 'relu', 'alpha': 0.01, 'hidden_layer_sizes': (10, 5), 'learning_rate_init': 0.0001}\n",
      "0.542 (+/-0.058) for {'activation': 'relu', 'alpha': 0.01, 'hidden_layer_sizes': (10, 5), 'learning_rate_init': 0.001}\n",
      "Detailed classification report:\n",
      "\n",
      "The model is trained on the full development set.\n",
      "The scores are computed on the full evaluation set.\n",
      "\n",
      "              precision    recall  f1-score   support\n",
      "\n",
      "         0.0       0.60      0.78      0.68      2121\n",
      "         1.0       0.61      0.38      0.47      1832\n",
      "\n",
      "    accuracy                           0.60      3953\n",
      "   macro avg       0.60      0.58      0.57      3953\n",
      "weighted avg       0.60      0.60      0.58      3953\n",
      "\n",
      "\n",
      "Learning stops at iter num_20\n"
     ]
    },
    {
     "data": {
      "image/png": "[encoded data removed]",
      "text/plain": [
       "<Figure size 640x480 with 1 Axes>"
      ]
     },
     "metadata": {},
     "output_type": "display_data"
    },
    {
     "name": "stdout",
     "output_type": "stream",
     "text": [
      "# Tuning hyper-parameters for roc_auc\n",
      "Best parameters set found on development set:\n",
      "{'activation': 'identity', 'alpha': 0, 'hidden_layer_sizes': (1,), 'learning_rate_init': 0.001}\n",
      "Grid scores on development set:\n",
      "\n",
      "0.596 (+/-0.012) for {'activation': 'identity', 'alpha': 0, 'hidden_layer_sizes': (1,), 'learning_rate_init': 1e-05}\n",
      "0.644 (+/-0.016) for {'activation': 'identity', 'alpha': 0, 'hidden_layer_sizes': (1,), 'learning_rate_init': 0.0001}\n",
      "0.670 (+/-0.021) for {'activation': 'identity', 'alpha': 0, 'hidden_layer_sizes': (1,), 'learning_rate_init': 0.001}\n",
      "0.616 (+/-0.016) for {'activation': 'identity', 'alpha': 0, 'hidden_layer_sizes': (30,), 'learning_rate_init': 1e-05}\n",
      "0.668 (+/-0.013) for {'activation': 'identity', 'alpha': 0, 'hidden_layer_sizes': (30,), 'learning_rate_init': 0.0001}\n",
      "0.664 (+/-0.023) for {'activation': 'identity', 'alpha': 0, 'hidden_layer_sizes': (30,), 'learning_rate_init': 0.001}\n",
      "0.656 (+/-0.011) for {'activation': 'identity', 'alpha': 0, 'hidden_layer_sizes': (100,), 'learning_rate_init': 1e-05}\n",
      "0.669 (+/-0.011) for {'activation': 'identity', 'alpha': 0, 'hidden_layer_sizes': (100,), 'learning_rate_init': 0.0001}\n",
      "0.654 (+/-0.022) for {'activation': 'identity', 'alpha': 0, 'hidden_layer_sizes': (100,), 'learning_rate_init': 0.001}\n",
      "0.628 (+/-0.018) for {'activation': 'identity', 'alpha': 0, 'hidden_layer_sizes': (10, 5), 'learning_rate_init': 1e-05}\n",
      "0.669 (+/-0.013) for {'activation': 'identity', 'alpha': 0, 'hidden_layer_sizes': (10, 5), 'learning_rate_init': 0.0001}\n",
      "0.668 (+/-0.019) for {'activation': 'identity', 'alpha': 0, 'hidden_layer_sizes': (10, 5), 'learning_rate_init': 0.001}\n",
      "0.596 (+/-0.012) for {'activation': 'identity', 'alpha': 0.0001, 'hidden_layer_sizes': (1,), 'learning_rate_init': 1e-05}\n",
      "0.644 (+/-0.016) for {'activation': 'identity', 'alpha': 0.0001, 'hidden_layer_sizes': (1,), 'learning_rate_init': 0.0001}\n",
      "0.670 (+/-0.021) for {'activation': 'identity', 'alpha': 0.0001, 'hidden_layer_sizes': (1,), 'learning_rate_init': 0.001}\n",
      "0.616 (+/-0.016) for {'activation': 'identity', 'alpha': 0.0001, 'hidden_layer_sizes': (30,), 'learning_rate_init': 1e-05}\n",
      "0.668 (+/-0.013) for {'activation': 'identity', 'alpha': 0.0001, 'hidden_layer_sizes': (30,), 'learning_rate_init': 0.0001}\n",
      "0.664 (+/-0.023) for {'activation': 'identity', 'alpha': 0.0001, 'hidden_layer_sizes': (30,), 'learning_rate_init': 0.001}\n",
      "0.656 (+/-0.011) for {'activation': 'identity', 'alpha': 0.0001, 'hidden_layer_sizes': (100,), 'learning_rate_init': 1e-05}\n",
      "0.669 (+/-0.011) for {'activation': 'identity', 'alpha': 0.0001, 'hidden_layer_sizes': (100,), 'learning_rate_init': 0.0001}\n",
      "0.654 (+/-0.022) for {'activation': 'identity', 'alpha': 0.0001, 'hidden_layer_sizes': (100,), 'learning_rate_init': 0.001}\n",
      "0.628 (+/-0.018) for {'activation': 'identity', 'alpha': 0.0001, 'hidden_layer_sizes': (10, 5), 'learning_rate_init': 1e-05}\n",
      "0.669 (+/-0.013) for {'activation': 'identity', 'alpha': 0.0001, 'hidden_layer_sizes': (10, 5), 'learning_rate_init': 0.0001}\n",
      "0.668 (+/-0.019) for {'activation': 'identity', 'alpha': 0.0001, 'hidden_layer_sizes': (10, 5), 'learning_rate_init': 0.001}\n",
      "0.596 (+/-0.012) for {'activation': 'identity', 'alpha': 0.01, 'hidden_layer_sizes': (1,), 'learning_rate_init': 1e-05}\n",
      "0.644 (+/-0.016) for {'activation': 'identity', 'alpha': 0.01, 'hidden_layer_sizes': (1,), 'learning_rate_init': 0.0001}\n",
      "0.670 (+/-0.021) for {'activation': 'identity', 'alpha': 0.01, 'hidden_layer_sizes': (1,), 'learning_rate_init': 0.001}\n",
      "0.616 (+/-0.016) for {'activation': 'identity', 'alpha': 0.01, 'hidden_layer_sizes': (30,), 'learning_rate_init': 1e-05}\n",
      "0.668 (+/-0.013) for {'activation': 'identity', 'alpha': 0.01, 'hidden_layer_sizes': (30,), 'learning_rate_init': 0.0001}\n",
      "0.664 (+/-0.023) for {'activation': 'identity', 'alpha': 0.01, 'hidden_layer_sizes': (30,), 'learning_rate_init': 0.001}\n",
      "0.656 (+/-0.011) for {'activation': 'identity', 'alpha': 0.01, 'hidden_layer_sizes': (100,), 'learning_rate_init': 1e-05}\n",
      "0.669 (+/-0.011) for {'activation': 'identity', 'alpha': 0.01, 'hidden_layer_sizes': (100,), 'learning_rate_init': 0.0001}\n",
      "0.654 (+/-0.022) for {'activation': 'identity', 'alpha': 0.01, 'hidden_layer_sizes': (100,), 'learning_rate_init': 0.001}\n",
      "0.628 (+/-0.018) for {'activation': 'identity', 'alpha': 0.01, 'hidden_layer_sizes': (10, 5), 'learning_rate_init': 1e-05}\n",
      "0.669 (+/-0.013) for {'activation': 'identity', 'alpha': 0.01, 'hidden_layer_sizes': (10, 5), 'learning_rate_init': 0.0001}\n",
      "0.668 (+/-0.019) for {'activation': 'identity', 'alpha': 0.01, 'hidden_layer_sizes': (10, 5), 'learning_rate_init': 0.001}\n",
      "0.499 (+/-0.007) for {'activation': 'relu', 'alpha': 0, 'hidden_layer_sizes': (1,), 'learning_rate_init': 1e-05}\n",
      "0.500 (+/-0.002) for {'activation': 'relu', 'alpha': 0, 'hidden_layer_sizes': (1,), 'learning_rate_init': 0.0001}\n",
      "0.500 (+/-0.000) for {'activation': 'relu', 'alpha': 0, 'hidden_layer_sizes': (1,), 'learning_rate_init': 0.001}\n",
      "0.607 (+/-0.023) for {'activation': 'relu', 'alpha': 0, 'hidden_layer_sizes': (30,), 'learning_rate_init': 1e-05}\n",
      "0.659 (+/-0.018) for {'activation': 'relu', 'alpha': 0, 'hidden_layer_sizes': (30,), 'learning_rate_init': 0.0001}\n",
      "0.668 (+/-0.018) for {'activation': 'relu', 'alpha': 0, 'hidden_layer_sizes': (30,), 'learning_rate_init': 0.001}\n",
      "0.623 (+/-0.018) for {'activation': 'relu', 'alpha': 0, 'hidden_layer_sizes': (100,), 'learning_rate_init': 1e-05}\n",
      "0.663 (+/-0.019) for {'activation': 'relu', 'alpha': 0, 'hidden_layer_sizes': (100,), 'learning_rate_init': 0.0001}\n",
      "0.661 (+/-0.029) for {'activation': 'relu', 'alpha': 0, 'hidden_layer_sizes': (100,), 'learning_rate_init': 0.001}\n",
      "0.601 (+/-0.014) for {'activation': 'relu', 'alpha': 0, 'hidden_layer_sizes': (10, 5), 'learning_rate_init': 1e-05}\n",
      "0.648 (+/-0.023) for {'activation': 'relu', 'alpha': 0, 'hidden_layer_sizes': (10, 5), 'learning_rate_init': 0.0001}\n",
      "0.663 (+/-0.022) for {'activation': 'relu', 'alpha': 0, 'hidden_layer_sizes': (10, 5), 'learning_rate_init': 0.001}\n",
      "0.499 (+/-0.007) for {'activation': 'relu', 'alpha': 0.0001, 'hidden_layer_sizes': (1,), 'learning_rate_init': 1e-05}\n",
      "0.500 (+/-0.002) for {'activation': 'relu', 'alpha': 0.0001, 'hidden_layer_sizes': (1,), 'learning_rate_init': 0.0001}\n",
      "0.500 (+/-0.000) for {'activation': 'relu', 'alpha': 0.0001, 'hidden_layer_sizes': (1,), 'learning_rate_init': 0.001}\n",
      "0.607 (+/-0.023) for {'activation': 'relu', 'alpha': 0.0001, 'hidden_layer_sizes': (30,), 'learning_rate_init': 1e-05}\n",
      "0.659 (+/-0.019) for {'activation': 'relu', 'alpha': 0.0001, 'hidden_layer_sizes': (30,), 'learning_rate_init': 0.0001}\n",
      "0.668 (+/-0.017) for {'activation': 'relu', 'alpha': 0.0001, 'hidden_layer_sizes': (30,), 'learning_rate_init': 0.001}\n",
      "0.623 (+/-0.018) for {'activation': 'relu', 'alpha': 0.0001, 'hidden_layer_sizes': (100,), 'learning_rate_init': 1e-05}\n",
      "0.663 (+/-0.019) for {'activation': 'relu', 'alpha': 0.0001, 'hidden_layer_sizes': (100,), 'learning_rate_init': 0.0001}\n",
      "0.658 (+/-0.028) for {'activation': 'relu', 'alpha': 0.0001, 'hidden_layer_sizes': (100,), 'learning_rate_init': 0.001}\n",
      "0.601 (+/-0.014) for {'activation': 'relu', 'alpha': 0.0001, 'hidden_layer_sizes': (10, 5), 'learning_rate_init': 1e-05}\n",
      "0.648 (+/-0.023) for {'activation': 'relu', 'alpha': 0.0001, 'hidden_layer_sizes': (10, 5), 'learning_rate_init': 0.0001}\n",
      "0.663 (+/-0.022) for {'activation': 'relu', 'alpha': 0.0001, 'hidden_layer_sizes': (10, 5), 'learning_rate_init': 0.001}\n",
      "0.499 (+/-0.007) for {'activation': 'relu', 'alpha': 0.01, 'hidden_layer_sizes': (1,), 'learning_rate_init': 1e-05}\n",
      "0.500 (+/-0.002) for {'activation': 'relu', 'alpha': 0.01, 'hidden_layer_sizes': (1,), 'learning_rate_init': 0.0001}\n",
      "0.500 (+/-0.000) for {'activation': 'relu', 'alpha': 0.01, 'hidden_layer_sizes': (1,), 'learning_rate_init': 0.001}\n",
      "0.607 (+/-0.023) for {'activation': 'relu', 'alpha': 0.01, 'hidden_layer_sizes': (30,), 'learning_rate_init': 1e-05}\n",
      "0.659 (+/-0.019) for {'activation': 'relu', 'alpha': 0.01, 'hidden_layer_sizes': (30,), 'learning_rate_init': 0.0001}\n",
      "0.666 (+/-0.017) for {'activation': 'relu', 'alpha': 0.01, 'hidden_layer_sizes': (30,), 'learning_rate_init': 0.001}\n",
      "0.623 (+/-0.018) for {'activation': 'relu', 'alpha': 0.01, 'hidden_layer_sizes': (100,), 'learning_rate_init': 1e-05}\n",
      "0.663 (+/-0.019) for {'activation': 'relu', 'alpha': 0.01, 'hidden_layer_sizes': (100,), 'learning_rate_init': 0.0001}\n",
      "0.661 (+/-0.033) for {'activation': 'relu', 'alpha': 0.01, 'hidden_layer_sizes': (100,), 'learning_rate_init': 0.001}\n",
      "0.601 (+/-0.014) for {'activation': 'relu', 'alpha': 0.01, 'hidden_layer_sizes': (10, 5), 'learning_rate_init': 1e-05}\n",
      "0.648 (+/-0.023) for {'activation': 'relu', 'alpha': 0.01, 'hidden_layer_sizes': (10, 5), 'learning_rate_init': 0.0001}\n",
      "0.663 (+/-0.022) for {'activation': 'relu', 'alpha': 0.01, 'hidden_layer_sizes': (10, 5), 'learning_rate_init': 0.001}\n",
      "Detailed classification report:\n",
      "\n",
      "The model is trained on the full development set.\n",
      "The scores are computed on the full evaluation set.\n",
      "\n",
      "              precision    recall  f1-score   support\n",
      "\n",
      "         0.0       0.63      0.71      0.67      2121\n",
      "         1.0       0.60      0.51      0.55      1832\n",
      "\n",
      "    accuracy                           0.62      3953\n",
      "   macro avg       0.62      0.61      0.61      3953\n",
      "weighted avg       0.62      0.62      0.61      3953\n",
      "\n",
      "\n",
      "Learning stops at iter num_45\n"
     ]
    },
    {
     "data": {
      "image/png": "[encoded data removed]",
      "text/plain": [
       "<Figure size 640x480 with 1 Axes>"
      ]
     },
     "metadata": {},
     "output_type": "display_data"
    }
   ],
   "source": [
    "parameters = [{'hidden_layer_sizes': [(1,), (30,), (100,), (10, 5,)],\n",
    "               'activation': ['identity', 'relu'],\n",
    "               'alpha': [0, 1e-4, 1e-2],\n",
    "               'learning_rate_init': [1e-5, 1e-4, 1e-3]\n",
    "               }]\n",
    "scores_nn = ['precision', 'recall', 'f1', 'roc_auc']\n",
    "\n",
    "records_nn = dict()\n",
    "\n",
    "for score in scores:\n",
    "    print(\"# Tuning hyper-parameters for %s\" % score)\n",
    "\n",
    "    # Construct a grid search object with 5-fold cross validation\n",
    "    clf = GridSearchCV(MLPClassifier(random_state=seed, tol=1e-3, max_iter=1000),\n",
    "                       parameters, cv=5,\n",
    "                       scoring=score)\n",
    "    # Doing 5-fold cross validation on the training set\n",
    "    clf.fit(X_train, np.ravel(y_train))\n",
    "\n",
    "    print(\"Best parameters set found on development set:\")\n",
    "    print(clf.best_params_)\n",
    "    print(\"Grid scores on development set:\")\n",
    "    print()\n",
    "    means = clf.cv_results_['mean_test_score']\n",
    "    stds = clf.cv_results_['std_test_score']\n",
    "\n",
    "    records_nn[score] = clf\n",
    "\n",
    "    # List all performance of all parameters combination\n",
    "    for mean, std, params in zip(means, stds, clf.cv_results_['params']):\n",
    "        print(\"%0.3f (+/-%0.03f) for %r\"\n",
    "              % (mean, std * 2, params))\n",
    "\n",
    "    print(\"Detailed classification report:\")\n",
    "    print()\n",
    "    print(\"The model is trained on the full development set.\")\n",
    "    print(\"The scores are computed on the full evaluation set.\")\n",
    "    print()\n",
    "    y_true, y_pred = y_val, clf.predict(X_val)\n",
    "\n",
    "    # Print the classification report based on the best parameters\n",
    "    print(classification_report(y_true, y_pred))\n",
    "\n",
    "    print()\n",
    "    \n",
    "    print(f\"Learning stops at iter num_{clf.best_estimator_.n_iter_}\")\n",
    "    plt.plot(range(clf.best_estimator_.n_iter_), clf.best_estimator_.loss_curve_)\n",
    "    plt.xlabel('Iteration')\n",
    "    plt.ylabel('Loss')\n",
    "    plt.title('Loss Curve')\n",
    "    plt.show()"
   ]
  },
  {
   "cell_type": "code",
   "execution_count": 15,
   "metadata": {
    "pycharm": {
     "name": "#%%\n"
    }
   },
   "outputs": [
    {
     "data": {
      "text/plain": [
       "['records_nn.pkl']"
      ]
     },
     "execution_count": 15,
     "metadata": {},
     "output_type": "execute_result"
    }
   ],
   "source": [
    "joblib.dump(records_nn, 'records_nn.pkl')"
   ]
  },
  {
   "attachments": {},
   "cell_type": "markdown",
   "metadata": {
    "pycharm": {
     "name": "#%% md\n"
    }
   },
   "source": [
    "Based on the GridSearch CV, there are three unique best set of parameters for four performance metrics.\n",
    "\n",
    "{'activation': 'identity', 'alpha': 0, 'hidden_layer_sizes': (10, 5), 'learning_rate_init': 0.001} is set the of parameters that maximizes the precision. The F1 socre is 0.70 for the alive class and 0.46 for the deceased class. \n",
    "\n",
    "{'activation': 'relu', 'alpha': 0.0001, 'hidden_layer_sizes': (100,), 'learning_rate_init': 0.001} is the set of parameters that maximizes the recall and the F1 score. The F1 score is 0.68 for the alive class and 0.50 for the deceased class.\n",
    "\n",
    "{'activation': 'identity', 'alpha': 0, 'hidden_layer_sizes': (1,), 'learning_rate_init': 0.001} is the set of parameters that maximizes the AUC_ROC. The AUC_ROC is 0.670. The F1 score is 0.67 for the alive class and 0.55 for the deceased class.\n",
    "\n",
    "In addition to testing the performances, I have also plotted the loss curve for each of the best set of parameters. The loss curve is the plot of the loss function against the number of iterations. The loss function is the function that is minimized by the model and the smaller the loss function, the better the model fits the data. The loss curve is a good way to check if the model is overfitting. If the loss curve is smooth and the loss function decreases as the number of iterations increases, the model is not overfitting. If the loss curve is not smooth and the loss function decreases and increases as the number of iterations increases, the model is overfitting.\n",
    "\n",
    "Based on the four plots, I conclude that the first (maximizes precision) and the fourth (maximizes AUC_ROC) set of parameters are the best as the set of parameters that maximizes recall and F1 score are overfitting with the loss curve not smooth and the loss function decreasing and increasing as the number of iterations increases."
   ]
  },
  {
   "attachments": {},
   "cell_type": "markdown",
   "metadata": {
    "pycharm": {
     "name": "#%% md\n"
    }
   },
   "source": [
    "##### **Hyperparameter tuning for KNN**\n",
    "K Nearest Neighbors (KNN) is a simple machine learning algorithm that classifies the data based on the majority of the nearest neighbors. The KNN algorithm is a non-parametric algorithm that does not make any assumptions about the distribution of the data because it needs to calculate the distance between the test data and all the training data. To make the best choice on the distance measures and whether rely on local or global information, I need to tune the hyperparameters of the KNN algorithm.\n",
    "\n",
    "I will use the gridsearch CV with 5-fold cross validation to test on different values of the hyperparameters. The gridsearch CV will return the best model with the best parameters based on one of the four metrics: accuracy, precision, recall, and F1 score. For the relatively balanced dataset, I will primarily rely on the F1 score as the metric to evaluate the model performance as it is the harmonic mean of precision and recall and intuitively captures the concept of classifying the deceased and alive classes correctly. Parameters that maximized the performance in terms of other measures will also be considered, especially if the parameters are different to the ones selected by the F1 score."
   ]
  },
  {
   "cell_type": "code",
   "execution_count": 16,
   "metadata": {
    "collapsed": false,
    "pycharm": {
     "name": "#%%\n"
    }
   },
   "outputs": [
    {
     "name": "stdout",
     "output_type": "stream",
     "text": [
      "# Tuning hyper-parameters for precision\n",
      "Best parameters set found on development set:\n",
      "{'n_neighbors': 50, 'p': 1, 'weights': 'uniform'}\n",
      "Grid scores on development set:\n",
      "\n",
      "0.565 (+/-0.019) for {'n_neighbors': 5, 'p': 1, 'weights': 'uniform'}\n",
      "0.571 (+/-0.015) for {'n_neighbors': 5, 'p': 1, 'weights': 'distance'}\n",
      "0.559 (+/-0.028) for {'n_neighbors': 5, 'p': 2, 'weights': 'uniform'}\n",
      "0.561 (+/-0.029) for {'n_neighbors': 5, 'p': 2, 'weights': 'distance'}\n",
      "0.616 (+/-0.019) for {'n_neighbors': 20, 'p': 1, 'weights': 'uniform'}\n",
      "0.605 (+/-0.011) for {'n_neighbors': 20, 'p': 1, 'weights': 'distance'}\n",
      "0.604 (+/-0.019) for {'n_neighbors': 20, 'p': 2, 'weights': 'uniform'}\n",
      "0.593 (+/-0.020) for {'n_neighbors': 20, 'p': 2, 'weights': 'distance'}\n",
      "0.625 (+/-0.019) for {'n_neighbors': 50, 'p': 1, 'weights': 'uniform'}\n",
      "0.624 (+/-0.020) for {'n_neighbors': 50, 'p': 1, 'weights': 'distance'}\n",
      "0.616 (+/-0.028) for {'n_neighbors': 50, 'p': 2, 'weights': 'uniform'}\n",
      "0.615 (+/-0.028) for {'n_neighbors': 50, 'p': 2, 'weights': 'distance'}\n",
      "Detailed classification report:\n",
      "\n",
      "The model is trained on the full development set.\n",
      "The scores are computed on the full evaluation set.\n",
      "\n",
      "              precision    recall  f1-score   support\n",
      "\n",
      "         0.0       0.61      0.77      0.68      2121\n",
      "         1.0       0.62      0.43      0.51      1832\n",
      "\n",
      "    accuracy                           0.62      3953\n",
      "   macro avg       0.62      0.60      0.60      3953\n",
      "weighted avg       0.62      0.62      0.60      3953\n",
      "\n",
      "# Tuning hyper-parameters for recall\n",
      "Best parameters set found on development set:\n",
      "{'n_neighbors': 5, 'p': 1, 'weights': 'distance'}\n",
      "Grid scores on development set:\n",
      "\n",
      "0.513 (+/-0.012) for {'n_neighbors': 5, 'p': 1, 'weights': 'uniform'}\n",
      "0.517 (+/-0.016) for {'n_neighbors': 5, 'p': 1, 'weights': 'distance'}\n",
      "0.510 (+/-0.038) for {'n_neighbors': 5, 'p': 2, 'weights': 'uniform'}\n",
      "0.511 (+/-0.042) for {'n_neighbors': 5, 'p': 2, 'weights': 'distance'}\n",
      "0.431 (+/-0.024) for {'n_neighbors': 20, 'p': 1, 'weights': 'uniform'}\n",
      "0.489 (+/-0.022) for {'n_neighbors': 20, 'p': 1, 'weights': 'distance'}\n",
      "0.418 (+/-0.018) for {'n_neighbors': 20, 'p': 2, 'weights': 'uniform'}\n",
      "0.472 (+/-0.026) for {'n_neighbors': 20, 'p': 2, 'weights': 'distance'}\n",
      "0.437 (+/-0.036) for {'n_neighbors': 50, 'p': 1, 'weights': 'uniform'}\n",
      "0.460 (+/-0.037) for {'n_neighbors': 50, 'p': 1, 'weights': 'distance'}\n",
      "0.428 (+/-0.040) for {'n_neighbors': 50, 'p': 2, 'weights': 'uniform'}\n",
      "0.452 (+/-0.036) for {'n_neighbors': 50, 'p': 2, 'weights': 'distance'}\n",
      "Detailed classification report:\n",
      "\n",
      "The model is trained on the full development set.\n",
      "The scores are computed on the full evaluation set.\n",
      "\n",
      "              precision    recall  f1-score   support\n",
      "\n",
      "         0.0       0.61      0.66      0.64      2121\n",
      "         1.0       0.57      0.51      0.54      1832\n",
      "\n",
      "    accuracy                           0.59      3953\n",
      "   macro avg       0.59      0.59      0.59      3953\n",
      "weighted avg       0.59      0.59      0.59      3953\n",
      "\n",
      "# Tuning hyper-parameters for f1\n",
      "Best parameters set found on development set:\n",
      "{'n_neighbors': 5, 'p': 1, 'weights': 'distance'}\n",
      "Grid scores on development set:\n",
      "\n",
      "0.538 (+/-0.012) for {'n_neighbors': 5, 'p': 1, 'weights': 'uniform'}\n",
      "0.542 (+/-0.009) for {'n_neighbors': 5, 'p': 1, 'weights': 'distance'}\n",
      "0.533 (+/-0.032) for {'n_neighbors': 5, 'p': 2, 'weights': 'uniform'}\n",
      "0.535 (+/-0.034) for {'n_neighbors': 5, 'p': 2, 'weights': 'distance'}\n",
      "0.507 (+/-0.022) for {'n_neighbors': 20, 'p': 1, 'weights': 'uniform'}\n",
      "0.541 (+/-0.017) for {'n_neighbors': 20, 'p': 1, 'weights': 'distance'}\n",
      "0.494 (+/-0.017) for {'n_neighbors': 20, 'p': 2, 'weights': 'uniform'}\n",
      "0.525 (+/-0.021) for {'n_neighbors': 20, 'p': 2, 'weights': 'distance'}\n",
      "0.514 (+/-0.030) for {'n_neighbors': 50, 'p': 1, 'weights': 'uniform'}\n",
      "0.530 (+/-0.030) for {'n_neighbors': 50, 'p': 1, 'weights': 'distance'}\n",
      "0.505 (+/-0.031) for {'n_neighbors': 50, 'p': 2, 'weights': 'uniform'}\n",
      "0.521 (+/-0.026) for {'n_neighbors': 50, 'p': 2, 'weights': 'distance'}\n",
      "Detailed classification report:\n",
      "\n",
      "The model is trained on the full development set.\n",
      "The scores are computed on the full evaluation set.\n",
      "\n",
      "              precision    recall  f1-score   support\n",
      "\n",
      "         0.0       0.61      0.66      0.64      2121\n",
      "         1.0       0.57      0.51      0.54      1832\n",
      "\n",
      "    accuracy                           0.59      3953\n",
      "   macro avg       0.59      0.59      0.59      3953\n",
      "weighted avg       0.59      0.59      0.59      3953\n",
      "\n",
      "# Tuning hyper-parameters for roc_auc\n",
      "Best parameters set found on development set:\n",
      "{'n_neighbors': 50, 'p': 1, 'weights': 'distance'}\n",
      "Grid scores on development set:\n",
      "\n",
      "0.615 (+/-0.010) for {'n_neighbors': 5, 'p': 1, 'weights': 'uniform'}\n",
      "0.626 (+/-0.011) for {'n_neighbors': 5, 'p': 1, 'weights': 'distance'}\n",
      "0.608 (+/-0.025) for {'n_neighbors': 5, 'p': 2, 'weights': 'uniform'}\n",
      "0.614 (+/-0.023) for {'n_neighbors': 5, 'p': 2, 'weights': 'distance'}\n",
      "0.637 (+/-0.017) for {'n_neighbors': 20, 'p': 1, 'weights': 'uniform'}\n",
      "0.646 (+/-0.018) for {'n_neighbors': 20, 'p': 1, 'weights': 'distance'}\n",
      "0.624 (+/-0.018) for {'n_neighbors': 20, 'p': 2, 'weights': 'uniform'}\n",
      "0.631 (+/-0.017) for {'n_neighbors': 20, 'p': 2, 'weights': 'distance'}\n",
      "0.647 (+/-0.019) for {'n_neighbors': 50, 'p': 1, 'weights': 'uniform'}\n",
      "0.654 (+/-0.020) for {'n_neighbors': 50, 'p': 1, 'weights': 'distance'}\n",
      "0.635 (+/-0.015) for {'n_neighbors': 50, 'p': 2, 'weights': 'uniform'}\n",
      "0.640 (+/-0.017) for {'n_neighbors': 50, 'p': 2, 'weights': 'distance'}\n",
      "Detailed classification report:\n",
      "\n",
      "The model is trained on the full development set.\n",
      "The scores are computed on the full evaluation set.\n",
      "\n",
      "              precision    recall  f1-score   support\n",
      "\n",
      "         0.0       0.62      0.76      0.68      2121\n",
      "         1.0       0.62      0.45      0.53      1832\n",
      "\n",
      "    accuracy                           0.62      3953\n",
      "   macro avg       0.62      0.61      0.61      3953\n",
      "weighted avg       0.62      0.62      0.61      3953\n",
      "\n"
     ]
    }
   ],
   "source": [
    "parameters = [{'n_neighbors': [5, 20, 50],\n",
    "               'weights': ['uniform', 'distance'],\n",
    "               'p': [1, 2]\n",
    "               }]\n",
    "scores = ['precision', 'recall', 'f1', 'roc_auc']\n",
    "\n",
    "records_knn = dict()\n",
    "\n",
    "for score in scores:\n",
    "    print(\"# Tuning hyper-parameters for %s\" % score)\n",
    "\n",
    "    # Construct a grid search object with 5-fold cross validation\n",
    "    clf = GridSearchCV(KNeighborsClassifier(n_jobs=-1), parameters, cv=5,\n",
    "                       scoring=score)\n",
    "    # Doing 5-fold cross validation on the training set\n",
    "    clf.fit(X_train, np.ravel(y_train))\n",
    "\n",
    "    print(\"Best parameters set found on development set:\")\n",
    "    print(clf.best_params_)\n",
    "    print(\"Grid scores on development set:\")\n",
    "    print()\n",
    "    means = clf.cv_results_['mean_test_score']\n",
    "    stds = clf.cv_results_['std_test_score']\n",
    "\n",
    "    records_knn[score] = clf\n",
    "\n",
    "    # List all performance of all parameters combination\n",
    "    for mean, std, params in zip(means, stds, clf.cv_results_['params']):\n",
    "        print(\"%0.3f (+/-%0.03f) for %r\"\n",
    "              % (mean, std * 2, params))\n",
    "\n",
    "    print(\"Detailed classification report:\")\n",
    "    print()\n",
    "    print(\"The model is trained on the full development set.\")\n",
    "    print(\"The scores are computed on the full evaluation set.\")\n",
    "    print()\n",
    "    y_true, y_pred = y_val, clf.predict(X_val)\n",
    "\n",
    "    #  Print the classification report based on the best parameters\n",
    "    print(classification_report(y_true, y_pred))"
   ]
  },
  {
   "attachments": {},
   "cell_type": "markdown",
   "metadata": {
    "pycharm": {
     "name": "#%% md\n"
    }
   },
   "source": [
    "There are only three types parameters tuned as the best for the KNN algorithm when evaluating based on four performance metrics.\n",
    "\n",
    "{'n_neighbors': 5, 'p': 1, 'weights': 'distance'} maximizes the model performnace on recall and F1; {'n_neighbors': 50, 'p': 1, 'weights': 'distance'} maximizes the model performnace on AUC_ROC; {'n_neighbors': 50, 'p': 1, 'weights': 'uniform'} maximizes the model performnace on precision\n",
    "\n",
    "They do not differ significantly in terms of the model performance. Therefore, with the first two sets of parameters achieving similar F1 scores and the third set of parameters achieving slightly worse performance on F1 score in the training set. However, we do not know if the model suffers from overfitting or not.\n",
    "\n",
    "Therefore, I will try the following two specifications (that are quite different) on the testing dataset to see which one suffers from less overfitting: {'n_neighbors': 5, 'p': 1, 'weights': 'distance'} and {'n_neighbors': 50, 'p': 1, 'weights': 'uniform'}"
   ]
  },
  {
   "attachments": {},
   "cell_type": "markdown",
   "metadata": {
    "pycharm": {
     "name": "#%% md\n"
    }
   },
   "source": [
    "##### **Conclusion from the model tuning**:\n",
    "\n",
    "I have selected two sets of parameters for each model.\n",
    "\n",
    "1. Logistic regression: {'C': 6, 'penalty': 'l2'} that maximizes F1 and {'C': 0.1, 'penalty': 'l2'} that maximizes AUC_ROC.\n",
    "2. Neural Network: {'activation': 'identity', 'alpha': 0, 'hidden_layer_sizes': (10, 5), 'learning_rate_init': 0.001} that maximizes precision and {'activation': 'identity', 'alpha': 0, 'hidden_layer_sizes': (1,), 'learning_rate_init': 0.001} that maximizes AUC_ROC.\n",
    "3. KNN: {'n_neighbors': 5, 'p': 1, 'weights': 'distance'} that maximizes F1 and recall and {'n_neighbors': 50, 'p': 1, 'weights': 'uniform'} that maximizes percision."
   ]
  },
  {
   "attachments": {},
   "cell_type": "markdown",
   "metadata": {
    "pycharm": {
     "name": "#%% md\n"
    }
   },
   "source": [
    "### S3: Model Evaluation (On Test Set) and Error Analysis"
   ]
  },
  {
   "attachments": {},
   "cell_type": "markdown",
   "metadata": {
    "pycharm": {
     "name": "#%% md\n"
    }
   },
   "source": [
    "#### **Model Evaluation**\n",
    "In the model evaluation section of this pipeline, I will evaluate the performance of the selected models on the testing dataset. I will use the F1 score, precision, recall, and AUC_ROC as the metrics to evaluate the model performance. I will also use the confusion matrix and ROC curve to visualize the model performance."
   ]
  },
  {
   "attachments": {},
   "cell_type": "markdown",
   "metadata": {
    "pycharm": {
     "name": "#%% md\n"
    }
   },
   "source": [
    "##### **Model Evaluation on Logistic Regression**"
   ]
  },
  {
   "cell_type": "markdown",
   "metadata": {
    "pycharm": {
     "name": "#%% md\n"
    }
   },
   "source": [
    "From the accuracy scores and other model performance measures on the testing dataset, I see that the logistic regression model with the parameters {'C': 0.1, 'penalty': 'l2'} performs the best in terms of accuracy score on the test set, indicating less overfitting. Hence, I will use this set of parameters to evaluate the model performance on the test set."
   ]
  },
  {
   "cell_type": "code",
   "execution_count": 17,
   "metadata": {
    "pycharm": {
     "name": "#%%\n"
    }
   },
   "outputs": [
    {
     "name": "stdout",
     "output_type": "stream",
     "text": [
      "Performence on train set 0.6346997300944669\n",
      "Performence on test set 0.6215532506956741\n"
     ]
    }
   ],
   "source": [
    "# Take the best model based on the roc_auc score\n",
    "clf_e_lr0 = records_lr['roc_auc']\n",
    "# Print the performance on the training set\n",
    "print(\"Performence on train set\",\n",
    "      metrics.accuracy_score(clf_e_lr0.predict(X_train), y_train))\n",
    "# Predict the test set\n",
    "y_pred_lr0 = pd.DataFrame(clf_e_lr0.predict(X_test), columns=[\"deceased\"])\n",
    "# Print the performance on the test set\n",
    "print(\"Performence on test set\", metrics.accuracy_score(y_pred_lr0, y_test))\n"
   ]
  },
  {
   "cell_type": "code",
   "execution_count": 18,
   "metadata": {
    "pycharm": {
     "name": "#%%\n"
    }
   },
   "outputs": [
    {
     "name": "stdout",
     "output_type": "stream",
     "text": [
      "Performence on train set 0.6346997300944669\n",
      "Performence on test set 0.6215532506956741\n"
     ]
    }
   ],
   "source": [
    "# Take the best model based on the f1 score\n",
    "clf_e_lr1 = records_lr['f1']\n",
    "# Print the performance on the training set\n",
    "print(\"Performence on train set\",\n",
    "      metrics.accuracy_score(clf_e_lr0.predict(X_train), y_train))\n",
    "# Predict the test set\n",
    "y_pred_lr1 = pd.DataFrame(clf_e_lr0.predict(X_test), columns=[\"deceased\"])\n",
    "# Print the performance on the test set\n",
    "print(\"Performence on test set\", metrics.accuracy_score(y_pred_lr1, y_test))\n"
   ]
  },
  {
   "attachments": {},
   "cell_type": "markdown",
   "metadata": {
    "pycharm": {
     "name": "#%% md\n"
    }
   },
   "source": [
    "The classfication report of the best LR model on the test set shows that the model has a high precision and recall on the alive class, but a low precision and recall on the deceased class. The model also has a high F1 score on the deceased class, but a low F1 score on the alive class. This is not ideal as the model is not good at classifying the deceased class, who are my class of interest. Hence, the model features primarily captures the protective factors rather than the risk factors. I will see if the performance gets better in other models"
   ]
  },
  {
   "cell_type": "code",
   "execution_count": 19,
   "metadata": {
    "pycharm": {
     "name": "#%%\n"
    }
   },
   "outputs": [
    {
     "name": "stdout",
     "output_type": "stream",
     "text": [
      "              precision    recall  f1-score   support\n",
      "\n",
      "         0.0       0.63      0.71      0.67      2115\n",
      "         1.0       0.61      0.52      0.56      1838\n",
      "\n",
      "    accuracy                           0.62      3953\n",
      "   macro avg       0.62      0.61      0.61      3953\n",
      "weighted avg       0.62      0.62      0.62      3953\n",
      "\n"
     ]
    }
   ],
   "source": [
    "print(metrics.classification_report(y_test, y_pred_lr0))"
   ]
  },
  {
   "cell_type": "code",
   "execution_count": 20,
   "metadata": {
    "pycharm": {
     "name": "#%%\n"
    }
   },
   "outputs": [
    {
     "data": {
      "text/plain": [
       "<sklearn.metrics._plot.confusion_matrix.ConfusionMatrixDisplay at 0x7feac455d5e0>"
      ]
     },
     "execution_count": 20,
     "metadata": {},
     "output_type": "execute_result"
    },
    {
     "data": {
      "image/png": "[encoded data removed]",
      "text/plain": [
       "<Figure size 640x480 with 2 Axes>"
      ]
     },
     "metadata": {},
     "output_type": "display_data"
    }
   ],
   "source": [
    "cm_lr0 = metrics.confusion_matrix(y_test, y_pred_lr0)\n",
    "disp = metrics.ConfusionMatrixDisplay(confusion_matrix=cm_lr0,\n",
    "                                      display_labels=clf_e_lr0.classes_)\n",
    "disp.plot()"
   ]
  },
  {
   "attachments": {},
   "cell_type": "markdown",
   "metadata": {
    "pycharm": {
     "name": "#%% md\n"
    }
   },
   "source": [
    " The model has a high AUC_ROC score, indicating that the model can distinguish the deceased and alive classes well."
   ]
  },
  {
   "cell_type": "code",
   "execution_count": 21,
   "metadata": {
    "pycharm": {
     "name": "#%%\n"
    }
   },
   "outputs": [
    {
     "name": "stdout",
     "output_type": "stream",
     "text": [
      "0.6642497369686962\n"
     ]
    },
    {
     "data": {
      "image/png": "[encoded data removed]",
      "text/plain": [
       "<Figure size 640x480 with 1 Axes>"
      ]
     },
     "metadata": {},
     "output_type": "display_data"
    }
   ],
   "source": [
    "# Predict the probability of the test set\n",
    "y_proba = pd.DataFrame(clf_e_lr0.predict_proba(X_test)[:, 1], columns=[\"deceased\"])\n",
    "# Plot the ROC curve\n",
    "curve = metrics.roc_curve(y_test, y_proba)\n",
    "# Print the AUC score\n",
    "print(metrics.roc_auc_score(y_test, y_proba))\n",
    "plt.plot(curve[0], curve[1])\n",
    "plt.title(\"ROC Curve, AUC = 0.664\")\n",
    "plt.xlabel(\"False Positive Rate\")\n",
    "plt.ylabel(\"True Positive Rate\")\n",
    "plt.show()"
   ]
  },
  {
   "attachments": {},
   "cell_type": "markdown",
   "metadata": {
    "pycharm": {
     "name": "#%% md\n"
    }
   },
   "source": [
    "In the table below, I show the the coefficients and the features ranked by the absolute value of the coefficient in the best LR model on the test set. The coefficients are the weights of the features in the model. The larger the absolute value of the coefficient, the more important the feature is in the model.\n",
    "\n",
    "At the very first glance, some of the results seem odd. I will explain the most important 5 features below, citing relevant academic literature to support my explanation.\n",
    "\n",
    "First, married is the most important feature in determining mortality. Sociological literature since <a href= \"https://www.google.com/books/edition/Emile_Durkheim_on_Morality_and_Society/TNLgGJZpDPUC?hl=en&gbpv=0\">(Durkheim, 1973)</a> and subsequent sociological findings such as <a href= \"https://doi.org/10.2307/2061670\">(Waite, 1995)</a> and <a href= \"https://www.google.com/books/edition/The_Case_for_Marriage/6_xvDwAAQBAJ?hl=en&gbpv=0\">(Waite and Gallagher, 2001)</a> has extensively demonstrated the protective effect of marriage on mortality. Having a strong social connection through marriage will improve support received in the inherent marital relationship, a more institutionalized egocentric social network, better financial security, and better health behaviors <a href= \"https://doi.org/10.1016/j.jhealeco.2004.03.002\">(Gardner and Oswald, 2004)</a>.\n",
    "\n",
    "The second most important feature is the race. There is no causal mechanism directly links race to mortality. Hence, this coefficient simply reflects more on the correlation between race and mortality. The intermediate moderators in the correlation includes socioeconomic status, access to health insurance, education, and institutional racism <a href= \"http://jpscanlan.com/images/Race_and_Mortality.pdf\">(Scanlan, 2000</a><a href= \"https://doi.org/10.1016/j.socscimed.2004.11.056\">; Shi et al., 2004)</a>.\n",
    "\n",
    "The third most important feature is smoking. The coeffient seems odd as being a current smoker seems to be negatively correlated with mortality risks. This might becuase of two reasons 1) despite the extensive medical literature on the negative health effects of smoking <a href= \"https://doi.org/10.1093/jnci/djy041\">(Tindle et al., 2018)</a>, there are many confounders in the association that may be included in the predictive model <a href= \"https://doi.org/10.1001/jama.1983.03330400045023\">(see Garrison et al., 1983</a> and <a href= \"https://doi.org/10.1001/jama.1983.03330400045023\">(see Puskin, 2003)</a> 2) the question asks for the current smokers and those who are at high-risks of dying from smoking may have been advised to quit smoking by their doctors <a href= \"https://thorax.bmj.com/content/55/12/987.short\">(West et al, 2000)</a>. Hence, the current smokers in the dataset are those who are less likely to die from smoking.\n",
    "\n",
    "The fourth most important feature is sex. Its coefficient also seems odd as the concensus in the field of demography is that the males are more likely to die early compared to females with lower Life Expectancy <a href= \"https://www.proquest.com/openview/671e5ff1675f79c8e1b3eb4e1cbc6756/1?cbl=46838&pq-origsite=gscholar\">(Luy et al, 214)</a>. However, the reason for the negative association might also be attributed to the control of other health behavioral confounders. For instance, males are more likely to die may because they smoke and drink alcohol more.\n",
    "\n",
    "The fifth most important feature is ever getting drunk of alcohol. The coefficient also seems odd as the medical literature extensively document the adverse health consequences of getting drunk. This might because of selection bias that those who had never gotten drunk are having other health conditions limiting their ability to drink alcohol and hence, they are more likely to die."
   ]
  },
  {
   "cell_type": "code",
   "execution_count": 22,
   "metadata": {
    "pycharm": {
     "name": "#%%\n"
    }
   },
   "outputs": [
    {
     "data": {
      "text/html": [
       "<div>\n",
       "<style scoped>\n",
       "    .dataframe tbody tr th:only-of-type {\n",
       "        vertical-align: middle;\n",
       "    }\n",
       "\n",
       "    .dataframe tbody tr th {\n",
       "        vertical-align: top;\n",
       "    }\n",
       "\n",
       "    .dataframe thead th {\n",
       "        text-align: right;\n",
       "    }\n",
       "</style>\n",
       "<table border=\"1\" class=\"dataframe\">\n",
       "  <thead>\n",
       "    <tr style=\"text-align: right;\">\n",
       "      <th></th>\n",
       "      <th>Features</th>\n",
       "      <th>Coef</th>\n",
       "    </tr>\n",
       "  </thead>\n",
       "  <tbody>\n",
       "    <tr>\n",
       "      <th>14</th>\n",
       "      <td>Married</td>\n",
       "      <td>-0.484</td>\n",
       "    </tr>\n",
       "    <tr>\n",
       "      <th>19</th>\n",
       "      <td>Race_White</td>\n",
       "      <td>0.282</td>\n",
       "    </tr>\n",
       "    <tr>\n",
       "      <th>12</th>\n",
       "      <td>Smoking</td>\n",
       "      <td>-0.268</td>\n",
       "    </tr>\n",
       "    <tr>\n",
       "      <th>18</th>\n",
       "      <td>Sex_Male</td>\n",
       "      <td>-0.217</td>\n",
       "    </tr>\n",
       "    <tr>\n",
       "      <th>13</th>\n",
       "      <td>Drunk Alcohol</td>\n",
       "      <td>-0.195</td>\n",
       "    </tr>\n",
       "    <tr>\n",
       "      <th>17</th>\n",
       "      <td>Functional Limitations</td>\n",
       "      <td>0.165</td>\n",
       "    </tr>\n",
       "    <tr>\n",
       "      <th>9</th>\n",
       "      <td>Hypertension</td>\n",
       "      <td>0.159</td>\n",
       "    </tr>\n",
       "    <tr>\n",
       "      <th>11</th>\n",
       "      <td>Arthritis</td>\n",
       "      <td>0.137</td>\n",
       "    </tr>\n",
       "    <tr>\n",
       "      <th>15</th>\n",
       "      <td>Children Nearby</td>\n",
       "      <td>0.103</td>\n",
       "    </tr>\n",
       "    <tr>\n",
       "      <th>2</th>\n",
       "      <td>Education Yrs</td>\n",
       "      <td>-0.091</td>\n",
       "    </tr>\n",
       "    <tr>\n",
       "      <th>16</th>\n",
       "      <td>Relatives Nearby</td>\n",
       "      <td>0.045</td>\n",
       "    </tr>\n",
       "    <tr>\n",
       "      <th>3</th>\n",
       "      <td>Religion Importance</td>\n",
       "      <td>0.035</td>\n",
       "    </tr>\n",
       "    <tr>\n",
       "      <th>8</th>\n",
       "      <td>Age</td>\n",
       "      <td>0.030</td>\n",
       "    </tr>\n",
       "    <tr>\n",
       "      <th>4</th>\n",
       "      <td>Number of Grandchildren</td>\n",
       "      <td>0.028</td>\n",
       "    </tr>\n",
       "    <tr>\n",
       "      <th>10</th>\n",
       "      <td>Diabetes</td>\n",
       "      <td>-0.011</td>\n",
       "    </tr>\n",
       "    <tr>\n",
       "      <th>0</th>\n",
       "      <td>Weight (Pounds)</td>\n",
       "      <td>-0.005</td>\n",
       "    </tr>\n",
       "    <tr>\n",
       "      <th>6</th>\n",
       "      <td>Number of Times Socializing</td>\n",
       "      <td>-0.003</td>\n",
       "    </tr>\n",
       "    <tr>\n",
       "      <th>1</th>\n",
       "      <td>Self-Rated Health</td>\n",
       "      <td>0.002</td>\n",
       "    </tr>\n",
       "    <tr>\n",
       "      <th>7</th>\n",
       "      <td>Wealth</td>\n",
       "      <td>-0.001</td>\n",
       "    </tr>\n",
       "    <tr>\n",
       "      <th>5</th>\n",
       "      <td>Hours of Volunteering</td>\n",
       "      <td>-0.000</td>\n",
       "    </tr>\n",
       "  </tbody>\n",
       "</table>\n",
       "</div>"
      ],
      "text/plain": [
       "                       Features   Coef\n",
       "14                      Married -0.484\n",
       "19                   Race_White  0.282\n",
       "12                      Smoking -0.268\n",
       "18                     Sex_Male -0.217\n",
       "13                Drunk Alcohol -0.195\n",
       "17       Functional Limitations  0.165\n",
       "9                  Hypertension  0.159\n",
       "11                    Arthritis  0.137\n",
       "15              Children Nearby  0.103\n",
       "2                 Education Yrs -0.091\n",
       "16             Relatives Nearby  0.045\n",
       "3           Religion Importance  0.035\n",
       "8                           Age  0.030\n",
       "4       Number of Grandchildren  0.028\n",
       "10                     Diabetes -0.011\n",
       "0               Weight (Pounds) -0.005\n",
       "6   Number of Times Socializing -0.003\n",
       "1             Self-Rated Health  0.002\n",
       "7                        Wealth -0.001\n",
       "5         Hours of Volunteering -0.000"
      ]
     },
     "execution_count": 22,
     "metadata": {},
     "output_type": "execute_result"
    }
   ],
   "source": [
    "clf_e_lr0.best_estimator_.coef_\n",
    "clf_e_lr0.best_estimator_.intercept_\n",
    "clf_e_lr0.best_estimator_.feature_names_in_\n",
    "\n",
    "equation = pd.concat([pd.DataFrame(clf_e_lr0.best_estimator_.feature_names_in_,\n",
    "                                   columns=[\"Features\"]),\n",
    "                      pd.DataFrame(clf_e_lr0.best_estimator_.coef_.T,\n",
    "                                   columns=[\"Coef\"])], axis=1)\n",
    "# Sort the features by the absolute value of the coefficient\n",
    "equation.sort_values(by=\"Coef\", key=abs, ascending=False).round(3)"
   ]
  },
  {
   "attachments": {},
   "cell_type": "markdown",
   "metadata": {
    "pycharm": {
     "name": "#%% md\n"
    }
   },
   "source": [
    "##### **Model Evaluation on Neural Network**"
   ]
  },
  {
   "attachments": {},
   "cell_type": "markdown",
   "metadata": {
    "pycharm": {
     "name": "#%% md\n"
    }
   },
   "source": [
    "I fit the neural network model with the two sets of parameters identified earlier in the parameter tuning process on the test set. We could see that both parameters have around 0.01 difference in the accuracy score on the training and the testing set. The second set of parameters maximzing AUC_ROC {'activation': 'identity', 'alpha': 0, 'hidden_layer_sizes': (1,), 'learning_rate_init': 0.001} has a slightly higher accuracy score on the training and testing set when compared to the corresponding values in the model using the set of parameters maximizing the precision. Hence, I will use the second set of parameters to evaluate the model performance on the test set."
   ]
  },
  {
   "cell_type": "code",
   "execution_count": 23,
   "metadata": {
    "pycharm": {
     "name": "#%%\n"
    }
   },
   "outputs": [
    {
     "name": "stdout",
     "output_type": "stream",
     "text": [
      "Performence on train set 0.622638326585695\n",
      "Performence on test set 0.6154819124715406\n"
     ]
    }
   ],
   "source": [
    "# Take the best model based on the precision\n",
    "clf_e_nn0 = records_nn['precision']\n",
    "# Print the performance on the training set\n",
    "print(\"Performence on train set\",\n",
    "      metrics.accuracy_score(clf_e_nn0.predict(X_train), y_train))\n",
    "# Predict the test set\n",
    "y_pred_nn0 = pd.DataFrame(clf_e_nn0.predict(X_test), columns=[\"deceased\"])\n",
    "# Print the performance on the test set\n",
    "print(\"Performence on test set\", metrics.accuracy_score(y_pred_nn0, y_test))"
   ]
  },
  {
   "cell_type": "code",
   "execution_count": 24,
   "metadata": {
    "pycharm": {
     "name": "#%%\n"
    }
   },
   "outputs": [
    {
     "name": "stdout",
     "output_type": "stream",
     "text": [
      "Performence on train set 0.6346997300944669\n",
      "Performence on test set 0.6253478370857577\n"
     ]
    }
   ],
   "source": [
    "# Take the best model based on the AUC_ROC\n",
    "clf_e_nn1 = records_nn['roc_auc']\n",
    "# Print the performance on the training set\n",
    "print(\"Performence on train set\",\n",
    "      metrics.accuracy_score(clf_e_nn1.predict(X_train), y_train))\n",
    "# Predict the test set\n",
    "y_pred_nn1 = pd.DataFrame(clf_e_nn1.predict(X_test), columns=[\"deceased\"])\n",
    "# Print the performance on the test set\n",
    "print(\"Performence on test set\", metrics.accuracy_score(y_pred_nn1, y_test))"
   ]
  },
  {
   "attachments": {},
   "cell_type": "markdown",
   "metadata": {
    "pycharm": {
     "name": "#%% md\n"
    }
   },
   "source": [
    "For the best NN model, the classfication report shows that the model, compared to the logistic regression model, has lower F1 score on the alive class and better F1 score on the deceased class. It has also got better accuracy. This is ideal for the purpose of this project in distinguishing the deceased class and provide good accuracy. Hence, overall, I would argue that NN model has better performance overall than the logistic regression model."
   ]
  },
  {
   "cell_type": "code",
   "execution_count": 25,
   "metadata": {
    "pycharm": {
     "name": "#%%\n"
    }
   },
   "outputs": [
    {
     "name": "stdout",
     "output_type": "stream",
     "text": [
      "              precision    recall  f1-score   support\n",
      "\n",
      "         0.0       0.64      0.69      0.66      2115\n",
      "         1.0       0.61      0.55      0.58      1838\n",
      "\n",
      "    accuracy                           0.63      3953\n",
      "   macro avg       0.62      0.62      0.62      3953\n",
      "weighted avg       0.62      0.63      0.62      3953\n",
      "\n"
     ]
    }
   ],
   "source": [
    "print(metrics.classification_report(y_test, y_pred_nn1))"
   ]
  },
  {
   "attachments": {},
   "cell_type": "markdown",
   "metadata": {
    "pycharm": {
     "name": "#%% md\n"
    }
   },
   "source": [
    "When comparing the AUC_ROC scores of the two models, we could see that the NN model has a similar AUC_ROC score and confusion matrix as the logistic regression model."
   ]
  },
  {
   "cell_type": "code",
   "execution_count": 26,
   "metadata": {
    "pycharm": {
     "name": "#%%\n"
    }
   },
   "outputs": [
    {
     "data": {
      "text/plain": [
       "<sklearn.metrics._plot.confusion_matrix.ConfusionMatrixDisplay at 0x7feac455dfd0>"
      ]
     },
     "execution_count": 26,
     "metadata": {},
     "output_type": "execute_result"
    },
    {
     "data": {
      "image/png": "[encoded data removed]",
      "text/plain": [
       "<Figure size 640x480 with 2 Axes>"
      ]
     },
     "metadata": {},
     "output_type": "display_data"
    }
   ],
   "source": [
    "cm_nn1 = metrics.confusion_matrix(y_test, y_pred_nn1)\n",
    "disp = metrics.ConfusionMatrixDisplay(confusion_matrix=cm_nn1,\n",
    "                                      display_labels=clf_e_nn1.classes_)\n",
    "disp.plot()"
   ]
  },
  {
   "cell_type": "code",
   "execution_count": 27,
   "metadata": {
    "pycharm": {
     "name": "#%%\n"
    }
   },
   "outputs": [
    {
     "name": "stdout",
     "output_type": "stream",
     "text": [
      "0.6637676629700799\n"
     ]
    },
    {
     "data": {
      "image/png": "[encoded data removed]",
      "text/plain": [
       "<Figure size 640x480 with 1 Axes>"
      ]
     },
     "metadata": {},
     "output_type": "display_data"
    }
   ],
   "source": [
    "# Predict the probability of the test set\n",
    "y_proba = pd.DataFrame(clf_e_nn1.predict_proba(X_test)[:, 1], columns=[\"deceased\"])\n",
    "# Plot the ROC curve\n",
    "curve = metrics.roc_curve(y_test, y_proba)\n",
    "# Print the AUC score\n",
    "print(metrics.roc_auc_score(y_test, y_proba))\n",
    "plt.plot(curve[0], curve[1])\n",
    "plt.title(\"ROC Curve, AUC = 0.664\")\n",
    "plt.xlabel(\"False Positive Rate\")\n",
    "plt.ylabel(\"True Positive Rate\")\n",
    "plt.show()"
   ]
  },
  {
   "attachments": {},
   "cell_type": "markdown",
   "metadata": {
    "pycharm": {
     "name": "#%% md\n"
    }
   },
   "source": [
    "While some argue that the weights of the features in the neural networks are not directly comparable to the coefficients in the logistic regression model and it is difficult to directly interpret the coefficients in the neural networks, the best performing parameter in the HRS dataset is a special case. \n",
    "\n",
    "Input -> activation = identity -> hidden -> activation = identity -> output\n",
    "\n",
    "The activation function that performs the best is identity and there is only one hidden layer. This means that the neural network is equivalent to the logistic regression model. Hence, the absolute ranking of the features is the same as the logistic regression model. The only difference is that the coefficients are the opposite. This is because the activation function is identity, which means that the output of the hidden layer is the same as the input of the output layer. Hence, there are only two layers in the neural network model:\n",
    "\n",
    "Layer 0: input -> hidden\n",
    "\n",
    "Layer 1: hidden -> output\n",
    "\n",
    "Hence, the coefficients of the features in the neural network are the product of the coefficients in the two layers. The coefficients in the first layer are the weights of the features in the input layer and the coefficients in the second layer are the weights of the features in the hidden layer. Based on the final calculated coefficient of the features, we could see that their ranking, absolute values, and signs are similar to the logistic regression model."
   ]
  },
  {
   "cell_type": "code",
   "execution_count": 28,
   "metadata": {
    "pycharm": {
     "name": "#%%\n"
    }
   },
   "outputs": [
    {
     "data": {
      "text/html": [
       "<div>\n",
       "<style scoped>\n",
       "    .dataframe tbody tr th:only-of-type {\n",
       "        vertical-align: middle;\n",
       "    }\n",
       "\n",
       "    .dataframe tbody tr th {\n",
       "        vertical-align: top;\n",
       "    }\n",
       "\n",
       "    .dataframe thead th {\n",
       "        text-align: right;\n",
       "    }\n",
       "</style>\n",
       "<table border=\"1\" class=\"dataframe\">\n",
       "  <thead>\n",
       "    <tr style=\"text-align: right;\">\n",
       "      <th></th>\n",
       "      <th>Features</th>\n",
       "      <th>Coef_layer0</th>\n",
       "      <th>Coef_layer1</th>\n",
       "      <th>Coef</th>\n",
       "    </tr>\n",
       "  </thead>\n",
       "  <tbody>\n",
       "    <tr>\n",
       "      <th>14</th>\n",
       "      <td>Married</td>\n",
       "      <td>0.398</td>\n",
       "      <td>-0.954</td>\n",
       "      <td>-0.380</td>\n",
       "    </tr>\n",
       "    <tr>\n",
       "      <th>19</th>\n",
       "      <td>Race_White</td>\n",
       "      <td>-0.308</td>\n",
       "      <td>-0.954</td>\n",
       "      <td>0.294</td>\n",
       "    </tr>\n",
       "    <tr>\n",
       "      <th>17</th>\n",
       "      <td>Functional Limitations</td>\n",
       "      <td>-0.289</td>\n",
       "      <td>-0.954</td>\n",
       "      <td>0.276</td>\n",
       "    </tr>\n",
       "    <tr>\n",
       "      <th>12</th>\n",
       "      <td>Smoking</td>\n",
       "      <td>0.289</td>\n",
       "      <td>-0.954</td>\n",
       "      <td>-0.275</td>\n",
       "    </tr>\n",
       "    <tr>\n",
       "      <th>18</th>\n",
       "      <td>Sex_Male</td>\n",
       "      <td>0.220</td>\n",
       "      <td>-0.954</td>\n",
       "      <td>-0.210</td>\n",
       "    </tr>\n",
       "    <tr>\n",
       "      <th>13</th>\n",
       "      <td>Drunk Alcohol</td>\n",
       "      <td>0.198</td>\n",
       "      <td>-0.954</td>\n",
       "      <td>-0.189</td>\n",
       "    </tr>\n",
       "    <tr>\n",
       "      <th>9</th>\n",
       "      <td>Hypertension</td>\n",
       "      <td>-0.163</td>\n",
       "      <td>-0.954</td>\n",
       "      <td>0.156</td>\n",
       "    </tr>\n",
       "    <tr>\n",
       "      <th>15</th>\n",
       "      <td>Children Nearby</td>\n",
       "      <td>-0.140</td>\n",
       "      <td>-0.954</td>\n",
       "      <td>0.134</td>\n",
       "    </tr>\n",
       "    <tr>\n",
       "      <th>11</th>\n",
       "      <td>Arthritis</td>\n",
       "      <td>-0.097</td>\n",
       "      <td>-0.954</td>\n",
       "      <td>0.092</td>\n",
       "    </tr>\n",
       "    <tr>\n",
       "      <th>2</th>\n",
       "      <td>Education Yrs</td>\n",
       "      <td>0.096</td>\n",
       "      <td>-0.954</td>\n",
       "      <td>-0.091</td>\n",
       "    </tr>\n",
       "    <tr>\n",
       "      <th>16</th>\n",
       "      <td>Relatives Nearby</td>\n",
       "      <td>-0.061</td>\n",
       "      <td>-0.954</td>\n",
       "      <td>0.058</td>\n",
       "    </tr>\n",
       "    <tr>\n",
       "      <th>10</th>\n",
       "      <td>Diabetes</td>\n",
       "      <td>-0.061</td>\n",
       "      <td>-0.954</td>\n",
       "      <td>0.058</td>\n",
       "    </tr>\n",
       "    <tr>\n",
       "      <th>1</th>\n",
       "      <td>Self-Rated Health</td>\n",
       "      <td>0.044</td>\n",
       "      <td>-0.954</td>\n",
       "      <td>-0.042</td>\n",
       "    </tr>\n",
       "    <tr>\n",
       "      <th>3</th>\n",
       "      <td>Religion Importance</td>\n",
       "      <td>-0.041</td>\n",
       "      <td>-0.954</td>\n",
       "      <td>0.039</td>\n",
       "    </tr>\n",
       "    <tr>\n",
       "      <th>8</th>\n",
       "      <td>Age</td>\n",
       "      <td>-0.034</td>\n",
       "      <td>-0.954</td>\n",
       "      <td>0.032</td>\n",
       "    </tr>\n",
       "    <tr>\n",
       "      <th>4</th>\n",
       "      <td>Number of Grandchildren</td>\n",
       "      <td>-0.029</td>\n",
       "      <td>-0.954</td>\n",
       "      <td>0.027</td>\n",
       "    </tr>\n",
       "    <tr>\n",
       "      <th>0</th>\n",
       "      <td>Weight (Pounds)</td>\n",
       "      <td>0.005</td>\n",
       "      <td>-0.954</td>\n",
       "      <td>-0.005</td>\n",
       "    </tr>\n",
       "    <tr>\n",
       "      <th>6</th>\n",
       "      <td>Number of Times Socializing</td>\n",
       "      <td>0.003</td>\n",
       "      <td>-0.954</td>\n",
       "      <td>-0.003</td>\n",
       "    </tr>\n",
       "    <tr>\n",
       "      <th>5</th>\n",
       "      <td>Hours of Volunteering</td>\n",
       "      <td>0.000</td>\n",
       "      <td>-0.954</td>\n",
       "      <td>-0.000</td>\n",
       "    </tr>\n",
       "    <tr>\n",
       "      <th>7</th>\n",
       "      <td>Wealth</td>\n",
       "      <td>-0.000</td>\n",
       "      <td>-0.954</td>\n",
       "      <td>0.000</td>\n",
       "    </tr>\n",
       "  </tbody>\n",
       "</table>\n",
       "</div>"
      ],
      "text/plain": [
       "                       Features  Coef_layer0  Coef_layer1   Coef\n",
       "14                      Married        0.398       -0.954 -0.380\n",
       "19                   Race_White       -0.308       -0.954  0.294\n",
       "17       Functional Limitations       -0.289       -0.954  0.276\n",
       "12                      Smoking        0.289       -0.954 -0.275\n",
       "18                     Sex_Male        0.220       -0.954 -0.210\n",
       "13                Drunk Alcohol        0.198       -0.954 -0.189\n",
       "9                  Hypertension       -0.163       -0.954  0.156\n",
       "15              Children Nearby       -0.140       -0.954  0.134\n",
       "11                    Arthritis       -0.097       -0.954  0.092\n",
       "2                 Education Yrs        0.096       -0.954 -0.091\n",
       "16             Relatives Nearby       -0.061       -0.954  0.058\n",
       "10                     Diabetes       -0.061       -0.954  0.058\n",
       "1             Self-Rated Health        0.044       -0.954 -0.042\n",
       "3           Religion Importance       -0.041       -0.954  0.039\n",
       "8                           Age       -0.034       -0.954  0.032\n",
       "4       Number of Grandchildren       -0.029       -0.954  0.027\n",
       "0               Weight (Pounds)        0.005       -0.954 -0.005\n",
       "6   Number of Times Socializing        0.003       -0.954 -0.003\n",
       "5         Hours of Volunteering        0.000       -0.954 -0.000\n",
       "7                        Wealth       -0.000       -0.954  0.000"
      ]
     },
     "execution_count": 28,
     "metadata": {},
     "output_type": "execute_result"
    }
   ],
   "source": [
    "# Show the equation of the best NN model\n",
    "equation_nn = pd.concat([pd.DataFrame(clf_e_nn1.best_estimator_.feature_names_in_,\n",
    "                                        columns=[\"Features\"]),\n",
    "                         pd.DataFrame(clf_e_nn1.best_estimator_.coefs_[0],\n",
    "                                        columns=[\"Coef_layer0\"]),\n",
    "                         pd.DataFrame(clf_e_nn1.best_estimator_.coefs_[1],\n",
    "                                        columns=[\"Coef_layer1\"])], axis=1)\n",
    "equation_nn = equation_nn.sort_values(by=\"Coef_layer0\", key=abs,\n",
    "                                      ascending=False)\n",
    "equation_nn[\"Coef_layer1\"] = equation_nn[\"Coef_layer1\"].ffill()\n",
    "equation_nn[\"Coef_layer1\"] = equation_nn[\"Coef_layer1\"].bfill()\n",
    "equation_nn[\"Coef\"] = equation_nn[\"Coef_layer0\"] * equation_nn[\"Coef_layer1\"]\n",
    "equation_nn.round(3)"
   ]
  },
  {
   "attachments": {},
   "cell_type": "markdown",
   "metadata": {
    "pycharm": {
     "name": "#%% md\n"
    }
   },
   "source": [
    "##### **Model Evaluation on KNN**"
   ]
  },
  {
   "attachments": {},
   "cell_type": "markdown",
   "metadata": {
    "pycharm": {
     "name": "#%% md\n"
    }
   },
   "source": [
    "Similar to the steps taken earlier in model evaluation, I fit the selected two sets of model parameters on the testing data to get the accuracy. The differences between training and testing accuracy and between models seem much larger than the differences seen in the LR. The model with the parameters {'n_neighbors': 5, 'p': 1, 'weights': 'distance'} performs the best in terms of accuracy score on the test set (though worse on the train set), indicating less overfitting. Hence, I will use this set of parameters to evaluate the model performance on the test set."
   ]
  },
  {
   "cell_type": "code",
   "execution_count": 29,
   "metadata": {
    "pycharm": {
     "name": "#%%\n"
    }
   },
   "outputs": [
    {
     "name": "stdout",
     "output_type": "stream",
     "text": [
      "Performence on train set 0.998144399460189\n",
      "Performence on test set 0.6063749051353402\n"
     ]
    }
   ],
   "source": [
    "# Take the best model based on the f1 score\n",
    "clf_e_knn0 = records_knn['f1']\n",
    "# Print the performance on the training set\n",
    "print(\"Performence on train set\",\n",
    "      metrics.accuracy_score(clf_e_knn0.predict(X_train), y_train))\n",
    "# Predict the test set\n",
    "y_pred_knn0 = pd.DataFrame(clf_e_knn0.predict(X_test), columns=[\"deceased\"])\n",
    "# Print the performance on the test set\n",
    "print(\"Performence on test set\", metrics.accuracy_score(y_pred_knn0, y_test))\n"
   ]
  },
  {
   "cell_type": "code",
   "execution_count": 30,
   "metadata": {
    "pycharm": {
     "name": "#%%\n"
    }
   },
   "outputs": [
    {
     "name": "stdout",
     "output_type": "stream",
     "text": [
      "Performence on train set 0.6427968960863698\n",
      "Performence on test set 0.630407285605869\n"
     ]
    }
   ],
   "source": [
    "# Take the best model based on the precision\n",
    "clf_e_knn1 = records_knn['precision']\n",
    "# Print the performance on the training set\n",
    "print(\"Performence on train set\",\n",
    "      metrics.accuracy_score(clf_e_knn1.predict(X_train), y_train))\n",
    "# Predict the test set\n",
    "y_pred_knn1 = pd.DataFrame(clf_e_knn1.predict(X_test), columns=[\"deceased\"])\n",
    "# Print the performance on the test set\n",
    "print(\"Performence on test set\", metrics.accuracy_score(y_pred_knn1, y_test))\n"
   ]
  },
  {
   "attachments": {},
   "cell_type": "markdown",
   "metadata": {
    "pycharm": {
     "name": "#%% md\n"
    }
   },
   "source": [
    "For the best parameter set on the training data, I show the classification report below. Again, there are similar issues as the LR model. The model has a high precision, recall, F1 score on the alive class, but a low on the deceased class. However, the model has a higher F1 score on the alive class than the LR model, indicating the model could better distinguish the alive class and thus identifying the protective factors than the LR model. When compared to the NN model, the KNN has lower F1 score on the deceased class. Hence, it could not distinguish the deceased class as well as the NN model."
   ]
  },
  {
   "cell_type": "code",
   "execution_count": 31,
   "metadata": {
    "pycharm": {
     "name": "#%%\n"
    }
   },
   "outputs": [
    {
     "name": "stdout",
     "output_type": "stream",
     "text": [
      "              precision    recall  f1-score   support\n",
      "\n",
      "         0.0       0.62      0.79      0.70      2115\n",
      "         1.0       0.65      0.45      0.53      1838\n",
      "\n",
      "    accuracy                           0.63      3953\n",
      "   macro avg       0.64      0.62      0.61      3953\n",
      "weighted avg       0.63      0.63      0.62      3953\n",
      "\n"
     ]
    }
   ],
   "source": [
    "print(metrics.classification_report(y_test, y_pred_knn1))"
   ]
  },
  {
   "attachments": {},
   "cell_type": "markdown",
   "metadata": {
    "pycharm": {
     "name": "#%% md\n"
    }
   },
   "source": [
    "In terms of AUC_ROC score, the KNN model has the slightly the highest score among the three models. This indicates that the model can best distinguish the deceased and alive classes well. However, the difference between the AUC_ROC scores of the three models is not large."
   ]
  },
  {
   "cell_type": "code",
   "execution_count": 32,
   "metadata": {
    "pycharm": {
     "name": "#%%\n"
    }
   },
   "outputs": [
    {
     "data": {
      "text/plain": [
       "<sklearn.metrics._plot.confusion_matrix.ConfusionMatrixDisplay at 0x7feac4a81d60>"
      ]
     },
     "execution_count": 32,
     "metadata": {},
     "output_type": "execute_result"
    },
    {
     "data": {
      "image/png": "[encoded data removed]",
      "text/plain": [
       "<Figure size 640x480 with 2 Axes>"
      ]
     },
     "metadata": {},
     "output_type": "display_data"
    }
   ],
   "source": [
    "cm_knn1 = metrics.confusion_matrix(y_test, y_pred_knn1)\n",
    "disp = metrics.ConfusionMatrixDisplay(confusion_matrix=cm_knn1,\n",
    "                                      display_labels=clf_e_knn1.classes_)\n",
    "disp.plot()"
   ]
  },
  {
   "attachments": {},
   "cell_type": "markdown",
   "metadata": {
    "pycharm": {
     "name": "#%% md\n"
    }
   },
   "source": [
    " The model has a lower AUC_ROC score than the LR model, indicating that the model cannot distinguish the deceased and alive classes as well as the LR model."
   ]
  },
  {
   "cell_type": "code",
   "execution_count": 33,
   "metadata": {
    "pycharm": {
     "name": "#%%\n"
    }
   },
   "outputs": [
    {
     "name": "stdout",
     "output_type": "stream",
     "text": [
      "0.6553514329739645\n"
     ]
    },
    {
     "data": {
      "image/png": "[encoded data removed]",
      "text/plain": [
       "<Figure size 640x480 with 1 Axes>"
      ]
     },
     "metadata": {},
     "output_type": "display_data"
    }
   ],
   "source": [
    "# Predict the probability of the test set\n",
    "y_proba = pd.DataFrame(clf_e_knn1.predict_proba(X_test)[:, 1], columns=[\"deceased\"])\n",
    "# Plot the ROC curve\n",
    "curve = metrics.roc_curve(y_test, y_proba)\n",
    "# Print the AUC score\n",
    "print(metrics.roc_auc_score(y_test, y_proba))\n",
    "plt.plot(curve[0], curve[1])\n",
    "plt.title(\"ROC Curve, AUC = 0.655\")\n",
    "plt.xlabel(\"False Positive Rate\")\n",
    "plt.ylabel(\"True Positive Rate\")\n",
    "plt.show()"
   ]
  },
  {
   "attachments": {},
   "cell_type": "markdown",
   "metadata": {
    "pycharm": {
     "name": "#%% md\n"
    }
   },
   "source": [
    "#### **Error Analysis**"
   ]
  },
  {
   "attachments": {},
   "cell_type": "markdown",
   "metadata": {
    "pycharm": {
     "name": "#%% md\n"
    }
   },
   "source": [
    "Error analysis is a process of identifying the errors made by the model and the reasons behind the errors. This process is important in improving the model performance. In this section, I will analyze the errors made by the three models and the reasons behind the errors. In doing so, I have created a function that takes in the model, the test set and returns the dataframe of the errors made by the model."
   ]
  },
  {
   "cell_type": "code",
   "execution_count": 34,
   "metadata": {
    "pycharm": {
     "name": "#%%\n"
    }
   },
   "outputs": [],
   "source": [
    "def display_wrong_sample(clf_e, X_test, y_test):\n",
    "    '''\n",
    "    Take in a classifier, the test data and the test target, and return a\n",
    "    dataframe of the wrong predictions\n",
    "    \n",
    "    Input:\n",
    "        clf_e: a classifier\n",
    "        X_test: the test data\n",
    "        y_test: the test target\n",
    "    \n",
    "    Output:\n",
    "        rf_wrong: a dataframe of the wrong predictions\n",
    "    '''\n",
    "    y_pred_rf = pd.DataFrame(clf_e.predict(X_test), columns=[\"deceased\"])\n",
    "    X_wrong_rf = X_test.reset_index(inplace=False).drop(columns='index', inplace=False).loc[\n",
    "        y_pred_rf['deceased'] != y_test.reset_index(inplace=False)['deceased']\n",
    "        ]\n",
    "    y_wrong_rf = y_test.reset_index(inplace=False).drop(columns='index', inplace=False).loc[\n",
    "        y_pred_rf['deceased'] != y_test.reset_index(inplace=False)['deceased']\n",
    "        ]\n",
    "    rf_wrong = pd.concat([y_wrong_rf, X_wrong_rf], axis=1)\n",
    "    return rf_wrong"
   ]
  },
  {
   "attachments": {},
   "cell_type": "markdown",
   "metadata": {
    "pycharm": {
     "name": "#%% md\n"
    }
   },
   "source": [
    "When comparing between models on the errors, one could easily notice that Neural Network and Logistic Regression make similar errors becuase they have similar feature importance and model performance, while KNN makes different errors. This is because KNN is a non-parametric model and it does not have a clear interpretation of the feature importance. Hence, the errors made by KNN are not as interpretable as the errors made by the other two models.\n",
    "\n",
    "In the following sections, I will analyze the errors made by the three models and the reasons behind the errors.\n",
    "\n",
    "The errors made by the LR and NN models are as follows:\n",
    "- False positives: divorced/widowed (i.e., married = False) older adults who, however, have children nearby and many grandchildren -> still having closely connected social networks protecting them from death\n",
    "- False negatives: married older adults who, however, have very few grandchildren and no close relatives nearby\n",
    "\n",
    "Because KNN is a non-parametric model, it does not have a clear interpretation of the feature importance. Analyzing the errors made by the KNN model is not as interpretable as the errors made by the other two models. However, we could still see that the errors made by the KNN model are different from the errors made by the other two models. This allows us to potentially identify features that were important for the KNN model but not for the other two models. The errors made by the KNN model are as follows:\n",
    "\n",
    "- False positives: poor and divorced older adults who, however, have very good health behaviors (e.g., smoking, drinking, and activities) and self-rated health\n",
    "- False negatives: educated older adults who don't smoke or get drunk but are very obese and have low social participation (e.g., religious groups or volunteering)\n",
    "\n",
    "Hence, I find, in addition to considering marital status, children/grandchildren, and close relatives, the KNN model also considers household asset, health behaviors, self-rated health, and obesity as important features in predicting mortality."
   ]
  },
  {
   "cell_type": "code",
   "execution_count": 35,
   "metadata": {
    "pycharm": {
     "name": "#%%\n"
    }
   },
   "outputs": [
    {
     "data": {
      "text/html": [
       "<div>\n",
       "<style scoped>\n",
       "    .dataframe tbody tr th:only-of-type {\n",
       "        vertical-align: middle;\n",
       "    }\n",
       "\n",
       "    .dataframe tbody tr th {\n",
       "        vertical-align: top;\n",
       "    }\n",
       "\n",
       "    .dataframe thead th {\n",
       "        text-align: right;\n",
       "    }\n",
       "</style>\n",
       "<table border=\"1\" class=\"dataframe\">\n",
       "  <thead>\n",
       "    <tr style=\"text-align: right;\">\n",
       "      <th></th>\n",
       "      <th>deceased</th>\n",
       "      <th>Weight (Pounds)</th>\n",
       "      <th>Self-Rated Health</th>\n",
       "      <th>Education Yrs</th>\n",
       "      <th>Religion Importance</th>\n",
       "      <th>Number of Grandchildren</th>\n",
       "      <th>Hours of Volunteering</th>\n",
       "      <th>Number of Times Socializing</th>\n",
       "      <th>Wealth</th>\n",
       "      <th>Age</th>\n",
       "      <th>...</th>\n",
       "      <th>Diabetes</th>\n",
       "      <th>Arthritis</th>\n",
       "      <th>Smoking</th>\n",
       "      <th>Drunk Alcohol</th>\n",
       "      <th>Married</th>\n",
       "      <th>Children Nearby</th>\n",
       "      <th>Relatives Nearby</th>\n",
       "      <th>Functional Limitations</th>\n",
       "      <th>Sex_Male</th>\n",
       "      <th>Race_White</th>\n",
       "    </tr>\n",
       "  </thead>\n",
       "  <tbody>\n",
       "    <tr>\n",
       "      <th>2</th>\n",
       "      <td>0.0</td>\n",
       "      <td>193.0</td>\n",
       "      <td>4.0</td>\n",
       "      <td>14.0</td>\n",
       "      <td>1.0</td>\n",
       "      <td>20.000000</td>\n",
       "      <td>0.00000</td>\n",
       "      <td>1.0</td>\n",
       "      <td>0.0</td>\n",
       "      <td>66.0</td>\n",
       "      <td>...</td>\n",
       "      <td>False</td>\n",
       "      <td>True</td>\n",
       "      <td>False</td>\n",
       "      <td>False</td>\n",
       "      <td>False</td>\n",
       "      <td>False</td>\n",
       "      <td>True</td>\n",
       "      <td>True</td>\n",
       "      <td>True</td>\n",
       "      <td>False</td>\n",
       "    </tr>\n",
       "    <tr>\n",
       "      <th>3</th>\n",
       "      <td>1.0</td>\n",
       "      <td>125.0</td>\n",
       "      <td>3.0</td>\n",
       "      <td>14.0</td>\n",
       "      <td>1.0</td>\n",
       "      <td>7.000000</td>\n",
       "      <td>45.70395</td>\n",
       "      <td>1.0</td>\n",
       "      <td>0.0</td>\n",
       "      <td>63.0</td>\n",
       "      <td>...</td>\n",
       "      <td>False</td>\n",
       "      <td>True</td>\n",
       "      <td>False</td>\n",
       "      <td>True</td>\n",
       "      <td>True</td>\n",
       "      <td>True</td>\n",
       "      <td>True</td>\n",
       "      <td>False</td>\n",
       "      <td>False</td>\n",
       "      <td>False</td>\n",
       "    </tr>\n",
       "    <tr>\n",
       "      <th>7</th>\n",
       "      <td>0.0</td>\n",
       "      <td>175.0</td>\n",
       "      <td>2.0</td>\n",
       "      <td>15.0</td>\n",
       "      <td>1.0</td>\n",
       "      <td>6.657524</td>\n",
       "      <td>45.70395</td>\n",
       "      <td>1.0</td>\n",
       "      <td>0.0</td>\n",
       "      <td>84.0</td>\n",
       "      <td>...</td>\n",
       "      <td>False</td>\n",
       "      <td>True</td>\n",
       "      <td>False</td>\n",
       "      <td>True</td>\n",
       "      <td>False</td>\n",
       "      <td>True</td>\n",
       "      <td>False</td>\n",
       "      <td>True</td>\n",
       "      <td>False</td>\n",
       "      <td>True</td>\n",
       "    </tr>\n",
       "    <tr>\n",
       "      <th>10</th>\n",
       "      <td>0.0</td>\n",
       "      <td>135.0</td>\n",
       "      <td>2.0</td>\n",
       "      <td>12.0</td>\n",
       "      <td>3.0</td>\n",
       "      <td>6.657524</td>\n",
       "      <td>0.00000</td>\n",
       "      <td>1.0</td>\n",
       "      <td>0.0</td>\n",
       "      <td>83.0</td>\n",
       "      <td>...</td>\n",
       "      <td>False</td>\n",
       "      <td>True</td>\n",
       "      <td>False</td>\n",
       "      <td>False</td>\n",
       "      <td>True</td>\n",
       "      <td>True</td>\n",
       "      <td>True</td>\n",
       "      <td>False</td>\n",
       "      <td>True</td>\n",
       "      <td>True</td>\n",
       "    </tr>\n",
       "    <tr>\n",
       "      <th>14</th>\n",
       "      <td>0.0</td>\n",
       "      <td>120.0</td>\n",
       "      <td>1.0</td>\n",
       "      <td>9.0</td>\n",
       "      <td>1.0</td>\n",
       "      <td>1.000000</td>\n",
       "      <td>0.00000</td>\n",
       "      <td>1.0</td>\n",
       "      <td>0.0</td>\n",
       "      <td>80.0</td>\n",
       "      <td>...</td>\n",
       "      <td>False</td>\n",
       "      <td>False</td>\n",
       "      <td>False</td>\n",
       "      <td>True</td>\n",
       "      <td>False</td>\n",
       "      <td>True</td>\n",
       "      <td>False</td>\n",
       "      <td>False</td>\n",
       "      <td>False</td>\n",
       "      <td>True</td>\n",
       "    </tr>\n",
       "  </tbody>\n",
       "</table>\n",
       "<p>5 rows × 21 columns</p>\n",
       "</div>"
      ],
      "text/plain": [
       "    deceased  Weight (Pounds)  Self-Rated Health  Education Yrs  \\\n",
       "2        0.0            193.0                4.0           14.0   \n",
       "3        1.0            125.0                3.0           14.0   \n",
       "7        0.0            175.0                2.0           15.0   \n",
       "10       0.0            135.0                2.0           12.0   \n",
       "14       0.0            120.0                1.0            9.0   \n",
       "\n",
       "    Religion Importance  Number of Grandchildren  Hours of Volunteering  \\\n",
       "2                   1.0                20.000000                0.00000   \n",
       "3                   1.0                 7.000000               45.70395   \n",
       "7                   1.0                 6.657524               45.70395   \n",
       "10                  3.0                 6.657524                0.00000   \n",
       "14                  1.0                 1.000000                0.00000   \n",
       "\n",
       "    Number of Times Socializing  Wealth   Age  ...  Diabetes  Arthritis  \\\n",
       "2                           1.0     0.0  66.0  ...     False       True   \n",
       "3                           1.0     0.0  63.0  ...     False       True   \n",
       "7                           1.0     0.0  84.0  ...     False       True   \n",
       "10                          1.0     0.0  83.0  ...     False       True   \n",
       "14                          1.0     0.0  80.0  ...     False      False   \n",
       "\n",
       "    Smoking  Drunk Alcohol  Married  Children Nearby  Relatives Nearby  \\\n",
       "2     False          False    False            False              True   \n",
       "3     False           True     True             True              True   \n",
       "7     False           True    False             True             False   \n",
       "10    False          False     True             True              True   \n",
       "14    False           True    False             True             False   \n",
       "\n",
       "    Functional Limitations  Sex_Male  Race_White  \n",
       "2                     True      True       False  \n",
       "3                    False     False       False  \n",
       "7                     True     False        True  \n",
       "10                   False      True        True  \n",
       "14                   False     False        True  \n",
       "\n",
       "[5 rows x 21 columns]"
      ]
     },
     "execution_count": 35,
     "metadata": {},
     "output_type": "execute_result"
    }
   ],
   "source": [
    "wrong_sample_lr = display_wrong_sample(clf_e_lr0, X_test, y_test)\n",
    "wrong_sample_lr.head()"
   ]
  },
  {
   "cell_type": "code",
   "execution_count": 36,
   "metadata": {
    "pycharm": {
     "name": "#%%\n"
    }
   },
   "outputs": [
    {
     "data": {
      "text/html": [
       "<div>\n",
       "<style scoped>\n",
       "    .dataframe tbody tr th:only-of-type {\n",
       "        vertical-align: middle;\n",
       "    }\n",
       "\n",
       "    .dataframe tbody tr th {\n",
       "        vertical-align: top;\n",
       "    }\n",
       "\n",
       "    .dataframe thead th {\n",
       "        text-align: right;\n",
       "    }\n",
       "</style>\n",
       "<table border=\"1\" class=\"dataframe\">\n",
       "  <thead>\n",
       "    <tr style=\"text-align: right;\">\n",
       "      <th></th>\n",
       "      <th>deceased</th>\n",
       "      <th>Weight (Pounds)</th>\n",
       "      <th>Self-Rated Health</th>\n",
       "      <th>Education Yrs</th>\n",
       "      <th>Religion Importance</th>\n",
       "      <th>Number of Grandchildren</th>\n",
       "      <th>Hours of Volunteering</th>\n",
       "      <th>Number of Times Socializing</th>\n",
       "      <th>Wealth</th>\n",
       "      <th>Age</th>\n",
       "      <th>...</th>\n",
       "      <th>Diabetes</th>\n",
       "      <th>Arthritis</th>\n",
       "      <th>Smoking</th>\n",
       "      <th>Drunk Alcohol</th>\n",
       "      <th>Married</th>\n",
       "      <th>Children Nearby</th>\n",
       "      <th>Relatives Nearby</th>\n",
       "      <th>Functional Limitations</th>\n",
       "      <th>Sex_Male</th>\n",
       "      <th>Race_White</th>\n",
       "    </tr>\n",
       "  </thead>\n",
       "  <tbody>\n",
       "    <tr>\n",
       "      <th>2</th>\n",
       "      <td>0.0</td>\n",
       "      <td>193.0</td>\n",
       "      <td>4.0</td>\n",
       "      <td>14.0</td>\n",
       "      <td>1.0</td>\n",
       "      <td>20.000000</td>\n",
       "      <td>0.00000</td>\n",
       "      <td>1.0</td>\n",
       "      <td>0.0</td>\n",
       "      <td>66.0</td>\n",
       "      <td>...</td>\n",
       "      <td>False</td>\n",
       "      <td>True</td>\n",
       "      <td>False</td>\n",
       "      <td>False</td>\n",
       "      <td>False</td>\n",
       "      <td>False</td>\n",
       "      <td>True</td>\n",
       "      <td>True</td>\n",
       "      <td>True</td>\n",
       "      <td>False</td>\n",
       "    </tr>\n",
       "    <tr>\n",
       "      <th>3</th>\n",
       "      <td>1.0</td>\n",
       "      <td>125.0</td>\n",
       "      <td>3.0</td>\n",
       "      <td>14.0</td>\n",
       "      <td>1.0</td>\n",
       "      <td>7.000000</td>\n",
       "      <td>45.70395</td>\n",
       "      <td>1.0</td>\n",
       "      <td>0.0</td>\n",
       "      <td>63.0</td>\n",
       "      <td>...</td>\n",
       "      <td>False</td>\n",
       "      <td>True</td>\n",
       "      <td>False</td>\n",
       "      <td>True</td>\n",
       "      <td>True</td>\n",
       "      <td>True</td>\n",
       "      <td>True</td>\n",
       "      <td>False</td>\n",
       "      <td>False</td>\n",
       "      <td>False</td>\n",
       "    </tr>\n",
       "    <tr>\n",
       "      <th>7</th>\n",
       "      <td>0.0</td>\n",
       "      <td>175.0</td>\n",
       "      <td>2.0</td>\n",
       "      <td>15.0</td>\n",
       "      <td>1.0</td>\n",
       "      <td>6.657524</td>\n",
       "      <td>45.70395</td>\n",
       "      <td>1.0</td>\n",
       "      <td>0.0</td>\n",
       "      <td>84.0</td>\n",
       "      <td>...</td>\n",
       "      <td>False</td>\n",
       "      <td>True</td>\n",
       "      <td>False</td>\n",
       "      <td>True</td>\n",
       "      <td>False</td>\n",
       "      <td>True</td>\n",
       "      <td>False</td>\n",
       "      <td>True</td>\n",
       "      <td>False</td>\n",
       "      <td>True</td>\n",
       "    </tr>\n",
       "    <tr>\n",
       "      <th>10</th>\n",
       "      <td>0.0</td>\n",
       "      <td>135.0</td>\n",
       "      <td>2.0</td>\n",
       "      <td>12.0</td>\n",
       "      <td>3.0</td>\n",
       "      <td>6.657524</td>\n",
       "      <td>0.00000</td>\n",
       "      <td>1.0</td>\n",
       "      <td>0.0</td>\n",
       "      <td>83.0</td>\n",
       "      <td>...</td>\n",
       "      <td>False</td>\n",
       "      <td>True</td>\n",
       "      <td>False</td>\n",
       "      <td>False</td>\n",
       "      <td>True</td>\n",
       "      <td>True</td>\n",
       "      <td>True</td>\n",
       "      <td>False</td>\n",
       "      <td>True</td>\n",
       "      <td>True</td>\n",
       "    </tr>\n",
       "    <tr>\n",
       "      <th>14</th>\n",
       "      <td>0.0</td>\n",
       "      <td>120.0</td>\n",
       "      <td>1.0</td>\n",
       "      <td>9.0</td>\n",
       "      <td>1.0</td>\n",
       "      <td>1.000000</td>\n",
       "      <td>0.00000</td>\n",
       "      <td>1.0</td>\n",
       "      <td>0.0</td>\n",
       "      <td>80.0</td>\n",
       "      <td>...</td>\n",
       "      <td>False</td>\n",
       "      <td>False</td>\n",
       "      <td>False</td>\n",
       "      <td>True</td>\n",
       "      <td>False</td>\n",
       "      <td>True</td>\n",
       "      <td>False</td>\n",
       "      <td>False</td>\n",
       "      <td>False</td>\n",
       "      <td>True</td>\n",
       "    </tr>\n",
       "  </tbody>\n",
       "</table>\n",
       "<p>5 rows × 21 columns</p>\n",
       "</div>"
      ],
      "text/plain": [
       "    deceased  Weight (Pounds)  Self-Rated Health  Education Yrs  \\\n",
       "2        0.0            193.0                4.0           14.0   \n",
       "3        1.0            125.0                3.0           14.0   \n",
       "7        0.0            175.0                2.0           15.0   \n",
       "10       0.0            135.0                2.0           12.0   \n",
       "14       0.0            120.0                1.0            9.0   \n",
       "\n",
       "    Religion Importance  Number of Grandchildren  Hours of Volunteering  \\\n",
       "2                   1.0                20.000000                0.00000   \n",
       "3                   1.0                 7.000000               45.70395   \n",
       "7                   1.0                 6.657524               45.70395   \n",
       "10                  3.0                 6.657524                0.00000   \n",
       "14                  1.0                 1.000000                0.00000   \n",
       "\n",
       "    Number of Times Socializing  Wealth   Age  ...  Diabetes  Arthritis  \\\n",
       "2                           1.0     0.0  66.0  ...     False       True   \n",
       "3                           1.0     0.0  63.0  ...     False       True   \n",
       "7                           1.0     0.0  84.0  ...     False       True   \n",
       "10                          1.0     0.0  83.0  ...     False       True   \n",
       "14                          1.0     0.0  80.0  ...     False      False   \n",
       "\n",
       "    Smoking  Drunk Alcohol  Married  Children Nearby  Relatives Nearby  \\\n",
       "2     False          False    False            False              True   \n",
       "3     False           True     True             True              True   \n",
       "7     False           True    False             True             False   \n",
       "10    False          False     True             True              True   \n",
       "14    False           True    False             True             False   \n",
       "\n",
       "    Functional Limitations  Sex_Male  Race_White  \n",
       "2                     True      True       False  \n",
       "3                    False     False       False  \n",
       "7                     True     False        True  \n",
       "10                   False      True        True  \n",
       "14                   False     False        True  \n",
       "\n",
       "[5 rows x 21 columns]"
      ]
     },
     "execution_count": 36,
     "metadata": {},
     "output_type": "execute_result"
    }
   ],
   "source": [
    "wrong_sample_nn = display_wrong_sample(clf_e_nn1, X_test, y_test)\n",
    "wrong_sample_nn.head()"
   ]
  },
  {
   "cell_type": "code",
   "execution_count": 37,
   "metadata": {
    "pycharm": {
     "name": "#%%\n"
    }
   },
   "outputs": [
    {
     "data": {
      "text/html": [
       "<div>\n",
       "<style scoped>\n",
       "    .dataframe tbody tr th:only-of-type {\n",
       "        vertical-align: middle;\n",
       "    }\n",
       "\n",
       "    .dataframe tbody tr th {\n",
       "        vertical-align: top;\n",
       "    }\n",
       "\n",
       "    .dataframe thead th {\n",
       "        text-align: right;\n",
       "    }\n",
       "</style>\n",
       "<table border=\"1\" class=\"dataframe\">\n",
       "  <thead>\n",
       "    <tr style=\"text-align: right;\">\n",
       "      <th></th>\n",
       "      <th>deceased</th>\n",
       "      <th>Weight (Pounds)</th>\n",
       "      <th>Self-Rated Health</th>\n",
       "      <th>Education Yrs</th>\n",
       "      <th>Religion Importance</th>\n",
       "      <th>Number of Grandchildren</th>\n",
       "      <th>Hours of Volunteering</th>\n",
       "      <th>Number of Times Socializing</th>\n",
       "      <th>Wealth</th>\n",
       "      <th>Age</th>\n",
       "      <th>...</th>\n",
       "      <th>Diabetes</th>\n",
       "      <th>Arthritis</th>\n",
       "      <th>Smoking</th>\n",
       "      <th>Drunk Alcohol</th>\n",
       "      <th>Married</th>\n",
       "      <th>Children Nearby</th>\n",
       "      <th>Relatives Nearby</th>\n",
       "      <th>Functional Limitations</th>\n",
       "      <th>Sex_Male</th>\n",
       "      <th>Race_White</th>\n",
       "    </tr>\n",
       "  </thead>\n",
       "  <tbody>\n",
       "    <tr>\n",
       "      <th>3</th>\n",
       "      <td>1.0</td>\n",
       "      <td>125.0</td>\n",
       "      <td>3.0</td>\n",
       "      <td>14.0</td>\n",
       "      <td>1.0</td>\n",
       "      <td>7.000000</td>\n",
       "      <td>45.70395</td>\n",
       "      <td>1.0</td>\n",
       "      <td>0.0</td>\n",
       "      <td>63.0</td>\n",
       "      <td>...</td>\n",
       "      <td>False</td>\n",
       "      <td>True</td>\n",
       "      <td>False</td>\n",
       "      <td>True</td>\n",
       "      <td>True</td>\n",
       "      <td>True</td>\n",
       "      <td>True</td>\n",
       "      <td>False</td>\n",
       "      <td>False</td>\n",
       "      <td>False</td>\n",
       "    </tr>\n",
       "    <tr>\n",
       "      <th>8</th>\n",
       "      <td>1.0</td>\n",
       "      <td>170.0</td>\n",
       "      <td>2.0</td>\n",
       "      <td>5.0</td>\n",
       "      <td>1.0</td>\n",
       "      <td>10.000000</td>\n",
       "      <td>720.00000</td>\n",
       "      <td>1.0</td>\n",
       "      <td>0.0</td>\n",
       "      <td>78.0</td>\n",
       "      <td>...</td>\n",
       "      <td>False</td>\n",
       "      <td>True</td>\n",
       "      <td>False</td>\n",
       "      <td>False</td>\n",
       "      <td>False</td>\n",
       "      <td>False</td>\n",
       "      <td>False</td>\n",
       "      <td>False</td>\n",
       "      <td>True</td>\n",
       "      <td>False</td>\n",
       "    </tr>\n",
       "    <tr>\n",
       "      <th>10</th>\n",
       "      <td>0.0</td>\n",
       "      <td>135.0</td>\n",
       "      <td>2.0</td>\n",
       "      <td>12.0</td>\n",
       "      <td>3.0</td>\n",
       "      <td>6.657524</td>\n",
       "      <td>0.00000</td>\n",
       "      <td>1.0</td>\n",
       "      <td>0.0</td>\n",
       "      <td>83.0</td>\n",
       "      <td>...</td>\n",
       "      <td>False</td>\n",
       "      <td>True</td>\n",
       "      <td>False</td>\n",
       "      <td>False</td>\n",
       "      <td>True</td>\n",
       "      <td>True</td>\n",
       "      <td>True</td>\n",
       "      <td>False</td>\n",
       "      <td>True</td>\n",
       "      <td>True</td>\n",
       "    </tr>\n",
       "    <tr>\n",
       "      <th>14</th>\n",
       "      <td>0.0</td>\n",
       "      <td>120.0</td>\n",
       "      <td>1.0</td>\n",
       "      <td>9.0</td>\n",
       "      <td>1.0</td>\n",
       "      <td>1.000000</td>\n",
       "      <td>0.00000</td>\n",
       "      <td>1.0</td>\n",
       "      <td>0.0</td>\n",
       "      <td>80.0</td>\n",
       "      <td>...</td>\n",
       "      <td>False</td>\n",
       "      <td>False</td>\n",
       "      <td>False</td>\n",
       "      <td>True</td>\n",
       "      <td>False</td>\n",
       "      <td>True</td>\n",
       "      <td>False</td>\n",
       "      <td>False</td>\n",
       "      <td>False</td>\n",
       "      <td>True</td>\n",
       "    </tr>\n",
       "    <tr>\n",
       "      <th>15</th>\n",
       "      <td>1.0</td>\n",
       "      <td>230.0</td>\n",
       "      <td>3.0</td>\n",
       "      <td>12.0</td>\n",
       "      <td>1.0</td>\n",
       "      <td>4.000000</td>\n",
       "      <td>25.00000</td>\n",
       "      <td>0.0</td>\n",
       "      <td>0.0</td>\n",
       "      <td>55.0</td>\n",
       "      <td>...</td>\n",
       "      <td>False</td>\n",
       "      <td>True</td>\n",
       "      <td>False</td>\n",
       "      <td>False</td>\n",
       "      <td>True</td>\n",
       "      <td>True</td>\n",
       "      <td>False</td>\n",
       "      <td>False</td>\n",
       "      <td>False</td>\n",
       "      <td>True</td>\n",
       "    </tr>\n",
       "  </tbody>\n",
       "</table>\n",
       "<p>5 rows × 21 columns</p>\n",
       "</div>"
      ],
      "text/plain": [
       "    deceased  Weight (Pounds)  Self-Rated Health  Education Yrs  \\\n",
       "3        1.0            125.0                3.0           14.0   \n",
       "8        1.0            170.0                2.0            5.0   \n",
       "10       0.0            135.0                2.0           12.0   \n",
       "14       0.0            120.0                1.0            9.0   \n",
       "15       1.0            230.0                3.0           12.0   \n",
       "\n",
       "    Religion Importance  Number of Grandchildren  Hours of Volunteering  \\\n",
       "3                   1.0                 7.000000               45.70395   \n",
       "8                   1.0                10.000000              720.00000   \n",
       "10                  3.0                 6.657524                0.00000   \n",
       "14                  1.0                 1.000000                0.00000   \n",
       "15                  1.0                 4.000000               25.00000   \n",
       "\n",
       "    Number of Times Socializing  Wealth   Age  ...  Diabetes  Arthritis  \\\n",
       "3                           1.0     0.0  63.0  ...     False       True   \n",
       "8                           1.0     0.0  78.0  ...     False       True   \n",
       "10                          1.0     0.0  83.0  ...     False       True   \n",
       "14                          1.0     0.0  80.0  ...     False      False   \n",
       "15                          0.0     0.0  55.0  ...     False       True   \n",
       "\n",
       "    Smoking  Drunk Alcohol  Married  Children Nearby  Relatives Nearby  \\\n",
       "3     False           True     True             True              True   \n",
       "8     False          False    False            False             False   \n",
       "10    False          False     True             True              True   \n",
       "14    False           True    False             True             False   \n",
       "15    False          False     True             True             False   \n",
       "\n",
       "    Functional Limitations  Sex_Male  Race_White  \n",
       "3                    False     False       False  \n",
       "8                    False      True       False  \n",
       "10                   False      True        True  \n",
       "14                   False     False        True  \n",
       "15                   False     False        True  \n",
       "\n",
       "[5 rows x 21 columns]"
      ]
     },
     "execution_count": 37,
     "metadata": {},
     "output_type": "execute_result"
    }
   ],
   "source": [
    "wrong_sample_knn = display_wrong_sample(clf_e_knn1, X_test, y_test)\n",
    "wrong_sample_knn.head()"
   ]
  },
  {
   "attachments": {},
   "cell_type": "markdown",
   "metadata": {
    "pycharm": {
     "name": "#%% md\n"
    }
   },
   "source": [
    "### Conclusion"
   ]
  },
  {
   "attachments": {},
   "cell_type": "markdown",
   "metadata": {
    "pycharm": {
     "name": "#%% md\n"
    }
   },
   "source": [
    "Within the project above, I have used the HRS dataset to predict mortality in the next 14 years using the baseline characteristics in 2002. I have also discussed the social and demographic characteristics of the cases whose disposition statuses were either wrongly predicted as death or alive by the algorithms. Specifically, I have used a Logistic Regression Classifer, a Neural Network Classifer, and a KNN Classider. The following was the pipeline of the project:\n",
    "\n",
    "1. Exploratory Data Analysis & Data Preprocessing: I have merged the files of the HRS dataset of each wave (e.g., 2002) into one dataframe. Then, I have checked whether the outcome variable is balanced. After checking the balance of the outcome variable and the missingness of the predictors, I went ahead to preprocess the data for the analysis by 1) imputing the missing values separately for continuous and categorical variables 2) construct some variables based on multiple other variables 3) scaling the continuous variables.\n",
    "2. Pipeline: Feature Selection, Parameter Tuning, and Model Training: I have used the pipeline to select the features, tune the parameters, and validate the data. The pipeline used the following algorithms to train the model: logistic regression, neural network, and KNN.\n",
    "3. Model Evaluation (On Test Set) and Error Analysis: I have evaluated the models on the test set and analyzed the errors of the models. I have also discussed the social and demographic characteristics of the cases whose disposition statuses were either wrongly predicted as death or alive by the algorithms.\n",
    "\n",
    "Overall the findings will serve important purposes for public health practitioners in understanding the risk and protective factors of mortality in the aging process. When comparing between model performances in accurately predicting mortality, the neural network model has the best performance. However, it is computationally intensive. Therefore, the logistic regression model is the best model for predicting mortality in the aging process. The logistic regression model has relatively good performance in terms of the F1 score and the AUC. The logistic regression model is also the most interpretable model as it can provide the odds ratio of the predictors. Hence, it can be used to explain the model to the stakeholders. The logistic regression model is also the most efficient model as it is the fastest model to train and predict and the most stable model as it is the least likely to overfit the data among the three algorithms.\n",
    "\n",
    "\n",
    "Future avenues of research include the following (as I will collaborate with Zejian on our conference presentation this October):\n",
    "1. Comparing and contrasting the differences in the important predictors of mortality between the NSHAP, WLS and HRS datasets.\n",
    "2. Proposing the best model for predicting mortality in the aging process based on the differences in the important predictors of mortality between the NSHAP, WLS and HRS datasets."
   ]
  }
 ],
 "metadata": {
  "kernelspec": {
   "display_name": "MACS",
   "language": "python",
   "name": "python3"
  },
  "language_info": {
   "codemirror_mode": {
    "name": "ipython",
    "version": 3
   },
   "file_extension": ".py",
   "mimetype": "text/x-python",
   "name": "python",
   "nbconvert_exporter": "python",
   "pygments_lexer": "ipython3",
   "version": "3.9.13"
  },
  "orig_nbformat": 4,
  "vscode": {
   "interpreter": {
    "hash": "5febda9ea3b33ffdc95c888fff59ec7615aa10294cac48f80c25517e6a63b54a"
   }
  }
 },
 "nbformat": 4,
 "nbformat_minor": 2
}