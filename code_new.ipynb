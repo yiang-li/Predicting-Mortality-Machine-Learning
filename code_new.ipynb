{
 "cells": [
  {
   "cell_type": "code",
   "execution_count": 148,
   "metadata": {
    "pycharm": {
     "name": "#%%\n"
    }
   },
   "outputs": [],
   "source": [
    "import graphviz\n",
    "import matplotlib.pyplot as plt\n",
    "import numpy as np\n",
    "import pandas as pd\n",
    "import seaborn as sns\n",
    "import sklearn.tree as tree\n",
    "from sklearn.model_selection import train_test_split\n",
    "from sklearn import metrics"
   ]
  },
  {
   "cell_type": "code",
   "execution_count": 64,
   "outputs": [],
   "source": [
    "from sklearn.model_selection import StratifiedKFold\n",
    "from sklearn.ensemble import RandomForestClassifier, ExtraTreesClassifier\n",
    "from sklearn.ensemble import GradientBoostingClassifier\n",
    "from sklearn.linear_model import LogisticRegression"
   ],
   "metadata": {
    "collapsed": false,
    "pycharm": {
     "name": "#%%\n"
    }
   }
  },
  {
   "cell_type": "code",
   "execution_count": 65,
   "metadata": {
    "pycharm": {
     "name": "#%%\n"
    }
   },
   "outputs": [],
   "source": [
    "data_raw = pd.read_csv('./data/nshap_w1_w2_w3_core_disposition.csv',\n",
    "                       low_memory=False)\n",
    "#Stacking\n",
    "#SMOTE"
   ]
  },
  {
   "attachments": {},
   "cell_type": "markdown",
   "metadata": {
    "pycharm": {
     "name": "#%% md\n"
    }
   },
   "source": [
    "## Data cleaning"
   ]
  },
  {
   "cell_type": "code",
   "execution_count": 66,
   "outputs": [
    {
     "data": {
      "text/plain": "          ID  SAMPLETYPE  w3DISP_GRP  w3DECEASED  ID_as_string  w2DISP_GRP  \\\n0     100005         1.0         5.0         0.0      100005.0         1.0   \n1     100033         1.0         1.0         0.0      100033.0         1.0   \n2     100067         1.0         1.0         0.0      100067.0         NaN   \n3     100080         1.0         1.0         0.0      100080.0         1.0   \n4     100149         1.0         1.0         0.0      100149.0         NaN   \n...      ...         ...         ...         ...           ...         ...   \n6064  199846         NaN         NaN         NaN           NaN         NaN   \n6065  199898         NaN         NaN         NaN           NaN         NaN   \n6066  199931         NaN         NaN         NaN           NaN         NaN   \n6067  199954         NaN         NaN         NaN           NaN         NaN   \n6068  199996         NaN         NaN         NaN      199996.0         2.0   \n\n      w2DECEASED   w1FI_ID  w1PATH  w1VERSION  ... w3IWDESCRIBE2  \\\n0            0.0  866808.0     1.0        1.0  ...           NaN   \n1            0.0  169164.0     3.0        3.0  ...           1.0   \n2            NaN       NaN     NaN        NaN  ...           3.0   \n3            0.0  281481.0     6.0        2.0  ...           1.0   \n4            NaN       NaN     NaN        NaN  ...           3.0   \n...          ...       ...     ...        ...  ...           ...   \n6064         NaN       NaN     NaN        NaN  ...           2.0   \n6065         NaN       NaN     NaN        NaN  ...           4.0   \n6066         NaN       NaN     NaN        NaN  ...          -3.0   \n6067         NaN       NaN     NaN        NaN  ...           1.0   \n6068         1.0  742046.0     4.0        3.0  ...           NaN   \n\n      w3IWDESCRIBE3  w3IWDESCRIBE4  w3IWDESCRIBE5  w3AREACOMFORT  w3AREASAFE  \\\n0               NaN            NaN            NaN            NaN         NaN   \n1               1.0            2.0            1.0            1.0         1.0   \n2               3.0            2.0            3.0            2.0         2.0   \n3               1.0            5.0            1.0            1.0         1.0   \n4               2.0            2.0            2.0            1.0         1.0   \n...             ...            ...            ...            ...         ...   \n6064            1.0            1.0            2.0            1.0         1.0   \n6065            4.0            3.0            3.0            3.0         3.0   \n6066           -3.0           -3.0           -3.0            1.0         1.0   \n6067            1.0            4.0            1.0            1.0         1.0   \n6068            NaN            NaN            NaN            NaN         NaN   \n\n      w3AREAAMENITIES  w3AREAPRESENCE  w3CASEDIF  _merge  \n0                 NaN             NaN        NaN       3  \n1                 2.0             5.0        4.0       3  \n2                 3.0             3.0        3.0       3  \n3                 2.0             3.0        4.0       3  \n4                 1.0             3.0        4.0       3  \n...               ...             ...        ...     ...  \n6064              2.0             5.0        4.0       2  \n6065              4.0             3.0        3.0       2  \n6066              1.0             5.0        2.0       2  \n6067              3.0             5.0        1.0       2  \n6068              NaN             NaN        NaN       2  \n\n[6069 rows x 2162 columns]",
      "text/html": "<div>\n<style scoped>\n    .dataframe tbody tr th:only-of-type {\n        vertical-align: middle;\n    }\n\n    .dataframe tbody tr th {\n        vertical-align: top;\n    }\n\n    .dataframe thead th {\n        text-align: right;\n    }\n</style>\n<table border=\"1\" class=\"dataframe\">\n  <thead>\n    <tr style=\"text-align: right;\">\n      <th></th>\n      <th>ID</th>\n      <th>SAMPLETYPE</th>\n      <th>w3DISP_GRP</th>\n      <th>w3DECEASED</th>\n      <th>ID_as_string</th>\n      <th>w2DISP_GRP</th>\n      <th>w2DECEASED</th>\n      <th>w1FI_ID</th>\n      <th>w1PATH</th>\n      <th>w1VERSION</th>\n      <th>...</th>\n      <th>w3IWDESCRIBE2</th>\n      <th>w3IWDESCRIBE3</th>\n      <th>w3IWDESCRIBE4</th>\n      <th>w3IWDESCRIBE5</th>\n      <th>w3AREACOMFORT</th>\n      <th>w3AREASAFE</th>\n      <th>w3AREAAMENITIES</th>\n      <th>w3AREAPRESENCE</th>\n      <th>w3CASEDIF</th>\n      <th>_merge</th>\n    </tr>\n  </thead>\n  <tbody>\n    <tr>\n      <th>0</th>\n      <td>100005</td>\n      <td>1.0</td>\n      <td>5.0</td>\n      <td>0.0</td>\n      <td>100005.0</td>\n      <td>1.0</td>\n      <td>0.0</td>\n      <td>866808.0</td>\n      <td>1.0</td>\n      <td>1.0</td>\n      <td>...</td>\n      <td>NaN</td>\n      <td>NaN</td>\n      <td>NaN</td>\n      <td>NaN</td>\n      <td>NaN</td>\n      <td>NaN</td>\n      <td>NaN</td>\n      <td>NaN</td>\n      <td>NaN</td>\n      <td>3</td>\n    </tr>\n    <tr>\n      <th>1</th>\n      <td>100033</td>\n      <td>1.0</td>\n      <td>1.0</td>\n      <td>0.0</td>\n      <td>100033.0</td>\n      <td>1.0</td>\n      <td>0.0</td>\n      <td>169164.0</td>\n      <td>3.0</td>\n      <td>3.0</td>\n      <td>...</td>\n      <td>1.0</td>\n      <td>1.0</td>\n      <td>2.0</td>\n      <td>1.0</td>\n      <td>1.0</td>\n      <td>1.0</td>\n      <td>2.0</td>\n      <td>5.0</td>\n      <td>4.0</td>\n      <td>3</td>\n    </tr>\n    <tr>\n      <th>2</th>\n      <td>100067</td>\n      <td>1.0</td>\n      <td>1.0</td>\n      <td>0.0</td>\n      <td>100067.0</td>\n      <td>NaN</td>\n      <td>NaN</td>\n      <td>NaN</td>\n      <td>NaN</td>\n      <td>NaN</td>\n      <td>...</td>\n      <td>3.0</td>\n      <td>3.0</td>\n      <td>2.0</td>\n      <td>3.0</td>\n      <td>2.0</td>\n      <td>2.0</td>\n      <td>3.0</td>\n      <td>3.0</td>\n      <td>3.0</td>\n      <td>3</td>\n    </tr>\n    <tr>\n      <th>3</th>\n      <td>100080</td>\n      <td>1.0</td>\n      <td>1.0</td>\n      <td>0.0</td>\n      <td>100080.0</td>\n      <td>1.0</td>\n      <td>0.0</td>\n      <td>281481.0</td>\n      <td>6.0</td>\n      <td>2.0</td>\n      <td>...</td>\n      <td>1.0</td>\n      <td>1.0</td>\n      <td>5.0</td>\n      <td>1.0</td>\n      <td>1.0</td>\n      <td>1.0</td>\n      <td>2.0</td>\n      <td>3.0</td>\n      <td>4.0</td>\n      <td>3</td>\n    </tr>\n    <tr>\n      <th>4</th>\n      <td>100149</td>\n      <td>1.0</td>\n      <td>1.0</td>\n      <td>0.0</td>\n      <td>100149.0</td>\n      <td>NaN</td>\n      <td>NaN</td>\n      <td>NaN</td>\n      <td>NaN</td>\n      <td>NaN</td>\n      <td>...</td>\n      <td>3.0</td>\n      <td>2.0</td>\n      <td>2.0</td>\n      <td>2.0</td>\n      <td>1.0</td>\n      <td>1.0</td>\n      <td>1.0</td>\n      <td>3.0</td>\n      <td>4.0</td>\n      <td>3</td>\n    </tr>\n    <tr>\n      <th>...</th>\n      <td>...</td>\n      <td>...</td>\n      <td>...</td>\n      <td>...</td>\n      <td>...</td>\n      <td>...</td>\n      <td>...</td>\n      <td>...</td>\n      <td>...</td>\n      <td>...</td>\n      <td>...</td>\n      <td>...</td>\n      <td>...</td>\n      <td>...</td>\n      <td>...</td>\n      <td>...</td>\n      <td>...</td>\n      <td>...</td>\n      <td>...</td>\n      <td>...</td>\n      <td>...</td>\n    </tr>\n    <tr>\n      <th>6064</th>\n      <td>199846</td>\n      <td>NaN</td>\n      <td>NaN</td>\n      <td>NaN</td>\n      <td>NaN</td>\n      <td>NaN</td>\n      <td>NaN</td>\n      <td>NaN</td>\n      <td>NaN</td>\n      <td>NaN</td>\n      <td>...</td>\n      <td>2.0</td>\n      <td>1.0</td>\n      <td>1.0</td>\n      <td>2.0</td>\n      <td>1.0</td>\n      <td>1.0</td>\n      <td>2.0</td>\n      <td>5.0</td>\n      <td>4.0</td>\n      <td>2</td>\n    </tr>\n    <tr>\n      <th>6065</th>\n      <td>199898</td>\n      <td>NaN</td>\n      <td>NaN</td>\n      <td>NaN</td>\n      <td>NaN</td>\n      <td>NaN</td>\n      <td>NaN</td>\n      <td>NaN</td>\n      <td>NaN</td>\n      <td>NaN</td>\n      <td>...</td>\n      <td>4.0</td>\n      <td>4.0</td>\n      <td>3.0</td>\n      <td>3.0</td>\n      <td>3.0</td>\n      <td>3.0</td>\n      <td>4.0</td>\n      <td>3.0</td>\n      <td>3.0</td>\n      <td>2</td>\n    </tr>\n    <tr>\n      <th>6066</th>\n      <td>199931</td>\n      <td>NaN</td>\n      <td>NaN</td>\n      <td>NaN</td>\n      <td>NaN</td>\n      <td>NaN</td>\n      <td>NaN</td>\n      <td>NaN</td>\n      <td>NaN</td>\n      <td>NaN</td>\n      <td>...</td>\n      <td>-3.0</td>\n      <td>-3.0</td>\n      <td>-3.0</td>\n      <td>-3.0</td>\n      <td>1.0</td>\n      <td>1.0</td>\n      <td>1.0</td>\n      <td>5.0</td>\n      <td>2.0</td>\n      <td>2</td>\n    </tr>\n    <tr>\n      <th>6067</th>\n      <td>199954</td>\n      <td>NaN</td>\n      <td>NaN</td>\n      <td>NaN</td>\n      <td>NaN</td>\n      <td>NaN</td>\n      <td>NaN</td>\n      <td>NaN</td>\n      <td>NaN</td>\n      <td>NaN</td>\n      <td>...</td>\n      <td>1.0</td>\n      <td>1.0</td>\n      <td>4.0</td>\n      <td>1.0</td>\n      <td>1.0</td>\n      <td>1.0</td>\n      <td>3.0</td>\n      <td>5.0</td>\n      <td>1.0</td>\n      <td>2</td>\n    </tr>\n    <tr>\n      <th>6068</th>\n      <td>199996</td>\n      <td>NaN</td>\n      <td>NaN</td>\n      <td>NaN</td>\n      <td>199996.0</td>\n      <td>2.0</td>\n      <td>1.0</td>\n      <td>742046.0</td>\n      <td>4.0</td>\n      <td>3.0</td>\n      <td>...</td>\n      <td>NaN</td>\n      <td>NaN</td>\n      <td>NaN</td>\n      <td>NaN</td>\n      <td>NaN</td>\n      <td>NaN</td>\n      <td>NaN</td>\n      <td>NaN</td>\n      <td>NaN</td>\n      <td>2</td>\n    </tr>\n  </tbody>\n</table>\n<p>6069 rows × 2162 columns</p>\n</div>"
     },
     "execution_count": 66,
     "metadata": {},
     "output_type": "execute_result"
    }
   ],
   "source": [
    "data_raw"
   ],
   "metadata": {
    "collapsed": false,
    "pycharm": {
     "name": "#%%\n"
    }
   }
  },
  {
   "cell_type": "code",
   "execution_count": 67,
   "metadata": {
    "pycharm": {
     "name": "#%%\n"
    }
   },
   "outputs": [
    {
     "name": "stdout",
     "output_type": "stream",
     "text": [
      "Total observations: 6069\n",
      "Removed follow-up 3064 respondents without W1 observations\n",
      "Removed follow-up 10 respondents without disposition statuses\n",
      "Sample frame has 2995 respondents\n"
     ]
    }
   ],
   "source": [
    "# Since the data contains original cohort and follow-up cohort, we need to filter out the follow-up cohort\n",
    "print(\"Total observations: {}\".format(len(data_raw)))\n",
    "data_w1 = data_raw[~data_raw['w1WEIGHT_ADJ'].isnull()]\n",
    "print(\"Removed follow-up {} respondents without W1 observations\".format(len(data_raw) - len(data_w1)))\n",
    "data_decease = data_w1[data_w1.notnull()].copy()\n",
    "data_decease['deceased'] = data_decease['w3DECEASED']\n",
    "data_decease.loc[data_decease['deceased'] == -9, ['deceased']] = np.nan\n",
    "data_decease['deceased'].fillna(data_decease['w2DECEASED'], inplace=True)\n",
    "data_decease.loc[data_decease['deceased'] == -9, ['deceased']] = np.nan\n",
    "data_complete = data_decease[data_decease['deceased'].notnull()]\n",
    "print(\"Removed follow-up {} respondents without disposition statuses\".format(len(data_w1) - len(data_complete)))\n",
    "print(\"Sample frame has {} respondents\".format(len(data_complete)))\n"
   ]
  },
  {
   "cell_type": "code",
   "execution_count": 68,
   "metadata": {
    "pycharm": {
     "name": "#%%\n"
    }
   },
   "outputs": [
    {
     "data": {
      "text/plain": "0.0    2102\n1.0     893\nName: deceased, dtype: int64"
     },
     "execution_count": 68,
     "metadata": {},
     "output_type": "execute_result"
    }
   ],
   "source": [
    "data_complete['deceased'].value_counts()"
   ]
  },
  {
   "cell_type": "code",
   "execution_count": 69,
   "metadata": {
    "pycharm": {
     "name": "#%%\n"
    }
   },
   "outputs": [],
   "source": [
    "data = data_complete[['ID', 'deceased', 'w1AGE', 'w1SYSTOLIC_MEAN',\n",
    "                      'w1BMI', 'w1HBA1C', 'w1CRP', 'w1DHEA_1', 'w1DHEA_2',\n",
    "                      'w1SMOKECIG', 'w1ALCOHOL', 'w1PHYSACT', 'w1HRSSLEEP',\n",
    "                      'w1EDUC', 'w1HSASSETS_RECODE', 'w1MARITLST', 'w1ETHGRP',\n",
    "                      'w1GENDER',\n",
    "                      'w1PHYSHLTH', 'w1MNTLHLTH', 'w1CONDITNS_3', 'w1WALKBLK']]"
   ]
  },
  {
   "cell_type": "code",
   "execution_count": 70,
   "metadata": {
    "pycharm": {
     "name": "#%%\n"
    }
   },
   "outputs": [],
   "source": [
    "# Preprocessing binary variables\n",
    "cat_col = ['ID', 'deceased', 'w1SMOKECIG', 'w1ALCOHOL', 'w1MARITLST',\n",
    "           'w1ETHGRP', 'w1GENDER',\n",
    "           'w1CONDITNS_3']\n",
    "data_cat = data[data[cat_col].notnull()].copy()[cat_col]\n",
    "for col in cat_col:\n",
    "    data_cat[col] = data_cat[col].astype('category')\n",
    "data_cat['w1married'] = np.where(data_cat['w1MARITLST'] == 'Married', 1, 0)\n",
    "data_cat['w1raceblk'] = np.where(data_cat['w1ETHGRP'] == 'Married', 1, 0)\n",
    "data_cat.drop('w1MARITLST', axis=1, inplace=True)\n",
    "data_cat.drop('w1ETHGRP', axis=1, inplace=True)"
   ]
  },
  {
   "cell_type": "code",
   "execution_count": 71,
   "metadata": {
    "pycharm": {
     "name": "#%%\n"
    }
   },
   "outputs": [],
   "source": [
    "# Preprocessing ordinal variables\n",
    "ord_col = ['w1PHYSACT', 'w1EDUC', 'w1HSASSETS_RECODE',\n",
    "           'w1PHYSHLTH', 'w1MNTLHLTH', 'w1WALKBLK']\n",
    "data_ord = data[data[ord_col].notnull()].copy()[ord_col]\n",
    "data_ord[data_ord < 0] = np.nan\n",
    "data_ord.fillna(data_ord.mean(), inplace=True)"
   ]
  },
  {
   "cell_type": "code",
   "execution_count": 72,
   "metadata": {
    "pycharm": {
     "name": "#%%\n"
    }
   },
   "outputs": [
    {
     "data": {
      "text/plain": "             w1AGE  w1SYSTOLIC_MEAN        w1BMI      w1HBA1C        w1CRP  \\\ncount  2995.000000      2995.000000  2995.000000  2995.000000  2995.000000   \nmean     69.307513       137.138234    29.095167     6.097641     3.194580   \nstd       7.857698        20.306078     6.078190     0.782456     4.848129   \nmin      57.000000        78.000000    14.063041     4.200000     0.000000   \n25%      62.000000       122.500000    25.101870     5.700000     1.053500   \n50%      69.000000       135.666672    28.793165     6.097641     3.194580   \n75%      76.000000       149.000000    31.773318     6.097641     3.194580   \nmax      85.000000       233.000000    75.600655    14.200000   100.000000   \n\n        w1HRSSLEEP  w1dhea_mean  \ncount  2995.000000  2995.000000  \nmean      6.888366    52.921454  \nstd       1.381350   109.835482  \nmin       1.000000     1.510000  \n25%       6.000000    22.252500  \n50%       7.000000    46.205000  \n75%       8.000000    53.247500  \nmax      13.000000  5000.000000  ",
      "text/html": "<div>\n<style scoped>\n    .dataframe tbody tr th:only-of-type {\n        vertical-align: middle;\n    }\n\n    .dataframe tbody tr th {\n        vertical-align: top;\n    }\n\n    .dataframe thead th {\n        text-align: right;\n    }\n</style>\n<table border=\"1\" class=\"dataframe\">\n  <thead>\n    <tr style=\"text-align: right;\">\n      <th></th>\n      <th>w1AGE</th>\n      <th>w1SYSTOLIC_MEAN</th>\n      <th>w1BMI</th>\n      <th>w1HBA1C</th>\n      <th>w1CRP</th>\n      <th>w1HRSSLEEP</th>\n      <th>w1dhea_mean</th>\n    </tr>\n  </thead>\n  <tbody>\n    <tr>\n      <th>count</th>\n      <td>2995.000000</td>\n      <td>2995.000000</td>\n      <td>2995.000000</td>\n      <td>2995.000000</td>\n      <td>2995.000000</td>\n      <td>2995.000000</td>\n      <td>2995.000000</td>\n    </tr>\n    <tr>\n      <th>mean</th>\n      <td>69.307513</td>\n      <td>137.138234</td>\n      <td>29.095167</td>\n      <td>6.097641</td>\n      <td>3.194580</td>\n      <td>6.888366</td>\n      <td>52.921454</td>\n    </tr>\n    <tr>\n      <th>std</th>\n      <td>7.857698</td>\n      <td>20.306078</td>\n      <td>6.078190</td>\n      <td>0.782456</td>\n      <td>4.848129</td>\n      <td>1.381350</td>\n      <td>109.835482</td>\n    </tr>\n    <tr>\n      <th>min</th>\n      <td>57.000000</td>\n      <td>78.000000</td>\n      <td>14.063041</td>\n      <td>4.200000</td>\n      <td>0.000000</td>\n      <td>1.000000</td>\n      <td>1.510000</td>\n    </tr>\n    <tr>\n      <th>25%</th>\n      <td>62.000000</td>\n      <td>122.500000</td>\n      <td>25.101870</td>\n      <td>5.700000</td>\n      <td>1.053500</td>\n      <td>6.000000</td>\n      <td>22.252500</td>\n    </tr>\n    <tr>\n      <th>50%</th>\n      <td>69.000000</td>\n      <td>135.666672</td>\n      <td>28.793165</td>\n      <td>6.097641</td>\n      <td>3.194580</td>\n      <td>7.000000</td>\n      <td>46.205000</td>\n    </tr>\n    <tr>\n      <th>75%</th>\n      <td>76.000000</td>\n      <td>149.000000</td>\n      <td>31.773318</td>\n      <td>6.097641</td>\n      <td>3.194580</td>\n      <td>8.000000</td>\n      <td>53.247500</td>\n    </tr>\n    <tr>\n      <th>max</th>\n      <td>85.000000</td>\n      <td>233.000000</td>\n      <td>75.600655</td>\n      <td>14.200000</td>\n      <td>100.000000</td>\n      <td>13.000000</td>\n      <td>5000.000000</td>\n    </tr>\n  </tbody>\n</table>\n</div>"
     },
     "execution_count": 72,
     "metadata": {},
     "output_type": "execute_result"
    }
   ],
   "source": [
    "# Preprocessing continuous variables\n",
    "con_col = ['w1AGE', 'w1SYSTOLIC_MEAN', 'w1BMI', 'w1HBA1C',\n",
    "           'w1CRP', 'w1DHEA_1', 'w1DHEA_2', 'w1HRSSLEEP']\n",
    "data_con = data[data[con_col].notnull()].copy()[con_col]\n",
    "for col in con_col:\n",
    "    data_con[col] = pd.to_numeric(data_con[col], errors='coerce')\n",
    "data_con['w1dhea_mean'] = data_con[['w1DHEA_1', 'w1DHEA_2']].mean(axis=1)\n",
    "data_con = data_con.drop(['w1DHEA_1', 'w1DHEA_2'], axis=1)\n",
    "data_con[data_con < 0] = np.nan\n",
    "data_con.fillna(data_con.mean(), inplace=True)\n",
    "data_con.describe()"
   ]
  },
  {
   "cell_type": "code",
   "execution_count": 73,
   "metadata": {
    "pycharm": {
     "name": "#%%\n"
    }
   },
   "outputs": [
    {
     "name": "stdout",
     "output_type": "stream",
     "text": [
      "Removed 0 respondents with missing values in categorical variables\n"
     ]
    }
   ],
   "source": [
    "data = pd.concat([data_cat, data_ord, data_con], axis=1)\n",
    "data_nona = data.dropna()\n",
    "print(\"Removed {} respondents with missing values in categorical variables\".format(len(data) - len(data_nona)))"
   ]
  },
  {
   "cell_type": "code",
   "execution_count": 75,
   "outputs": [],
   "source": [
    "data_nona.to_csv(\"./data/save_df.csv\")"
   ],
   "metadata": {
    "collapsed": false,
    "pycharm": {
     "name": "#%%\n"
    }
   }
  },
  {
   "cell_type": "code",
   "execution_count": 76,
   "metadata": {
    "pycharm": {
     "name": "#%%\n"
    }
   },
   "outputs": [
    {
     "data": {
      "text/plain": "<Figure size 600x600 with 2 Axes>",
      "image/png": "[encoded data removed]"
     },
     "metadata": {},
     "output_type": "display_data"
    }
   ],
   "source": [
    "_, ax = plt.subplots(figsize=(6, 6))\n",
    "columns = ['w1AGE', 'w1SYSTOLIC_MEAN', 'w1BMI', 'w1HBA1C',\n",
    "           'w1CRP', 'w1dhea_mean', 'w1HRSSLEEP']\n",
    "sns.heatmap(data[columns].corr(), annot=True, cmap='RdYlGn', ax=ax);"
   ]
  },
  {
   "attachments": {},
   "cell_type": "markdown",
   "metadata": {
    "pycharm": {
     "name": "#%% md\n"
    }
   },
   "source": [
    "## Decision Tree"
   ]
  },
  {
   "cell_type": "code",
   "execution_count": 135,
   "outputs": [],
   "source": [
    "data_nona=pd.read_csv('./data/save_df.csv')"
   ],
   "metadata": {
    "collapsed": false,
    "pycharm": {
     "name": "#%%\n"
    }
   }
  },
  {
   "cell_type": "code",
   "execution_count": 136,
   "metadata": {
    "pycharm": {
     "name": "#%%\n"
    }
   },
   "outputs": [],
   "source": [
    "\n",
    "data_x = data_nona[['w1AGE', 'w1SYSTOLIC_MEAN',\n",
    "                    'w1BMI', 'w1HBA1C', 'w1CRP', 'w1dhea_mean',\n",
    "                    'w1SMOKECIG', 'w1ALCOHOL', 'w1PHYSACT', 'w1HRSSLEEP',\n",
    "                    'w1EDUC', 'w1HSASSETS_RECODE', 'w1married', 'w1raceblk',\n",
    "                    'w1GENDER',\n",
    "                    'w1PHYSHLTH', 'w1MNTLHLTH', 'w1CONDITNS_3', 'w1WALKBLK']]\n",
    "predictor_names = ['Age', 'Systolic BP', 'BMI', 'HbA1c', 'CRP', 'DHEA',\n",
    "                   'smoker', 'alcohol', 'physical activity', 'sleep',\n",
    "                   'education', 'wealth', 'married', 'black race', 'gender',\n",
    "                   'physical self-rated health', 'mental self-rated health',\n",
    "                   'chronic conditions', 'walking 1 block']\n",
    "data_y = data_nona[['deceased']]\n",
    "\n",
    "# Then split into 60% training, 20% validation, and 20% testing\n",
    "X_train_v, X_test, y_train_v, y_test = train_test_split(data_x, data_y,\n",
    "                                                        test_size=0.2,\n",
    "                                                        random_state=42)\n",
    "# 0.25 x 0.8 = 0.2\n",
    "X_train, X_val, y_train, y_val = train_test_split(X_train_v,\n",
    "                                                  y_train_v,\n",
    "                                                  test_size=0.25,\n",
    "                                                  random_state=1)"
   ]
  },
  {
   "cell_type": "code",
   "execution_count": 137,
   "metadata": {
    "pycharm": {
     "name": "#%%\n"
    }
   },
   "outputs": [
    {
     "data": {
      "text/plain": "DecisionTreeClassifier(criterion='entropy', min_impurity_decrease=0.01,\n                       random_state=42)",
      "text/html": "<style>#sk-container-id-7 {color: black;background-color: white;}#sk-container-id-7 pre{padding: 0;}#sk-container-id-7 div.sk-toggleable {background-color: white;}#sk-container-id-7 label.sk-toggleable__label {cursor: pointer;display: block;width: 100%;margin-bottom: 0;padding: 0.3em;box-sizing: border-box;text-align: center;}#sk-container-id-7 label.sk-toggleable__label-arrow:before {content: \"▸\";float: left;margin-right: 0.25em;color: #696969;}#sk-container-id-7 label.sk-toggleable__label-arrow:hover:before {color: black;}#sk-container-id-7 div.sk-estimator:hover label.sk-toggleable__label-arrow:before {color: black;}#sk-container-id-7 div.sk-toggleable__content {max-height: 0;max-width: 0;overflow: hidden;text-align: left;background-color: #f0f8ff;}#sk-container-id-7 div.sk-toggleable__content pre {margin: 0.2em;color: black;border-radius: 0.25em;background-color: #f0f8ff;}#sk-container-id-7 input.sk-toggleable__control:checked~div.sk-toggleable__content {max-height: 200px;max-width: 100%;overflow: auto;}#sk-container-id-7 input.sk-toggleable__control:checked~label.sk-toggleable__label-arrow:before {content: \"▾\";}#sk-container-id-7 div.sk-estimator input.sk-toggleable__control:checked~label.sk-toggleable__label {background-color: #d4ebff;}#sk-container-id-7 div.sk-label input.sk-toggleable__control:checked~label.sk-toggleable__label {background-color: #d4ebff;}#sk-container-id-7 input.sk-hidden--visually {border: 0;clip: rect(1px 1px 1px 1px);clip: rect(1px, 1px, 1px, 1px);height: 1px;margin: -1px;overflow: hidden;padding: 0;position: absolute;width: 1px;}#sk-container-id-7 div.sk-estimator {font-family: monospace;background-color: #f0f8ff;border: 1px dotted black;border-radius: 0.25em;box-sizing: border-box;margin-bottom: 0.5em;}#sk-container-id-7 div.sk-estimator:hover {background-color: #d4ebff;}#sk-container-id-7 div.sk-parallel-item::after {content: \"\";width: 100%;border-bottom: 1px solid gray;flex-grow: 1;}#sk-container-id-7 div.sk-label:hover label.sk-toggleable__label {background-color: #d4ebff;}#sk-container-id-7 div.sk-serial::before {content: \"\";position: absolute;border-left: 1px solid gray;box-sizing: border-box;top: 0;bottom: 0;left: 50%;z-index: 0;}#sk-container-id-7 div.sk-serial {display: flex;flex-direction: column;align-items: center;background-color: white;padding-right: 0.2em;padding-left: 0.2em;position: relative;}#sk-container-id-7 div.sk-item {position: relative;z-index: 1;}#sk-container-id-7 div.sk-parallel {display: flex;align-items: stretch;justify-content: center;background-color: white;position: relative;}#sk-container-id-7 div.sk-item::before, #sk-container-id-7 div.sk-parallel-item::before {content: \"\";position: absolute;border-left: 1px solid gray;box-sizing: border-box;top: 0;bottom: 0;left: 50%;z-index: -1;}#sk-container-id-7 div.sk-parallel-item {display: flex;flex-direction: column;z-index: 1;position: relative;background-color: white;}#sk-container-id-7 div.sk-parallel-item:first-child::after {align-self: flex-end;width: 50%;}#sk-container-id-7 div.sk-parallel-item:last-child::after {align-self: flex-start;width: 50%;}#sk-container-id-7 div.sk-parallel-item:only-child::after {width: 0;}#sk-container-id-7 div.sk-dashed-wrapped {border: 1px dashed gray;margin: 0 0.4em 0.5em 0.4em;box-sizing: border-box;padding-bottom: 0.4em;background-color: white;}#sk-container-id-7 div.sk-label label {font-family: monospace;font-weight: bold;display: inline-block;line-height: 1.2em;}#sk-container-id-7 div.sk-label-container {text-align: center;}#sk-container-id-7 div.sk-container {/* jupyter's `normalize.less` sets `[hidden] { display: none; }` but bootstrap.min.css set `[hidden] { display: none !important; }` so we also need the `!important` here to be able to override the default hidden behavior on the sphinx rendered scikit-learn.org. See: https://github.com/scikit-learn/scikit-learn/issues/21755 */display: inline-block !important;position: relative;}#sk-container-id-7 div.sk-text-repr-fallback {display: none;}</style><div id=\"sk-container-id-7\" class=\"sk-top-container\"><div class=\"sk-text-repr-fallback\"><pre>DecisionTreeClassifier(criterion=&#x27;entropy&#x27;, min_impurity_decrease=0.01,\n                       random_state=42)</pre><b>In a Jupyter environment, please rerun this cell to show the HTML representation or trust the notebook. <br />On GitHub, the HTML representation is unable to render, please try loading this page with nbviewer.org.</b></div><div class=\"sk-container\" hidden><div class=\"sk-item\"><div class=\"sk-estimator sk-toggleable\"><input class=\"sk-toggleable__control sk-hidden--visually\" id=\"sk-estimator-id-7\" type=\"checkbox\" checked><label for=\"sk-estimator-id-7\" class=\"sk-toggleable__label sk-toggleable__label-arrow\">DecisionTreeClassifier</label><div class=\"sk-toggleable__content\"><pre>DecisionTreeClassifier(criterion=&#x27;entropy&#x27;, min_impurity_decrease=0.01,\n                       random_state=42)</pre></div></div></div></div></div>"
     },
     "execution_count": 137,
     "metadata": {},
     "output_type": "execute_result"
    }
   ],
   "source": [
    "# BOTH PRE-PRUNING AND POST_PRUNING (PYTHON PACKAGES TO AUTOMATE THIS PROCESS)\n",
    "DT_clf = tree.DecisionTreeClassifier(random_state=42, criterion=\"entropy\",\n",
    "                                     min_impurity_decrease=0.01)\n",
    "DT_clf.fit(X_train, y_train)"
   ]
  },
  {
   "cell_type": "code",
   "execution_count": 80,
   "metadata": {
    "pycharm": {
     "name": "#%%\n"
    }
   },
   "outputs": [
    {
     "data": {
      "text/plain": "'dt_nshap.pdf'"
     },
     "execution_count": 80,
     "metadata": {},
     "output_type": "execute_result"
    }
   ],
   "source": [
    "# save tree to iris.pdf\n",
    "dot_data = tree.export_graphviz(DT_clf, out_file=None,\n",
    "                                feature_names=predictor_names,\n",
    "                                class_names=['alive', 'deceased'])\n",
    "graph = graphviz.Source(dot_data)\n",
    "graph.render(\"dt_nshap\")"
   ]
  },
  {
   "cell_type": "code",
   "execution_count": 81,
   "metadata": {
    "pycharm": {
     "name": "#%%\n"
    }
   },
   "outputs": [
    {
     "data": {
      "text/plain": "0.7378964941569283"
     },
     "execution_count": 81,
     "metadata": {},
     "output_type": "execute_result"
    }
   ],
   "source": [
    "DT_clf.score(X_test, y_test)"
   ]
  },
  {
   "attachments": {},
   "cell_type": "markdown",
   "metadata": {
    "pycharm": {
     "name": "#%% md\n"
    }
   },
   "source": [
    "## Random Forest"
   ]
  },
  {
   "cell_type": "code",
   "execution_count": 162,
   "metadata": {
    "pycharm": {
     "name": "#%%\n"
    }
   },
   "outputs": [
    {
     "name": "stderr",
     "output_type": "stream",
     "text": [
      "/var/folders/zw/thvqht1n2q9ggd09wgsw76th0000gn/T/ipykernel_4787/3965726035.py:2: DataConversionWarning: A column-vector y was passed when a 1d array was expected. Please change the shape of y to (n_samples,), for example using ravel().\n",
      "  RF_clf.fit(X_train, y_train)\n"
     ]
    },
    {
     "data": {
      "text/plain": "RandomForestClassifier(max_depth=2, random_state=0)",
      "text/html": "<style>#sk-container-id-8 {color: black;background-color: white;}#sk-container-id-8 pre{padding: 0;}#sk-container-id-8 div.sk-toggleable {background-color: white;}#sk-container-id-8 label.sk-toggleable__label {cursor: pointer;display: block;width: 100%;margin-bottom: 0;padding: 0.3em;box-sizing: border-box;text-align: center;}#sk-container-id-8 label.sk-toggleable__label-arrow:before {content: \"▸\";float: left;margin-right: 0.25em;color: #696969;}#sk-container-id-8 label.sk-toggleable__label-arrow:hover:before {color: black;}#sk-container-id-8 div.sk-estimator:hover label.sk-toggleable__label-arrow:before {color: black;}#sk-container-id-8 div.sk-toggleable__content {max-height: 0;max-width: 0;overflow: hidden;text-align: left;background-color: #f0f8ff;}#sk-container-id-8 div.sk-toggleable__content pre {margin: 0.2em;color: black;border-radius: 0.25em;background-color: #f0f8ff;}#sk-container-id-8 input.sk-toggleable__control:checked~div.sk-toggleable__content {max-height: 200px;max-width: 100%;overflow: auto;}#sk-container-id-8 input.sk-toggleable__control:checked~label.sk-toggleable__label-arrow:before {content: \"▾\";}#sk-container-id-8 div.sk-estimator input.sk-toggleable__control:checked~label.sk-toggleable__label {background-color: #d4ebff;}#sk-container-id-8 div.sk-label input.sk-toggleable__control:checked~label.sk-toggleable__label {background-color: #d4ebff;}#sk-container-id-8 input.sk-hidden--visually {border: 0;clip: rect(1px 1px 1px 1px);clip: rect(1px, 1px, 1px, 1px);height: 1px;margin: -1px;overflow: hidden;padding: 0;position: absolute;width: 1px;}#sk-container-id-8 div.sk-estimator {font-family: monospace;background-color: #f0f8ff;border: 1px dotted black;border-radius: 0.25em;box-sizing: border-box;margin-bottom: 0.5em;}#sk-container-id-8 div.sk-estimator:hover {background-color: #d4ebff;}#sk-container-id-8 div.sk-parallel-item::after {content: \"\";width: 100%;border-bottom: 1px solid gray;flex-grow: 1;}#sk-container-id-8 div.sk-label:hover label.sk-toggleable__label {background-color: #d4ebff;}#sk-container-id-8 div.sk-serial::before {content: \"\";position: absolute;border-left: 1px solid gray;box-sizing: border-box;top: 0;bottom: 0;left: 50%;z-index: 0;}#sk-container-id-8 div.sk-serial {display: flex;flex-direction: column;align-items: center;background-color: white;padding-right: 0.2em;padding-left: 0.2em;position: relative;}#sk-container-id-8 div.sk-item {position: relative;z-index: 1;}#sk-container-id-8 div.sk-parallel {display: flex;align-items: stretch;justify-content: center;background-color: white;position: relative;}#sk-container-id-8 div.sk-item::before, #sk-container-id-8 div.sk-parallel-item::before {content: \"\";position: absolute;border-left: 1px solid gray;box-sizing: border-box;top: 0;bottom: 0;left: 50%;z-index: -1;}#sk-container-id-8 div.sk-parallel-item {display: flex;flex-direction: column;z-index: 1;position: relative;background-color: white;}#sk-container-id-8 div.sk-parallel-item:first-child::after {align-self: flex-end;width: 50%;}#sk-container-id-8 div.sk-parallel-item:last-child::after {align-self: flex-start;width: 50%;}#sk-container-id-8 div.sk-parallel-item:only-child::after {width: 0;}#sk-container-id-8 div.sk-dashed-wrapped {border: 1px dashed gray;margin: 0 0.4em 0.5em 0.4em;box-sizing: border-box;padding-bottom: 0.4em;background-color: white;}#sk-container-id-8 div.sk-label label {font-family: monospace;font-weight: bold;display: inline-block;line-height: 1.2em;}#sk-container-id-8 div.sk-label-container {text-align: center;}#sk-container-id-8 div.sk-container {/* jupyter's `normalize.less` sets `[hidden] { display: none; }` but bootstrap.min.css set `[hidden] { display: none !important; }` so we also need the `!important` here to be able to override the default hidden behavior on the sphinx rendered scikit-learn.org. See: https://github.com/scikit-learn/scikit-learn/issues/21755 */display: inline-block !important;position: relative;}#sk-container-id-8 div.sk-text-repr-fallback {display: none;}</style><div id=\"sk-container-id-8\" class=\"sk-top-container\"><div class=\"sk-text-repr-fallback\"><pre>RandomForestClassifier(max_depth=2, random_state=0)</pre><b>In a Jupyter environment, please rerun this cell to show the HTML representation or trust the notebook. <br />On GitHub, the HTML representation is unable to render, please try loading this page with nbviewer.org.</b></div><div class=\"sk-container\" hidden><div class=\"sk-item\"><div class=\"sk-estimator sk-toggleable\"><input class=\"sk-toggleable__control sk-hidden--visually\" id=\"sk-estimator-id-8\" type=\"checkbox\" checked><label for=\"sk-estimator-id-8\" class=\"sk-toggleable__label sk-toggleable__label-arrow\">RandomForestClassifier</label><div class=\"sk-toggleable__content\"><pre>RandomForestClassifier(max_depth=2, random_state=0)</pre></div></div></div></div></div>"
     },
     "execution_count": 162,
     "metadata": {},
     "output_type": "execute_result"
    }
   ],
   "source": [
    "RF_clf = RandomForestClassifier(max_depth=2, random_state=0)\n",
    "RF_clf.fit(X_train, y_train)"
   ]
  },
  {
   "cell_type": "code",
   "execution_count": 163,
   "metadata": {
    "pycharm": {
     "name": "#%%\n"
    }
   },
   "outputs": [
    {
     "name": "stderr",
     "output_type": "stream",
     "text": [
      "/Users/lyu/Opt/anaconda3/envs/m1_torch/lib/python3.8/site-packages/sklearn/base.py:443: UserWarning: X has feature names, but RandomForestClassifier was fitted without feature names\n",
      "  warnings.warn(\n"
     ]
    },
    {
     "data": {
      "text/plain": "0.7145242070116862"
     },
     "execution_count": 163,
     "metadata": {},
     "output_type": "execute_result"
    }
   ],
   "source": [
    "RF_clf.score(X_test, y_test)"
   ]
  },
  {
   "cell_type": "code",
   "execution_count": 164,
   "outputs": [
    {
     "data": {
      "text/plain": "100"
     },
     "execution_count": 164,
     "metadata": {},
     "output_type": "execute_result"
    }
   ],
   "source": [
    "len(RF_clf.estimators_)"
   ],
   "metadata": {
    "collapsed": false,
    "pycharm": {
     "name": "#%%\n"
    }
   }
  },
  {
   "cell_type": "code",
   "execution_count": 165,
   "metadata": {
    "pycharm": {
     "name": "#%%\n"
    }
   },
   "outputs": [
    {
     "data": {
      "text/plain": "'rf0_nshap.pdf'"
     },
     "execution_count": 165,
     "metadata": {},
     "output_type": "execute_result"
    }
   ],
   "source": [
    "dot_data = tree.export_graphviz(RF_clf.estimators_[0], out_file=None,\n",
    "                                filled=True, rounded=True,\n",
    "                                special_characters=True,\n",
    "                                feature_names=predictor_names,\n",
    "                                class_names=['Alive', 'Deceased'])\n",
    "graph = graphviz.Source(dot_data)\n",
    "graph.render(\"rf0_nshap\")"
   ]
  },
  {
   "cell_type": "code",
   "execution_count": 166,
   "outputs": [
    {
     "data": {
      "text/plain": "'rf1_nshap.pdf'"
     },
     "execution_count": 166,
     "metadata": {},
     "output_type": "execute_result"
    }
   ],
   "source": [
    "dot_data = tree.export_graphviz(RF_clf.estimators_[1], out_file=None,\n",
    "                                filled=True, rounded=True,\n",
    "                                special_characters=True,\n",
    "                                feature_names=predictor_names,\n",
    "                                class_names=['Alive', 'Deceased'])\n",
    "graph = graphviz.Source(dot_data)\n",
    "graph.render(\"rf1_nshap\")"
   ],
   "metadata": {
    "collapsed": false,
    "pycharm": {
     "name": "#%%\n"
    }
   }
  },
  {
   "cell_type": "markdown",
   "source": [
    "## Stacking"
   ],
   "metadata": {
    "collapsed": false,
    "pycharm": {
     "name": "#%% md\n"
    }
   }
  },
  {
   "cell_type": "code",
   "execution_count": 177,
   "outputs": [],
   "source": [
    "clfs = [RandomForestClassifier(n_estimators=25, n_jobs=-1, criterion='gini'),\n",
    "        RandomForestClassifier(n_estimators=25, n_jobs=-1, criterion='entropy'),\n",
    "        ExtraTreesClassifier(n_estimators=25, n_jobs=-1, criterion='gini'),\n",
    "        ExtraTreesClassifier(n_estimators=25, n_jobs=-1, criterion='entropy'),\n",
    "        GradientBoostingClassifier(learning_rate=0.05, subsample=0.5, max_depth=6, n_estimators=25)]\n",
    "\n",
    "n_folds = 8\n",
    "verbose = True\n",
    "shuffle = False"
   ],
   "metadata": {
    "collapsed": false,
    "pycharm": {
     "name": "#%%\n"
    }
   }
  },
  {
   "cell_type": "code",
   "execution_count": 178,
   "outputs": [
    {
     "name": "stdout",
     "output_type": "stream",
     "text": [
      "(2396, 19) (2396, 1)\n"
     ]
    }
   ],
   "source": [
    "X_train_v=np.array(X_train_v)\n",
    "y_train_v=np.array(y_train_v)\n",
    "dataset_blend_train = np.zeros((X_train_v.shape[0], len(clfs)))\n",
    "dataset_blend_test = np.zeros((X_test.shape[0], len(clfs)))\n",
    "print(X_train_v.shape,y_train_v.shape)"
   ],
   "metadata": {
    "collapsed": false,
    "pycharm": {
     "name": "#%%\n"
    }
   }
  },
  {
   "cell_type": "code",
   "execution_count": 179,
   "outputs": [
    {
     "name": "stdout",
     "output_type": "stream",
     "text": [
      "0 RandomForestClassifier(n_estimators=25, n_jobs=-1)\n",
      "Fold 0\n",
      "Fold 1\n",
      "Fold 2\n",
      "Fold 3\n"
     ]
    },
    {
     "name": "stderr",
     "output_type": "stream",
     "text": [
      "/var/folders/zw/thvqht1n2q9ggd09wgsw76th0000gn/T/ipykernel_4787/2262908299.py:11: DataConversionWarning: A column-vector y was passed when a 1d array was expected. Please change the shape of y to (n_samples,), for example using ravel().\n",
      "  clf.fit(X_train, y_train)\n",
      "/Users/lyu/Opt/anaconda3/envs/m1_torch/lib/python3.8/site-packages/sklearn/base.py:443: UserWarning: X has feature names, but RandomForestClassifier was fitted without feature names\n",
      "  warnings.warn(\n",
      "/var/folders/zw/thvqht1n2q9ggd09wgsw76th0000gn/T/ipykernel_4787/2262908299.py:11: DataConversionWarning: A column-vector y was passed when a 1d array was expected. Please change the shape of y to (n_samples,), for example using ravel().\n",
      "  clf.fit(X_train, y_train)\n",
      "/Users/lyu/Opt/anaconda3/envs/m1_torch/lib/python3.8/site-packages/sklearn/base.py:443: UserWarning: X has feature names, but RandomForestClassifier was fitted without feature names\n",
      "  warnings.warn(\n",
      "/var/folders/zw/thvqht1n2q9ggd09wgsw76th0000gn/T/ipykernel_4787/2262908299.py:11: DataConversionWarning: A column-vector y was passed when a 1d array was expected. Please change the shape of y to (n_samples,), for example using ravel().\n",
      "  clf.fit(X_train, y_train)\n",
      "/Users/lyu/Opt/anaconda3/envs/m1_torch/lib/python3.8/site-packages/sklearn/base.py:443: UserWarning: X has feature names, but RandomForestClassifier was fitted without feature names\n",
      "  warnings.warn(\n",
      "/var/folders/zw/thvqht1n2q9ggd09wgsw76th0000gn/T/ipykernel_4787/2262908299.py:11: DataConversionWarning: A column-vector y was passed when a 1d array was expected. Please change the shape of y to (n_samples,), for example using ravel().\n",
      "  clf.fit(X_train, y_train)\n",
      "/Users/lyu/Opt/anaconda3/envs/m1_torch/lib/python3.8/site-packages/sklearn/base.py:443: UserWarning: X has feature names, but RandomForestClassifier was fitted without feature names\n",
      "  warnings.warn(\n",
      "/var/folders/zw/thvqht1n2q9ggd09wgsw76th0000gn/T/ipykernel_4787/2262908299.py:11: DataConversionWarning: A column-vector y was passed when a 1d array was expected. Please change the shape of y to (n_samples,), for example using ravel().\n",
      "  clf.fit(X_train, y_train)\n",
      "/Users/lyu/Opt/anaconda3/envs/m1_torch/lib/python3.8/site-packages/sklearn/base.py:443: UserWarning: X has feature names, but RandomForestClassifier was fitted without feature names\n",
      "  warnings.warn(\n",
      "/var/folders/zw/thvqht1n2q9ggd09wgsw76th0000gn/T/ipykernel_4787/2262908299.py:11: DataConversionWarning: A column-vector y was passed when a 1d array was expected. Please change the shape of y to (n_samples,), for example using ravel().\n",
      "  clf.fit(X_train, y_train)\n",
      "/Users/lyu/Opt/anaconda3/envs/m1_torch/lib/python3.8/site-packages/sklearn/base.py:443: UserWarning: X has feature names, but RandomForestClassifier was fitted without feature names\n",
      "  warnings.warn(\n",
      "/var/folders/zw/thvqht1n2q9ggd09wgsw76th0000gn/T/ipykernel_4787/2262908299.py:11: DataConversionWarning: A column-vector y was passed when a 1d array was expected. Please change the shape of y to (n_samples,), for example using ravel().\n",
      "  clf.fit(X_train, y_train)\n",
      "/Users/lyu/Opt/anaconda3/envs/m1_torch/lib/python3.8/site-packages/sklearn/base.py:443: UserWarning: X has feature names, but RandomForestClassifier was fitted without feature names\n",
      "  warnings.warn(\n",
      "/var/folders/zw/thvqht1n2q9ggd09wgsw76th0000gn/T/ipykernel_4787/2262908299.py:11: DataConversionWarning: A column-vector y was passed when a 1d array was expected. Please change the shape of y to (n_samples,), for example using ravel().\n",
      "  clf.fit(X_train, y_train)\n"
     ]
    },
    {
     "name": "stdout",
     "output_type": "stream",
     "text": [
      "Fold 4\n",
      "Fold 5\n",
      "Fold 6\n",
      "Fold 7\n",
      "1 RandomForestClassifier(criterion='entropy', n_estimators=25, n_jobs=-1)\n",
      "2 ExtraTreesClassifier(n_estimators=25, n_jobs=-1)\n",
      "3 ExtraTreesClassifier(criterion='entropy', n_estimators=25, n_jobs=-1)\n",
      "4 GradientBoostingClassifier(learning_rate=0.05, max_depth=6, n_estimators=25,\n",
      "                           subsample=0.5)\n"
     ]
    },
    {
     "name": "stderr",
     "output_type": "stream",
     "text": [
      "/Users/lyu/Opt/anaconda3/envs/m1_torch/lib/python3.8/site-packages/sklearn/base.py:443: UserWarning: X has feature names, but RandomForestClassifier was fitted without feature names\n",
      "  warnings.warn(\n"
     ]
    }
   ],
   "source": [
    "skf = StratifiedKFold(n_folds).split(X_train_v,y_train_v)\n",
    "for j, clf in enumerate(clfs):\n",
    "    print(j, clf)\n",
    "    dataset_blend_test_j = np.zeros((X_test.shape[0], n_folds))\n",
    "    for i, (train, test) in enumerate(skf):\n",
    "        print(\"Fold\", i)\n",
    "        X_train = X_train_v[train]\n",
    "        y_train = y_train_v[train]\n",
    "        X_test_temp = X_train_v[test]\n",
    "        y_test_temp = y_train_v[test]\n",
    "        clf.fit(X_train, y_train)\n",
    "        y_submission = clf.predict_proba(X_test_temp)[:, 1]\n",
    "        dataset_blend_train[test, j] = y_submission\n",
    "        dataset_blend_test_j[:, i] = clf.predict_proba(X_test)[:, 1]\n",
    "    dataset_blend_test[:, j] = dataset_blend_test_j.mean(1)"
   ],
   "metadata": {
    "collapsed": false,
    "pycharm": {
     "name": "#%%\n"
    }
   }
  },
  {
   "cell_type": "code",
   "execution_count": 180,
   "outputs": [
    {
     "data": {
      "text/plain": "array([[0.  , 0.  , 0.  , 0.  , 0.  ],\n       [0.64, 0.  , 0.  , 0.  , 0.  ],\n       [0.64, 0.  , 0.  , 0.  , 0.  ],\n       ...,\n       [0.52, 0.  , 0.  , 0.  , 0.  ],\n       [0.36, 0.  , 0.  , 0.  , 0.  ],\n       [0.24, 0.  , 0.  , 0.  , 0.  ]])"
     },
     "execution_count": 180,
     "metadata": {},
     "output_type": "execute_result"
    }
   ],
   "source": [
    "dataset_blend_train"
   ],
   "metadata": {
    "collapsed": false,
    "pycharm": {
     "name": "#%%\n"
    }
   }
  },
  {
   "cell_type": "code",
   "execution_count": 181,
   "outputs": [
    {
     "name": "stderr",
     "output_type": "stream",
     "text": [
      "/Users/lyu/Opt/anaconda3/envs/m1_torch/lib/python3.8/site-packages/sklearn/utils/validation.py:1111: DataConversionWarning: A column-vector y was passed when a 1d array was expected. Please change the shape of y to (n_samples, ), for example using ravel().\n",
      "  y = column_or_1d(y, warn=True)\n"
     ]
    },
    {
     "data": {
      "text/plain": "array([0.59375403, 0.31775206, 0.14393427, 0.31326156, 0.25033742,\n       0.54794404, 0.22765975, 0.18363896, 0.21336737, 0.38883232,\n       0.22043049, 0.23133653, 0.3088058 , 0.43922922, 0.35485271,\n       0.32683494, 0.10758191, 0.56845249, 0.26626798, 0.28282985,\n       0.45464723, 0.19643727, 0.18054221, 0.24261424, 0.49610878,\n       0.11371911, 0.12237497, 0.62346128, 0.10560182, 0.22402438,\n       0.10173791, 0.25822262, 0.21687814, 0.59875963, 0.26626798,\n       0.16281401, 0.48571597, 0.13641742, 0.13888559, 0.22043049,\n       0.50650496, 0.15722472, 0.35962719, 0.12691193, 0.57862383,\n       0.38390255, 0.32227672, 0.40375498, 0.56334453, 0.66164011,\n       0.12237497, 0.12015927, 0.12237497, 0.28282985, 0.16281401,\n       0.22402438, 0.24645547, 0.50650496, 0.1997402 , 0.59375403,\n       0.18363896, 0.45464723, 0.12462575, 0.54278857, 0.43411435,\n       0.17447115, 0.43411435, 0.18054221, 0.60870835, 0.31775206,\n       0.56845249, 0.54278857, 0.21687814, 0.09799988, 0.17149653,\n       0.21336737, 0.25425987, 0.12462575, 0.19317577, 0.39378493,\n       0.35010696, 0.28282985, 0.15448911, 0.57862383, 0.18363896,\n       0.12015927, 0.25425987, 0.59375403, 0.12237497, 0.12462575,\n       0.12691193, 0.18054221, 0.24261424, 0.37899652, 0.12237497,\n       0.19317577, 0.16856226, 0.29565232, 0.63798878, 0.54278857,\n       0.52727147, 0.15722472, 0.12237497, 0.51689551, 0.12691193,\n       0.19643727, 0.20647063, 0.19643727, 0.60374472, 0.31326156,\n       0.54794404, 0.13159187, 0.22765975, 0.17447115, 0.36925921,\n       0.27447126, 0.31326156, 0.42901348, 0.49610878, 0.1491347 ,\n       0.22043049, 0.29134077, 0.31326156, 0.24645547, 0.36925921,\n       0.13398628, 0.30438533, 0.18995562, 0.3088058 , 0.15722472,\n       0.25033742, 0.57354594, 0.45464723, 0.14651537, 0.20308464,\n       0.16566816, 0.28706647, 0.29565232, 0.25425987, 0.48571597,\n       0.25822262, 0.26626798, 0.66164011, 0.52208587, 0.43922922,\n       0.12923386, 0.12237497, 0.14139111, 0.20308464, 0.45980745,\n       0.25425987, 0.3088058 , 0.37411512, 0.25425987, 0.54794404,\n       0.17149653, 0.21687814, 0.52208587, 0.27447126, 0.3453907 ,\n       0.18363896, 0.11371911, 0.10758191, 0.32227672, 0.22765975,\n       0.2098982 , 0.45464723, 0.1491347 , 0.33604957, 0.29134077,\n       0.19317577, 0.12923386, 0.36442962, 0.4753355 , 0.39378493,\n       0.19643727, 0.19317577, 0.25822262, 0.12462575, 0.15999961,\n       0.29134077, 0.26222542, 0.10365394, 0.56334453, 0.45980745,\n       0.57862383, 0.31326156, 0.1491347 , 0.75548124, 0.33604957,\n       0.13641742, 0.22765975, 0.7150687 , 0.25425987, 0.45980745,\n       0.21336737, 0.18054221, 0.28706647, 0.52208587, 0.13159187,\n       0.17748633, 0.71081329, 0.22402438, 0.2098982 , 0.30000066,\n       0.27447126, 0.12237497, 0.19317577, 0.33142611, 0.24261424,\n       0.17149653, 0.27035004, 0.25033742, 0.17447115, 0.31775206,\n       0.27447126, 0.3453907 , 0.43922922, 0.12462575, 0.4753355 ,\n       0.36925921, 0.21336737, 0.16281401, 0.31326156, 0.1997402 ,\n       0.42901348, 0.51170149, 0.14393427, 0.26222542, 0.45464723,\n       0.36925921, 0.37899652, 0.20647063, 0.15179252, 0.13159187,\n       0.15179252, 0.42901348, 0.43922922, 0.20647063, 0.54794404,\n       0.40877054, 0.29134077, 0.53762393, 0.36442962, 0.26222542,\n       0.29134077, 0.33604957, 0.16281401, 0.18054221, 0.48052363,\n       0.20308464, 0.10365394, 0.4909114 , 0.27447126, 0.54278857,\n       0.57862383, 0.27863132, 0.42392764, 0.12923386, 0.66164011,\n       0.20308464, 0.64753738, 0.29565232, 0.35962719, 0.12923386,\n       0.11371911, 0.40877054, 0.42901348, 0.52727147, 0.48052363,\n       0.18363896, 0.16281401, 0.11164019, 0.11164019, 0.35962719,\n       0.11797829, 0.23133653, 0.51689551, 0.22043049, 0.11797829,\n       0.40877054, 0.43922922, 0.22043049, 0.15448911, 0.26626798,\n       0.16281401, 0.19643727, 0.31775206, 0.43411435, 0.36442962,\n       0.16566816, 0.21336737, 0.55822309, 0.38883232, 0.15448911,\n       0.58368514, 0.13888559, 0.21687814, 0.25033742, 0.45464723,\n       0.25033742, 0.29134077, 0.30438533, 0.48571597, 0.14651537,\n       0.66627938, 0.66627938, 0.58368514, 0.15179252, 0.33142611,\n       0.14139111, 0.15722472, 0.24261424, 0.1491347 , 0.19317577,\n       0.50650496, 0.3088058 , 0.25822262, 0.13398628, 0.32683494,\n       0.15448911, 0.13888559, 0.30000066, 0.60870835, 0.10758191,\n       0.39378493, 0.36442962, 0.26626798, 0.48052363, 0.59375403,\n       0.10365394, 0.14651537, 0.26626798, 0.31326156, 0.25425987,\n       0.33604957, 0.12462575, 0.17447115, 0.17748633, 0.22043049,\n       0.37411512, 0.13888559, 0.18677672, 0.2388139 , 0.42901348,\n       0.13398628, 0.45980745, 0.37899652, 0.17149653, 0.53245119,\n       0.45980745, 0.16566816, 0.16281401, 0.64753738, 0.45464723,\n       0.23505462, 0.14139111, 0.18677672, 0.18054221, 0.25425987,\n       0.51689551, 0.27447126, 0.58872887, 0.33142611, 0.36442962,\n       0.21336737, 0.10173791, 0.42392764, 0.22043049, 0.15722472,\n       0.27035004, 0.15448911, 0.44949673, 0.4909114 , 0.27447126,\n       0.17748633, 0.26626798, 0.27447126, 0.25822262, 0.27447126,\n       0.20308464, 0.27447126, 0.15179252, 0.11797829, 0.15999961,\n       0.34070467, 0.26222542, 0.13159187, 0.38390255, 0.14393427,\n       0.19643727, 0.50130701, 0.59375403, 0.66627938, 0.64753738,\n       0.39378493, 0.56845249, 0.32683494, 0.51170149, 0.63317274,\n       0.10173791, 0.30000066, 0.41380516, 0.15722472, 0.13888559,\n       0.42392764, 0.15722472, 0.44949673, 0.47015269, 0.18363896,\n       0.10173791, 0.12237497, 0.2098982 , 0.48571597, 0.16281401,\n       0.35485271, 0.2098982 , 0.4909114 , 0.27863132, 0.44435704,\n       0.12015927, 0.12923386, 0.3088058 , 0.22402438, 0.17748633,\n       0.25425987, 0.44949673, 0.45980745, 0.21336737, 0.13159187,\n       0.11797829, 0.24645547, 0.37411512, 0.11583169, 0.42901348,\n       0.37411512, 0.50130701, 0.47015269, 0.12237497, 0.51689551,\n       0.63798878, 0.67546137, 0.2388139 , 0.1491347 , 0.22043049,\n       0.17748633, 0.30000066, 0.60870835, 0.45464723, 0.39378493,\n       0.60870835, 0.43411435, 0.25033742, 0.41380516, 0.1491347 ,\n       0.43922922, 0.30438533, 0.69782406, 0.23505462, 0.14139111,\n       0.37411512, 0.13888559, 0.20647063, 0.26222542, 0.10758191,\n       0.63798878, 0.16856226, 0.32683494, 0.51170149, 0.62832997,\n       0.17149653, 0.20308464, 0.16856226, 0.28282985, 0.35485271,\n       0.27035004, 0.23505462, 0.51689551, 0.25425987, 0.27035004,\n       0.15448911, 0.60374472, 0.10959458, 0.16566816, 0.35485271,\n       0.51170149, 0.14393427, 0.27035004, 0.44949673, 0.38883232,\n       0.18995562, 0.1997402 , 0.2388139 , 0.25033742, 0.15448911,\n       0.3453907 , 0.44435704, 0.53245119, 0.25033742, 0.30000066,\n       0.22765975, 0.22043049, 0.33142611, 0.28282985, 0.17447115,\n       0.26626798, 0.21687814, 0.12462575, 0.37411512, 0.16281401,\n       0.15999961, 0.2098982 , 0.12237497, 0.63798878, 0.23133653,\n       0.17748633, 0.61364958, 0.32683494, 0.11797829, 0.12691193,\n       0.61856752, 0.25425987, 0.13159187, 0.66164011, 0.1997402 ,\n       0.20308464, 0.49610878, 0.37899652, 0.26626798, 0.25033742,\n       0.18363896, 0.39378493, 0.26222542, 0.12237497, 0.30438533,\n       0.20308464, 0.33604957, 0.3088058 , 0.27863132, 0.37411512,\n       0.52208587, 0.44949673, 0.17149653, 0.16856226, 0.4909114 ,\n       0.41380516, 0.61364958, 0.15722472, 0.23133653, 0.68451034,\n       0.16566816, 0.35962719, 0.49610878, 0.22043049, 0.42901348,\n       0.19317577, 0.48571597, 0.55308924, 0.14139111, 0.3453907 ,\n       0.29134077, 0.1997402 , 0.36442962, 0.38883232, 0.41380516,\n       0.3088058 , 0.16281401, 0.30000066, 0.28282985, 0.18363896,\n       0.15722472, 0.28282985, 0.18054221, 0.20647063, 0.16566816,\n       0.29134077, 0.53762393, 0.11797829, 0.24645547, 0.56334453,\n       0.18995562, 0.18995562, 0.28706647, 0.3088058 , 0.18677672,\n       0.31326156, 0.44949673, 0.28706647, 0.4909114 , 0.14651537,\n       0.36442962, 0.33604957, 0.15999961, 0.40877054, 0.2388139 ,\n       0.22765975, 0.44949673, 0.4649763 , 0.36925921])"
     },
     "execution_count": 181,
     "metadata": {},
     "output_type": "execute_result"
    }
   ],
   "source": [
    "clf = LogisticRegression()\n",
    "clf.fit(dataset_blend_train, y_train_v)\n",
    "y_submission = clf.predict_proba(dataset_blend_test)[:, 1]\n",
    "#y_submission = (y_submission - y_submission.min()) / (y_submission.max() - y_submission.min())\n",
    "y_submission"
   ],
   "metadata": {
    "collapsed": false,
    "pycharm": {
     "name": "#%%\n"
    }
   }
  },
  {
   "cell_type": "code",
   "execution_count": 150,
   "outputs": [
    {
     "data": {
      "text/plain": "      deceased\n1374       0.0\n2110       0.0\n321        0.0\n2097       1.0\n1578       0.0\n...        ...\n2337       0.0\n1192       0.0\n226        1.0\n1911       1.0\n2728       1.0\n\n[599 rows x 1 columns]",
      "text/html": "<div>\n<style scoped>\n    .dataframe tbody tr th:only-of-type {\n        vertical-align: middle;\n    }\n\n    .dataframe tbody tr th {\n        vertical-align: top;\n    }\n\n    .dataframe thead th {\n        text-align: right;\n    }\n</style>\n<table border=\"1\" class=\"dataframe\">\n  <thead>\n    <tr style=\"text-align: right;\">\n      <th></th>\n      <th>deceased</th>\n    </tr>\n  </thead>\n  <tbody>\n    <tr>\n      <th>1374</th>\n      <td>0.0</td>\n    </tr>\n    <tr>\n      <th>2110</th>\n      <td>0.0</td>\n    </tr>\n    <tr>\n      <th>321</th>\n      <td>0.0</td>\n    </tr>\n    <tr>\n      <th>2097</th>\n      <td>1.0</td>\n    </tr>\n    <tr>\n      <th>1578</th>\n      <td>0.0</td>\n    </tr>\n    <tr>\n      <th>...</th>\n      <td>...</td>\n    </tr>\n    <tr>\n      <th>2337</th>\n      <td>0.0</td>\n    </tr>\n    <tr>\n      <th>1192</th>\n      <td>0.0</td>\n    </tr>\n    <tr>\n      <th>226</th>\n      <td>1.0</td>\n    </tr>\n    <tr>\n      <th>1911</th>\n      <td>1.0</td>\n    </tr>\n    <tr>\n      <th>2728</th>\n      <td>1.0</td>\n    </tr>\n  </tbody>\n</table>\n<p>599 rows × 1 columns</p>\n</div>"
     },
     "execution_count": 150,
     "metadata": {},
     "output_type": "execute_result"
    }
   ],
   "source": [
    "y_test"
   ],
   "metadata": {
    "collapsed": false,
    "pycharm": {
     "name": "#%%\n"
    }
   }
  },
  {
   "cell_type": "code",
   "execution_count": 155,
   "outputs": [
    {
     "data": {
      "text/plain": "[<matplotlib.lines.Line2D at 0x7f83ba4f7c70>]"
     },
     "execution_count": 155,
     "metadata": {},
     "output_type": "execute_result"
    },
    {
     "data": {
      "text/plain": "<Figure size 640x480 with 1 Axes>",
      "image/png": "[encoded data removed]"
     },
     "metadata": {},
     "output_type": "display_data"
    }
   ],
   "source": [
    "fpr,tpr,thr=metrics.roc_curve(y_test,y_submission)\n",
    "plt.plot(fpr,tpr)"
   ],
   "metadata": {
    "collapsed": false,
    "pycharm": {
     "name": "#%%\n"
    }
   }
  },
  {
   "cell_type": "code",
   "execution_count": 154,
   "outputs": [
    {
     "data": {
      "text/plain": "0.7701212938005391"
     },
     "execution_count": 154,
     "metadata": {},
     "output_type": "execute_result"
    }
   ],
   "source": [
    "metrics.roc_auc_score(y_test,y_submission)"
   ],
   "metadata": {
    "collapsed": false,
    "pycharm": {
     "name": "#%%\n"
    }
   }
  },
  {
   "cell_type": "code",
   "execution_count": 157,
   "outputs": [
    {
     "data": {
      "text/plain": "0.35121892629632195"
     },
     "execution_count": 157,
     "metadata": {},
     "output_type": "execute_result"
    }
   ],
   "source": [
    "thre=thr[np.argmax(np.array(tpr)-np.array(fpr))]\n",
    "thre"
   ],
   "metadata": {
    "collapsed": false,
    "pycharm": {
     "name": "#%%\n"
    }
   }
  },
  {
   "cell_type": "code",
   "execution_count": 182,
   "outputs": [
    {
     "data": {
      "text/plain": "0.7579298831385642"
     },
     "execution_count": 182,
     "metadata": {},
     "output_type": "execute_result"
    }
   ],
   "source": [
    "thre=0.5\n",
    "y_pred=[ int(y>thre) for y in y_submission ]\n",
    "acc=metrics.accuracy_score(y_pred,y_test)\n",
    "acc"
   ],
   "metadata": {
    "collapsed": false,
    "pycharm": {
     "name": "#%%\n"
    }
   }
  },
  {
   "cell_type": "code",
   "execution_count": null,
   "outputs": [],
   "source": [],
   "metadata": {
    "collapsed": false,
    "pycharm": {
     "name": "#%%\n"
    }
   }
  }
 ],
 "metadata": {
  "kernelspec": {
   "display_name": "MACS",
   "language": "python",
   "name": "python3"
  },
  "language_info": {
   "codemirror_mode": {
    "name": "ipython",
    "version": 3
   },
   "file_extension": ".py",
   "mimetype": "text/x-python",
   "name": "python",
   "nbconvert_exporter": "python",
   "pygments_lexer": "ipython3",
   "version": "3.9.16 (main, Jan 11 2023, 10:02:19) \n[Clang 14.0.6 ]"
  },
  "orig_nbformat": 4,
  "vscode": {
   "interpreter": {
    "hash": "5febda9ea3b33ffdc95c888fff59ec7615aa10294cac48f80c25517e6a63b54a"
   }
  }
 },
 "nbformat": 4,
 "nbformat_minor": 2
}