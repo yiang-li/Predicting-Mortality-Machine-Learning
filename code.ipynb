{
 "cells": [
  {
   "cell_type": "code",
   "execution_count": 115,
   "metadata": {},
   "outputs": [],
   "source": [
    "import numpy as np\n",
    "import pandas as pd\n",
    "import math"
   ]
  },
  {
   "cell_type": "code",
   "execution_count": 167,
   "metadata": {},
   "outputs": [],
   "source": [
    "data_raw = pd.read_csv('nshap_w1_w2_w3_core_disposition.csv',\n",
    "                       low_memory=False)"
   ]
  },
  {
   "attachments": {},
   "cell_type": "markdown",
   "metadata": {},
   "source": [
    "## Data cleaning"
   ]
  },
  {
   "cell_type": "code",
   "execution_count": 190,
   "metadata": {},
   "outputs": [
    {
     "name": "stdout",
     "output_type": "stream",
     "text": [
      "Total observations: 6069\n",
      "Removed follow-up 3064 respondents without W1 observations\n",
      "Removed follow-up 50 respondents without disposition statuses\n",
      "Sample frame has 2955 respondents\n"
     ]
    }
   ],
   "source": [
    "# Since the data contains original cohort and follow-up cohort, we need to filter out the follow-up cohort\n",
    "print(\"Total observations: {}\".format(len(data_raw)))\n",
    "data_w1 = data_raw[~data_raw['w1WEIGHT_ADJ'].isnull()]\n",
    "print(\"Removed follow-up {} respondents without W1 observations\".format(len(data_raw) - len(data_w1)))\n",
    "data_decease= data_w1[data_w1.notnull()].copy()\n",
    "data_decease['deceased'] = data_decease['w3DECEASED']\n",
    "data_decease[data_decease['deceased'] == 'Unknown'] = np.nan\n",
    "data_decease['deceased'].fillna(data_decease['w2DECEASED'], inplace=True)\n",
    "data_decease[data_decease['deceased'] == 'Unknown'] = np.nan\n",
    "data_complete = data_decease[data_decease['deceased'].notnull()]\n",
    "print(\"Removed follow-up {} respondents without disposition statuses\".format(len(data_w1) - len(data_complete)))\n",
    "print(\"Sample frame has {} respondents\".format(len(data_complete)))\n",
    "# data_w3_missing = data_w1.iloc[(data_w1['w3DECEASED'] == 'Unknown').values]\n",
    "# data_w3_missing = data_w3_missing.assign(deceased=data_w3_missing['w2DECEASED'])\n",
    "# data_w3_nona = data_w1[(data_w1['w3DECEASED'] != 'Unknown').values]\n",
    "# data_w3_nona = data_w3_nona.assign(deceased=data_w3_nona['w3DECEASED'])\n",
    "# data_complete = pd.concat([data_w3_missing, data_w3_nona])"
   ]
  },
  {
   "cell_type": "code",
   "execution_count": 191,
   "metadata": {},
   "outputs": [
    {
     "data": {
      "text/plain": [
       "Alive       2062\n",
       "Deceased     893\n",
       "Unknown        0\n",
       "Name: deceased, dtype: int64"
      ]
     },
     "execution_count": 191,
     "metadata": {},
     "output_type": "execute_result"
    }
   ],
   "source": [
    "data_complete['deceased'].value_counts()"
   ]
  },
  {
   "cell_type": "code",
   "execution_count": 222,
   "metadata": {},
   "outputs": [],
   "source": [
    "data = data_complete[['ID','deceased', 'w1AGE', 'w1DIASTOLIC_MEAN', 'w1SYSTOLIC_MEAN',\n",
    "                      'w1BMI', 'w1HBA1C', 'w1CRP', 'w1DHEA_1', 'w1DHEA_2',\n",
    "                      'w1SMOKECIG', 'w1ALCOHOL', 'w1PHYSACT',\n",
    "                      'w1EDUC', 'w1HSASSETS_RECODE', 'w1MARITLST',\n",
    "                      'w1PHYSHLTH', 'w1MNTLHLTH', 'w1CONDITNS_3', 'w1WALKBLK']]\n"
   ]
  },
  {
   "cell_type": "code",
   "execution_count": 223,
   "metadata": {},
   "outputs": [],
   "source": [
    "cat_col = ['ID', 'deceased', 'w1ALCOHOL', 'w1HSASSETS_RECODE', 'w1MARITLST', \n",
    "           'w1CONDITNS_3', 'w1WALKBLK', 'w1SMOKECIG', 'w1EDUC',\n",
    "           'w1PHYSACT', 'w1PHYSHLTH', 'w1MNTLHLTH']\n",
    "data_cat = data[data[cat_col].notnull()].copy()[cat_col]    \n",
    "for col in cat_col:\n",
    "    data_cat[col] = data_cat[col].astype('category')"
   ]
  },
  {
   "cell_type": "code",
   "execution_count": 224,
   "metadata": {},
   "outputs": [
    {
     "data": {
      "text/html": [
       "<div>\n",
       "<style scoped>\n",
       "    .dataframe tbody tr th:only-of-type {\n",
       "        vertical-align: middle;\n",
       "    }\n",
       "\n",
       "    .dataframe tbody tr th {\n",
       "        vertical-align: top;\n",
       "    }\n",
       "\n",
       "    .dataframe thead th {\n",
       "        text-align: right;\n",
       "    }\n",
       "</style>\n",
       "<table border=\"1\" class=\"dataframe\">\n",
       "  <thead>\n",
       "    <tr style=\"text-align: right;\">\n",
       "      <th></th>\n",
       "      <th>w1AGE</th>\n",
       "      <th>w1DIASTOLIC_MEAN</th>\n",
       "      <th>w1SYSTOLIC_MEAN</th>\n",
       "      <th>w1BMI</th>\n",
       "      <th>w1HBA1C</th>\n",
       "      <th>w1CRP</th>\n",
       "      <th>w1dhea_mean</th>\n",
       "    </tr>\n",
       "  </thead>\n",
       "  <tbody>\n",
       "    <tr>\n",
       "      <th>count</th>\n",
       "      <td>2955.000000</td>\n",
       "      <td>2885.000000</td>\n",
       "      <td>2885.000000</td>\n",
       "      <td>2742.000000</td>\n",
       "      <td>1723.000000</td>\n",
       "      <td>1912.000000</td>\n",
       "      <td>2358.000000</td>\n",
       "    </tr>\n",
       "    <tr>\n",
       "      <th>mean</th>\n",
       "      <td>69.314382</td>\n",
       "      <td>80.757712</td>\n",
       "      <td>137.111496</td>\n",
       "      <td>29.106261</td>\n",
       "      <td>6.098665</td>\n",
       "      <td>3.190121</td>\n",
       "      <td>53.440017</td>\n",
       "    </tr>\n",
       "    <tr>\n",
       "      <th>std</th>\n",
       "      <td>7.864177</td>\n",
       "      <td>12.077954</td>\n",
       "      <td>20.488770</td>\n",
       "      <td>6.286749</td>\n",
       "      <td>1.029052</td>\n",
       "      <td>6.043655</td>\n",
       "      <td>123.756165</td>\n",
       "    </tr>\n",
       "    <tr>\n",
       "      <th>min</th>\n",
       "      <td>57.000000</td>\n",
       "      <td>44.000000</td>\n",
       "      <td>78.000000</td>\n",
       "      <td>14.063041</td>\n",
       "      <td>4.200000</td>\n",
       "      <td>0.000000</td>\n",
       "      <td>2.000000</td>\n",
       "    </tr>\n",
       "    <tr>\n",
       "      <th>25%</th>\n",
       "      <td>62.000000</td>\n",
       "      <td>72.500000</td>\n",
       "      <td>122.500000</td>\n",
       "      <td>24.870780</td>\n",
       "      <td>5.500000</td>\n",
       "      <td>0.635750</td>\n",
       "      <td>18.691250</td>\n",
       "    </tr>\n",
       "    <tr>\n",
       "      <th>50%</th>\n",
       "      <td>69.000000</td>\n",
       "      <td>80.000000</td>\n",
       "      <td>135.000000</td>\n",
       "      <td>28.241293</td>\n",
       "      <td>5.800000</td>\n",
       "      <td>1.537500</td>\n",
       "      <td>35.255000</td>\n",
       "    </tr>\n",
       "    <tr>\n",
       "      <th>75%</th>\n",
       "      <td>76.000000</td>\n",
       "      <td>88.500000</td>\n",
       "      <td>149.500000</td>\n",
       "      <td>32.141636</td>\n",
       "      <td>6.300000</td>\n",
       "      <td>3.520500</td>\n",
       "      <td>64.913749</td>\n",
       "    </tr>\n",
       "    <tr>\n",
       "      <th>max</th>\n",
       "      <td>85.000000</td>\n",
       "      <td>133.666672</td>\n",
       "      <td>233.000000</td>\n",
       "      <td>75.600655</td>\n",
       "      <td>14.200000</td>\n",
       "      <td>100.000000</td>\n",
       "      <td>5000.000000</td>\n",
       "    </tr>\n",
       "  </tbody>\n",
       "</table>\n",
       "</div>"
      ],
      "text/plain": [
       "             w1AGE  w1DIASTOLIC_MEAN  w1SYSTOLIC_MEAN        w1BMI  \\\n",
       "count  2955.000000       2885.000000      2885.000000  2742.000000   \n",
       "mean     69.314382         80.757712       137.111496    29.106261   \n",
       "std       7.864177         12.077954        20.488770     6.286749   \n",
       "min      57.000000         44.000000        78.000000    14.063041   \n",
       "25%      62.000000         72.500000       122.500000    24.870780   \n",
       "50%      69.000000         80.000000       135.000000    28.241293   \n",
       "75%      76.000000         88.500000       149.500000    32.141636   \n",
       "max      85.000000        133.666672       233.000000    75.600655   \n",
       "\n",
       "           w1HBA1C        w1CRP  w1dhea_mean  \n",
       "count  1723.000000  1912.000000  2358.000000  \n",
       "mean      6.098665     3.190121    53.440017  \n",
       "std       1.029052     6.043655   123.756165  \n",
       "min       4.200000     0.000000     2.000000  \n",
       "25%       5.500000     0.635750    18.691250  \n",
       "50%       5.800000     1.537500    35.255000  \n",
       "75%       6.300000     3.520500    64.913749  \n",
       "max      14.200000   100.000000  5000.000000  "
      ]
     },
     "execution_count": 224,
     "metadata": {},
     "output_type": "execute_result"
    }
   ],
   "source": [
    "ord_col = ['w1AGE', 'w1DIASTOLIC_MEAN', 'w1SYSTOLIC_MEAN', 'w1BMI', 'w1HBA1C', \n",
    "           'w1CRP', 'w1DHEA_1', 'w1DHEA_2']\n",
    "data_ord = data[data[ord_col].notnull()].copy()[ord_col]    \n",
    "for col in ord_col:\n",
    "    data_ord[col] = pd.to_numeric(data_ord[col], errors='coerce')\n",
    "data_ord['w1dhea_mean'] = data_ord[['w1DHEA_1', 'w1DHEA_2']].mean(axis=1)\n",
    "data_ord = data_ord.drop(['w1DHEA_1', 'w1DHEA_2'], axis=1)\n",
    "data_ord[data_ord < 0] = np.nan\n",
    "data_ord.describe()"
   ]
  },
  {
   "cell_type": "code",
   "execution_count": 217,
   "metadata": {},
   "outputs": [],
   "source": [
    "data = pd.concat([data_cat, data_ord], axis=1)"
   ]
  },
  {
   "cell_type": "code",
   "execution_count": 218,
   "metadata": {},
   "outputs": [
    {
     "data": {
      "text/plain": [
       "ID                   category\n",
       "deceased             category\n",
       "w1ALCOHOL            category\n",
       "w1HSASSETS_RECODE    category\n",
       "w1MARITLST           category\n",
       "w1CONDITNS_3         category\n",
       "w1WALKBLK            category\n",
       "w1SMOKECIG           category\n",
       "w1EDUC               category\n",
       "w1PHYSACT            category\n",
       "w1PHYSHLTH           category\n",
       "w1MNTLHLTH           category\n",
       "w1AGE                 float64\n",
       "w1DIASTOLIC_MEAN      float64\n",
       "w1SYSTOLIC_MEAN       float64\n",
       "w1BMI                 float64\n",
       "w1HBA1C               float64\n",
       "w1CRP                 float64\n",
       "w1dhea_mean           float64\n",
       "dtype: object"
      ]
     },
     "execution_count": 218,
     "metadata": {},
     "output_type": "execute_result"
    }
   ],
   "source": [
    "data.dtypes"
   ]
  },
  {
   "cell_type": "code",
   "execution_count": null,
   "metadata": {},
   "outputs": [],
   "source": []
  }
 ],
 "metadata": {
  "kernelspec": {
   "display_name": "MACS",
   "language": "python",
   "name": "python3"
  },
  "language_info": {
   "codemirror_mode": {
    "name": "ipython",
    "version": 3
   },
   "file_extension": ".py",
   "mimetype": "text/x-python",
   "name": "python",
   "nbconvert_exporter": "python",
   "pygments_lexer": "ipython3",
   "version": "3.9.16"
  },
  "orig_nbformat": 4,
  "vscode": {
   "interpreter": {
    "hash": "5febda9ea3b33ffdc95c888fff59ec7615aa10294cac48f80c25517e6a63b54a"
   }
  }
 },
 "nbformat": 4,
 "nbformat_minor": 2
}
