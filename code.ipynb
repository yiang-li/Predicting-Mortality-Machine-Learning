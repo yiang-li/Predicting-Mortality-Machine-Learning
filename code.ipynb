{
 "cells": [
  {
   "cell_type": "code",
   "execution_count": 7,
   "metadata": {},
   "outputs": [],
   "source": [
    "import numpy as np\n",
    "import pandas as pd\n",
    "import math\n",
    "import matplotlib.pyplot as plt\n",
    "import seaborn as sns\n",
    "import sklearn.tree as tree\n",
    "from sklearn.ensemble import RandomForestClassifier\n",
    "from sklearn.model_selection import train_test_split\n",
    "import graphviz"
   ]
  },
  {
   "cell_type": "code",
   "execution_count": 15,
   "metadata": {},
   "outputs": [
    {
     "data": {
      "text/html": [
       "<div>\n",
       "<style scoped>\n",
       "    .dataframe tbody tr th:only-of-type {\n",
       "        vertical-align: middle;\n",
       "    }\n",
       "\n",
       "    .dataframe tbody tr th {\n",
       "        vertical-align: top;\n",
       "    }\n",
       "\n",
       "    .dataframe thead th {\n",
       "        text-align: right;\n",
       "    }\n",
       "</style>\n",
       "<table border=\"1\" class=\"dataframe\">\n",
       "  <thead>\n",
       "    <tr style=\"text-align: right;\">\n",
       "      <th></th>\n",
       "      <th>ID</th>\n",
       "      <th>w1WEIGHT_ADJ</th>\n",
       "      <th>w2DECEASED</th>\n",
       "      <th>w3DECEASED</th>\n",
       "      <th>w1AGE</th>\n",
       "      <th>w1SYSTOLIC_MEAN</th>\n",
       "      <th>w1BMI</th>\n",
       "      <th>w1HBA1C</th>\n",
       "      <th>w1CRP</th>\n",
       "      <th>w1DHEA_1</th>\n",
       "      <th>...</th>\n",
       "      <th>w1HRSSLEEP</th>\n",
       "      <th>w1EDUC</th>\n",
       "      <th>w1HSASSETS_RECODE</th>\n",
       "      <th>w1MARITLST</th>\n",
       "      <th>w1ETHGRP</th>\n",
       "      <th>w1GENDER</th>\n",
       "      <th>w1PHYSHLTH</th>\n",
       "      <th>w1MNTLHLTH</th>\n",
       "      <th>w1CONDITNS_3</th>\n",
       "      <th>w1WALKBLK</th>\n",
       "    </tr>\n",
       "  </thead>\n",
       "  <tbody>\n",
       "    <tr>\n",
       "      <th>0</th>\n",
       "      <td>100005</td>\n",
       "      <td>0.846541</td>\n",
       "      <td>0.0</td>\n",
       "      <td>0.0</td>\n",
       "      <td>62.0</td>\n",
       "      <td>113.5</td>\n",
       "      <td>30.248745</td>\n",
       "      <td>5.5</td>\n",
       "      <td>11.746</td>\n",
       "      <td>19.400000</td>\n",
       "      <td>...</td>\n",
       "      <td>6.0</td>\n",
       "      <td>4.0</td>\n",
       "      <td>4.0</td>\n",
       "      <td>1.0</td>\n",
       "      <td>1.0</td>\n",
       "      <td>2.0</td>\n",
       "      <td>4.0</td>\n",
       "      <td>4.0</td>\n",
       "      <td>0.0</td>\n",
       "      <td>0.0</td>\n",
       "    </tr>\n",
       "    <tr>\n",
       "      <th>1</th>\n",
       "      <td>100033</td>\n",
       "      <td>0.649874</td>\n",
       "      <td>0.0</td>\n",
       "      <td>0.0</td>\n",
       "      <td>79.0</td>\n",
       "      <td>114.0</td>\n",
       "      <td>44.103840</td>\n",
       "      <td>6.6</td>\n",
       "      <td>2.922</td>\n",
       "      <td>32.349998</td>\n",
       "      <td>...</td>\n",
       "      <td>5.0</td>\n",
       "      <td>3.0</td>\n",
       "      <td>4.0</td>\n",
       "      <td>5.0</td>\n",
       "      <td>1.0</td>\n",
       "      <td>2.0</td>\n",
       "      <td>4.0</td>\n",
       "      <td>4.0</td>\n",
       "      <td>0.0</td>\n",
       "      <td>3.0</td>\n",
       "    </tr>\n",
       "    <tr>\n",
       "      <th>2</th>\n",
       "      <td>100067</td>\n",
       "      <td>NaN</td>\n",
       "      <td>NaN</td>\n",
       "      <td>0.0</td>\n",
       "      <td>NaN</td>\n",
       "      <td>NaN</td>\n",
       "      <td>NaN</td>\n",
       "      <td>NaN</td>\n",
       "      <td>NaN</td>\n",
       "      <td>NaN</td>\n",
       "      <td>...</td>\n",
       "      <td>NaN</td>\n",
       "      <td>NaN</td>\n",
       "      <td>NaN</td>\n",
       "      <td>NaN</td>\n",
       "      <td>NaN</td>\n",
       "      <td>NaN</td>\n",
       "      <td>NaN</td>\n",
       "      <td>NaN</td>\n",
       "      <td>NaN</td>\n",
       "      <td>NaN</td>\n",
       "    </tr>\n",
       "    <tr>\n",
       "      <th>3</th>\n",
       "      <td>100080</td>\n",
       "      <td>1.193744</td>\n",
       "      <td>0.0</td>\n",
       "      <td>0.0</td>\n",
       "      <td>60.0</td>\n",
       "      <td>126.5</td>\n",
       "      <td>37.678516</td>\n",
       "      <td>7.3</td>\n",
       "      <td>0.552</td>\n",
       "      <td>19.990000</td>\n",
       "      <td>...</td>\n",
       "      <td>5.0</td>\n",
       "      <td>3.0</td>\n",
       "      <td>5.0</td>\n",
       "      <td>1.0</td>\n",
       "      <td>1.0</td>\n",
       "      <td>1.0</td>\n",
       "      <td>3.0</td>\n",
       "      <td>5.0</td>\n",
       "      <td>0.0</td>\n",
       "      <td>0.0</td>\n",
       "    </tr>\n",
       "    <tr>\n",
       "      <th>4</th>\n",
       "      <td>100149</td>\n",
       "      <td>NaN</td>\n",
       "      <td>NaN</td>\n",
       "      <td>0.0</td>\n",
       "      <td>NaN</td>\n",
       "      <td>NaN</td>\n",
       "      <td>NaN</td>\n",
       "      <td>NaN</td>\n",
       "      <td>NaN</td>\n",
       "      <td>NaN</td>\n",
       "      <td>...</td>\n",
       "      <td>NaN</td>\n",
       "      <td>NaN</td>\n",
       "      <td>NaN</td>\n",
       "      <td>NaN</td>\n",
       "      <td>NaN</td>\n",
       "      <td>NaN</td>\n",
       "      <td>NaN</td>\n",
       "      <td>NaN</td>\n",
       "      <td>NaN</td>\n",
       "      <td>NaN</td>\n",
       "    </tr>\n",
       "  </tbody>\n",
       "</table>\n",
       "<p>5 rows × 24 columns</p>\n",
       "</div>"
      ],
      "text/plain": [
       "       ID  w1WEIGHT_ADJ  w2DECEASED  w3DECEASED  w1AGE  w1SYSTOLIC_MEAN  \\\n",
       "0  100005      0.846541         0.0         0.0   62.0            113.5   \n",
       "1  100033      0.649874         0.0         0.0   79.0            114.0   \n",
       "2  100067           NaN         NaN         0.0    NaN              NaN   \n",
       "3  100080      1.193744         0.0         0.0   60.0            126.5   \n",
       "4  100149           NaN         NaN         0.0    NaN              NaN   \n",
       "\n",
       "       w1BMI  w1HBA1C   w1CRP   w1DHEA_1  ...  w1HRSSLEEP  w1EDUC  \\\n",
       "0  30.248745      5.5  11.746  19.400000  ...         6.0     4.0   \n",
       "1  44.103840      6.6   2.922  32.349998  ...         5.0     3.0   \n",
       "2        NaN      NaN     NaN        NaN  ...         NaN     NaN   \n",
       "3  37.678516      7.3   0.552  19.990000  ...         5.0     3.0   \n",
       "4        NaN      NaN     NaN        NaN  ...         NaN     NaN   \n",
       "\n",
       "   w1HSASSETS_RECODE  w1MARITLST  w1ETHGRP  w1GENDER  w1PHYSHLTH  w1MNTLHLTH  \\\n",
       "0                4.0         1.0       1.0       2.0         4.0         4.0   \n",
       "1                4.0         5.0       1.0       2.0         4.0         4.0   \n",
       "2                NaN         NaN       NaN       NaN         NaN         NaN   \n",
       "3                5.0         1.0       1.0       1.0         3.0         5.0   \n",
       "4                NaN         NaN       NaN       NaN         NaN         NaN   \n",
       "\n",
       "   w1CONDITNS_3  w1WALKBLK  \n",
       "0           0.0        0.0  \n",
       "1           0.0        3.0  \n",
       "2           NaN        NaN  \n",
       "3           0.0        0.0  \n",
       "4           NaN        NaN  \n",
       "\n",
       "[5 rows x 24 columns]"
      ]
     },
     "execution_count": 15,
     "metadata": {},
     "output_type": "execute_result"
    }
   ],
   "source": [
    "data_raw_full = pd.read_csv('nshap_w1_w2_w3_core_disposition.csv',\n",
    "                       low_memory=False)\n",
    "data_raw = data_raw_full[['ID','w1WEIGHT_ADJ', 'w2DECEASED', 'w3DECEASED',\n",
    "                          'w1AGE', 'w1SYSTOLIC_MEAN',\n",
    "                          'w1BMI', 'w1HBA1C', 'w1CRP', 'w1DHEA_1', 'w1DHEA_2',\n",
    "                          'w1SMOKECIG', 'w1ALCOHOL', 'w1PHYSACT', 'w1HRSSLEEP',\n",
    "                          'w1EDUC', 'w1HSASSETS_RECODE', 'w1MARITLST', 'w1ETHGRP',\n",
    "                          'w1GENDER',\n",
    "                          'w1PHYSHLTH', 'w1MNTLHLTH', 'w1CONDITNS_3', 'w1WALKBLK']]\n",
    "data_raw.head(n=5)\n"
   ]
  },
  {
   "attachments": {},
   "cell_type": "markdown",
   "metadata": {},
   "source": [
    "## Data cleaning"
   ]
  },
  {
   "cell_type": "code",
   "execution_count": 9,
   "metadata": {},
   "outputs": [
    {
     "name": "stdout",
     "output_type": "stream",
     "text": [
      "Total observations: 6069\n",
      "Removed follow-up 3064 respondents without W1 observations\n",
      "3005 respondents with W1 observations\n",
      "Removed follow-up 10 respondents without disposition statuses\n",
      "Sample frame has 2995 respondents\n"
     ]
    }
   ],
   "source": [
    "# Since the data contains original cohort and follow-up cohort, we need to filter out the follow-up cohort\n",
    "print(\"Total observations: {}\".format(len(data_raw)))\n",
    "data_w1 = data_raw[~data_raw['w1WEIGHT_ADJ'].isnull()]\n",
    "print(\"Removed follow-up {} respondents without W1 observations\".format(len(data_raw) - len(data_w1)))\n",
    "print(\"{} respondents with W1 observations\".format(len(data_w1)))\n",
    "\n",
    "data_decease= data_w1[data_w1.notnull()].copy()\n",
    "data_decease['deceased'] = data_decease['w3DECEASED']\n",
    "data_decease.loc[data_decease['deceased'] == -9, ['deceased']] = np.nan\n",
    "data_decease['deceased'].fillna(data_decease['w2DECEASED'], inplace=True)\n",
    "data_decease.loc[data_decease['deceased'] == -9, ['deceased']] = np.nan\n",
    "data_complete = data_decease[data_decease['deceased'].notnull()]\n",
    "print(\"Removed follow-up {} respondents without disposition statuses\".format(len(data_w1) - len(data_complete)))\n",
    "print(\"Sample frame has {} respondents\".format(len(data_complete)))\n"
   ]
  },
  {
   "cell_type": "code",
   "execution_count": 10,
   "metadata": {},
   "outputs": [
    {
     "data": {
      "text/plain": [
       "0.0    2102\n",
       "1.0     893\n",
       "Name: deceased, dtype: int64"
      ]
     },
     "execution_count": 10,
     "metadata": {},
     "output_type": "execute_result"
    }
   ],
   "source": [
    "data_complete['deceased'].value_counts()"
   ]
  },
  {
   "cell_type": "code",
   "execution_count": 11,
   "metadata": {},
   "outputs": [],
   "source": [
    "data = data_complete[['ID','deceased', 'w1AGE', 'w1SYSTOLIC_MEAN',\n",
    "                      'w1BMI', 'w1HBA1C', 'w1CRP', 'w1DHEA_1', 'w1DHEA_2',\n",
    "                      'w1SMOKECIG', 'w1ALCOHOL', 'w1PHYSACT', 'w1HRSSLEEP',\n",
    "                      'w1EDUC', 'w1HSASSETS_RECODE', 'w1MARITLST', 'w1ETHGRP',\n",
    "                      'w1GENDER',\n",
    "                      'w1PHYSHLTH', 'w1MNTLHLTH', 'w1CONDITNS_3', 'w1WALKBLK']]"
   ]
  },
  {
   "cell_type": "code",
   "execution_count": 17,
   "metadata": {},
   "outputs": [
    {
     "data": {
      "text/html": [
       "<div>\n",
       "<style scoped>\n",
       "    .dataframe tbody tr th:only-of-type {\n",
       "        vertical-align: middle;\n",
       "    }\n",
       "\n",
       "    .dataframe tbody tr th {\n",
       "        vertical-align: top;\n",
       "    }\n",
       "\n",
       "    .dataframe thead th {\n",
       "        text-align: right;\n",
       "    }\n",
       "</style>\n",
       "<table border=\"1\" class=\"dataframe\">\n",
       "  <thead>\n",
       "    <tr style=\"text-align: right;\">\n",
       "      <th></th>\n",
       "      <th>ID</th>\n",
       "      <th>deceased</th>\n",
       "      <th>w1AGE</th>\n",
       "      <th>w1SYSTOLIC_MEAN</th>\n",
       "      <th>w1BMI</th>\n",
       "      <th>w1HBA1C</th>\n",
       "      <th>w1CRP</th>\n",
       "      <th>w1DHEA_1</th>\n",
       "      <th>w1DHEA_2</th>\n",
       "      <th>w1SMOKECIG</th>\n",
       "      <th>...</th>\n",
       "      <th>w1HRSSLEEP</th>\n",
       "      <th>w1EDUC</th>\n",
       "      <th>w1HSASSETS_RECODE</th>\n",
       "      <th>w1MARITLST</th>\n",
       "      <th>w1ETHGRP</th>\n",
       "      <th>w1GENDER</th>\n",
       "      <th>w1PHYSHLTH</th>\n",
       "      <th>w1MNTLHLTH</th>\n",
       "      <th>w1CONDITNS_3</th>\n",
       "      <th>w1WALKBLK</th>\n",
       "    </tr>\n",
       "  </thead>\n",
       "  <tbody>\n",
       "    <tr>\n",
       "      <th>0</th>\n",
       "      <td>100005</td>\n",
       "      <td>0.0</td>\n",
       "      <td>62.0</td>\n",
       "      <td>113.500000</td>\n",
       "      <td>30.248745</td>\n",
       "      <td>5.5</td>\n",
       "      <td>11.746</td>\n",
       "      <td>19.400000</td>\n",
       "      <td>16.139999</td>\n",
       "      <td>0.0</td>\n",
       "      <td>...</td>\n",
       "      <td>6.0</td>\n",
       "      <td>4.0</td>\n",
       "      <td>4.0</td>\n",
       "      <td>1.0</td>\n",
       "      <td>1.0</td>\n",
       "      <td>2.0</td>\n",
       "      <td>4.0</td>\n",
       "      <td>4.0</td>\n",
       "      <td>0.0</td>\n",
       "      <td>0.0</td>\n",
       "    </tr>\n",
       "    <tr>\n",
       "      <th>1</th>\n",
       "      <td>100033</td>\n",
       "      <td>0.0</td>\n",
       "      <td>79.0</td>\n",
       "      <td>114.000000</td>\n",
       "      <td>44.103840</td>\n",
       "      <td>6.6</td>\n",
       "      <td>2.922</td>\n",
       "      <td>32.349998</td>\n",
       "      <td>36.209999</td>\n",
       "      <td>0.0</td>\n",
       "      <td>...</td>\n",
       "      <td>5.0</td>\n",
       "      <td>3.0</td>\n",
       "      <td>4.0</td>\n",
       "      <td>5.0</td>\n",
       "      <td>1.0</td>\n",
       "      <td>2.0</td>\n",
       "      <td>4.0</td>\n",
       "      <td>4.0</td>\n",
       "      <td>0.0</td>\n",
       "      <td>3.0</td>\n",
       "    </tr>\n",
       "    <tr>\n",
       "      <th>3</th>\n",
       "      <td>100080</td>\n",
       "      <td>0.0</td>\n",
       "      <td>60.0</td>\n",
       "      <td>126.500000</td>\n",
       "      <td>37.678516</td>\n",
       "      <td>7.3</td>\n",
       "      <td>0.552</td>\n",
       "      <td>19.990000</td>\n",
       "      <td>22.280001</td>\n",
       "      <td>0.0</td>\n",
       "      <td>...</td>\n",
       "      <td>5.0</td>\n",
       "      <td>3.0</td>\n",
       "      <td>5.0</td>\n",
       "      <td>1.0</td>\n",
       "      <td>1.0</td>\n",
       "      <td>1.0</td>\n",
       "      <td>3.0</td>\n",
       "      <td>5.0</td>\n",
       "      <td>0.0</td>\n",
       "      <td>0.0</td>\n",
       "    </tr>\n",
       "    <tr>\n",
       "      <th>5</th>\n",
       "      <td>100154</td>\n",
       "      <td>0.0</td>\n",
       "      <td>78.0</td>\n",
       "      <td>176.000000</td>\n",
       "      <td>25.401367</td>\n",
       "      <td>5.7</td>\n",
       "      <td>0.499</td>\n",
       "      <td>27.510000</td>\n",
       "      <td>29.559999</td>\n",
       "      <td>0.0</td>\n",
       "      <td>...</td>\n",
       "      <td>5.0</td>\n",
       "      <td>2.0</td>\n",
       "      <td>-2.0</td>\n",
       "      <td>1.0</td>\n",
       "      <td>1.0</td>\n",
       "      <td>2.0</td>\n",
       "      <td>3.0</td>\n",
       "      <td>3.0</td>\n",
       "      <td>0.0</td>\n",
       "      <td>0.0</td>\n",
       "    </tr>\n",
       "    <tr>\n",
       "      <th>7</th>\n",
       "      <td>100203</td>\n",
       "      <td>0.0</td>\n",
       "      <td>61.0</td>\n",
       "      <td>137.666672</td>\n",
       "      <td>27.895041</td>\n",
       "      <td>-3.0</td>\n",
       "      <td>-3.000</td>\n",
       "      <td>57.250000</td>\n",
       "      <td>57.250000</td>\n",
       "      <td>0.0</td>\n",
       "      <td>...</td>\n",
       "      <td>7.0</td>\n",
       "      <td>1.0</td>\n",
       "      <td>1.0</td>\n",
       "      <td>5.0</td>\n",
       "      <td>3.0</td>\n",
       "      <td>2.0</td>\n",
       "      <td>1.0</td>\n",
       "      <td>2.0</td>\n",
       "      <td>0.0</td>\n",
       "      <td>1.0</td>\n",
       "    </tr>\n",
       "    <tr>\n",
       "      <th>9</th>\n",
       "      <td>100359</td>\n",
       "      <td>1.0</td>\n",
       "      <td>75.0</td>\n",
       "      <td>156.500000</td>\n",
       "      <td>26.143854</td>\n",
       "      <td>-3.0</td>\n",
       "      <td>-3.000</td>\n",
       "      <td>11.560000</td>\n",
       "      <td>10.330000</td>\n",
       "      <td>0.0</td>\n",
       "      <td>...</td>\n",
       "      <td>8.0</td>\n",
       "      <td>3.0</td>\n",
       "      <td>5.0</td>\n",
       "      <td>1.0</td>\n",
       "      <td>1.0</td>\n",
       "      <td>1.0</td>\n",
       "      <td>2.0</td>\n",
       "      <td>3.0</td>\n",
       "      <td>0.0</td>\n",
       "      <td>0.0</td>\n",
       "    </tr>\n",
       "    <tr>\n",
       "      <th>11</th>\n",
       "      <td>100392</td>\n",
       "      <td>1.0</td>\n",
       "      <td>80.0</td>\n",
       "      <td>129.500000</td>\n",
       "      <td>-3.000000</td>\n",
       "      <td>-3.0</td>\n",
       "      <td>-3.000</td>\n",
       "      <td>38.990002</td>\n",
       "      <td>37.900002</td>\n",
       "      <td>0.0</td>\n",
       "      <td>...</td>\n",
       "      <td>7.0</td>\n",
       "      <td>3.0</td>\n",
       "      <td>4.0</td>\n",
       "      <td>5.0</td>\n",
       "      <td>1.0</td>\n",
       "      <td>1.0</td>\n",
       "      <td>3.0</td>\n",
       "      <td>3.0</td>\n",
       "      <td>0.0</td>\n",
       "      <td>0.0</td>\n",
       "    </tr>\n",
       "    <tr>\n",
       "      <th>15</th>\n",
       "      <td>100476</td>\n",
       "      <td>0.0</td>\n",
       "      <td>72.0</td>\n",
       "      <td>152.000000</td>\n",
       "      <td>30.761475</td>\n",
       "      <td>6.0</td>\n",
       "      <td>0.801</td>\n",
       "      <td>20.540001</td>\n",
       "      <td>17.420000</td>\n",
       "      <td>0.0</td>\n",
       "      <td>...</td>\n",
       "      <td>9.0</td>\n",
       "      <td>2.0</td>\n",
       "      <td>5.0</td>\n",
       "      <td>1.0</td>\n",
       "      <td>1.0</td>\n",
       "      <td>1.0</td>\n",
       "      <td>3.0</td>\n",
       "      <td>5.0</td>\n",
       "      <td>0.0</td>\n",
       "      <td>0.0</td>\n",
       "    </tr>\n",
       "  </tbody>\n",
       "</table>\n",
       "<p>8 rows × 22 columns</p>\n",
       "</div>"
      ],
      "text/plain": [
       "        ID  deceased  w1AGE  w1SYSTOLIC_MEAN      w1BMI  w1HBA1C   w1CRP  \\\n",
       "0   100005       0.0   62.0       113.500000  30.248745      5.5  11.746   \n",
       "1   100033       0.0   79.0       114.000000  44.103840      6.6   2.922   \n",
       "3   100080       0.0   60.0       126.500000  37.678516      7.3   0.552   \n",
       "5   100154       0.0   78.0       176.000000  25.401367      5.7   0.499   \n",
       "7   100203       0.0   61.0       137.666672  27.895041     -3.0  -3.000   \n",
       "9   100359       1.0   75.0       156.500000  26.143854     -3.0  -3.000   \n",
       "11  100392       1.0   80.0       129.500000  -3.000000     -3.0  -3.000   \n",
       "15  100476       0.0   72.0       152.000000  30.761475      6.0   0.801   \n",
       "\n",
       "     w1DHEA_1   w1DHEA_2  w1SMOKECIG  ...  w1HRSSLEEP  w1EDUC  \\\n",
       "0   19.400000  16.139999         0.0  ...         6.0     4.0   \n",
       "1   32.349998  36.209999         0.0  ...         5.0     3.0   \n",
       "3   19.990000  22.280001         0.0  ...         5.0     3.0   \n",
       "5   27.510000  29.559999         0.0  ...         5.0     2.0   \n",
       "7   57.250000  57.250000         0.0  ...         7.0     1.0   \n",
       "9   11.560000  10.330000         0.0  ...         8.0     3.0   \n",
       "11  38.990002  37.900002         0.0  ...         7.0     3.0   \n",
       "15  20.540001  17.420000         0.0  ...         9.0     2.0   \n",
       "\n",
       "    w1HSASSETS_RECODE  w1MARITLST  w1ETHGRP  w1GENDER  w1PHYSHLTH  w1MNTLHLTH  \\\n",
       "0                 4.0         1.0       1.0       2.0         4.0         4.0   \n",
       "1                 4.0         5.0       1.0       2.0         4.0         4.0   \n",
       "3                 5.0         1.0       1.0       1.0         3.0         5.0   \n",
       "5                -2.0         1.0       1.0       2.0         3.0         3.0   \n",
       "7                 1.0         5.0       3.0       2.0         1.0         2.0   \n",
       "9                 5.0         1.0       1.0       1.0         2.0         3.0   \n",
       "11                4.0         5.0       1.0       1.0         3.0         3.0   \n",
       "15                5.0         1.0       1.0       1.0         3.0         5.0   \n",
       "\n",
       "    w1CONDITNS_3  w1WALKBLK  \n",
       "0            0.0        0.0  \n",
       "1            0.0        3.0  \n",
       "3            0.0        0.0  \n",
       "5            0.0        0.0  \n",
       "7            0.0        1.0  \n",
       "9            0.0        0.0  \n",
       "11           0.0        0.0  \n",
       "15           0.0        0.0  \n",
       "\n",
       "[8 rows x 22 columns]"
      ]
     },
     "execution_count": 17,
     "metadata": {},
     "output_type": "execute_result"
    }
   ],
   "source": [
    "data.head(n=8)"
   ]
  },
  {
   "cell_type": "code",
   "execution_count": 7,
   "metadata": {},
   "outputs": [],
   "source": [
    "# Preprocessing binary variables\n",
    "cat_col = ['ID', 'deceased', 'w1SMOKECIG', 'w1ALCOHOL', 'w1MARITLST',\n",
    "           'w1ETHGRP', 'w1GENDER',\n",
    "           'w1CONDITNS_3']\n",
    "data_cat = data[data[cat_col].notnull()].copy()[cat_col]    \n",
    "for col in cat_col:\n",
    "    data_cat[col] = data_cat[col].astype('category')\n",
    "data_cat['w1married'] = np.where(data_cat['w1MARITLST'] == 'Married', 1, 0)\n",
    "data_cat['w1raceblk'] = np.where(data_cat['w1ETHGRP'] == 'Married', 1, 0)\n",
    "data_cat.drop('w1MARITLST', axis=1, inplace=True)\n",
    "data_cat.drop('w1ETHGRP', axis=1, inplace=True)"
   ]
  },
  {
   "cell_type": "code",
   "execution_count": 18,
   "metadata": {},
   "outputs": [
    {
     "name": "stdout",
     "output_type": "stream",
     "text": [
      "Fixed 1155 respondents with missing continuous variables\n"
     ]
    }
   ],
   "source": [
    "# Preprocessing ordinal variables\n",
    "ord_col = ['w1PHYSACT', 'w1EDUC', 'w1HSASSETS_RECODE',\n",
    "           'w1PHYSHLTH', 'w1MNTLHLTH', 'w1WALKBLK']\n",
    "data_ord = data[data[ord_col].notnull()].copy()[ord_col]\n",
    "data_ord[data_ord < 0] = np.nan\n",
    "data_ord_na = data_ord.dropna()\n",
    "print(\"Fixed {} respondents with missing continuous variables\".format(len(data_ord) - len(data_ord_na)))\n",
    "data_ord.fillna(data_ord.mean(), inplace=True)"
   ]
  },
  {
   "cell_type": "code",
   "execution_count": 9,
   "metadata": {},
   "outputs": [
    {
     "data": {
      "text/html": [
       "<div>\n",
       "<style scoped>\n",
       "    .dataframe tbody tr th:only-of-type {\n",
       "        vertical-align: middle;\n",
       "    }\n",
       "\n",
       "    .dataframe tbody tr th {\n",
       "        vertical-align: top;\n",
       "    }\n",
       "\n",
       "    .dataframe thead th {\n",
       "        text-align: right;\n",
       "    }\n",
       "</style>\n",
       "<table border=\"1\" class=\"dataframe\">\n",
       "  <thead>\n",
       "    <tr style=\"text-align: right;\">\n",
       "      <th></th>\n",
       "      <th>w1AGE</th>\n",
       "      <th>w1SYSTOLIC_MEAN</th>\n",
       "      <th>w1BMI</th>\n",
       "      <th>w1HBA1C</th>\n",
       "      <th>w1CRP</th>\n",
       "      <th>w1HRSSLEEP</th>\n",
       "      <th>w1dhea_mean</th>\n",
       "    </tr>\n",
       "  </thead>\n",
       "  <tbody>\n",
       "    <tr>\n",
       "      <th>count</th>\n",
       "      <td>2995.000000</td>\n",
       "      <td>2995.000000</td>\n",
       "      <td>2995.000000</td>\n",
       "      <td>2995.000000</td>\n",
       "      <td>2995.000000</td>\n",
       "      <td>2995.000000</td>\n",
       "      <td>2995.000000</td>\n",
       "    </tr>\n",
       "    <tr>\n",
       "      <th>mean</th>\n",
       "      <td>69.307513</td>\n",
       "      <td>137.138234</td>\n",
       "      <td>29.095167</td>\n",
       "      <td>6.097641</td>\n",
       "      <td>3.194580</td>\n",
       "      <td>6.888366</td>\n",
       "      <td>52.921454</td>\n",
       "    </tr>\n",
       "    <tr>\n",
       "      <th>std</th>\n",
       "      <td>7.857698</td>\n",
       "      <td>20.306078</td>\n",
       "      <td>6.078190</td>\n",
       "      <td>0.782456</td>\n",
       "      <td>4.848129</td>\n",
       "      <td>1.381350</td>\n",
       "      <td>109.835482</td>\n",
       "    </tr>\n",
       "    <tr>\n",
       "      <th>min</th>\n",
       "      <td>57.000000</td>\n",
       "      <td>78.000000</td>\n",
       "      <td>14.063041</td>\n",
       "      <td>4.200000</td>\n",
       "      <td>0.000000</td>\n",
       "      <td>1.000000</td>\n",
       "      <td>1.510000</td>\n",
       "    </tr>\n",
       "    <tr>\n",
       "      <th>25%</th>\n",
       "      <td>62.000000</td>\n",
       "      <td>122.500000</td>\n",
       "      <td>25.101870</td>\n",
       "      <td>5.700000</td>\n",
       "      <td>1.053500</td>\n",
       "      <td>6.000000</td>\n",
       "      <td>22.252500</td>\n",
       "    </tr>\n",
       "    <tr>\n",
       "      <th>50%</th>\n",
       "      <td>69.000000</td>\n",
       "      <td>135.666672</td>\n",
       "      <td>28.793165</td>\n",
       "      <td>6.097641</td>\n",
       "      <td>3.194580</td>\n",
       "      <td>7.000000</td>\n",
       "      <td>46.205000</td>\n",
       "    </tr>\n",
       "    <tr>\n",
       "      <th>75%</th>\n",
       "      <td>76.000000</td>\n",
       "      <td>149.000000</td>\n",
       "      <td>31.773318</td>\n",
       "      <td>6.097641</td>\n",
       "      <td>3.194580</td>\n",
       "      <td>8.000000</td>\n",
       "      <td>53.247500</td>\n",
       "    </tr>\n",
       "    <tr>\n",
       "      <th>max</th>\n",
       "      <td>85.000000</td>\n",
       "      <td>233.000000</td>\n",
       "      <td>75.600655</td>\n",
       "      <td>14.200000</td>\n",
       "      <td>100.000000</td>\n",
       "      <td>13.000000</td>\n",
       "      <td>5000.000000</td>\n",
       "    </tr>\n",
       "  </tbody>\n",
       "</table>\n",
       "</div>"
      ],
      "text/plain": [
       "             w1AGE  w1SYSTOLIC_MEAN        w1BMI      w1HBA1C        w1CRP  \\\n",
       "count  2995.000000      2995.000000  2995.000000  2995.000000  2995.000000   \n",
       "mean     69.307513       137.138234    29.095167     6.097641     3.194580   \n",
       "std       7.857698        20.306078     6.078190     0.782456     4.848129   \n",
       "min      57.000000        78.000000    14.063041     4.200000     0.000000   \n",
       "25%      62.000000       122.500000    25.101870     5.700000     1.053500   \n",
       "50%      69.000000       135.666672    28.793165     6.097641     3.194580   \n",
       "75%      76.000000       149.000000    31.773318     6.097641     3.194580   \n",
       "max      85.000000       233.000000    75.600655    14.200000   100.000000   \n",
       "\n",
       "        w1HRSSLEEP  w1dhea_mean  \n",
       "count  2995.000000  2995.000000  \n",
       "mean      6.888366    52.921454  \n",
       "std       1.381350   109.835482  \n",
       "min       1.000000     1.510000  \n",
       "25%       6.000000    22.252500  \n",
       "50%       7.000000    46.205000  \n",
       "75%       8.000000    53.247500  \n",
       "max      13.000000  5000.000000  "
      ]
     },
     "execution_count": 9,
     "metadata": {},
     "output_type": "execute_result"
    }
   ],
   "source": [
    "# Preprocessing continuous variables\n",
    "con_col = ['w1AGE', 'w1SYSTOLIC_MEAN', 'w1BMI', 'w1HBA1C', \n",
    "           'w1CRP', 'w1DHEA_1', 'w1DHEA_2', 'w1HRSSLEEP']\n",
    "data_con = data[data[con_col].notnull()].copy()[con_col]    \n",
    "for col in con_col:\n",
    "    data_con[col] = pd.to_numeric(data_con[col], errors='coerce')\n",
    "data_con['w1dhea_mean'] = data_con[['w1DHEA_1', 'w1DHEA_2']].mean(axis=1)\n",
    "data_con = data_con.drop(['w1DHEA_1', 'w1DHEA_2'], axis=1)\n",
    "data_con[data_con < 0] = np.nan\n",
    "data_con.fillna(data_con.mean(), inplace=True)\n",
    "data_con.describe()"
   ]
  },
  {
   "cell_type": "code",
   "execution_count": 10,
   "metadata": {},
   "outputs": [
    {
     "name": "stdout",
     "output_type": "stream",
     "text": [
      "Removed 0 respondents with missing values in categorical variables\n"
     ]
    }
   ],
   "source": [
    "data = pd.concat([data_cat, data_ord, data_con], axis=1)\n",
    "data_nona = data.dropna()\n",
    "print(\"Removed {} respondents with missing values in categorical variables\".\\\n",
    "    format(len(data) - len(data_nona)))"
   ]
  },
  {
   "cell_type": "code",
   "execution_count": 11,
   "metadata": {},
   "outputs": [
    {
     "data": {
      "image/png": "[encoded data removed]",
      "text/plain": [
       "<Figure size 600x600 with 2 Axes>"
      ]
     },
     "metadata": {},
     "output_type": "display_data"
    }
   ],
   "source": [
    "_, ax = plt.subplots(figsize=(6,6))\n",
    "columns = ['w1AGE', 'w1SYSTOLIC_MEAN', 'w1BMI', 'w1HBA1C', \n",
    "           'w1CRP', 'w1dhea_mean', 'w1HRSSLEEP']\n",
    "sns.heatmap(data[columns].corr(),annot=True,cmap='RdYlGn', ax=ax);"
   ]
  },
  {
   "attachments": {},
   "cell_type": "markdown",
   "metadata": {},
   "source": [
    "## Decision Tree"
   ]
  },
  {
   "cell_type": "code",
   "execution_count": 12,
   "metadata": {},
   "outputs": [],
   "source": [
    "\n",
    "data_x = data_nona[['w1AGE', 'w1SYSTOLIC_MEAN',\n",
    "                      'w1BMI', 'w1HBA1C', 'w1CRP', 'w1dhea_mean',\n",
    "                      'w1SMOKECIG', 'w1ALCOHOL', 'w1PHYSACT', 'w1HRSSLEEP',\n",
    "                      'w1EDUC', 'w1HSASSETS_RECODE', 'w1married', 'w1raceblk',\n",
    "                      'w1GENDER',\n",
    "                      'w1PHYSHLTH', 'w1MNTLHLTH', 'w1CONDITNS_3', 'w1WALKBLK']]\n",
    "predictor_names = ['Age', 'Systolic BP', 'BMI', 'HbA1c', 'CRP', 'DHEA',\n",
    "                   'smoker', 'alcohol', 'physical activity', 'sleep',\n",
    "                   'education', 'wealth', 'married', 'black race', 'gender',\n",
    "                   'physical self-rated health', 'mental self-rated health',\n",
    "                   'chronic conditions', 'walking 1 block']\n",
    "data_y = data_nona[['deceased']]\n",
    "\n",
    "# Then split into 60% training, 20% validation, and 20% testing\n",
    "X_train, X_test, y_train, y_test = train_test_split(data_x, data_y,\n",
    "                                                    test_size=0.2,\n",
    "                                                    random_state=42)\n",
    " # 0.25 x 0.8 = 0.2\n",
    "X_train, X_val, y_train, y_val = train_test_split(X_train,\n",
    "                                                  y_train,\n",
    "                                                  test_size=0.25,\n",
    "                                                  random_state=1)"
   ]
  },
  {
   "cell_type": "code",
   "execution_count": 13,
   "metadata": {},
   "outputs": [
    {
     "data": {
      "text/html": [
       "<style>#sk-container-id-1 {color: black;background-color: white;}#sk-container-id-1 pre{padding: 0;}#sk-container-id-1 div.sk-toggleable {background-color: white;}#sk-container-id-1 label.sk-toggleable__label {cursor: pointer;display: block;width: 100%;margin-bottom: 0;padding: 0.3em;box-sizing: border-box;text-align: center;}#sk-container-id-1 label.sk-toggleable__label-arrow:before {content: \"▸\";float: left;margin-right: 0.25em;color: #696969;}#sk-container-id-1 label.sk-toggleable__label-arrow:hover:before {color: black;}#sk-container-id-1 div.sk-estimator:hover label.sk-toggleable__label-arrow:before {color: black;}#sk-container-id-1 div.sk-toggleable__content {max-height: 0;max-width: 0;overflow: hidden;text-align: left;background-color: #f0f8ff;}#sk-container-id-1 div.sk-toggleable__content pre {margin: 0.2em;color: black;border-radius: 0.25em;background-color: #f0f8ff;}#sk-container-id-1 input.sk-toggleable__control:checked~div.sk-toggleable__content {max-height: 200px;max-width: 100%;overflow: auto;}#sk-container-id-1 input.sk-toggleable__control:checked~label.sk-toggleable__label-arrow:before {content: \"▾\";}#sk-container-id-1 div.sk-estimator input.sk-toggleable__control:checked~label.sk-toggleable__label {background-color: #d4ebff;}#sk-container-id-1 div.sk-label input.sk-toggleable__control:checked~label.sk-toggleable__label {background-color: #d4ebff;}#sk-container-id-1 input.sk-hidden--visually {border: 0;clip: rect(1px 1px 1px 1px);clip: rect(1px, 1px, 1px, 1px);height: 1px;margin: -1px;overflow: hidden;padding: 0;position: absolute;width: 1px;}#sk-container-id-1 div.sk-estimator {font-family: monospace;background-color: #f0f8ff;border: 1px dotted black;border-radius: 0.25em;box-sizing: border-box;margin-bottom: 0.5em;}#sk-container-id-1 div.sk-estimator:hover {background-color: #d4ebff;}#sk-container-id-1 div.sk-parallel-item::after {content: \"\";width: 100%;border-bottom: 1px solid gray;flex-grow: 1;}#sk-container-id-1 div.sk-label:hover label.sk-toggleable__label {background-color: #d4ebff;}#sk-container-id-1 div.sk-serial::before {content: \"\";position: absolute;border-left: 1px solid gray;box-sizing: border-box;top: 0;bottom: 0;left: 50%;z-index: 0;}#sk-container-id-1 div.sk-serial {display: flex;flex-direction: column;align-items: center;background-color: white;padding-right: 0.2em;padding-left: 0.2em;position: relative;}#sk-container-id-1 div.sk-item {position: relative;z-index: 1;}#sk-container-id-1 div.sk-parallel {display: flex;align-items: stretch;justify-content: center;background-color: white;position: relative;}#sk-container-id-1 div.sk-item::before, #sk-container-id-1 div.sk-parallel-item::before {content: \"\";position: absolute;border-left: 1px solid gray;box-sizing: border-box;top: 0;bottom: 0;left: 50%;z-index: -1;}#sk-container-id-1 div.sk-parallel-item {display: flex;flex-direction: column;z-index: 1;position: relative;background-color: white;}#sk-container-id-1 div.sk-parallel-item:first-child::after {align-self: flex-end;width: 50%;}#sk-container-id-1 div.sk-parallel-item:last-child::after {align-self: flex-start;width: 50%;}#sk-container-id-1 div.sk-parallel-item:only-child::after {width: 0;}#sk-container-id-1 div.sk-dashed-wrapped {border: 1px dashed gray;margin: 0 0.4em 0.5em 0.4em;box-sizing: border-box;padding-bottom: 0.4em;background-color: white;}#sk-container-id-1 div.sk-label label {font-family: monospace;font-weight: bold;display: inline-block;line-height: 1.2em;}#sk-container-id-1 div.sk-label-container {text-align: center;}#sk-container-id-1 div.sk-container {/* jupyter's `normalize.less` sets `[hidden] { display: none; }` but bootstrap.min.css set `[hidden] { display: none !important; }` so we also need the `!important` here to be able to override the default hidden behavior on the sphinx rendered scikit-learn.org. See: https://github.com/scikit-learn/scikit-learn/issues/21755 */display: inline-block !important;position: relative;}#sk-container-id-1 div.sk-text-repr-fallback {display: none;}</style><div id=\"sk-container-id-1\" class=\"sk-top-container\"><div class=\"sk-text-repr-fallback\"><pre>DecisionTreeClassifier(criterion=&#x27;entropy&#x27;, min_impurity_decrease=0.01,\n",
       "                       random_state=42)</pre><b>In a Jupyter environment, please rerun this cell to show the HTML representation or trust the notebook. <br />On GitHub, the HTML representation is unable to render, please try loading this page with nbviewer.org.</b></div><div class=\"sk-container\" hidden><div class=\"sk-item\"><div class=\"sk-estimator sk-toggleable\"><input class=\"sk-toggleable__control sk-hidden--visually\" id=\"sk-estimator-id-1\" type=\"checkbox\" checked><label for=\"sk-estimator-id-1\" class=\"sk-toggleable__label sk-toggleable__label-arrow\">DecisionTreeClassifier</label><div class=\"sk-toggleable__content\"><pre>DecisionTreeClassifier(criterion=&#x27;entropy&#x27;, min_impurity_decrease=0.01,\n",
       "                       random_state=42)</pre></div></div></div></div></div>"
      ],
      "text/plain": [
       "DecisionTreeClassifier(criterion='entropy', min_impurity_decrease=0.01,\n",
       "                       random_state=42)"
      ]
     },
     "execution_count": 13,
     "metadata": {},
     "output_type": "execute_result"
    }
   ],
   "source": [
    "# BOTH PRE-PRUNING AND POST_PRUNING (PYTHON PACKAGES TO AUTOMATE THIS PROCESS)\n",
    "DT_clf = tree.DecisionTreeClassifier(random_state=42, criterion=\"entropy\", \n",
    "                                     min_impurity_decrease=0.01)\n",
    "DT_clf.fit(X_train, y_train)"
   ]
  },
  {
   "cell_type": "code",
   "execution_count": 14,
   "metadata": {},
   "outputs": [
    {
     "data": {
      "text/plain": [
       "'dt_nshap.pdf'"
      ]
     },
     "execution_count": 14,
     "metadata": {},
     "output_type": "execute_result"
    }
   ],
   "source": [
    "# save tree to iris.pdf\n",
    "dot_data = tree.export_graphviz(DT_clf, out_file=None,\n",
    "                                feature_names=predictor_names,\n",
    "                                class_names=['alive', 'deceased']) \n",
    "graph = graphviz.Source(dot_data) \n",
    "graph.render(\"dt_nshap\") "
   ]
  },
  {
   "cell_type": "code",
   "execution_count": 15,
   "metadata": {},
   "outputs": [
    {
     "data": {
      "text/plain": [
       "0.7378964941569283"
      ]
     },
     "execution_count": 15,
     "metadata": {},
     "output_type": "execute_result"
    }
   ],
   "source": [
    "DT_clf.score(X_test, y_test)"
   ]
  },
  {
   "attachments": {},
   "cell_type": "markdown",
   "metadata": {},
   "source": [
    "## Random Forest"
   ]
  },
  {
   "cell_type": "code",
   "execution_count": 16,
   "metadata": {},
   "outputs": [
    {
     "name": "stderr",
     "output_type": "stream",
     "text": [
      "/var/folders/6y/yk_wztl52kv6qrddmxlbm2_c0000gn/T/ipykernel_92405/2945712927.py:2: DataConversionWarning: A column-vector y was passed when a 1d array was expected. Please change the shape of y to (n_samples,), for example using ravel().\n",
      "  RF_clf.fit(X_train,y_train)\n"
     ]
    },
    {
     "data": {
      "text/html": [
       "<style>#sk-container-id-2 {color: black;background-color: white;}#sk-container-id-2 pre{padding: 0;}#sk-container-id-2 div.sk-toggleable {background-color: white;}#sk-container-id-2 label.sk-toggleable__label {cursor: pointer;display: block;width: 100%;margin-bottom: 0;padding: 0.3em;box-sizing: border-box;text-align: center;}#sk-container-id-2 label.sk-toggleable__label-arrow:before {content: \"▸\";float: left;margin-right: 0.25em;color: #696969;}#sk-container-id-2 label.sk-toggleable__label-arrow:hover:before {color: black;}#sk-container-id-2 div.sk-estimator:hover label.sk-toggleable__label-arrow:before {color: black;}#sk-container-id-2 div.sk-toggleable__content {max-height: 0;max-width: 0;overflow: hidden;text-align: left;background-color: #f0f8ff;}#sk-container-id-2 div.sk-toggleable__content pre {margin: 0.2em;color: black;border-radius: 0.25em;background-color: #f0f8ff;}#sk-container-id-2 input.sk-toggleable__control:checked~div.sk-toggleable__content {max-height: 200px;max-width: 100%;overflow: auto;}#sk-container-id-2 input.sk-toggleable__control:checked~label.sk-toggleable__label-arrow:before {content: \"▾\";}#sk-container-id-2 div.sk-estimator input.sk-toggleable__control:checked~label.sk-toggleable__label {background-color: #d4ebff;}#sk-container-id-2 div.sk-label input.sk-toggleable__control:checked~label.sk-toggleable__label {background-color: #d4ebff;}#sk-container-id-2 input.sk-hidden--visually {border: 0;clip: rect(1px 1px 1px 1px);clip: rect(1px, 1px, 1px, 1px);height: 1px;margin: -1px;overflow: hidden;padding: 0;position: absolute;width: 1px;}#sk-container-id-2 div.sk-estimator {font-family: monospace;background-color: #f0f8ff;border: 1px dotted black;border-radius: 0.25em;box-sizing: border-box;margin-bottom: 0.5em;}#sk-container-id-2 div.sk-estimator:hover {background-color: #d4ebff;}#sk-container-id-2 div.sk-parallel-item::after {content: \"\";width: 100%;border-bottom: 1px solid gray;flex-grow: 1;}#sk-container-id-2 div.sk-label:hover label.sk-toggleable__label {background-color: #d4ebff;}#sk-container-id-2 div.sk-serial::before {content: \"\";position: absolute;border-left: 1px solid gray;box-sizing: border-box;top: 0;bottom: 0;left: 50%;z-index: 0;}#sk-container-id-2 div.sk-serial {display: flex;flex-direction: column;align-items: center;background-color: white;padding-right: 0.2em;padding-left: 0.2em;position: relative;}#sk-container-id-2 div.sk-item {position: relative;z-index: 1;}#sk-container-id-2 div.sk-parallel {display: flex;align-items: stretch;justify-content: center;background-color: white;position: relative;}#sk-container-id-2 div.sk-item::before, #sk-container-id-2 div.sk-parallel-item::before {content: \"\";position: absolute;border-left: 1px solid gray;box-sizing: border-box;top: 0;bottom: 0;left: 50%;z-index: -1;}#sk-container-id-2 div.sk-parallel-item {display: flex;flex-direction: column;z-index: 1;position: relative;background-color: white;}#sk-container-id-2 div.sk-parallel-item:first-child::after {align-self: flex-end;width: 50%;}#sk-container-id-2 div.sk-parallel-item:last-child::after {align-self: flex-start;width: 50%;}#sk-container-id-2 div.sk-parallel-item:only-child::after {width: 0;}#sk-container-id-2 div.sk-dashed-wrapped {border: 1px dashed gray;margin: 0 0.4em 0.5em 0.4em;box-sizing: border-box;padding-bottom: 0.4em;background-color: white;}#sk-container-id-2 div.sk-label label {font-family: monospace;font-weight: bold;display: inline-block;line-height: 1.2em;}#sk-container-id-2 div.sk-label-container {text-align: center;}#sk-container-id-2 div.sk-container {/* jupyter's `normalize.less` sets `[hidden] { display: none; }` but bootstrap.min.css set `[hidden] { display: none !important; }` so we also need the `!important` here to be able to override the default hidden behavior on the sphinx rendered scikit-learn.org. See: https://github.com/scikit-learn/scikit-learn/issues/21755 */display: inline-block !important;position: relative;}#sk-container-id-2 div.sk-text-repr-fallback {display: none;}</style><div id=\"sk-container-id-2\" class=\"sk-top-container\"><div class=\"sk-text-repr-fallback\"><pre>RandomForestClassifier(max_depth=2, random_state=0)</pre><b>In a Jupyter environment, please rerun this cell to show the HTML representation or trust the notebook. <br />On GitHub, the HTML representation is unable to render, please try loading this page with nbviewer.org.</b></div><div class=\"sk-container\" hidden><div class=\"sk-item\"><div class=\"sk-estimator sk-toggleable\"><input class=\"sk-toggleable__control sk-hidden--visually\" id=\"sk-estimator-id-2\" type=\"checkbox\" checked><label for=\"sk-estimator-id-2\" class=\"sk-toggleable__label sk-toggleable__label-arrow\">RandomForestClassifier</label><div class=\"sk-toggleable__content\"><pre>RandomForestClassifier(max_depth=2, random_state=0)</pre></div></div></div></div></div>"
      ],
      "text/plain": [
       "RandomForestClassifier(max_depth=2, random_state=0)"
      ]
     },
     "execution_count": 16,
     "metadata": {},
     "output_type": "execute_result"
    }
   ],
   "source": [
    "RF_clf = RandomForestClassifier(max_depth=2, random_state=0)\n",
    "RF_clf.fit(X_train,y_train)"
   ]
  },
  {
   "cell_type": "code",
   "execution_count": 17,
   "metadata": {},
   "outputs": [
    {
     "data": {
      "text/plain": [
       "0.7195325542570952"
      ]
     },
     "execution_count": 17,
     "metadata": {},
     "output_type": "execute_result"
    }
   ],
   "source": [
    "RF_clf.score(X_test, y_test)"
   ]
  },
  {
   "cell_type": "code",
   "execution_count": 20,
   "metadata": {},
   "outputs": [
    {
     "data": {
      "text/plain": [
       "'rf_nshap.pdf'"
      ]
     },
     "execution_count": 20,
     "metadata": {},
     "output_type": "execute_result"
    }
   ],
   "source": [
    "dot_data = tree.export_graphviz(RF_clf.estimators_[0], out_file=None, \n",
    "                                filled=True, rounded=True,  \n",
    "                                special_characters=True,\n",
    "                                feature_names=predictor_names,\n",
    "                                class_names=['Alive', 'Deceased'])  \n",
    "graph = graphviz.Source(dot_data)  \n",
    "graph.render(\"rf_nshap\")"
   ]
  },
  {
   "cell_type": "code",
   "execution_count": null,
   "metadata": {},
   "outputs": [],
   "source": []
  }
 ],
 "metadata": {
  "kernelspec": {
   "display_name": "MACS",
   "language": "python",
   "name": "python3"
  },
  "language_info": {
   "codemirror_mode": {
    "name": "ipython",
    "version": 3
   },
   "file_extension": ".py",
   "mimetype": "text/x-python",
   "name": "python",
   "nbconvert_exporter": "python",
   "pygments_lexer": "ipython3",
   "version": "3.9.16"
  },
  "orig_nbformat": 4,
  "vscode": {
   "interpreter": {
    "hash": "5febda9ea3b33ffdc95c888fff59ec7615aa10294cac48f80c25517e6a63b54a"
   }
  }
 },
 "nbformat": 4,
 "nbformat_minor": 2
}
