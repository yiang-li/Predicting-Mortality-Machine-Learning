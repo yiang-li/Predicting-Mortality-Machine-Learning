{
 "cells": [
  {
   "cell_type": "code",
   "execution_count": 342,
   "metadata": {
    "pycharm": {
     "name": "#%%\n"
    }
   },
   "outputs": [],
   "source": [
    "import graphviz\n",
    "import matplotlib.pyplot as plt\n",
    "import numpy as np\n",
    "import pandas as pd\n",
    "import seaborn as sns\n",
    "import sklearn.tree as tree\n",
    "from sklearn import metrics\n",
    "from sklearn.model_selection import train_test_split\n",
    "from sklearn.manifold import TSNE"
   ]
  },
  {
   "cell_type": "code",
   "execution_count": 3,
   "outputs": [],
   "source": [
    "from sklearn.model_selection import StratifiedKFold\n",
    "from sklearn.ensemble import RandomForestClassifier, ExtraTreesClassifier\n",
    "from sklearn.ensemble import GradientBoostingClassifier\n",
    "from sklearn.linear_model import LogisticRegression"
   ],
   "metadata": {
    "collapsed": false,
    "pycharm": {
     "name": "#%%\n"
    }
   }
  },
  {
   "cell_type": "code",
   "execution_count": 65,
   "metadata": {
    "pycharm": {
     "name": "#%%\n"
    }
   },
   "outputs": [],
   "source": [
    "data_raw = pd.read_csv('./data/nshap_w1_w2_w3_core_disposition.csv',\n",
    "                       low_memory=False)\n",
    "#Stacking\n",
    "#SMOTE"
   ]
  },
  {
   "attachments": {},
   "cell_type": "markdown",
   "metadata": {
    "pycharm": {
     "name": "#%% md\n"
    }
   },
   "source": [
    "## Data cleaning"
   ]
  },
  {
   "cell_type": "code",
   "execution_count": 66,
   "outputs": [
    {
     "data": {
      "text/plain": "          ID  SAMPLETYPE  w3DISP_GRP  w3DECEASED  ID_as_string  w2DISP_GRP  \\\n0     100005         1.0         5.0         0.0      100005.0         1.0   \n1     100033         1.0         1.0         0.0      100033.0         1.0   \n2     100067         1.0         1.0         0.0      100067.0         NaN   \n3     100080         1.0         1.0         0.0      100080.0         1.0   \n4     100149         1.0         1.0         0.0      100149.0         NaN   \n...      ...         ...         ...         ...           ...         ...   \n6064  199846         NaN         NaN         NaN           NaN         NaN   \n6065  199898         NaN         NaN         NaN           NaN         NaN   \n6066  199931         NaN         NaN         NaN           NaN         NaN   \n6067  199954         NaN         NaN         NaN           NaN         NaN   \n6068  199996         NaN         NaN         NaN      199996.0         2.0   \n\n      w2DECEASED   w1FI_ID  w1PATH  w1VERSION  ... w3IWDESCRIBE2  \\\n0            0.0  866808.0     1.0        1.0  ...           NaN   \n1            0.0  169164.0     3.0        3.0  ...           1.0   \n2            NaN       NaN     NaN        NaN  ...           3.0   \n3            0.0  281481.0     6.0        2.0  ...           1.0   \n4            NaN       NaN     NaN        NaN  ...           3.0   \n...          ...       ...     ...        ...  ...           ...   \n6064         NaN       NaN     NaN        NaN  ...           2.0   \n6065         NaN       NaN     NaN        NaN  ...           4.0   \n6066         NaN       NaN     NaN        NaN  ...          -3.0   \n6067         NaN       NaN     NaN        NaN  ...           1.0   \n6068         1.0  742046.0     4.0        3.0  ...           NaN   \n\n      w3IWDESCRIBE3  w3IWDESCRIBE4  w3IWDESCRIBE5  w3AREACOMFORT  w3AREASAFE  \\\n0               NaN            NaN            NaN            NaN         NaN   \n1               1.0            2.0            1.0            1.0         1.0   \n2               3.0            2.0            3.0            2.0         2.0   \n3               1.0            5.0            1.0            1.0         1.0   \n4               2.0            2.0            2.0            1.0         1.0   \n...             ...            ...            ...            ...         ...   \n6064            1.0            1.0            2.0            1.0         1.0   \n6065            4.0            3.0            3.0            3.0         3.0   \n6066           -3.0           -3.0           -3.0            1.0         1.0   \n6067            1.0            4.0            1.0            1.0         1.0   \n6068            NaN            NaN            NaN            NaN         NaN   \n\n      w3AREAAMENITIES  w3AREAPRESENCE  w3CASEDIF  _merge  \n0                 NaN             NaN        NaN       3  \n1                 2.0             5.0        4.0       3  \n2                 3.0             3.0        3.0       3  \n3                 2.0             3.0        4.0       3  \n4                 1.0             3.0        4.0       3  \n...               ...             ...        ...     ...  \n6064              2.0             5.0        4.0       2  \n6065              4.0             3.0        3.0       2  \n6066              1.0             5.0        2.0       2  \n6067              3.0             5.0        1.0       2  \n6068              NaN             NaN        NaN       2  \n\n[6069 rows x 2162 columns]",
      "text/html": "<div>\n<style scoped>\n    .dataframe tbody tr th:only-of-type {\n        vertical-align: middle;\n    }\n\n    .dataframe tbody tr th {\n        vertical-align: top;\n    }\n\n    .dataframe thead th {\n        text-align: right;\n    }\n</style>\n<table border=\"1\" class=\"dataframe\">\n  <thead>\n    <tr style=\"text-align: right;\">\n      <th></th>\n      <th>ID</th>\n      <th>SAMPLETYPE</th>\n      <th>w3DISP_GRP</th>\n      <th>w3DECEASED</th>\n      <th>ID_as_string</th>\n      <th>w2DISP_GRP</th>\n      <th>w2DECEASED</th>\n      <th>w1FI_ID</th>\n      <th>w1PATH</th>\n      <th>w1VERSION</th>\n      <th>...</th>\n      <th>w3IWDESCRIBE2</th>\n      <th>w3IWDESCRIBE3</th>\n      <th>w3IWDESCRIBE4</th>\n      <th>w3IWDESCRIBE5</th>\n      <th>w3AREACOMFORT</th>\n      <th>w3AREASAFE</th>\n      <th>w3AREAAMENITIES</th>\n      <th>w3AREAPRESENCE</th>\n      <th>w3CASEDIF</th>\n      <th>_merge</th>\n    </tr>\n  </thead>\n  <tbody>\n    <tr>\n      <th>0</th>\n      <td>100005</td>\n      <td>1.0</td>\n      <td>5.0</td>\n      <td>0.0</td>\n      <td>100005.0</td>\n      <td>1.0</td>\n      <td>0.0</td>\n      <td>866808.0</td>\n      <td>1.0</td>\n      <td>1.0</td>\n      <td>...</td>\n      <td>NaN</td>\n      <td>NaN</td>\n      <td>NaN</td>\n      <td>NaN</td>\n      <td>NaN</td>\n      <td>NaN</td>\n      <td>NaN</td>\n      <td>NaN</td>\n      <td>NaN</td>\n      <td>3</td>\n    </tr>\n    <tr>\n      <th>1</th>\n      <td>100033</td>\n      <td>1.0</td>\n      <td>1.0</td>\n      <td>0.0</td>\n      <td>100033.0</td>\n      <td>1.0</td>\n      <td>0.0</td>\n      <td>169164.0</td>\n      <td>3.0</td>\n      <td>3.0</td>\n      <td>...</td>\n      <td>1.0</td>\n      <td>1.0</td>\n      <td>2.0</td>\n      <td>1.0</td>\n      <td>1.0</td>\n      <td>1.0</td>\n      <td>2.0</td>\n      <td>5.0</td>\n      <td>4.0</td>\n      <td>3</td>\n    </tr>\n    <tr>\n      <th>2</th>\n      <td>100067</td>\n      <td>1.0</td>\n      <td>1.0</td>\n      <td>0.0</td>\n      <td>100067.0</td>\n      <td>NaN</td>\n      <td>NaN</td>\n      <td>NaN</td>\n      <td>NaN</td>\n      <td>NaN</td>\n      <td>...</td>\n      <td>3.0</td>\n      <td>3.0</td>\n      <td>2.0</td>\n      <td>3.0</td>\n      <td>2.0</td>\n      <td>2.0</td>\n      <td>3.0</td>\n      <td>3.0</td>\n      <td>3.0</td>\n      <td>3</td>\n    </tr>\n    <tr>\n      <th>3</th>\n      <td>100080</td>\n      <td>1.0</td>\n      <td>1.0</td>\n      <td>0.0</td>\n      <td>100080.0</td>\n      <td>1.0</td>\n      <td>0.0</td>\n      <td>281481.0</td>\n      <td>6.0</td>\n      <td>2.0</td>\n      <td>...</td>\n      <td>1.0</td>\n      <td>1.0</td>\n      <td>5.0</td>\n      <td>1.0</td>\n      <td>1.0</td>\n      <td>1.0</td>\n      <td>2.0</td>\n      <td>3.0</td>\n      <td>4.0</td>\n      <td>3</td>\n    </tr>\n    <tr>\n      <th>4</th>\n      <td>100149</td>\n      <td>1.0</td>\n      <td>1.0</td>\n      <td>0.0</td>\n      <td>100149.0</td>\n      <td>NaN</td>\n      <td>NaN</td>\n      <td>NaN</td>\n      <td>NaN</td>\n      <td>NaN</td>\n      <td>...</td>\n      <td>3.0</td>\n      <td>2.0</td>\n      <td>2.0</td>\n      <td>2.0</td>\n      <td>1.0</td>\n      <td>1.0</td>\n      <td>1.0</td>\n      <td>3.0</td>\n      <td>4.0</td>\n      <td>3</td>\n    </tr>\n    <tr>\n      <th>...</th>\n      <td>...</td>\n      <td>...</td>\n      <td>...</td>\n      <td>...</td>\n      <td>...</td>\n      <td>...</td>\n      <td>...</td>\n      <td>...</td>\n      <td>...</td>\n      <td>...</td>\n      <td>...</td>\n      <td>...</td>\n      <td>...</td>\n      <td>...</td>\n      <td>...</td>\n      <td>...</td>\n      <td>...</td>\n      <td>...</td>\n      <td>...</td>\n      <td>...</td>\n      <td>...</td>\n    </tr>\n    <tr>\n      <th>6064</th>\n      <td>199846</td>\n      <td>NaN</td>\n      <td>NaN</td>\n      <td>NaN</td>\n      <td>NaN</td>\n      <td>NaN</td>\n      <td>NaN</td>\n      <td>NaN</td>\n      <td>NaN</td>\n      <td>NaN</td>\n      <td>...</td>\n      <td>2.0</td>\n      <td>1.0</td>\n      <td>1.0</td>\n      <td>2.0</td>\n      <td>1.0</td>\n      <td>1.0</td>\n      <td>2.0</td>\n      <td>5.0</td>\n      <td>4.0</td>\n      <td>2</td>\n    </tr>\n    <tr>\n      <th>6065</th>\n      <td>199898</td>\n      <td>NaN</td>\n      <td>NaN</td>\n      <td>NaN</td>\n      <td>NaN</td>\n      <td>NaN</td>\n      <td>NaN</td>\n      <td>NaN</td>\n      <td>NaN</td>\n      <td>NaN</td>\n      <td>...</td>\n      <td>4.0</td>\n      <td>4.0</td>\n      <td>3.0</td>\n      <td>3.0</td>\n      <td>3.0</td>\n      <td>3.0</td>\n      <td>4.0</td>\n      <td>3.0</td>\n      <td>3.0</td>\n      <td>2</td>\n    </tr>\n    <tr>\n      <th>6066</th>\n      <td>199931</td>\n      <td>NaN</td>\n      <td>NaN</td>\n      <td>NaN</td>\n      <td>NaN</td>\n      <td>NaN</td>\n      <td>NaN</td>\n      <td>NaN</td>\n      <td>NaN</td>\n      <td>NaN</td>\n      <td>...</td>\n      <td>-3.0</td>\n      <td>-3.0</td>\n      <td>-3.0</td>\n      <td>-3.0</td>\n      <td>1.0</td>\n      <td>1.0</td>\n      <td>1.0</td>\n      <td>5.0</td>\n      <td>2.0</td>\n      <td>2</td>\n    </tr>\n    <tr>\n      <th>6067</th>\n      <td>199954</td>\n      <td>NaN</td>\n      <td>NaN</td>\n      <td>NaN</td>\n      <td>NaN</td>\n      <td>NaN</td>\n      <td>NaN</td>\n      <td>NaN</td>\n      <td>NaN</td>\n      <td>NaN</td>\n      <td>...</td>\n      <td>1.0</td>\n      <td>1.0</td>\n      <td>4.0</td>\n      <td>1.0</td>\n      <td>1.0</td>\n      <td>1.0</td>\n      <td>3.0</td>\n      <td>5.0</td>\n      <td>1.0</td>\n      <td>2</td>\n    </tr>\n    <tr>\n      <th>6068</th>\n      <td>199996</td>\n      <td>NaN</td>\n      <td>NaN</td>\n      <td>NaN</td>\n      <td>199996.0</td>\n      <td>2.0</td>\n      <td>1.0</td>\n      <td>742046.0</td>\n      <td>4.0</td>\n      <td>3.0</td>\n      <td>...</td>\n      <td>NaN</td>\n      <td>NaN</td>\n      <td>NaN</td>\n      <td>NaN</td>\n      <td>NaN</td>\n      <td>NaN</td>\n      <td>NaN</td>\n      <td>NaN</td>\n      <td>NaN</td>\n      <td>2</td>\n    </tr>\n  </tbody>\n</table>\n<p>6069 rows × 2162 columns</p>\n</div>"
     },
     "execution_count": 66,
     "metadata": {},
     "output_type": "execute_result"
    }
   ],
   "source": [
    "data_raw"
   ],
   "metadata": {
    "collapsed": false,
    "pycharm": {
     "name": "#%%\n"
    }
   }
  },
  {
   "cell_type": "code",
   "execution_count": 67,
   "metadata": {
    "pycharm": {
     "name": "#%%\n"
    }
   },
   "outputs": [
    {
     "name": "stdout",
     "output_type": "stream",
     "text": [
      "Total observations: 6069\n",
      "Removed follow-up 3064 respondents without W1 observations\n",
      "Removed follow-up 10 respondents without disposition statuses\n",
      "Sample frame has 2995 respondents\n"
     ]
    }
   ],
   "source": [
    "# Since the data contains original cohort and follow-up cohort, we need to filter out the follow-up cohort\n",
    "print(\"Total observations: {}\".format(len(data_raw)))\n",
    "data_w1 = data_raw[~data_raw['w1WEIGHT_ADJ'].isnull()]\n",
    "print(\"Removed follow-up {} respondents without W1 observations\".format(len(data_raw) - len(data_w1)))\n",
    "data_decease = data_w1[data_w1.notnull()].copy()\n",
    "data_decease['deceased'] = data_decease['w3DECEASED']\n",
    "data_decease.loc[data_decease['deceased'] == -9, ['deceased']] = np.nan\n",
    "data_decease['deceased'].fillna(data_decease['w2DECEASED'], inplace=True)\n",
    "data_decease.loc[data_decease['deceased'] == -9, ['deceased']] = np.nan\n",
    "data_complete = data_decease[data_decease['deceased'].notnull()]\n",
    "print(\"Removed follow-up {} respondents without disposition statuses\".format(len(data_w1) - len(data_complete)))\n",
    "print(\"Sample frame has {} respondents\".format(len(data_complete)))\n"
   ]
  },
  {
   "cell_type": "code",
   "execution_count": 68,
   "metadata": {
    "pycharm": {
     "name": "#%%\n"
    }
   },
   "outputs": [
    {
     "data": {
      "text/plain": "0.0    2102\n1.0     893\nName: deceased, dtype: int64"
     },
     "execution_count": 68,
     "metadata": {},
     "output_type": "execute_result"
    }
   ],
   "source": [
    "data_complete['deceased'].value_counts()"
   ]
  },
  {
   "cell_type": "code",
   "execution_count": 69,
   "metadata": {
    "pycharm": {
     "name": "#%%\n"
    }
   },
   "outputs": [],
   "source": [
    "data = data_complete[['ID', 'deceased', 'w1AGE', 'w1SYSTOLIC_MEAN',\n",
    "                      'w1BMI', 'w1HBA1C', 'w1CRP', 'w1DHEA_1', 'w1DHEA_2',\n",
    "                      'w1SMOKECIG', 'w1ALCOHOL', 'w1PHYSACT', 'w1HRSSLEEP',\n",
    "                      'w1EDUC', 'w1HSASSETS_RECODE', 'w1MARITLST', 'w1ETHGRP',\n",
    "                      'w1GENDER',\n",
    "                      'w1PHYSHLTH', 'w1MNTLHLTH', 'w1CONDITNS_3', 'w1WALKBLK']]"
   ]
  },
  {
   "cell_type": "code",
   "execution_count": 70,
   "metadata": {
    "pycharm": {
     "name": "#%%\n"
    }
   },
   "outputs": [],
   "source": [
    "# Preprocessing binary variables\n",
    "cat_col = ['ID', 'deceased', 'w1SMOKECIG', 'w1ALCOHOL', 'w1MARITLST',\n",
    "           'w1ETHGRP', 'w1GENDER',\n",
    "           'w1CONDITNS_3']\n",
    "data_cat = data[data[cat_col].notnull()].copy()[cat_col]\n",
    "for col in cat_col:\n",
    "    data_cat[col] = data_cat[col].astype('category')\n",
    "data_cat['w1married'] = np.where(data_cat['w1MARITLST'] == 'Married', 1, 0)\n",
    "data_cat['w1raceblk'] = np.where(data_cat['w1ETHGRP'] == 'Married', 1, 0)\n",
    "data_cat.drop('w1MARITLST', axis=1, inplace=True)\n",
    "data_cat.drop('w1ETHGRP', axis=1, inplace=True)"
   ]
  },
  {
   "cell_type": "code",
   "execution_count": 71,
   "metadata": {
    "pycharm": {
     "name": "#%%\n"
    }
   },
   "outputs": [],
   "source": [
    "# Preprocessing ordinal variables\n",
    "ord_col = ['w1PHYSACT', 'w1EDUC', 'w1HSASSETS_RECODE',\n",
    "           'w1PHYSHLTH', 'w1MNTLHLTH', 'w1WALKBLK']\n",
    "data_ord = data[data[ord_col].notnull()].copy()[ord_col]\n",
    "data_ord[data_ord < 0] = np.nan\n",
    "data_ord.fillna(data_ord.mean(), inplace=True)"
   ]
  },
  {
   "cell_type": "code",
   "execution_count": 72,
   "metadata": {
    "pycharm": {
     "name": "#%%\n"
    }
   },
   "outputs": [
    {
     "data": {
      "text/plain": "             w1AGE  w1SYSTOLIC_MEAN        w1BMI      w1HBA1C        w1CRP  \\\ncount  2995.000000      2995.000000  2995.000000  2995.000000  2995.000000   \nmean     69.307513       137.138234    29.095167     6.097641     3.194580   \nstd       7.857698        20.306078     6.078190     0.782456     4.848129   \nmin      57.000000        78.000000    14.063041     4.200000     0.000000   \n25%      62.000000       122.500000    25.101870     5.700000     1.053500   \n50%      69.000000       135.666672    28.793165     6.097641     3.194580   \n75%      76.000000       149.000000    31.773318     6.097641     3.194580   \nmax      85.000000       233.000000    75.600655    14.200000   100.000000   \n\n        w1HRSSLEEP  w1dhea_mean  \ncount  2995.000000  2995.000000  \nmean      6.888366    52.921454  \nstd       1.381350   109.835482  \nmin       1.000000     1.510000  \n25%       6.000000    22.252500  \n50%       7.000000    46.205000  \n75%       8.000000    53.247500  \nmax      13.000000  5000.000000  ",
      "text/html": "<div>\n<style scoped>\n    .dataframe tbody tr th:only-of-type {\n        vertical-align: middle;\n    }\n\n    .dataframe tbody tr th {\n        vertical-align: top;\n    }\n\n    .dataframe thead th {\n        text-align: right;\n    }\n</style>\n<table border=\"1\" class=\"dataframe\">\n  <thead>\n    <tr style=\"text-align: right;\">\n      <th></th>\n      <th>w1AGE</th>\n      <th>w1SYSTOLIC_MEAN</th>\n      <th>w1BMI</th>\n      <th>w1HBA1C</th>\n      <th>w1CRP</th>\n      <th>w1HRSSLEEP</th>\n      <th>w1dhea_mean</th>\n    </tr>\n  </thead>\n  <tbody>\n    <tr>\n      <th>count</th>\n      <td>2995.000000</td>\n      <td>2995.000000</td>\n      <td>2995.000000</td>\n      <td>2995.000000</td>\n      <td>2995.000000</td>\n      <td>2995.000000</td>\n      <td>2995.000000</td>\n    </tr>\n    <tr>\n      <th>mean</th>\n      <td>69.307513</td>\n      <td>137.138234</td>\n      <td>29.095167</td>\n      <td>6.097641</td>\n      <td>3.194580</td>\n      <td>6.888366</td>\n      <td>52.921454</td>\n    </tr>\n    <tr>\n      <th>std</th>\n      <td>7.857698</td>\n      <td>20.306078</td>\n      <td>6.078190</td>\n      <td>0.782456</td>\n      <td>4.848129</td>\n      <td>1.381350</td>\n      <td>109.835482</td>\n    </tr>\n    <tr>\n      <th>min</th>\n      <td>57.000000</td>\n      <td>78.000000</td>\n      <td>14.063041</td>\n      <td>4.200000</td>\n      <td>0.000000</td>\n      <td>1.000000</td>\n      <td>1.510000</td>\n    </tr>\n    <tr>\n      <th>25%</th>\n      <td>62.000000</td>\n      <td>122.500000</td>\n      <td>25.101870</td>\n      <td>5.700000</td>\n      <td>1.053500</td>\n      <td>6.000000</td>\n      <td>22.252500</td>\n    </tr>\n    <tr>\n      <th>50%</th>\n      <td>69.000000</td>\n      <td>135.666672</td>\n      <td>28.793165</td>\n      <td>6.097641</td>\n      <td>3.194580</td>\n      <td>7.000000</td>\n      <td>46.205000</td>\n    </tr>\n    <tr>\n      <th>75%</th>\n      <td>76.000000</td>\n      <td>149.000000</td>\n      <td>31.773318</td>\n      <td>6.097641</td>\n      <td>3.194580</td>\n      <td>8.000000</td>\n      <td>53.247500</td>\n    </tr>\n    <tr>\n      <th>max</th>\n      <td>85.000000</td>\n      <td>233.000000</td>\n      <td>75.600655</td>\n      <td>14.200000</td>\n      <td>100.000000</td>\n      <td>13.000000</td>\n      <td>5000.000000</td>\n    </tr>\n  </tbody>\n</table>\n</div>"
     },
     "execution_count": 72,
     "metadata": {},
     "output_type": "execute_result"
    }
   ],
   "source": [
    "# Preprocessing continuous variables\n",
    "con_col = ['w1AGE', 'w1SYSTOLIC_MEAN', 'w1BMI', 'w1HBA1C',\n",
    "           'w1CRP', 'w1DHEA_1', 'w1DHEA_2', 'w1HRSSLEEP']\n",
    "data_con = data[data[con_col].notnull()].copy()[con_col]\n",
    "for col in con_col:\n",
    "    data_con[col] = pd.to_numeric(data_con[col], errors='coerce')\n",
    "data_con['w1dhea_mean'] = data_con[['w1DHEA_1', 'w1DHEA_2']].mean(axis=1)\n",
    "data_con = data_con.drop(['w1DHEA_1', 'w1DHEA_2'], axis=1)\n",
    "data_con[data_con < 0] = np.nan\n",
    "data_con.fillna(data_con.mean(), inplace=True)\n",
    "data_con.describe()"
   ]
  },
  {
   "cell_type": "code",
   "execution_count": 73,
   "metadata": {
    "pycharm": {
     "name": "#%%\n"
    }
   },
   "outputs": [
    {
     "name": "stdout",
     "output_type": "stream",
     "text": [
      "Removed 0 respondents with missing values in categorical variables\n"
     ]
    }
   ],
   "source": [
    "data = pd.concat([data_cat, data_ord, data_con], axis=1)\n",
    "data_nona = data.dropna()\n",
    "print(\"Removed {} respondents with missing values in categorical variables\".format(len(data) - len(data_nona)))"
   ]
  },
  {
   "cell_type": "code",
   "execution_count": 75,
   "outputs": [],
   "source": [
    "data_nona.to_csv(\"./data/save_df.csv\")"
   ],
   "metadata": {
    "collapsed": false,
    "pycharm": {
     "name": "#%%\n"
    }
   }
  },
  {
   "cell_type": "code",
   "execution_count": 76,
   "metadata": {
    "pycharm": {
     "name": "#%%\n"
    }
   },
   "outputs": [
    {
     "data": {
      "text/plain": "<Figure size 600x600 with 2 Axes>",
      "image/png": "[encoded data removed]"
     },
     "metadata": {},
     "output_type": "display_data"
    }
   ],
   "source": [
    "_, ax = plt.subplots(figsize=(6, 6))\n",
    "columns = ['w1AGE', 'w1SYSTOLIC_MEAN', 'w1BMI', 'w1HBA1C',\n",
    "           'w1CRP', 'w1dhea_mean', 'w1HRSSLEEP']\n",
    "sns.heatmap(data[columns].corr(), annot=True, cmap='RdYlGn', ax=ax);"
   ]
  },
  {
   "attachments": {},
   "cell_type": "markdown",
   "metadata": {
    "pycharm": {
     "name": "#%% md\n"
    }
   },
   "source": [
    "## Decision Tree"
   ]
  },
  {
   "cell_type": "code",
   "execution_count": 202,
   "outputs": [],
   "source": [
    "data_nona = pd.read_csv('./data/save_df.csv')\n",
    "seed = 42"
   ],
   "metadata": {
    "collapsed": false,
    "pycharm": {
     "name": "#%%\n"
    }
   }
  },
  {
   "cell_type": "code",
   "execution_count": 204,
   "metadata": {
    "pycharm": {
     "name": "#%%\n"
    }
   },
   "outputs": [],
   "source": [
    "\n",
    "data_x = data_nona[['w1AGE', 'w1SYSTOLIC_MEAN',\n",
    "                    'w1BMI', 'w1HBA1C', 'w1CRP', 'w1dhea_mean',\n",
    "                    'w1SMOKECIG', 'w1ALCOHOL', 'w1PHYSACT', 'w1HRSSLEEP',\n",
    "                    'w1EDUC', 'w1HSASSETS_RECODE', 'w1married', 'w1raceblk',\n",
    "                    'w1GENDER',\n",
    "                    'w1PHYSHLTH', 'w1MNTLHLTH', 'w1CONDITNS_3', 'w1WALKBLK']]\n",
    "predictor_names = ['Age', 'Systolic BP', 'BMI', 'HbA1c', 'CRP', 'DHEA',\n",
    "                   'smoker', 'alcohol', 'physical activity', 'sleep',\n",
    "                   'education', 'wealth', 'married', 'black race', 'gender',\n",
    "                   'physical self-rated health', 'mental self-rated health',\n",
    "                   'chronic conditions', 'walking 1 block']\n",
    "data_y = data_nona[['deceased']]\n",
    "\n",
    "# Then split into 60% training, 20% validation, and 20% testing\n",
    "X_train_v, X_test, y_train_v, y_test = train_test_split(data_x, data_y,\n",
    "                                                        test_size=0.2,\n",
    "                                                        random_state=42)\n",
    "# 0.25 x 0.8 = 0.2\n",
    "X_train, X_val, y_train, y_val = train_test_split(X_train_v,\n",
    "                                                  y_train_v,\n",
    "                                                  test_size=0.25,\n",
    "                                                  random_state=42)"
   ]
  },
  {
   "cell_type": "code",
   "execution_count": 208,
   "metadata": {
    "pycharm": {
     "name": "#%%\n"
    }
   },
   "outputs": [
    {
     "data": {
      "text/plain": "0.7078464106844741"
     },
     "execution_count": 208,
     "metadata": {},
     "output_type": "execute_result"
    }
   ],
   "source": [
    "# BOTH PRE-PRUNING AND POST_PRUNING (PYTHON PACKAGES TO AUTOMATE THIS PROCESS)\n",
    "DT_clf = tree.DecisionTreeClassifier(random_state=seed, criterion=\"entropy\", max_depth=None,\n",
    "                                     min_impurity_decrease=0.01)\n",
    "DT_clf.fit(X_train, y_train)\n",
    "# save tree to iris.pdf\n",
    "dot_data = tree.export_graphviz(DT_clf, out_file=None,\n",
    "                                feature_names=predictor_names,\n",
    "                                class_names=['alive', 'deceased'])\n",
    "graph = graphviz.Source(dot_data)\n",
    "graph.render(\"dt_nshap\")\n",
    "DT_clf.score(X_test, y_test)"
   ]
  },
  {
   "attachments": {},
   "cell_type": "markdown",
   "metadata": {
    "pycharm": {
     "name": "#%% md\n"
    }
   },
   "source": [
    "## Random Forest"
   ]
  },
  {
   "cell_type": "code",
   "execution_count": 209,
   "metadata": {
    "pycharm": {
     "name": "#%%\n"
    }
   },
   "outputs": [
    {
     "name": "stderr",
     "output_type": "stream",
     "text": [
      "/var/folders/zw/thvqht1n2q9ggd09wgsw76th0000gn/T/ipykernel_36672/1903472483.py:2: DataConversionWarning: A column-vector y was passed when a 1d array was expected. Please change the shape of y to (n_samples,), for example using ravel().\n",
      "  RF_clf.fit(X_train, y_train)\n"
     ]
    },
    {
     "name": "stdout",
     "output_type": "stream",
     "text": [
      "1.0 0.7395659432387313\n"
     ]
    }
   ],
   "source": [
    "RF_clf = RandomForestClassifier(random_state=42)\n",
    "RF_clf.fit(X_train, y_train)\n",
    "print(RF_clf.score(X_train, y_train), RF_clf.score(X_test, y_test))"
   ]
  },
  {
   "cell_type": "code",
   "execution_count": 210,
   "outputs": [
    {
     "name": "stdout",
     "output_type": "stream",
     "text": [
      "0.7362270450751253 0.7473567056204786\n"
     ]
    },
    {
     "name": "stderr",
     "output_type": "stream",
     "text": [
      "/var/folders/zw/thvqht1n2q9ggd09wgsw76th0000gn/T/ipykernel_36672/3789848010.py:2: DataConversionWarning: A column-vector y was passed when a 1d array was expected. Please change the shape of y to (n_samples,), for example using ravel().\n",
      "  RF_clf2.fit(X_train, y_train)\n"
     ]
    }
   ],
   "source": [
    "RF_clf2 = RandomForestClassifier(max_depth=4, random_state=42)\n",
    "RF_clf2.fit(X_train, y_train)\n",
    "print(RF_clf2.score(X_test, y_test), RF_clf2.score(X_train, y_train))"
   ],
   "metadata": {
    "collapsed": false,
    "pycharm": {
     "name": "#%%\n"
    }
   }
  },
  {
   "cell_type": "code",
   "execution_count": 214,
   "outputs": [
    {
     "name": "stdout",
     "output_type": "stream",
     "text": [
      "0.7328881469115192 0.7473567056204786\n"
     ]
    },
    {
     "name": "stderr",
     "output_type": "stream",
     "text": [
      "/var/folders/zw/thvqht1n2q9ggd09wgsw76th0000gn/T/ipykernel_36672/3868388975.py:2: DataConversionWarning: A column-vector y was passed when a 1d array was expected. Please change the shape of y to (n_samples,), for example using ravel().\n",
      "  RF_clf2.fit(X_train, y_train)\n"
     ]
    }
   ],
   "source": [
    "RF_clf2 = RandomForestClassifier(max_depth=4, n_estimators=75, random_state=42)\n",
    "RF_clf2.fit(X_train, y_train)\n",
    "print(RF_clf2.score(X_test, y_test), RF_clf2.score(X_train, y_train))"
   ],
   "metadata": {
    "collapsed": false,
    "pycharm": {
     "name": "#%%\n"
    }
   }
  },
  {
   "cell_type": "code",
   "execution_count": 223,
   "outputs": [
    {
     "name": "stdout",
     "output_type": "stream",
     "text": [
      "0.7395659432387313 0.7540345019476906\n"
     ]
    },
    {
     "name": "stderr",
     "output_type": "stream",
     "text": [
      "/var/folders/zw/thvqht1n2q9ggd09wgsw76th0000gn/T/ipykernel_36672/2068522779.py:2: DataConversionWarning: A column-vector y was passed when a 1d array was expected. Please change the shape of y to (n_samples,), for example using ravel().\n",
      "  RF_clf2.fit(X_train, y_train)\n"
     ]
    }
   ],
   "source": [
    "RF_clf2 = RandomForestClassifier(max_depth=4, n_estimators=40, random_state=42)\n",
    "RF_clf2.fit(X_train, y_train)\n",
    "print(RF_clf2.score(X_test, y_test), RF_clf2.score(X_train, y_train))"
   ],
   "metadata": {
    "collapsed": false,
    "pycharm": {
     "name": "#%%\n"
    }
   }
  },
  {
   "cell_type": "markdown",
   "source": [
    "dot_data = tree.export_graphviz(RF_clf.estimators_[0], out_file=None,\n",
    "                                filled=True, rounded=True,\n",
    "                                special_characters=True,\n",
    "                                feature_names=predictor_names,\n",
    "                                class_names=['Alive', 'Deceased'])\n",
    "graph = graphviz.Source(dot_data)\n",
    "graph.render(\"rf0_nshap\")"
   ],
   "metadata": {
    "collapsed": false,
    "pycharm": {
     "name": "#%% md\n"
    }
   }
  },
  {
   "cell_type": "markdown",
   "source": [
    "dot_data = tree.export_graphviz(RF_clf.estimators_[1], out_file=None,\n",
    "                                filled=True, rounded=True,\n",
    "                                special_characters=True,\n",
    "                                feature_names=predictor_names,\n",
    "                                class_names=['Alive', 'Deceased'])\n",
    "graph = graphviz.Source(dot_data)\n",
    "graph.render(\"rf1_nshap\")"
   ],
   "metadata": {
    "collapsed": false,
    "pycharm": {
     "name": "#%% md\n"
    }
   }
  },
  {
   "cell_type": "markdown",
   "source": [
    "## Stacking"
   ],
   "metadata": {
    "collapsed": false,
    "pycharm": {
     "name": "#%% md\n"
    }
   }
  },
  {
   "cell_type": "code",
   "execution_count": 300,
   "outputs": [],
   "source": [
    "X_train_v, X_test, y_train_v, y_test = train_test_split(data_x, data_y,\n",
    "                                                        test_size=0.2,\n",
    "                                                        random_state=42)"
   ],
   "metadata": {
    "collapsed": false,
    "pycharm": {
     "name": "#%%\n"
    }
   }
  },
  {
   "cell_type": "code",
   "execution_count": 308,
   "outputs": [],
   "source": [
    "class Stacking_CLF():\n",
    "    def __init__(self, n_folds=8, n_esti=25, max_depth=6, min_sample=2, tr_weight=None, weight=None, seed=42):\n",
    "        self.clfs = []\n",
    "        for i in range(n_folds):\n",
    "            self.clfs.append(\n",
    "                [RandomForestClassifier(n_estimators=n_esti, n_jobs=-1, criterion='entropy', max_depth=max_depth,\n",
    "                                        min_samples_split=min_sample, class_weight=tr_weight, random_state=seed),\n",
    "                 RandomForestClassifier(n_estimators=n_esti, n_jobs=-1, criterion='gini', max_depth=max_depth,\n",
    "                                        min_samples_split=min_sample, class_weight=tr_weight, random_state=seed+1),\n",
    "                 ExtraTreesClassifier(n_estimators=n_esti, n_jobs=-1, criterion='entropy', max_depth=max_depth,\n",
    "                                      min_samples_split=min_sample, class_weight=tr_weight, random_state=seed+2),\n",
    "                 ExtraTreesClassifier(n_estimators=n_esti, n_jobs=-1, criterion='gini', max_depth=max_depth,\n",
    "                                      min_samples_split=min_sample, class_weight=tr_weight, random_state=seed+3),\n",
    "                 GradientBoostingClassifier(learning_rate=0.05, subsample=0.5, max_depth=max_depth,\n",
    "                                            n_estimators=n_esti, random_state=seed+4)])\n",
    "        self.n_base = len(self.clfs[0])\n",
    "        self.n_folds = n_folds\n",
    "        self.meta = LogisticRegression(class_weight=weight, n_jobs=-1)\n",
    "\n",
    "    def fit(self, X, y):\n",
    "\n",
    "        X_train_v = np.array(X)\n",
    "        y_train_v = np.array(y)\n",
    "        dataset_blend_train = np.zeros((X_train_v.shape[0], self.n_base))\n",
    "\n",
    "        skf = StratifiedKFold(self.n_folds).split(X_train_v, y_train_v)\n",
    "        skf = list(skf)\n",
    "        for j in range(self.n_base):\n",
    "            for i, (train, test) in enumerate(skf):\n",
    "                X_train = X_train_v[train]\n",
    "                y_train = y_train_v[train]\n",
    "                X_test_temp = X_train_v[test]\n",
    "                self.clfs[i][j].fit(X_train, np.ravel(y_train))\n",
    "                y_submission = self.clfs[i][j].predict_proba(X_test_temp)[:, 1]\n",
    "                dataset_blend_train[test, j] = y_submission\n",
    "\n",
    "        self.meta.fit(dataset_blend_train, y_train_v)\n",
    "\n",
    "    def predict(self, X, proba=True):\n",
    "        X_test = np.array(X)\n",
    "        dataset_blend_test = np.zeros((X_test.shape[0], self.n_base))\n",
    "\n",
    "        for j in range(self.n_base):\n",
    "            dataset_blend_test_j = np.zeros((X_test.shape[0], self.n_folds))\n",
    "            for i in range(self.n_folds):\n",
    "                dataset_blend_test_j[:, i] = self.clfs[i][j].predict_proba(X_test)[:, 1]\n",
    "            dataset_blend_test[:, j] = dataset_blend_test_j.mean(1)\n",
    "\n",
    "        if proba:\n",
    "            return self.meta.predict_proba(dataset_blend_test)[:, 1]\n",
    "        else:\n",
    "            return self.meta.predict(dataset_blend_test)\n",
    "\n",
    "    def get_log_param(self):\n",
    "        return self.meta.get_params()\n",
    "\n",
    "    def get_coeff(self):\n",
    "        return self.meta.coef_\n",
    "\n",
    "    def get_clf(self):\n",
    "        return self.clfs\n"
   ],
   "metadata": {
    "collapsed": false,
    "pycharm": {
     "name": "#%%\n"
    }
   }
  },
  {
   "cell_type": "code",
   "execution_count": 309,
   "outputs": [
    {
     "name": "stderr",
     "output_type": "stream",
     "text": [
      "/Users/lyu/Opt/anaconda3/envs/m1_torch/lib/python3.8/site-packages/sklearn/utils/validation.py:1111: DataConversionWarning: A column-vector y was passed when a 1d array was expected. Please change the shape of y to (n_samples, ), for example using ravel().\n",
      "  y = column_or_1d(y, warn=True)\n"
     ]
    },
    {
     "name": "stdout",
     "output_type": "stream",
     "text": [
      "[[2.06358621 0.52281302 1.94359278 1.94711046 0.53881673]]\n",
      "0.8681135225375626\n",
      "0.7462437395659433\n"
     ]
    }
   ],
   "source": [
    "stk_clfa = Stacking_CLF(n_folds=8, n_esti=25, max_depth=8, seed=42)\n",
    "stk_clfa.fit(X_train_v, y_train_v)\n",
    "print(stk_clfa.get_coeff())\n",
    "print(metrics.accuracy_score(stk_clfa.predict(X_train_v, proba=False), y_train_v))\n",
    "print(metrics.accuracy_score(stk_clfa.predict(X_test, proba=False), y_test))"
   ],
   "metadata": {
    "collapsed": false,
    "pycharm": {
     "name": "#%%\n"
    }
   }
  },
  {
   "cell_type": "code",
   "execution_count": 310,
   "outputs": [
    {
     "name": "stderr",
     "output_type": "stream",
     "text": [
      "/Users/lyu/Opt/anaconda3/envs/m1_torch/lib/python3.8/site-packages/sklearn/utils/validation.py:1111: DataConversionWarning: A column-vector y was passed when a 1d array was expected. Please change the shape of y to (n_samples, ), for example using ravel().\n",
      "  y = column_or_1d(y, warn=True)\n"
     ]
    },
    {
     "name": "stdout",
     "output_type": "stream",
     "text": [
      "[[2.15678977 0.41212088 1.82373589 1.93096144 0.6840466 ]]\n",
      "0.8693656093489148\n",
      "0.7462437395659433\n"
     ]
    }
   ],
   "source": [
    "stk_clfb = Stacking_CLF(n_folds=8, n_esti=30, max_depth=8, seed=42)\n",
    "stk_clfb.fit(X_train_v, y_train_v)\n",
    "print(stk_clfb.get_coeff())\n",
    "print(metrics.accuracy_score(stk_clfb.predict(X_train_v, proba=False), y_train_v))\n",
    "print(metrics.accuracy_score(stk_clfb.predict(X_test, proba=False), y_test))"
   ],
   "metadata": {
    "collapsed": false,
    "pycharm": {
     "name": "#%%\n"
    }
   }
  },
  {
   "cell_type": "code",
   "execution_count": 311,
   "outputs": [
    {
     "name": "stderr",
     "output_type": "stream",
     "text": [
      "/Users/lyu/Opt/anaconda3/envs/m1_torch/lib/python3.8/site-packages/sklearn/utils/validation.py:1111: DataConversionWarning: A column-vector y was passed when a 1d array was expected. Please change the shape of y to (n_samples, ), for example using ravel().\n",
      "  y = column_or_1d(y, warn=True)\n"
     ]
    },
    {
     "name": "stdout",
     "output_type": "stream",
     "text": [
      "[[1.85368373 0.89811378 1.70009929 1.97262101 0.59176895]]\n",
      "0.8693656093489148\n",
      "0.7495826377295493\n"
     ]
    }
   ],
   "source": [
    "stk_clfb = Stacking_CLF(n_folds=8, n_esti=20, max_depth=8, seed=42)\n",
    "stk_clfb.fit(X_train_v, y_train_v)\n",
    "print(stk_clfb.get_coeff())\n",
    "print(metrics.accuracy_score(stk_clfb.predict(X_train_v, proba=False), y_train_v))\n",
    "print(metrics.accuracy_score(stk_clfb.predict(X_test, proba=False), y_test))"
   ],
   "metadata": {
    "collapsed": false,
    "pycharm": {
     "name": "#%%\n"
    }
   }
  },
  {
   "cell_type": "code",
   "execution_count": 312,
   "outputs": [
    {
     "name": "stderr",
     "output_type": "stream",
     "text": [
      "/Users/lyu/Opt/anaconda3/envs/m1_torch/lib/python3.8/site-packages/sklearn/utils/validation.py:1111: DataConversionWarning: A column-vector y was passed when a 1d array was expected. Please change the shape of y to (n_samples, ), for example using ravel().\n",
      "  y = column_or_1d(y, warn=True)\n"
     ]
    },
    {
     "name": "stdout",
     "output_type": "stream",
     "text": [
      "[[3.02016657 0.70662372 2.60432485 1.32050441 3.23023761]]\n",
      "0.7658597662771286\n",
      "0.7529215358931552\n"
     ]
    }
   ],
   "source": [
    "stk_clfb = Stacking_CLF(n_folds=9, n_esti=15, max_depth=3, seed=42)\n",
    "stk_clfb.fit(X_train_v, y_train_v)\n",
    "print(stk_clfb.get_coeff())\n",
    "print(metrics.accuracy_score(stk_clfb.predict(X_train_v, proba=False), y_train_v))\n",
    "print(metrics.accuracy_score(stk_clfb.predict(X_test, proba=False), y_test))"
   ],
   "metadata": {
    "collapsed": false,
    "pycharm": {
     "name": "#%%\n"
    }
   }
  },
  {
   "cell_type": "code",
   "execution_count": 313,
   "outputs": [
    {
     "name": "stderr",
     "output_type": "stream",
     "text": [
      "/Users/lyu/Opt/anaconda3/envs/m1_torch/lib/python3.8/site-packages/sklearn/utils/validation.py:1111: DataConversionWarning: A column-vector y was passed when a 1d array was expected. Please change the shape of y to (n_samples, ), for example using ravel().\n",
      "  y = column_or_1d(y, warn=True)\n"
     ]
    },
    {
     "name": "stdout",
     "output_type": "stream",
     "text": [
      "[[2.49507434 1.7704998  2.81368766 1.17904339 3.23765674]]\n",
      "0.7199499165275459\n",
      "0.6894824707846411\n"
     ]
    }
   ],
   "source": [
    "stk_clfb = Stacking_CLF(n_folds=10, n_esti=15, max_depth=3, seed=42, weight='balanced')\n",
    "stk_clfb.fit(X_train_v, y_train_v)\n",
    "print(stk_clfb.get_coeff())\n",
    "print(metrics.accuracy_score(stk_clfb.predict(X_train_v, proba=False), y_train_v))\n",
    "print(metrics.accuracy_score(stk_clfb.predict(X_test, proba=False), y_test))"
   ],
   "metadata": {
    "collapsed": false,
    "pycharm": {
     "name": "#%%\n"
    }
   }
  },
  {
   "cell_type": "code",
   "execution_count": 320,
   "outputs": [
    {
     "name": "stdout",
     "output_type": "stream",
     "text": [
      "Best performence at 42 0.7479131886477463\n"
     ]
    },
    {
     "name": "stderr",
     "output_type": "stream",
     "text": [
      "/Users/lyu/Opt/anaconda3/envs/m1_torch/lib/python3.8/site-packages/sklearn/utils/validation.py:1111: DataConversionWarning: A column-vector y was passed when a 1d array was expected. Please change the shape of y to (n_samples, ), for example using ravel().\n",
      "  y = column_or_1d(y, warn=True)\n"
     ]
    },
    {
     "name": "stdout",
     "output_type": "stream",
     "text": [
      "[[1.94462005 1.14903739 2.3467746  1.34681972 3.21516931]]\n",
      "0.7650250417362271\n",
      "0.7479131886477463\n"
     ]
    }
   ],
   "source": [
    "print(\"Best performence at 42\", metrics.accuracy_score(stk_clfb.predict(X_test, proba=False), y_test))\n",
    "stk_clfb = Stacking_CLF(n_folds=9, n_esti=18, max_depth=3, seed=42, tr_weight='balanced_subsample')\n",
    "stk_clfb.fit(X_train_v, y_train_v)\n",
    "print(stk_clfb.get_coeff())\n",
    "print(metrics.accuracy_score(stk_clfb.predict(X_train_v, proba=False), y_train_v))\n",
    "print(metrics.accuracy_score(stk_clfb.predict(X_test, proba=False), y_test))"
   ],
   "metadata": {
    "collapsed": false,
    "pycharm": {
     "name": "#%%\n"
    }
   }
  },
  {
   "cell_type": "code",
   "execution_count": 331,
   "outputs": [
    {
     "name": "stdout",
     "output_type": "stream",
     "text": [
      "Best performence at 42 0.7495826377295493\n"
     ]
    },
    {
     "name": "stderr",
     "output_type": "stream",
     "text": [
      "/Users/lyu/Opt/anaconda3/envs/m1_torch/lib/python3.8/site-packages/sklearn/utils/validation.py:1111: DataConversionWarning: A column-vector y was passed when a 1d array was expected. Please change the shape of y to (n_samples, ), for example using ravel().\n",
      "  y = column_or_1d(y, warn=True)\n"
     ]
    },
    {
     "name": "stdout",
     "output_type": "stream",
     "text": [
      "[[1.45292294 1.48676291 2.41081869 1.62534347 3.14304136]]\n",
      "0.7662771285475793\n",
      "0.7545909849749582\n"
     ]
    }
   ],
   "source": [
    "print(\"Best performence at 42\", metrics.accuracy_score(stk_clfb.predict(X_test, proba=False), y_test))\n",
    "stk_clfb = Stacking_CLF(n_folds=15, n_esti=18, max_depth=3, seed=42, tr_weight='balanced_subsample')\n",
    "stk_clfb.fit(X_train_v, y_train_v)\n",
    "print(stk_clfb.get_coeff())\n",
    "print(metrics.accuracy_score(stk_clfb.predict(X_train_v, proba=False), y_train_v))\n",
    "print(metrics.accuracy_score(stk_clfb.predict(X_test, proba=False), y_test))"
   ],
   "metadata": {
    "collapsed": false,
    "pycharm": {
     "name": "#%%\n"
    }
   }
  },
  {
   "cell_type": "code",
   "execution_count": 332,
   "outputs": [
    {
     "data": {
      "text/plain": "0.7733423180592991"
     },
     "execution_count": 332,
     "metadata": {},
     "output_type": "execute_result"
    },
    {
     "data": {
      "text/plain": "<Figure size 640x480 with 1 Axes>",
      "image/png": "[encoded data removed]"
     },
     "metadata": {},
     "output_type": "display_data"
    }
   ],
   "source": [
    "y_prob = stk_clfb.predict(X_test, proba=True)\n",
    "y_sp = stk_clfb.predict(X_test, proba=False)\n",
    "fpr, tpr, thr = metrics.roc_curve(y_test, y_prob)\n",
    "plt.plot(fpr, tpr)\n",
    "metrics.roc_auc_score(y_test, y_prob)"
   ],
   "metadata": {
    "collapsed": false,
    "pycharm": {
     "name": "#%%\n"
    }
   }
  },
  {
   "cell_type": "code",
   "execution_count": 333,
   "outputs": [
    {
     "name": "stdout",
     "output_type": "stream",
     "text": [
      "RandomForestClassifier(class_weight='balanced_subsample', criterion='entropy',\n",
      "                       max_depth=3, n_estimators=18, n_jobs=-1,\n",
      "                       random_state=42)\n",
      "0 0\n",
      "RandomForestClassifier(class_weight='balanced_subsample', max_depth=3,\n",
      "                       n_estimators=18, n_jobs=-1, random_state=43)\n",
      "0 1\n",
      "ExtraTreesClassifier(class_weight='balanced_subsample', criterion='entropy',\n",
      "                     max_depth=3, n_estimators=18, n_jobs=-1, random_state=44)\n",
      "0 2\n",
      "ExtraTreesClassifier(class_weight='balanced_subsample', max_depth=3,\n",
      "                     n_estimators=18, n_jobs=-1, random_state=45)\n",
      "0 3\n",
      "RandomForestClassifier(class_weight='balanced_subsample', criterion='entropy',\n",
      "                       max_depth=3, n_estimators=18, n_jobs=-1,\n",
      "                       random_state=42)\n",
      "1 0\n",
      "RandomForestClassifier(class_weight='balanced_subsample', max_depth=3,\n",
      "                       n_estimators=18, n_jobs=-1, random_state=43)\n",
      "1 1\n",
      "ExtraTreesClassifier(class_weight='balanced_subsample', criterion='entropy',\n",
      "                     max_depth=3, n_estimators=18, n_jobs=-1, random_state=44)\n",
      "1 2\n",
      "ExtraTreesClassifier(class_weight='balanced_subsample', max_depth=3,\n",
      "                     n_estimators=18, n_jobs=-1, random_state=45)\n",
      "1 3\n",
      "RandomForestClassifier(class_weight='balanced_subsample', criterion='entropy',\n",
      "                       max_depth=3, n_estimators=18, n_jobs=-1,\n",
      "                       random_state=42)\n",
      "2 0\n",
      "RandomForestClassifier(class_weight='balanced_subsample', max_depth=3,\n",
      "                       n_estimators=18, n_jobs=-1, random_state=43)\n",
      "2 1\n",
      "ExtraTreesClassifier(class_weight='balanced_subsample', criterion='entropy',\n",
      "                     max_depth=3, n_estimators=18, n_jobs=-1, random_state=44)\n",
      "2 2\n",
      "ExtraTreesClassifier(class_weight='balanced_subsample', max_depth=3,\n",
      "                     n_estimators=18, n_jobs=-1, random_state=45)\n",
      "2 3\n",
      "RandomForestClassifier(class_weight='balanced_subsample', criterion='entropy',\n",
      "                       max_depth=3, n_estimators=18, n_jobs=-1,\n",
      "                       random_state=42)\n",
      "3 0\n",
      "RandomForestClassifier(class_weight='balanced_subsample', max_depth=3,\n",
      "                       n_estimators=18, n_jobs=-1, random_state=43)\n",
      "3 1\n",
      "ExtraTreesClassifier(class_weight='balanced_subsample', criterion='entropy',\n",
      "                     max_depth=3, n_estimators=18, n_jobs=-1, random_state=44)\n",
      "3 2\n",
      "ExtraTreesClassifier(class_weight='balanced_subsample', max_depth=3,\n",
      "                     n_estimators=18, n_jobs=-1, random_state=45)\n",
      "3 3\n",
      "RandomForestClassifier(class_weight='balanced_subsample', criterion='entropy',\n",
      "                       max_depth=3, n_estimators=18, n_jobs=-1,\n",
      "                       random_state=42)\n",
      "0 0\n",
      "RandomForestClassifier(class_weight='balanced_subsample', max_depth=3,\n",
      "                       n_estimators=18, n_jobs=-1, random_state=43)\n",
      "0 1\n",
      "ExtraTreesClassifier(class_weight='balanced_subsample', criterion='entropy',\n",
      "                     max_depth=3, n_estimators=18, n_jobs=-1, random_state=44)\n",
      "0 2\n",
      "ExtraTreesClassifier(class_weight='balanced_subsample', max_depth=3,\n",
      "                     n_estimators=18, n_jobs=-1, random_state=45)\n",
      "0 3\n",
      "RandomForestClassifier(class_weight='balanced_subsample', criterion='entropy',\n",
      "                       max_depth=3, n_estimators=18, n_jobs=-1,\n",
      "                       random_state=42)\n",
      "1 0\n",
      "RandomForestClassifier(class_weight='balanced_subsample', max_depth=3,\n",
      "                       n_estimators=18, n_jobs=-1, random_state=43)\n",
      "1 1\n",
      "ExtraTreesClassifier(class_weight='balanced_subsample', criterion='entropy',\n",
      "                     max_depth=3, n_estimators=18, n_jobs=-1, random_state=44)\n",
      "1 2\n",
      "ExtraTreesClassifier(class_weight='balanced_subsample', max_depth=3,\n",
      "                     n_estimators=18, n_jobs=-1, random_state=45)\n",
      "1 3\n",
      "RandomForestClassifier(class_weight='balanced_subsample', criterion='entropy',\n",
      "                       max_depth=3, n_estimators=18, n_jobs=-1,\n",
      "                       random_state=42)\n",
      "2 0\n",
      "RandomForestClassifier(class_weight='balanced_subsample', max_depth=3,\n",
      "                       n_estimators=18, n_jobs=-1, random_state=43)\n",
      "2 1\n",
      "ExtraTreesClassifier(class_weight='balanced_subsample', criterion='entropy',\n",
      "                     max_depth=3, n_estimators=18, n_jobs=-1, random_state=44)\n",
      "2 2\n",
      "ExtraTreesClassifier(class_weight='balanced_subsample', max_depth=3,\n",
      "                     n_estimators=18, n_jobs=-1, random_state=45)\n",
      "2 3\n",
      "RandomForestClassifier(class_weight='balanced_subsample', criterion='entropy',\n",
      "                       max_depth=3, n_estimators=18, n_jobs=-1,\n",
      "                       random_state=42)\n",
      "3 0\n",
      "RandomForestClassifier(class_weight='balanced_subsample', max_depth=3,\n",
      "                       n_estimators=18, n_jobs=-1, random_state=43)\n",
      "3 1\n",
      "ExtraTreesClassifier(class_weight='balanced_subsample', criterion='entropy',\n",
      "                     max_depth=3, n_estimators=18, n_jobs=-1, random_state=44)\n",
      "3 2\n",
      "ExtraTreesClassifier(class_weight='balanced_subsample', max_depth=3,\n",
      "                     n_estimators=18, n_jobs=-1, random_state=45)\n",
      "3 3\n",
      "RandomForestClassifier(class_weight='balanced_subsample', criterion='entropy',\n",
      "                       max_depth=3, n_estimators=18, n_jobs=-1,\n",
      "                       random_state=42)\n",
      "0 0\n",
      "RandomForestClassifier(class_weight='balanced_subsample', max_depth=3,\n",
      "                       n_estimators=18, n_jobs=-1, random_state=43)\n",
      "0 1\n",
      "ExtraTreesClassifier(class_weight='balanced_subsample', criterion='entropy',\n",
      "                     max_depth=3, n_estimators=18, n_jobs=-1, random_state=44)\n",
      "0 2\n",
      "ExtraTreesClassifier(class_weight='balanced_subsample', max_depth=3,\n",
      "                     n_estimators=18, n_jobs=-1, random_state=45)\n",
      "0 3\n",
      "RandomForestClassifier(class_weight='balanced_subsample', criterion='entropy',\n",
      "                       max_depth=3, n_estimators=18, n_jobs=-1,\n",
      "                       random_state=42)\n",
      "1 0\n",
      "RandomForestClassifier(class_weight='balanced_subsample', max_depth=3,\n",
      "                       n_estimators=18, n_jobs=-1, random_state=43)\n",
      "1 1\n",
      "ExtraTreesClassifier(class_weight='balanced_subsample', criterion='entropy',\n",
      "                     max_depth=3, n_estimators=18, n_jobs=-1, random_state=44)\n",
      "1 2\n",
      "ExtraTreesClassifier(class_weight='balanced_subsample', max_depth=3,\n",
      "                     n_estimators=18, n_jobs=-1, random_state=45)\n",
      "1 3\n",
      "RandomForestClassifier(class_weight='balanced_subsample', criterion='entropy',\n",
      "                       max_depth=3, n_estimators=18, n_jobs=-1,\n",
      "                       random_state=42)\n",
      "2 0\n",
      "RandomForestClassifier(class_weight='balanced_subsample', max_depth=3,\n",
      "                       n_estimators=18, n_jobs=-1, random_state=43)\n",
      "2 1\n",
      "ExtraTreesClassifier(class_weight='balanced_subsample', criterion='entropy',\n",
      "                     max_depth=3, n_estimators=18, n_jobs=-1, random_state=44)\n",
      "2 2\n",
      "ExtraTreesClassifier(class_weight='balanced_subsample', max_depth=3,\n",
      "                     n_estimators=18, n_jobs=-1, random_state=45)\n",
      "2 3\n",
      "RandomForestClassifier(class_weight='balanced_subsample', criterion='entropy',\n",
      "                       max_depth=3, n_estimators=18, n_jobs=-1,\n",
      "                       random_state=42)\n",
      "3 0\n",
      "RandomForestClassifier(class_weight='balanced_subsample', max_depth=3,\n",
      "                       n_estimators=18, n_jobs=-1, random_state=43)\n",
      "3 1\n",
      "ExtraTreesClassifier(class_weight='balanced_subsample', criterion='entropy',\n",
      "                     max_depth=3, n_estimators=18, n_jobs=-1, random_state=44)\n",
      "3 2\n",
      "ExtraTreesClassifier(class_weight='balanced_subsample', max_depth=3,\n",
      "                     n_estimators=18, n_jobs=-1, random_state=45)\n",
      "3 3\n"
     ]
    }
   ],
   "source": [
    "rf_clusters = stk_clfb.get_clf()\n",
    "for i, cluster in enumerate(rf_clusters[:4]):\n",
    "\n",
    "    for j, rf in enumerate(cluster[:-1]):\n",
    "        print(rf)\n",
    "        dot_data = tree.export_graphviz(rf.estimators_[0], out_file=None,\n",
    "                                        filled=True, rounded=True,\n",
    "                                        special_characters=True,\n",
    "                                        feature_names=predictor_names,\n",
    "                                        class_names=['Alive', 'Deceased'])\n",
    "        graph = graphviz.Source(dot_data)\n",
    "        graph.render(str(i) + \"_nshap0_\" + str(j))\n",
    "        print(i, j)\n",
    "for i, cluster in enumerate(rf_clusters[:4]):\n",
    "\n",
    "    for j, rf in enumerate(cluster[:-1]):\n",
    "        print(rf)\n",
    "        dot_data = tree.export_graphviz(rf.estimators_[9], out_file=None,\n",
    "                                        filled=True, rounded=True,\n",
    "                                        special_characters=True,\n",
    "                                        feature_names=predictor_names,\n",
    "                                        class_names=['Alive', 'Deceased'])\n",
    "        graph = graphviz.Source(dot_data)\n",
    "        graph.render(str(i) + \"_nshap9_\" + str(j))\n",
    "        print(i, j)\n",
    "for i, cluster in enumerate(rf_clusters[:4]):\n",
    "\n",
    "    for j, rf in enumerate(cluster[:-1]):\n",
    "        print(rf)\n",
    "        dot_data = tree.export_graphviz(rf.estimators_[17], out_file=None,\n",
    "                                        filled=True, rounded=True,\n",
    "                                        special_characters=True,\n",
    "                                        feature_names=predictor_names,\n",
    "                                        class_names=['Alive', 'Deceased'])\n",
    "        graph = graphviz.Source(dot_data)\n",
    "        graph.render(str(i) + \"_nshap17_\" + str(j))\n",
    "        print(i, j)"
   ],
   "metadata": {
    "collapsed": false,
    "pycharm": {
     "name": "#%%\n"
    }
   }
  },
  {
   "cell_type": "markdown",
   "source": [],
   "metadata": {
    "collapsed": false,
    "pycharm": {
     "name": "#%% md\n"
    }
   }
  },
  {
   "cell_type": "code",
   "execution_count": 334,
   "outputs": [],
   "source": [
    "X_test.columns=predictor_names"
   ],
   "metadata": {
    "collapsed": false,
    "pycharm": {
     "name": "#%%\n"
    }
   }
  },
  {
   "cell_type": "code",
   "execution_count": 352,
   "outputs": [
    {
     "name": "stderr",
     "output_type": "stream",
     "text": [
      "/var/folders/zw/thvqht1n2q9ggd09wgsw76th0000gn/T/ipykernel_36672/1112926933.py:6: SettingWithCopyWarning: \n",
      "A value is trying to be set on a copy of a slice from a DataFrame.\n",
      "Try using .loc[row_indexer,col_indexer] = value instead\n",
      "\n",
      "See the caveats in the documentation: https://pandas.pydata.org/pandas-docs/stable/user_guide/indexing.html#returning-a-view-versus-a-copy\n",
      "  X_wrong['deceased']=y_sp[f_idx]\n"
     ]
    },
    {
     "data": {
      "text/plain": "           Age  Systolic BP       BMI     HbA1c       CRP      DHEA  \\\n1374  4.771983     2.971285  0.742092  0.783655  0.678735 -0.202921   \n2110  2.811477    -0.639799 -0.338796  0.048748 -0.011860 -0.144557   \n2097  5.425485     2.584383 -0.778440  0.048748 -0.011860  0.031709   \n1017 -0.456033    -3.992947  0.000312 -0.825548 -0.262203  0.031709   \n144  -8.298058     4.712343 -0.959499  0.637364 -0.159297  3.327560   \n...        ...          ...       ...       ...       ...       ...   \n1253 -1.763037    -1.155668  0.770493  0.048748  0.249015  0.304526   \n2582 -5.684050    -1.349118  5.551726 -0.240383  3.613039 -0.800776   \n2225 -6.337552     0.087349 -0.075851  0.048748 -0.011860  0.031709   \n1023  5.425485    -0.962217 -1.553920 -1.410713 -0.040051 -0.418260   \n2728 -3.070041    -2.445340 -1.665344  3.855770  0.091399 -0.613571   \n\n         smoker    alcohol  physical activity     sleep  education     wealth  \\\n1374  10.000000 -12.434457         -22.262118  3.477911  -3.281596   2.675545   \n2110  -1.519231 -12.434457          10.000000  3.477911  -9.922395   0.108414   \n2097  -1.519231 -12.434457          10.000000 -1.413655  -3.281596   0.108414   \n1017  -1.519231 -12.434457         -22.262118  1.847389  -3.281596   0.108414   \n144   -1.519231 -12.434457          10.000000 -3.044177   3.359202 -19.297822   \n...         ...        ...                ...       ...        ...        ...   \n1253  -1.519231  10.000000          10.000000 -3.044177  -9.922395   0.108414   \n2582  -1.519231 -12.434457         -11.508079  1.847389  -9.922395   2.675545   \n2225  10.000000 -12.434457          10.000000  1.847389  -3.281596   0.108414   \n1023  -1.519231  10.000000          10.000000  1.847389  -9.922395   2.675545   \n2728  10.000000 -12.434457          10.000000 -1.413655  -3.281596 -19.297822   \n\n      married  black race     gender  physical self-rated health  \\\n1374      NaN         NaN -11.546763                   -0.887143   \n2110      NaN         NaN  10.000000                   -6.330715   \n2097      NaN         NaN  10.000000                   -0.887143   \n1017      NaN         NaN -11.546763                   -6.330715   \n144       NaN         NaN  10.000000                   -6.330715   \n...       ...         ...        ...                         ...   \n1253      NaN         NaN  10.000000                  -11.774286   \n2582      NaN         NaN -11.546763                   -6.330715   \n2225      NaN         NaN -11.546763                   -6.330715   \n1023      NaN         NaN -11.546763                   -0.887143   \n2728      NaN         NaN -11.546763                   -0.887143   \n\n      mental self-rated health  chronic conditions  walking 1 block  deceased  \n1374                 10.000000           -1.519231        -1.783607       1.0  \n2110                 -5.834772           -1.519231         2.144262       1.0  \n2097                  2.082614           -1.519231        -1.783607       0.0  \n1017                -13.752159           -1.519231        -1.783607       0.0  \n144                   2.082614           10.000000         2.144262       0.0  \n...                        ...                 ...              ...       ...  \n1253                 -5.834772           10.000000         2.144262       0.0  \n2582                 -5.834772           -1.519231        10.000000       0.0  \n2225                  2.082614           -1.519231         2.144262       0.0  \n1023                 10.000000           -1.519231        -1.783607       0.0  \n2728                  2.082614           -1.519231        -1.783607       0.0  \n\n[147 rows x 20 columns]",
      "text/html": "<div>\n<style scoped>\n    .dataframe tbody tr th:only-of-type {\n        vertical-align: middle;\n    }\n\n    .dataframe tbody tr th {\n        vertical-align: top;\n    }\n\n    .dataframe thead th {\n        text-align: right;\n    }\n</style>\n<table border=\"1\" class=\"dataframe\">\n  <thead>\n    <tr style=\"text-align: right;\">\n      <th></th>\n      <th>Age</th>\n      <th>Systolic BP</th>\n      <th>BMI</th>\n      <th>HbA1c</th>\n      <th>CRP</th>\n      <th>DHEA</th>\n      <th>smoker</th>\n      <th>alcohol</th>\n      <th>physical activity</th>\n      <th>sleep</th>\n      <th>education</th>\n      <th>wealth</th>\n      <th>married</th>\n      <th>black race</th>\n      <th>gender</th>\n      <th>physical self-rated health</th>\n      <th>mental self-rated health</th>\n      <th>chronic conditions</th>\n      <th>walking 1 block</th>\n      <th>deceased</th>\n    </tr>\n  </thead>\n  <tbody>\n    <tr>\n      <th>1374</th>\n      <td>4.771983</td>\n      <td>2.971285</td>\n      <td>0.742092</td>\n      <td>0.783655</td>\n      <td>0.678735</td>\n      <td>-0.202921</td>\n      <td>10.000000</td>\n      <td>-12.434457</td>\n      <td>-22.262118</td>\n      <td>3.477911</td>\n      <td>-3.281596</td>\n      <td>2.675545</td>\n      <td>NaN</td>\n      <td>NaN</td>\n      <td>-11.546763</td>\n      <td>-0.887143</td>\n      <td>10.000000</td>\n      <td>-1.519231</td>\n      <td>-1.783607</td>\n      <td>1.0</td>\n    </tr>\n    <tr>\n      <th>2110</th>\n      <td>2.811477</td>\n      <td>-0.639799</td>\n      <td>-0.338796</td>\n      <td>0.048748</td>\n      <td>-0.011860</td>\n      <td>-0.144557</td>\n      <td>-1.519231</td>\n      <td>-12.434457</td>\n      <td>10.000000</td>\n      <td>3.477911</td>\n      <td>-9.922395</td>\n      <td>0.108414</td>\n      <td>NaN</td>\n      <td>NaN</td>\n      <td>10.000000</td>\n      <td>-6.330715</td>\n      <td>-5.834772</td>\n      <td>-1.519231</td>\n      <td>2.144262</td>\n      <td>1.0</td>\n    </tr>\n    <tr>\n      <th>2097</th>\n      <td>5.425485</td>\n      <td>2.584383</td>\n      <td>-0.778440</td>\n      <td>0.048748</td>\n      <td>-0.011860</td>\n      <td>0.031709</td>\n      <td>-1.519231</td>\n      <td>-12.434457</td>\n      <td>10.000000</td>\n      <td>-1.413655</td>\n      <td>-3.281596</td>\n      <td>0.108414</td>\n      <td>NaN</td>\n      <td>NaN</td>\n      <td>10.000000</td>\n      <td>-0.887143</td>\n      <td>2.082614</td>\n      <td>-1.519231</td>\n      <td>-1.783607</td>\n      <td>0.0</td>\n    </tr>\n    <tr>\n      <th>1017</th>\n      <td>-0.456033</td>\n      <td>-3.992947</td>\n      <td>0.000312</td>\n      <td>-0.825548</td>\n      <td>-0.262203</td>\n      <td>0.031709</td>\n      <td>-1.519231</td>\n      <td>-12.434457</td>\n      <td>-22.262118</td>\n      <td>1.847389</td>\n      <td>-3.281596</td>\n      <td>0.108414</td>\n      <td>NaN</td>\n      <td>NaN</td>\n      <td>-11.546763</td>\n      <td>-6.330715</td>\n      <td>-13.752159</td>\n      <td>-1.519231</td>\n      <td>-1.783607</td>\n      <td>0.0</td>\n    </tr>\n    <tr>\n      <th>144</th>\n      <td>-8.298058</td>\n      <td>4.712343</td>\n      <td>-0.959499</td>\n      <td>0.637364</td>\n      <td>-0.159297</td>\n      <td>3.327560</td>\n      <td>-1.519231</td>\n      <td>-12.434457</td>\n      <td>10.000000</td>\n      <td>-3.044177</td>\n      <td>3.359202</td>\n      <td>-19.297822</td>\n      <td>NaN</td>\n      <td>NaN</td>\n      <td>10.000000</td>\n      <td>-6.330715</td>\n      <td>2.082614</td>\n      <td>10.000000</td>\n      <td>2.144262</td>\n      <td>0.0</td>\n    </tr>\n    <tr>\n      <th>...</th>\n      <td>...</td>\n      <td>...</td>\n      <td>...</td>\n      <td>...</td>\n      <td>...</td>\n      <td>...</td>\n      <td>...</td>\n      <td>...</td>\n      <td>...</td>\n      <td>...</td>\n      <td>...</td>\n      <td>...</td>\n      <td>...</td>\n      <td>...</td>\n      <td>...</td>\n      <td>...</td>\n      <td>...</td>\n      <td>...</td>\n      <td>...</td>\n      <td>...</td>\n    </tr>\n    <tr>\n      <th>1253</th>\n      <td>-1.763037</td>\n      <td>-1.155668</td>\n      <td>0.770493</td>\n      <td>0.048748</td>\n      <td>0.249015</td>\n      <td>0.304526</td>\n      <td>-1.519231</td>\n      <td>10.000000</td>\n      <td>10.000000</td>\n      <td>-3.044177</td>\n      <td>-9.922395</td>\n      <td>0.108414</td>\n      <td>NaN</td>\n      <td>NaN</td>\n      <td>10.000000</td>\n      <td>-11.774286</td>\n      <td>-5.834772</td>\n      <td>10.000000</td>\n      <td>2.144262</td>\n      <td>0.0</td>\n    </tr>\n    <tr>\n      <th>2582</th>\n      <td>-5.684050</td>\n      <td>-1.349118</td>\n      <td>5.551726</td>\n      <td>-0.240383</td>\n      <td>3.613039</td>\n      <td>-0.800776</td>\n      <td>-1.519231</td>\n      <td>-12.434457</td>\n      <td>-11.508079</td>\n      <td>1.847389</td>\n      <td>-9.922395</td>\n      <td>2.675545</td>\n      <td>NaN</td>\n      <td>NaN</td>\n      <td>-11.546763</td>\n      <td>-6.330715</td>\n      <td>-5.834772</td>\n      <td>-1.519231</td>\n      <td>10.000000</td>\n      <td>0.0</td>\n    </tr>\n    <tr>\n      <th>2225</th>\n      <td>-6.337552</td>\n      <td>0.087349</td>\n      <td>-0.075851</td>\n      <td>0.048748</td>\n      <td>-0.011860</td>\n      <td>0.031709</td>\n      <td>10.000000</td>\n      <td>-12.434457</td>\n      <td>10.000000</td>\n      <td>1.847389</td>\n      <td>-3.281596</td>\n      <td>0.108414</td>\n      <td>NaN</td>\n      <td>NaN</td>\n      <td>-11.546763</td>\n      <td>-6.330715</td>\n      <td>2.082614</td>\n      <td>-1.519231</td>\n      <td>2.144262</td>\n      <td>0.0</td>\n    </tr>\n    <tr>\n      <th>1023</th>\n      <td>5.425485</td>\n      <td>-0.962217</td>\n      <td>-1.553920</td>\n      <td>-1.410713</td>\n      <td>-0.040051</td>\n      <td>-0.418260</td>\n      <td>-1.519231</td>\n      <td>10.000000</td>\n      <td>10.000000</td>\n      <td>1.847389</td>\n      <td>-9.922395</td>\n      <td>2.675545</td>\n      <td>NaN</td>\n      <td>NaN</td>\n      <td>-11.546763</td>\n      <td>-0.887143</td>\n      <td>10.000000</td>\n      <td>-1.519231</td>\n      <td>-1.783607</td>\n      <td>0.0</td>\n    </tr>\n    <tr>\n      <th>2728</th>\n      <td>-3.070041</td>\n      <td>-2.445340</td>\n      <td>-1.665344</td>\n      <td>3.855770</td>\n      <td>0.091399</td>\n      <td>-0.613571</td>\n      <td>10.000000</td>\n      <td>-12.434457</td>\n      <td>10.000000</td>\n      <td>-1.413655</td>\n      <td>-3.281596</td>\n      <td>-19.297822</td>\n      <td>NaN</td>\n      <td>NaN</td>\n      <td>-11.546763</td>\n      <td>-0.887143</td>\n      <td>2.082614</td>\n      <td>-1.519231</td>\n      <td>-1.783607</td>\n      <td>0.0</td>\n    </tr>\n  </tbody>\n</table>\n<p>147 rows × 20 columns</p>\n</div>"
     },
     "execution_count": 352,
     "metadata": {},
     "output_type": "execute_result"
    }
   ],
   "source": [
    "y_sp = np.array(y_sp)\n",
    "gt = list(dict(y_test)['deceased'])\n",
    "gt = np.array(gt)\n",
    "f_idx = np.reshape(np.argwhere(y_sp != gt), [-1])\n",
    "X_wrong=X_test.iloc[f_idx]\n",
    "X_wrong['deceased']=y_sp[f_idx]\n",
    "X_wrong"
   ],
   "metadata": {
    "collapsed": false,
    "pycharm": {
     "name": "#%%\n"
    }
   }
  },
  {
   "cell_type": "code",
   "execution_count": 337,
   "outputs": [
    {
     "name": "stderr",
     "output_type": "stream",
     "text": [
      "/var/folders/zw/thvqht1n2q9ggd09wgsw76th0000gn/T/ipykernel_36672/1822508282.py:3: SettingWithCopyWarning: \n",
      "A value is trying to be set on a copy of a slice from a DataFrame.\n",
      "Try using .loc[row_indexer,col_indexer] = value instead\n",
      "\n",
      "See the caveats in the documentation: https://pandas.pydata.org/pandas-docs/stable/user_guide/indexing.html#returning-a-view-versus-a-copy\n",
      "  X_right['deceased']=y_sp[s_idx]\n"
     ]
    },
    {
     "data": {
      "text/plain": "       Age  Systolic BP        BMI     HbA1c      CRP        DHEA  smoker  \\\n321   59.0        148.0  28.500000  6.097641  3.19458   56.285000     0.0   \n1578  73.0        152.0  30.417559  5.400000  5.46500  127.855000     0.0   \n178   75.0        103.5  30.056837  6.097641  1.14300   27.895000     0.0   \n495   68.0        107.0  30.712875  5.500000  3.17500  142.695000     0.0   \n471   67.0        152.5  23.289228  6.097641  3.19458   52.921454     0.0   \n...    ...          ...        ...       ...      ...         ...     ...   \n1610  63.0        143.5  34.942013  5.600000  2.86800   59.215000     0.0   \n2337  62.0        146.5  36.540760  6.000000  8.94300   52.921454     0.0   \n1192  74.0        124.0  30.550123  6.097641  1.96900    7.330000     0.0   \n226   73.0        124.0  26.356962  6.900000  1.96100   48.695000     0.0   \n1911  85.0        111.0  23.823889  5.300000  1.21200   11.660000     0.0   \n\n      alcohol  physical activity  sleep  education    wealth  married  \\\n321       0.0                3.0    6.0        1.0  3.649512        0   \n1578      1.0                4.0    9.0        4.0  3.649512        0   \n178       1.0                4.0    8.0        2.0  4.000000        0   \n495       1.0                4.0    8.0        1.0  3.000000        0   \n471       1.0                4.0    8.0        2.0  3.649512        0   \n...       ...                ...    ...        ...       ...      ...   \n1610      0.0                3.0    5.0        3.0  2.000000        0   \n2337      1.0                4.0    6.0        1.0  3.649512        0   \n1192      0.0                4.0    6.0        2.0  2.000000        0   \n226       0.0                0.0    7.0        2.0  5.000000        0   \n1911      0.0                4.0    8.0        1.0  3.649512        0   \n\n      black race  gender  physical self-rated health  \\\n321            0     1.0                         3.0   \n1578           0     1.0                         4.0   \n178            0     1.0                         3.0   \n495            0     1.0                         2.0   \n471            0     1.0                         5.0   \n...          ...     ...                         ...   \n1610           0     2.0                         4.0   \n2337           0     1.0                         3.0   \n1192           0     2.0                         4.0   \n226            0     1.0                         1.0   \n1911           0     2.0                         4.0   \n\n      mental self-rated health  chronic conditions  walking 1 block  deceased  \n321                        4.0                 0.0              0.0       0.0  \n1578                       4.0                 0.0              0.0       0.0  \n178                        3.0                 0.0              0.0       0.0  \n495                        3.0                 0.0              1.0       0.0  \n471                        5.0                 0.0              0.0       0.0  \n...                        ...                 ...              ...       ...  \n1610                       4.0                 0.0              0.0       0.0  \n2337                       3.0                 0.0              0.0       0.0  \n1192                       4.0                 0.0              0.0       0.0  \n226                        5.0                 0.0              0.0       1.0  \n1911                       4.0                 1.0              1.0       1.0  \n\n[452 rows x 20 columns]",
      "text/html": "<div>\n<style scoped>\n    .dataframe tbody tr th:only-of-type {\n        vertical-align: middle;\n    }\n\n    .dataframe tbody tr th {\n        vertical-align: top;\n    }\n\n    .dataframe thead th {\n        text-align: right;\n    }\n</style>\n<table border=\"1\" class=\"dataframe\">\n  <thead>\n    <tr style=\"text-align: right;\">\n      <th></th>\n      <th>Age</th>\n      <th>Systolic BP</th>\n      <th>BMI</th>\n      <th>HbA1c</th>\n      <th>CRP</th>\n      <th>DHEA</th>\n      <th>smoker</th>\n      <th>alcohol</th>\n      <th>physical activity</th>\n      <th>sleep</th>\n      <th>education</th>\n      <th>wealth</th>\n      <th>married</th>\n      <th>black race</th>\n      <th>gender</th>\n      <th>physical self-rated health</th>\n      <th>mental self-rated health</th>\n      <th>chronic conditions</th>\n      <th>walking 1 block</th>\n      <th>deceased</th>\n    </tr>\n  </thead>\n  <tbody>\n    <tr>\n      <th>321</th>\n      <td>59.0</td>\n      <td>148.0</td>\n      <td>28.500000</td>\n      <td>6.097641</td>\n      <td>3.19458</td>\n      <td>56.285000</td>\n      <td>0.0</td>\n      <td>0.0</td>\n      <td>3.0</td>\n      <td>6.0</td>\n      <td>1.0</td>\n      <td>3.649512</td>\n      <td>0</td>\n      <td>0</td>\n      <td>1.0</td>\n      <td>3.0</td>\n      <td>4.0</td>\n      <td>0.0</td>\n      <td>0.0</td>\n      <td>0.0</td>\n    </tr>\n    <tr>\n      <th>1578</th>\n      <td>73.0</td>\n      <td>152.0</td>\n      <td>30.417559</td>\n      <td>5.400000</td>\n      <td>5.46500</td>\n      <td>127.855000</td>\n      <td>0.0</td>\n      <td>1.0</td>\n      <td>4.0</td>\n      <td>9.0</td>\n      <td>4.0</td>\n      <td>3.649512</td>\n      <td>0</td>\n      <td>0</td>\n      <td>1.0</td>\n      <td>4.0</td>\n      <td>4.0</td>\n      <td>0.0</td>\n      <td>0.0</td>\n      <td>0.0</td>\n    </tr>\n    <tr>\n      <th>178</th>\n      <td>75.0</td>\n      <td>103.5</td>\n      <td>30.056837</td>\n      <td>6.097641</td>\n      <td>1.14300</td>\n      <td>27.895000</td>\n      <td>0.0</td>\n      <td>1.0</td>\n      <td>4.0</td>\n      <td>8.0</td>\n      <td>2.0</td>\n      <td>4.000000</td>\n      <td>0</td>\n      <td>0</td>\n      <td>1.0</td>\n      <td>3.0</td>\n      <td>3.0</td>\n      <td>0.0</td>\n      <td>0.0</td>\n      <td>0.0</td>\n    </tr>\n    <tr>\n      <th>495</th>\n      <td>68.0</td>\n      <td>107.0</td>\n      <td>30.712875</td>\n      <td>5.500000</td>\n      <td>3.17500</td>\n      <td>142.695000</td>\n      <td>0.0</td>\n      <td>1.0</td>\n      <td>4.0</td>\n      <td>8.0</td>\n      <td>1.0</td>\n      <td>3.000000</td>\n      <td>0</td>\n      <td>0</td>\n      <td>1.0</td>\n      <td>2.0</td>\n      <td>3.0</td>\n      <td>0.0</td>\n      <td>1.0</td>\n      <td>0.0</td>\n    </tr>\n    <tr>\n      <th>471</th>\n      <td>67.0</td>\n      <td>152.5</td>\n      <td>23.289228</td>\n      <td>6.097641</td>\n      <td>3.19458</td>\n      <td>52.921454</td>\n      <td>0.0</td>\n      <td>1.0</td>\n      <td>4.0</td>\n      <td>8.0</td>\n      <td>2.0</td>\n      <td>3.649512</td>\n      <td>0</td>\n      <td>0</td>\n      <td>1.0</td>\n      <td>5.0</td>\n      <td>5.0</td>\n      <td>0.0</td>\n      <td>0.0</td>\n      <td>0.0</td>\n    </tr>\n    <tr>\n      <th>...</th>\n      <td>...</td>\n      <td>...</td>\n      <td>...</td>\n      <td>...</td>\n      <td>...</td>\n      <td>...</td>\n      <td>...</td>\n      <td>...</td>\n      <td>...</td>\n      <td>...</td>\n      <td>...</td>\n      <td>...</td>\n      <td>...</td>\n      <td>...</td>\n      <td>...</td>\n      <td>...</td>\n      <td>...</td>\n      <td>...</td>\n      <td>...</td>\n      <td>...</td>\n    </tr>\n    <tr>\n      <th>1610</th>\n      <td>63.0</td>\n      <td>143.5</td>\n      <td>34.942013</td>\n      <td>5.600000</td>\n      <td>2.86800</td>\n      <td>59.215000</td>\n      <td>0.0</td>\n      <td>0.0</td>\n      <td>3.0</td>\n      <td>5.0</td>\n      <td>3.0</td>\n      <td>2.000000</td>\n      <td>0</td>\n      <td>0</td>\n      <td>2.0</td>\n      <td>4.0</td>\n      <td>4.0</td>\n      <td>0.0</td>\n      <td>0.0</td>\n      <td>0.0</td>\n    </tr>\n    <tr>\n      <th>2337</th>\n      <td>62.0</td>\n      <td>146.5</td>\n      <td>36.540760</td>\n      <td>6.000000</td>\n      <td>8.94300</td>\n      <td>52.921454</td>\n      <td>0.0</td>\n      <td>1.0</td>\n      <td>4.0</td>\n      <td>6.0</td>\n      <td>1.0</td>\n      <td>3.649512</td>\n      <td>0</td>\n      <td>0</td>\n      <td>1.0</td>\n      <td>3.0</td>\n      <td>3.0</td>\n      <td>0.0</td>\n      <td>0.0</td>\n      <td>0.0</td>\n    </tr>\n    <tr>\n      <th>1192</th>\n      <td>74.0</td>\n      <td>124.0</td>\n      <td>30.550123</td>\n      <td>6.097641</td>\n      <td>1.96900</td>\n      <td>7.330000</td>\n      <td>0.0</td>\n      <td>0.0</td>\n      <td>4.0</td>\n      <td>6.0</td>\n      <td>2.0</td>\n      <td>2.000000</td>\n      <td>0</td>\n      <td>0</td>\n      <td>2.0</td>\n      <td>4.0</td>\n      <td>4.0</td>\n      <td>0.0</td>\n      <td>0.0</td>\n      <td>0.0</td>\n    </tr>\n    <tr>\n      <th>226</th>\n      <td>73.0</td>\n      <td>124.0</td>\n      <td>26.356962</td>\n      <td>6.900000</td>\n      <td>1.96100</td>\n      <td>48.695000</td>\n      <td>0.0</td>\n      <td>0.0</td>\n      <td>0.0</td>\n      <td>7.0</td>\n      <td>2.0</td>\n      <td>5.000000</td>\n      <td>0</td>\n      <td>0</td>\n      <td>1.0</td>\n      <td>1.0</td>\n      <td>5.0</td>\n      <td>0.0</td>\n      <td>0.0</td>\n      <td>1.0</td>\n    </tr>\n    <tr>\n      <th>1911</th>\n      <td>85.0</td>\n      <td>111.0</td>\n      <td>23.823889</td>\n      <td>5.300000</td>\n      <td>1.21200</td>\n      <td>11.660000</td>\n      <td>0.0</td>\n      <td>0.0</td>\n      <td>4.0</td>\n      <td>8.0</td>\n      <td>1.0</td>\n      <td>3.649512</td>\n      <td>0</td>\n      <td>0</td>\n      <td>2.0</td>\n      <td>4.0</td>\n      <td>4.0</td>\n      <td>1.0</td>\n      <td>1.0</td>\n      <td>1.0</td>\n    </tr>\n  </tbody>\n</table>\n<p>452 rows × 20 columns</p>\n</div>"
     },
     "execution_count": 337,
     "metadata": {},
     "output_type": "execute_result"
    }
   ],
   "source": [
    "s_idx = np.reshape(np.argwhere(y_sp == gt), [-1])\n",
    "X_right=X_test.iloc[s_idx]\n",
    "X_right['deceased']=y_sp[s_idx]\n",
    "X_right"
   ],
   "metadata": {
    "collapsed": false,
    "pycharm": {
     "name": "#%%\n"
    }
   }
  },
  {
   "cell_type": "code",
   "execution_count": null,
   "outputs": [],
   "source": [
    "# tsne降维可视化\n",
    "# 讨论stacking的实现细节"
   ],
   "metadata": {
    "collapsed": false,
    "pycharm": {
     "name": "#%%\n"
    }
   }
  },
  {
   "cell_type": "code",
   "execution_count": 349,
   "outputs": [],
   "source": [
    "X_test_new=X_test\n",
    "for idx in list(X_test_new.columns):\n",
    "    X_test_new[idx]=(X_test_new[idx]-X_test_new[idx].mean())/(X_test_new[idx].max()-X_test_new[idx].mean())*10\n",
    "X_test_new=X_test_new.drop(columns=['married','black race'])"
   ],
   "metadata": {
    "collapsed": false,
    "pycharm": {
     "name": "#%%\n"
    }
   }
  },
  {
   "cell_type": "code",
   "execution_count": 354,
   "outputs": [
    {
     "name": "stderr",
     "output_type": "stream",
     "text": [
      "/Users/lyu/Opt/anaconda3/envs/m1_torch/lib/python3.8/site-packages/sklearn/manifold/_t_sne.py:800: FutureWarning: The default initialization in TSNE will change from 'random' to 'pca' in 1.2.\n",
      "  warnings.warn(\n"
     ]
    },
    {
     "data": {
      "text/plain": "<Figure size 600x600 with 1 Axes>",
      "image/png": "[encoded data removed]"
     },
     "metadata": {},
     "output_type": "display_data"
    }
   ],
   "source": [
    "\n",
    "x_train = np.array(X_test_new)\n",
    "x_tsne = TSNE(n_components=2, learning_rate=100, random_state=501).fit_transform(x_train)\n",
    "\n",
    "plt.figure(figsize=(6, 6))\n",
    "r = 2  # 4ls\n",
    "\n",
    "area = np.pi * r ** 2  # 点面积\n",
    "\n",
    "plt.scatter(x_tsne[s_idx, 0], x_tsne[s_idx, 1], s=area, c='g', alpha=0.4, label='success')\n",
    "plt.scatter(x_tsne[f_idx, 0], x_tsne[f_idx, 1], s=area, c='b', alpha=0.4, label='failed')\n",
    "plt.legend()\n",
    "#plt.savefig(name)\n",
    "plt.show()"
   ],
   "metadata": {
    "collapsed": false,
    "pycharm": {
     "name": "#%%\n"
    }
   }
  },
  {
   "cell_type": "code",
   "execution_count": null,
   "outputs": [],
   "source": [],
   "metadata": {
    "collapsed": false,
    "pycharm": {
     "name": "#%%\n"
    }
   }
  }
 ],
 "metadata": {
  "kernelspec": {
   "display_name": "MACS",
   "language": "python",
   "name": "python3"
  },
  "language_info": {
   "codemirror_mode": {
    "name": "ipython",
    "version": 3
   },
   "file_extension": ".py",
   "mimetype": "text/x-python",
   "name": "python",
   "nbconvert_exporter": "python",
   "pygments_lexer": "ipython3",
   "version": "3.9.16 (main, Jan 11 2023, 10:02:19) \n[Clang 14.0.6 ]"
  },
  "orig_nbformat": 4,
  "vscode": {
   "interpreter": {
    "hash": "5febda9ea3b33ffdc95c888fff59ec7615aa10294cac48f80c25517e6a63b54a"
   }
  }
 },
 "nbformat": 4,
 "nbformat_minor": 2
}