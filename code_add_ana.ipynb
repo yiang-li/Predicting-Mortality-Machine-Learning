{
 "cells": [
  {
   "cell_type": "code",
   "execution_count": null,
   "outputs": [],
   "source": [
    "import graphviz\n",
    "import matplotlib.pyplot as plt\n",
    "import numpy as np\n",
    "import pandas as pd\n",
    "import seaborn as sns\n",
    "import sklearn.tree as tree\n",
    "from sklearn import metrics\n",
    "from sklearn.manifold import TSNE\n",
    "from sklearn.model_selection import train_test_split\n",
    "from IPython.display import display"
   ],
   "metadata": {
    "collapsed": false,
    "pycharm": {
     "name": "#%%\n"
    }
   }
  },
  {
   "cell_type": "code",
   "execution_count": null,
   "outputs": [],
   "source": [
    "from sklearn.model_selection import StratifiedKFold\n",
    "from sklearn.ensemble import RandomForestClassifier, ExtraTreesClassifier\n",
    "from sklearn.ensemble import GradientBoostingClassifier\n",
    "from sklearn.linear_model import LogisticRegression"
   ],
   "metadata": {
    "collapsed": false,
    "pycharm": {
     "name": "#%%\n"
    }
   }
  },
  {
   "cell_type": "code",
   "execution_count": null,
   "outputs": [],
   "source": [
    "data_raw = pd.read_csv('./data/nshap_w1_w2_w3_core_disposition.csv',\n",
    "                       low_memory=False)\n",
    "#Stacking\n",
    "#SMOTE"
   ],
   "metadata": {
    "collapsed": false,
    "pycharm": {
     "name": "#%%\n"
    }
   }
  },
  {
   "cell_type": "markdown",
   "source": [
    "## Data cleaning"
   ],
   "metadata": {
    "collapsed": false,
    "pycharm": {
     "name": "#%% md\n"
    }
   }
  },
  {
   "cell_type": "code",
   "execution_count": null,
   "outputs": [],
   "source": [
    "data_raw"
   ],
   "metadata": {
    "collapsed": false,
    "pycharm": {
     "name": "#%%\n"
    }
   }
  },
  {
   "cell_type": "code",
   "execution_count": null,
   "outputs": [],
   "source": [
    "# Since the data contains original cohort and follow-up cohort, we need to filter out the follow-up cohort\n",
    "print(\"Total observations: {}\".format(len(data_raw)))\n",
    "data_w1 = data_raw[~data_raw['w1WEIGHT_ADJ'].isnull()]\n",
    "print(\"Removed follow-up {} respondents without W1 observations\".format(len(data_raw) - len(data_w1)))\n",
    "data_decease = data_w1[data_w1.notnull()].copy()\n",
    "data_decease['deceased'] = data_decease['w3DECEASED']\n",
    "data_decease.loc[data_decease['deceased'] == -9, ['deceased']] = np.nan\n",
    "data_decease['deceased'].fillna(data_decease['w2DECEASED'], inplace=True)\n",
    "data_decease.loc[data_decease['deceased'] == -9, ['deceased']] = np.nan\n",
    "data_complete = data_decease[data_decease['deceased'].notnull()]\n",
    "print(\"Removed follow-up {} respondents without disposition statuses\".format(len(data_w1) - len(data_complete)))\n",
    "print(\"Sample frame has {} respondents\".format(len(data_complete)))\n"
   ],
   "metadata": {
    "collapsed": false,
    "pycharm": {
     "name": "#%%\n"
    }
   }
  },
  {
   "cell_type": "code",
   "execution_count": null,
   "outputs": [],
   "source": [
    "data_complete['deceased'].value_counts()"
   ],
   "metadata": {
    "collapsed": false,
    "pycharm": {
     "name": "#%%\n"
    }
   }
  },
  {
   "cell_type": "code",
   "execution_count": null,
   "outputs": [],
   "source": [
    "data = data_complete[['ID', 'deceased', 'w1AGE', 'w1SYSTOLIC_MEAN',\n",
    "                      'w1BMI', 'w1HBA1C', 'w1CRP', 'w1DHEA_1', 'w1DHEA_2',\n",
    "                      'w1SMOKECIG', 'w1ALCOHOL', 'w1PHYSACT', 'w1HRSSLEEP',\n",
    "                      'w1EDUC', 'w1HSASSETS_RECODE', 'w1MARITLST', 'w1ETHGRP',\n",
    "                      'w1GENDER',\n",
    "                      'w1PHYSHLTH', 'w1MNTLHLTH', 'w1CONDITNS_3', 'w1WALKBLK']]"
   ],
   "metadata": {
    "collapsed": false,
    "pycharm": {
     "name": "#%%\n"
    }
   }
  },
  {
   "cell_type": "code",
   "execution_count": null,
   "outputs": [],
   "source": [
    "# Preprocessing binary variables,\n",
    "## 在处理binary和ordinalvariable的时候针对原数据和新数据的处理过程和逻辑，比如str——》0、1\n",
    "cat_col = ['ID', 'deceased', 'w1SMOKECIG', 'w1ALCOHOL', 'w1MARITLST',\n",
    "           'w1ETHGRP', 'w1GENDER',\n",
    "           'w1CONDITNS_3']\n",
    "##bi_col\n",
    "data_cat = data[data[cat_col].notnull()].copy()[cat_col]\n",
    "for col in cat_col:\n",
    "    data_cat[col] = data_cat[col].astype('category')\n",
    "data_cat['w1married'] = np.where(data_cat['w1MARITLST'] == 'Married', 1, 0)\n",
    "data_cat['w1raceblk'] = np.where(data_cat['w1ETHGRP'] == 'Married', 1, 0)\n",
    "data_cat.drop('w1MARITLST', axis=1, inplace=True)\n",
    "data_cat.drop('w1ETHGRP', axis=1, inplace=True)"
   ],
   "metadata": {
    "collapsed": false,
    "pycharm": {
     "name": "#%%\n"
    }
   }
  },
  {
   "cell_type": "code",
   "execution_count": null,
   "outputs": [],
   "source": [
    "# Preprocessing ordinal variables\n",
    "ord_col = ['w1PHYSACT', 'w1EDUC', 'w1HSASSETS_RECODE',\n",
    "           'w1PHYSHLTH', 'w1MNTLHLTH', 'w1WALKBLK']\n",
    "data_ord = data[data[ord_col].notnull()].copy()[ord_col]\n",
    "data_ord[data_ord < 0] = np.nan\n",
    "data_ord.fillna(data_ord.mean(), inplace=True)"
   ],
   "metadata": {
    "collapsed": false,
    "pycharm": {
     "name": "#%%\n"
    }
   }
  },
  {
   "cell_type": "code",
   "execution_count": null,
   "outputs": [],
   "source": [
    "# Preprocessing continuous variables\n",
    "con_col = ['w1AGE', 'w1SYSTOLIC_MEAN', 'w1BMI', 'w1HBA1C',\n",
    "           'w1CRP', 'w1DHEA_1', 'w1DHEA_2', 'w1HRSSLEEP']\n",
    "data_con = data[data[con_col].notnull()].copy()[con_col]\n",
    "for col in con_col:\n",
    "    data_con[col] = pd.to_numeric(data_con[col], errors='coerce')\n",
    "data_con['w1dhea_mean'] = data_con[['w1DHEA_1', 'w1DHEA_2']].mean(axis=1)\n",
    "data_con = data_con.drop(['w1DHEA_1', 'w1DHEA_2'], axis=1)\n",
    "data_con[data_con < 0] = np.nan\n",
    "data_con.fillna(data_con.mean(), inplace=True)\n",
    "data_con.describe()"
   ],
   "metadata": {
    "collapsed": false,
    "pycharm": {
     "name": "#%%\n"
    }
   }
  },
  {
   "cell_type": "code",
   "execution_count": null,
   "outputs": [],
   "source": [
    "data = pd.concat([data_cat, data_ord, data_con], axis=1)\n",
    "data_nona = data.dropna()\n",
    "print(\"Removed {} respondents with missing values in categorical variables\".format(len(data) - len(data_nona)))"
   ],
   "metadata": {
    "collapsed": false,
    "pycharm": {
     "name": "#%%\n"
    }
   }
  },
  {
   "cell_type": "code",
   "execution_count": null,
   "outputs": [],
   "source": [
    "data_nona.to_csv(\"./data/save_df.csv\")"
   ],
   "metadata": {
    "collapsed": false,
    "pycharm": {
     "name": "#%%\n"
    }
   }
  },
  {
   "cell_type": "code",
   "execution_count": null,
   "outputs": [],
   "source": [
    "_, ax = plt.subplots(figsize=(6, 6))\n",
    "columns = ['w1AGE', 'w1SYSTOLIC_MEAN', 'w1BMI', 'w1HBA1C',\n",
    "           'w1CRP', 'w1dhea_mean', 'w1HRSSLEEP']\n",
    "sns.heatmap(data[columns].corr(), annot=True, cmap='RdYlGn', ax=ax);\n",
    "##加上分析的comment，from heatmap，变量之间的关系是什么样的\n",
    "##要写comment在上面，每一步代码，口头解释\n",
    "##直接在Jupyter notbook上写，代码和summary都要呈现在notebook，代码和结果的reaction\n",
    "##每一步代码的效果和目的注释在notebook上的，参考case study"
   ],
   "metadata": {
    "collapsed": false,
    "pycharm": {
     "name": "#%%\n"
    }
   }
  },
  {
   "cell_type": "markdown",
   "source": [
    "## Decision Tree"
   ],
   "metadata": {
    "collapsed": false,
    "pycharm": {
     "name": "#%% md\n"
    }
   }
  },
  {
   "cell_type": "code",
   "execution_count": null,
   "outputs": [],
   "source": [
    "#减少不同model的variance，是pred更稳定，抵消缺点\n",
    "#\n",
    "\n",
    "data_nona = pd.read_csv('./data/save_df.csv')\n",
    "seed = 42"
   ],
   "metadata": {
    "collapsed": false,
    "pycharm": {
     "name": "#%%\n"
    }
   }
  },
  {
   "cell_type": "code",
   "execution_count": null,
   "outputs": [],
   "source": [
    "\n",
    "data_x = data_nona[['w1AGE', 'w1SYSTOLIC_MEAN',\n",
    "                    'w1BMI', 'w1HBA1C', 'w1CRP', 'w1dhea_mean',\n",
    "                    'w1SMOKECIG', 'w1ALCOHOL', 'w1PHYSACT', 'w1HRSSLEEP',\n",
    "                    'w1EDUC', 'w1HSASSETS_RECODE', 'w1married', 'w1raceblk',\n",
    "                    'w1GENDER',\n",
    "                    'w1PHYSHLTH', 'w1MNTLHLTH', 'w1CONDITNS_3', 'w1WALKBLK']]\n",
    "predictor_names = ['Age', 'Systolic BP', 'BMI', 'HbA1c', 'CRP', 'DHEA',\n",
    "                   'smoker', 'alcohol', 'physical activity', 'sleep',\n",
    "                   'education', 'wealth', 'married', 'black race', 'gender',\n",
    "                   'physical self-rated health', 'mental self-rated health',\n",
    "                   'chronic conditions', 'walking 1 block']\n",
    "data_y = data_nona[['deceased']]\n",
    "\n",
    "# Then split into 60% training, 20% validation, and 20% testing\n",
    "X_train_v, X_test, y_train_v, y_test = train_test_split(data_x, data_y,\n",
    "                                                        test_size=0.2,\n",
    "                                                        random_state=42)\n",
    "# 0.25 x 0.8 = 0.2\n",
    "X_train, X_val, y_train, y_val = train_test_split(X_train_v,\n",
    "                                                  y_train_v,\n",
    "                                                  test_size=0.25,\n",
    "                                                  random_state=42)"
   ],
   "metadata": {
    "collapsed": false,
    "pycharm": {
     "name": "#%%\n"
    }
   }
  },
  {
   "cell_type": "code",
   "execution_count": null,
   "outputs": [],
   "source": [
    "# BOTH PRE-PRUNING AND POST_PRUNING (PYTHON PACKAGES TO AUTOMATE THIS PROCESS)\n",
    "DT_clf = tree.DecisionTreeClassifier(random_state=seed, criterion=\"entropy\", max_depth=None,\n",
    "                                     min_impurity_decrease=0.01)\n",
    "DT_clf.fit(X_train, y_train)\n",
    "# save tree to iris.pdf\n",
    "dot_data = tree.export_graphviz(DT_clf, out_file=None,\n",
    "                                feature_names=predictor_names,\n",
    "                                class_names=['alive', 'deceased'])\n",
    "display(graphviz.Source(dot_data))\n",
    "print(metrics.accuracy_score(DT_clf.predict(X_test), y_test))"
   ],
   "metadata": {
    "collapsed": false,
    "pycharm": {
     "name": "#%%\n"
    }
   }
  },
  {
   "cell_type": "code",
   "execution_count": 311,
   "outputs": [
    {
     "name": "stderr",
     "output_type": "stream",
     "text": [
      "/Users/lyu/Opt/anaconda3/envs/m1_torch/lib/python3.8/site-packages/sklearn/utils/validation.py:1111: DataConversionWarning: A column-vector y was passed when a 1d array was expected. Please change the shape of y to (n_samples, ), for example using ravel().\n",
      "  y = column_or_1d(y, warn=True)\n"
     ]
    },
    {
     "name": "stdout",
     "output_type": "stream",
     "text": [
      "[[1.85368373 0.89811378 1.70009929 1.97262101 0.59176895]]\n",
      "0.8693656093489148\n",
      "0.7495826377295493\n"
     ]
    }
   ],
   "source": [
    "stk_clfb = Stacking_CLF(n_folds=8, n_esti=20, max_depth=8, seed=42)\n",
    "stk_clfb.fit(X_train_v, y_train_v)\n",
    "print(stk_clfb.get_coeff())\n",
    "print(metrics.accuracy_score(stk_clfb.predict(X_train_v, proba=False), y_train_v))\n",
    "print(metrics.accuracy_score(stk_clfb.predict(X_test, proba=False), y_test))"
   ],
   "metadata": {
    "collapsed": false,
    "pycharm": {
     "name": "#%%\n"
    }
   }
  },
  {
   "cell_type": "code",
   "execution_count": 312,
   "outputs": [
    {
     "name": "stderr",
     "output_type": "stream",
     "text": [
      "/Users/lyu/Opt/anaconda3/envs/m1_torch/lib/python3.8/site-packages/sklearn/utils/validation.py:1111: DataConversionWarning: A column-vector y was passed when a 1d array was expected. Please change the shape of y to (n_samples, ), for example using ravel().\n",
      "  y = column_or_1d(y, warn=True)\n"
     ]
    },
    {
     "name": "stdout",
     "output_type": "stream",
     "text": [
      "[[3.02016657 0.70662372 2.60432485 1.32050441 3.23023761]]\n",
      "0.7658597662771286\n",
      "0.7529215358931552\n"
     ]
    }
   ],
   "source": [
    "stk_clfb = Stacking_CLF(n_folds=9, n_esti=15, max_depth=3, seed=42)\n",
    "stk_clfb.fit(X_train_v, y_train_v)\n",
    "print(stk_clfb.get_coeff())\n",
    "print(metrics.accuracy_score(stk_clfb.predict(X_train_v, proba=False), y_train_v))\n",
    "print(metrics.accuracy_score(stk_clfb.predict(X_test, proba=False), y_test))"
   ],
   "metadata": {
    "collapsed": false,
    "pycharm": {
     "name": "#%%\n"
    }
   }
  },
  {
   "cell_type": "code",
   "execution_count": 313,
   "outputs": [
    {
     "name": "stderr",
     "output_type": "stream",
     "text": [
      "/Users/lyu/Opt/anaconda3/envs/m1_torch/lib/python3.8/site-packages/sklearn/utils/validation.py:1111: DataConversionWarning: A column-vector y was passed when a 1d array was expected. Please change the shape of y to (n_samples, ), for example using ravel().\n",
      "  y = column_or_1d(y, warn=True)\n"
     ]
    },
    {
     "name": "stdout",
     "output_type": "stream",
     "text": [
      "[[2.49507434 1.7704998  2.81368766 1.17904339 3.23765674]]\n",
      "0.7199499165275459\n",
      "0.6894824707846411\n"
     ]
    }
   ],
   "source": [
    "stk_clfb = Stacking_CLF(n_folds=10, n_esti=15, max_depth=3, seed=42, weight='balanced')\n",
    "stk_clfb.fit(X_train_v, y_train_v)\n",
    "print(stk_clfb.get_coeff())\n",
    "print(metrics.accuracy_score(stk_clfb.predict(X_train_v, proba=False), y_train_v))\n",
    "print(metrics.accuracy_score(stk_clfb.predict(X_test, proba=False), y_test))"
   ],
   "metadata": {
    "collapsed": false,
    "pycharm": {
     "name": "#%%\n"
    }
   }
  },
  {
   "cell_type": "code",
   "execution_count": 320,
   "outputs": [
    {
     "name": "stdout",
     "output_type": "stream",
     "text": [
      "Best performence at 42 0.7479131886477463\n"
     ]
    },
    {
     "name": "stderr",
     "output_type": "stream",
     "text": [
      "/Users/lyu/Opt/anaconda3/envs/m1_torch/lib/python3.8/site-packages/sklearn/utils/validation.py:1111: DataConversionWarning: A column-vector y was passed when a 1d array was expected. Please change the shape of y to (n_samples, ), for example using ravel().\n",
      "  y = column_or_1d(y, warn=True)\n"
     ]
    },
    {
     "name": "stdout",
     "output_type": "stream",
     "text": [
      "[[1.94462005 1.14903739 2.3467746  1.34681972 3.21516931]]\n",
      "0.7650250417362271\n",
      "0.7479131886477463\n"
     ]
    }
   ],
   "source": [
    "print(\"Best performence at 42\", metrics.accuracy_score(stk_clfb.predict(X_test, proba=False), y_test))\n",
    "stk_clfb = Stacking_CLF(n_folds=9, n_esti=18, max_depth=3, seed=42, tr_weight='balanced_subsample')\n",
    "stk_clfb.fit(X_train_v, y_train_v)\n",
    "print(stk_clfb.get_coeff())\n",
    "print(metrics.accuracy_score(stk_clfb.predict(X_train_v, proba=False), y_train_v))\n",
    "print(metrics.accuracy_score(stk_clfb.predict(X_test, proba=False), y_test))"
   ],
   "metadata": {
    "collapsed": false,
    "pycharm": {
     "name": "#%%\n"
    }
   }
  },
  {
   "cell_type": "code",
   "execution_count": 331,
   "outputs": [
    {
     "name": "stdout",
     "output_type": "stream",
     "text": [
      "Best performence at 42 0.7495826377295493\n"
     ]
    },
    {
     "name": "stderr",
     "output_type": "stream",
     "text": [
      "/Users/lyu/Opt/anaconda3/envs/m1_torch/lib/python3.8/site-packages/sklearn/utils/validation.py:1111: DataConversionWarning: A column-vector y was passed when a 1d array was expected. Please change the shape of y to (n_samples, ), for example using ravel().\n",
      "  y = column_or_1d(y, warn=True)\n"
     ]
    },
    {
     "name": "stdout",
     "output_type": "stream",
     "text": [
      "[[1.45292294 1.48676291 2.41081869 1.62534347 3.14304136]]\n",
      "0.7662771285475793\n",
      "0.7545909849749582\n"
     ]
    }
   ],
   "source": [
    "print(\"Best performence at 42\", metrics.accuracy_score(stk_clfb.predict(X_test, proba=False), y_test))\n",
    "stk_clfb = Stacking_CLF(n_folds=15, n_esti=18, max_depth=3, seed=42, tr_weight='balanced_subsample')\n",
    "stk_clfb.fit(X_train_v, y_train_v)\n",
    "print(stk_clfb.get_coeff())\n",
    "print(metrics.accuracy_score(stk_clfb.predict(X_train_v, proba=False), y_train_v))\n",
    "print(metrics.accuracy_score(stk_clfb.predict(X_test, proba=False), y_test))"
   ],
   "metadata": {
    "collapsed": false,
    "pycharm": {
     "name": "#%%\n"
    }
   }
  },
  {
   "cell_type": "code",
   "execution_count": 332,
   "outputs": [
    {
     "data": {
      "text/plain": "0.7733423180592991"
     },
     "execution_count": 332,
     "metadata": {},
     "output_type": "execute_result"
    },
    {
     "data": {
      "text/plain": "<Figure size 640x480 with 1 Axes>",
      "image/png": "[encoded data removed]"
     },
     "metadata": {},
     "output_type": "display_data"
    }
   ],
   "source": [
    "y_prob = stk_clfb.predict(X_test, proba=True)\n",
    "y_sp = stk_clfb.predict(X_test, proba=False)\n",
    "fpr, tpr, thr = metrics.roc_curve(y_test, y_prob)\n",
    "plt.plot(fpr, tpr)\n",
    "metrics.roc_auc_score(y_test, y_prob)"
   ],
   "metadata": {
    "collapsed": false,
    "pycharm": {
     "name": "#%%\n"
    }
   }
  },
  {
   "cell_type": "code",
   "execution_count": 333,
   "outputs": [
    {
     "name": "stdout",
     "output_type": "stream",
     "text": [
      "RandomForestClassifier(class_weight='balanced_subsample', criterion='entropy',\n",
      "                       max_depth=3, n_estimators=18, n_jobs=-1,\n",
      "                       random_state=42)\n",
      "0 0\n",
      "RandomForestClassifier(class_weight='balanced_subsample', max_depth=3,\n",
      "                       n_estimators=18, n_jobs=-1, random_state=43)\n",
      "0 1\n",
      "ExtraTreesClassifier(class_weight='balanced_subsample', criterion='entropy',\n",
      "                     max_depth=3, n_estimators=18, n_jobs=-1, random_state=44)\n",
      "0 2\n",
      "ExtraTreesClassifier(class_weight='balanced_subsample', max_depth=3,\n",
      "                     n_estimators=18, n_jobs=-1, random_state=45)\n",
      "0 3\n",
      "RandomForestClassifier(class_weight='balanced_subsample', criterion='entropy',\n",
      "                       max_depth=3, n_estimators=18, n_jobs=-1,\n",
      "                       random_state=42)\n",
      "1 0\n",
      "RandomForestClassifier(class_weight='balanced_subsample', max_depth=3,\n",
      "                       n_estimators=18, n_jobs=-1, random_state=43)\n",
      "1 1\n",
      "ExtraTreesClassifier(class_weight='balanced_subsample', criterion='entropy',\n",
      "                     max_depth=3, n_estimators=18, n_jobs=-1, random_state=44)\n",
      "1 2\n",
      "ExtraTreesClassifier(class_weight='balanced_subsample', max_depth=3,\n",
      "                     n_estimators=18, n_jobs=-1, random_state=45)\n",
      "1 3\n",
      "RandomForestClassifier(class_weight='balanced_subsample', criterion='entropy',\n",
      "                       max_depth=3, n_estimators=18, n_jobs=-1,\n",
      "                       random_state=42)\n",
      "2 0\n",
      "RandomForestClassifier(class_weight='balanced_subsample', max_depth=3,\n",
      "                       n_estimators=18, n_jobs=-1, random_state=43)\n",
      "2 1\n",
      "ExtraTreesClassifier(class_weight='balanced_subsample', criterion='entropy',\n",
      "                     max_depth=3, n_estimators=18, n_jobs=-1, random_state=44)\n",
      "2 2\n",
      "ExtraTreesClassifier(class_weight='balanced_subsample', max_depth=3,\n",
      "                     n_estimators=18, n_jobs=-1, random_state=45)\n",
      "2 3\n",
      "RandomForestClassifier(class_weight='balanced_subsample', criterion='entropy',\n",
      "                       max_depth=3, n_estimators=18, n_jobs=-1,\n",
      "                       random_state=42)\n",
      "3 0\n",
      "RandomForestClassifier(class_weight='balanced_subsample', max_depth=3,\n",
      "                       n_estimators=18, n_jobs=-1, random_state=43)\n",
      "3 1\n",
      "ExtraTreesClassifier(class_weight='balanced_subsample', criterion='entropy',\n",
      "                     max_depth=3, n_estimators=18, n_jobs=-1, random_state=44)\n",
      "3 2\n",
      "ExtraTreesClassifier(class_weight='balanced_subsample', max_depth=3,\n",
      "                     n_estimators=18, n_jobs=-1, random_state=45)\n",
      "3 3\n",
      "RandomForestClassifier(class_weight='balanced_subsample', criterion='entropy',\n",
      "                       max_depth=3, n_estimators=18, n_jobs=-1,\n",
      "                       random_state=42)\n",
      "0 0\n",
      "RandomForestClassifier(class_weight='balanced_subsample', max_depth=3,\n",
      "                       n_estimators=18, n_jobs=-1, random_state=43)\n",
      "0 1\n",
      "ExtraTreesClassifier(class_weight='balanced_subsample', criterion='entropy',\n",
      "                     max_depth=3, n_estimators=18, n_jobs=-1, random_state=44)\n",
      "0 2\n",
      "ExtraTreesClassifier(class_weight='balanced_subsample', max_depth=3,\n",
      "                     n_estimators=18, n_jobs=-1, random_state=45)\n",
      "0 3\n",
      "RandomForestClassifier(class_weight='balanced_subsample', criterion='entropy',\n",
      "                       max_depth=3, n_estimators=18, n_jobs=-1,\n",
      "                       random_state=42)\n",
      "1 0\n",
      "RandomForestClassifier(class_weight='balanced_subsample', max_depth=3,\n",
      "                       n_estimators=18, n_jobs=-1, random_state=43)\n",
      "1 1\n",
      "ExtraTreesClassifier(class_weight='balanced_subsample', criterion='entropy',\n",
      "                     max_depth=3, n_estimators=18, n_jobs=-1, random_state=44)\n",
      "1 2\n",
      "ExtraTreesClassifier(class_weight='balanced_subsample', max_depth=3,\n",
      "                     n_estimators=18, n_jobs=-1, random_state=45)\n",
      "1 3\n",
      "RandomForestClassifier(class_weight='balanced_subsample', criterion='entropy',\n",
      "                       max_depth=3, n_estimators=18, n_jobs=-1,\n",
      "                       random_state=42)\n",
      "2 0\n",
      "RandomForestClassifier(class_weight='balanced_subsample', max_depth=3,\n",
      "                       n_estimators=18, n_jobs=-1, random_state=43)\n",
      "2 1\n",
      "ExtraTreesClassifier(class_weight='balanced_subsample', criterion='entropy',\n",
      "                     max_depth=3, n_estimators=18, n_jobs=-1, random_state=44)\n",
      "2 2\n",
      "ExtraTreesClassifier(class_weight='balanced_subsample', max_depth=3,\n",
      "                     n_estimators=18, n_jobs=-1, random_state=45)\n",
      "2 3\n",
      "RandomForestClassifier(class_weight='balanced_subsample', criterion='entropy',\n",
      "                       max_depth=3, n_estimators=18, n_jobs=-1,\n",
      "                       random_state=42)\n",
      "3 0\n",
      "RandomForestClassifier(class_weight='balanced_subsample', max_depth=3,\n",
      "                       n_estimators=18, n_jobs=-1, random_state=43)\n",
      "3 1\n",
      "ExtraTreesClassifier(class_weight='balanced_subsample', criterion='entropy',\n",
      "                     max_depth=3, n_estimators=18, n_jobs=-1, random_state=44)\n",
      "3 2\n",
      "ExtraTreesClassifier(class_weight='balanced_subsample', max_depth=3,\n",
      "                     n_estimators=18, n_jobs=-1, random_state=45)\n",
      "3 3\n",
      "RandomForestClassifier(class_weight='balanced_subsample', criterion='entropy',\n",
      "                       max_depth=3, n_estimators=18, n_jobs=-1,\n",
      "                       random_state=42)\n",
      "0 0\n",
      "RandomForestClassifier(class_weight='balanced_subsample', max_depth=3,\n",
      "                       n_estimators=18, n_jobs=-1, random_state=43)\n",
      "0 1\n",
      "ExtraTreesClassifier(class_weight='balanced_subsample', criterion='entropy',\n",
      "                     max_depth=3, n_estimators=18, n_jobs=-1, random_state=44)\n",
      "0 2\n",
      "ExtraTreesClassifier(class_weight='balanced_subsample', max_depth=3,\n",
      "                     n_estimators=18, n_jobs=-1, random_state=45)\n",
      "0 3\n",
      "RandomForestClassifier(class_weight='balanced_subsample', criterion='entropy',\n",
      "                       max_depth=3, n_estimators=18, n_jobs=-1,\n",
      "                       random_state=42)\n",
      "1 0\n",
      "RandomForestClassifier(class_weight='balanced_subsample', max_depth=3,\n",
      "                       n_estimators=18, n_jobs=-1, random_state=43)\n",
      "1 1\n",
      "ExtraTreesClassifier(class_weight='balanced_subsample', criterion='entropy',\n",
      "                     max_depth=3, n_estimators=18, n_jobs=-1, random_state=44)\n",
      "1 2\n",
      "ExtraTreesClassifier(class_weight='balanced_subsample', max_depth=3,\n",
      "                     n_estimators=18, n_jobs=-1, random_state=45)\n",
      "1 3\n",
      "RandomForestClassifier(class_weight='balanced_subsample', criterion='entropy',\n",
      "                       max_depth=3, n_estimators=18, n_jobs=-1,\n",
      "                       random_state=42)\n",
      "2 0\n",
      "RandomForestClassifier(class_weight='balanced_subsample', max_depth=3,\n",
      "                       n_estimators=18, n_jobs=-1, random_state=43)\n",
      "2 1\n",
      "ExtraTreesClassifier(class_weight='balanced_subsample', criterion='entropy',\n",
      "                     max_depth=3, n_estimators=18, n_jobs=-1, random_state=44)\n",
      "2 2\n",
      "ExtraTreesClassifier(class_weight='balanced_subsample', max_depth=3,\n",
      "                     n_estimators=18, n_jobs=-1, random_state=45)\n",
      "2 3\n",
      "RandomForestClassifier(class_weight='balanced_subsample', criterion='entropy',\n",
      "                       max_depth=3, n_estimators=18, n_jobs=-1,\n",
      "                       random_state=42)\n",
      "3 0\n",
      "RandomForestClassifier(class_weight='balanced_subsample', max_depth=3,\n",
      "                       n_estimators=18, n_jobs=-1, random_state=43)\n",
      "3 1\n",
      "ExtraTreesClassifier(class_weight='balanced_subsample', criterion='entropy',\n",
      "                     max_depth=3, n_estimators=18, n_jobs=-1, random_state=44)\n",
      "3 2\n",
      "ExtraTreesClassifier(class_weight='balanced_subsample', max_depth=3,\n",
      "                     n_estimators=18, n_jobs=-1, random_state=45)\n",
      "3 3\n"
     ]
    }
   ],
   "source": [
    "rf_clusters = stk_clfb.get_clf()\n",
    "for i, cluster in enumerate(rf_clusters[:4]):\n",
    "\n",
    "    for j, rf in enumerate(cluster[:-1]):\n",
    "        print(rf)\n",
    "        dot_data = tree.export_graphviz(rf.estimators_[0], out_file=None,\n",
    "                                        filled=True, rounded=True,\n",
    "                                        special_characters=True,\n",
    "                                        feature_names=predictor_names,\n",
    "                                        class_names=['Alive', 'Deceased'])\n",
    "        graph = graphviz.Source(dot_data)\n",
    "        graph.render(str(i) + \"_nshap0_\" + str(j))\n",
    "        print(i, j)\n",
    "for i, cluster in enumerate(rf_clusters[:4]):\n",
    "\n",
    "    for j, rf in enumerate(cluster[:-1]):\n",
    "        print(rf)\n",
    "        dot_data = tree.export_graphviz(rf.estimators_[9], out_file=None,\n",
    "                                        filled=True, rounded=True,\n",
    "                                        special_characters=True,\n",
    "                                        feature_names=predictor_names,\n",
    "                                        class_names=['Alive', 'Deceased'])\n",
    "        graph = graphviz.Source(dot_data)\n",
    "        graph.render(str(i) + \"_nshap9_\" + str(j))\n",
    "        print(i, j)\n",
    "for i, cluster in enumerate(rf_clusters[:4]):\n",
    "\n",
    "    for j, rf in enumerate(cluster[:-1]):\n",
    "        print(rf)\n",
    "        dot_data = tree.export_graphviz(rf.estimators_[17], out_file=None,\n",
    "                                        filled=True, rounded=True,\n",
    "                                        special_characters=True,\n",
    "                                        feature_names=predictor_names,\n",
    "                                        class_names=['Alive', 'Deceased'])\n",
    "        graph = graphviz.Source(dot_data)\n",
    "        graph.render(str(i) + \"_nshap17_\" + str(j))\n",
    "        print(i, j)"
   ],
   "metadata": {
    "collapsed": false,
    "pycharm": {
     "name": "#%%\n"
    }
   }
  },
  {
   "cell_type": "markdown",
   "source": [],
   "metadata": {
    "collapsed": false,
    "pycharm": {
     "name": "#%% md\n"
    }
   }
  },
  {
   "cell_type": "code",
   "execution_count": 334,
   "outputs": [],
   "source": [
    "X_test.columns = predictor_names"
   ],
   "metadata": {
    "collapsed": false,
    "pycharm": {
     "name": "#%%\n"
    }
   }
  },
  {
   "cell_type": "code",
   "execution_count": 352,
   "outputs": [
    {
     "name": "stderr",
     "output_type": "stream",
     "text": [
      "/var/folders/zw/thvqht1n2q9ggd09wgsw76th0000gn/T/ipykernel_36672/1112926933.py:6: SettingWithCopyWarning: \n",
      "A value is trying to be set on a copy of a slice from a DataFrame.\n",
      "Try using .loc[row_indexer,col_indexer] = value instead\n",
      "\n",
      "See the caveats in the documentation: https://pandas.pydata.org/pandas-docs/stable/user_guide/indexing.html#returning-a-view-versus-a-copy\n",
      "  X_wrong['deceased']=y_sp[f_idx]\n"
     ]
    },
    {
     "data": {
      "text/plain": "           Age  Systolic BP       BMI     HbA1c       CRP      DHEA  \\\n1374  4.771983     2.971285  0.742092  0.783655  0.678735 -0.202921   \n2110  2.811477    -0.639799 -0.338796  0.048748 -0.011860 -0.144557   \n2097  5.425485     2.584383 -0.778440  0.048748 -0.011860  0.031709   \n1017 -0.456033    -3.992947  0.000312 -0.825548 -0.262203  0.031709   \n144  -8.298058     4.712343 -0.959499  0.637364 -0.159297  3.327560   \n...        ...          ...       ...       ...       ...       ...   \n1253 -1.763037    -1.155668  0.770493  0.048748  0.249015  0.304526   \n2582 -5.684050    -1.349118  5.551726 -0.240383  3.613039 -0.800776   \n2225 -6.337552     0.087349 -0.075851  0.048748 -0.011860  0.031709   \n1023  5.425485    -0.962217 -1.553920 -1.410713 -0.040051 -0.418260   \n2728 -3.070041    -2.445340 -1.665344  3.855770  0.091399 -0.613571   \n\n         smoker    alcohol  physical activity     sleep  education     wealth  \\\n1374  10.000000 -12.434457         -22.262118  3.477911  -3.281596   2.675545   \n2110  -1.519231 -12.434457          10.000000  3.477911  -9.922395   0.108414   \n2097  -1.519231 -12.434457          10.000000 -1.413655  -3.281596   0.108414   \n1017  -1.519231 -12.434457         -22.262118  1.847389  -3.281596   0.108414   \n144   -1.519231 -12.434457          10.000000 -3.044177   3.359202 -19.297822   \n...         ...        ...                ...       ...        ...        ...   \n1253  -1.519231  10.000000          10.000000 -3.044177  -9.922395   0.108414   \n2582  -1.519231 -12.434457         -11.508079  1.847389  -9.922395   2.675545   \n2225  10.000000 -12.434457          10.000000  1.847389  -3.281596   0.108414   \n1023  -1.519231  10.000000          10.000000  1.847389  -9.922395   2.675545   \n2728  10.000000 -12.434457          10.000000 -1.413655  -3.281596 -19.297822   \n\n      married  black race     gender  physical self-rated health  \\\n1374      NaN         NaN -11.546763                   -0.887143   \n2110      NaN         NaN  10.000000                   -6.330715   \n2097      NaN         NaN  10.000000                   -0.887143   \n1017      NaN         NaN -11.546763                   -6.330715   \n144       NaN         NaN  10.000000                   -6.330715   \n...       ...         ...        ...                         ...   \n1253      NaN         NaN  10.000000                  -11.774286   \n2582      NaN         NaN -11.546763                   -6.330715   \n2225      NaN         NaN -11.546763                   -6.330715   \n1023      NaN         NaN -11.546763                   -0.887143   \n2728      NaN         NaN -11.546763                   -0.887143   \n\n      mental self-rated health  chronic conditions  walking 1 block  deceased  \n1374                 10.000000           -1.519231        -1.783607       1.0  \n2110                 -5.834772           -1.519231         2.144262       1.0  \n2097                  2.082614           -1.519231        -1.783607       0.0  \n1017                -13.752159           -1.519231        -1.783607       0.0  \n144                   2.082614           10.000000         2.144262       0.0  \n...                        ...                 ...              ...       ...  \n1253                 -5.834772           10.000000         2.144262       0.0  \n2582                 -5.834772           -1.519231        10.000000       0.0  \n2225                  2.082614           -1.519231         2.144262       0.0  \n1023                 10.000000           -1.519231        -1.783607       0.0  \n2728                  2.082614           -1.519231        -1.783607       0.0  \n\n[147 rows x 20 columns]",
      "text/html": "<div>\n<style scoped>\n    .dataframe tbody tr th:only-of-type {\n        vertical-align: middle;\n    }\n\n    .dataframe tbody tr th {\n        vertical-align: top;\n    }\n\n    .dataframe thead th {\n        text-align: right;\n    }\n</style>\n<table border=\"1\" class=\"dataframe\">\n  <thead>\n    <tr style=\"text-align: right;\">\n      <th></th>\n      <th>Age</th>\n      <th>Systolic BP</th>\n      <th>BMI</th>\n      <th>HbA1c</th>\n      <th>CRP</th>\n      <th>DHEA</th>\n      <th>smoker</th>\n      <th>alcohol</th>\n      <th>physical activity</th>\n      <th>sleep</th>\n      <th>education</th>\n      <th>wealth</th>\n      <th>married</th>\n      <th>black race</th>\n      <th>gender</th>\n      <th>physical self-rated health</th>\n      <th>mental self-rated health</th>\n      <th>chronic conditions</th>\n      <th>walking 1 block</th>\n      <th>deceased</th>\n    </tr>\n  </thead>\n  <tbody>\n    <tr>\n      <th>1374</th>\n      <td>4.771983</td>\n      <td>2.971285</td>\n      <td>0.742092</td>\n      <td>0.783655</td>\n      <td>0.678735</td>\n      <td>-0.202921</td>\n      <td>10.000000</td>\n      <td>-12.434457</td>\n      <td>-22.262118</td>\n      <td>3.477911</td>\n      <td>-3.281596</td>\n      <td>2.675545</td>\n      <td>NaN</td>\n      <td>NaN</td>\n      <td>-11.546763</td>\n      <td>-0.887143</td>\n      <td>10.000000</td>\n      <td>-1.519231</td>\n      <td>-1.783607</td>\n      <td>1.0</td>\n    </tr>\n    <tr>\n      <th>2110</th>\n      <td>2.811477</td>\n      <td>-0.639799</td>\n      <td>-0.338796</td>\n      <td>0.048748</td>\n      <td>-0.011860</td>\n      <td>-0.144557</td>\n      <td>-1.519231</td>\n      <td>-12.434457</td>\n      <td>10.000000</td>\n      <td>3.477911</td>\n      <td>-9.922395</td>\n      <td>0.108414</td>\n      <td>NaN</td>\n      <td>NaN</td>\n      <td>10.000000</td>\n      <td>-6.330715</td>\n      <td>-5.834772</td>\n      <td>-1.519231</td>\n      <td>2.144262</td>\n      <td>1.0</td>\n    </tr>\n    <tr>\n      <th>2097</th>\n      <td>5.425485</td>\n      <td>2.584383</td>\n      <td>-0.778440</td>\n      <td>0.048748</td>\n      <td>-0.011860</td>\n      <td>0.031709</td>\n      <td>-1.519231</td>\n      <td>-12.434457</td>\n      <td>10.000000</td>\n      <td>-1.413655</td>\n      <td>-3.281596</td>\n      <td>0.108414</td>\n      <td>NaN</td>\n      <td>NaN</td>\n      <td>10.000000</td>\n      <td>-0.887143</td>\n      <td>2.082614</td>\n      <td>-1.519231</td>\n      <td>-1.783607</td>\n      <td>0.0</td>\n    </tr>\n    <tr>\n      <th>1017</th>\n      <td>-0.456033</td>\n      <td>-3.992947</td>\n      <td>0.000312</td>\n      <td>-0.825548</td>\n      <td>-0.262203</td>\n      <td>0.031709</td>\n      <td>-1.519231</td>\n      <td>-12.434457</td>\n      <td>-22.262118</td>\n      <td>1.847389</td>\n      <td>-3.281596</td>\n      <td>0.108414</td>\n      <td>NaN</td>\n      <td>NaN</td>\n      <td>-11.546763</td>\n      <td>-6.330715</td>\n      <td>-13.752159</td>\n      <td>-1.519231</td>\n      <td>-1.783607</td>\n      <td>0.0</td>\n    </tr>\n    <tr>\n      <th>144</th>\n      <td>-8.298058</td>\n      <td>4.712343</td>\n      <td>-0.959499</td>\n      <td>0.637364</td>\n      <td>-0.159297</td>\n      <td>3.327560</td>\n      <td>-1.519231</td>\n      <td>-12.434457</td>\n      <td>10.000000</td>\n      <td>-3.044177</td>\n      <td>3.359202</td>\n      <td>-19.297822</td>\n      <td>NaN</td>\n      <td>NaN</td>\n      <td>10.000000</td>\n      <td>-6.330715</td>\n      <td>2.082614</td>\n      <td>10.000000</td>\n      <td>2.144262</td>\n      <td>0.0</td>\n    </tr>\n    <tr>\n      <th>...</th>\n      <td>...</td>\n      <td>...</td>\n      <td>...</td>\n      <td>...</td>\n      <td>...</td>\n      <td>...</td>\n      <td>...</td>\n      <td>...</td>\n      <td>...</td>\n      <td>...</td>\n      <td>...</td>\n      <td>...</td>\n      <td>...</td>\n      <td>...</td>\n      <td>...</td>\n      <td>...</td>\n      <td>...</td>\n      <td>...</td>\n      <td>...</td>\n      <td>...</td>\n    </tr>\n    <tr>\n      <th>1253</th>\n      <td>-1.763037</td>\n      <td>-1.155668</td>\n      <td>0.770493</td>\n      <td>0.048748</td>\n      <td>0.249015</td>\n      <td>0.304526</td>\n      <td>-1.519231</td>\n      <td>10.000000</td>\n      <td>10.000000</td>\n      <td>-3.044177</td>\n      <td>-9.922395</td>\n      <td>0.108414</td>\n      <td>NaN</td>\n      <td>NaN</td>\n      <td>10.000000</td>\n      <td>-11.774286</td>\n      <td>-5.834772</td>\n      <td>10.000000</td>\n      <td>2.144262</td>\n      <td>0.0</td>\n    </tr>\n    <tr>\n      <th>2582</th>\n      <td>-5.684050</td>\n      <td>-1.349118</td>\n      <td>5.551726</td>\n      <td>-0.240383</td>\n      <td>3.613039</td>\n      <td>-0.800776</td>\n      <td>-1.519231</td>\n      <td>-12.434457</td>\n      <td>-11.508079</td>\n      <td>1.847389</td>\n      <td>-9.922395</td>\n      <td>2.675545</td>\n      <td>NaN</td>\n      <td>NaN</td>\n      <td>-11.546763</td>\n      <td>-6.330715</td>\n      <td>-5.834772</td>\n      <td>-1.519231</td>\n      <td>10.000000</td>\n      <td>0.0</td>\n    </tr>\n    <tr>\n      <th>2225</th>\n      <td>-6.337552</td>\n      <td>0.087349</td>\n      <td>-0.075851</td>\n      <td>0.048748</td>\n      <td>-0.011860</td>\n      <td>0.031709</td>\n      <td>10.000000</td>\n      <td>-12.434457</td>\n      <td>10.000000</td>\n      <td>1.847389</td>\n      <td>-3.281596</td>\n      <td>0.108414</td>\n      <td>NaN</td>\n      <td>NaN</td>\n      <td>-11.546763</td>\n      <td>-6.330715</td>\n      <td>2.082614</td>\n      <td>-1.519231</td>\n      <td>2.144262</td>\n      <td>0.0</td>\n    </tr>\n    <tr>\n      <th>1023</th>\n      <td>5.425485</td>\n      <td>-0.962217</td>\n      <td>-1.553920</td>\n      <td>-1.410713</td>\n      <td>-0.040051</td>\n      <td>-0.418260</td>\n      <td>-1.519231</td>\n      <td>10.000000</td>\n      <td>10.000000</td>\n      <td>1.847389</td>\n      <td>-9.922395</td>\n      <td>2.675545</td>\n      <td>NaN</td>\n      <td>NaN</td>\n      <td>-11.546763</td>\n      <td>-0.887143</td>\n      <td>10.000000</td>\n      <td>-1.519231</td>\n      <td>-1.783607</td>\n      <td>0.0</td>\n    </tr>\n    <tr>\n      <th>2728</th>\n      <td>-3.070041</td>\n      <td>-2.445340</td>\n      <td>-1.665344</td>\n      <td>3.855770</td>\n      <td>0.091399</td>\n      <td>-0.613571</td>\n      <td>10.000000</td>\n      <td>-12.434457</td>\n      <td>10.000000</td>\n      <td>-1.413655</td>\n      <td>-3.281596</td>\n      <td>-19.297822</td>\n      <td>NaN</td>\n      <td>NaN</td>\n      <td>-11.546763</td>\n      <td>-0.887143</td>\n      <td>2.082614</td>\n      <td>-1.519231</td>\n      <td>-1.783607</td>\n      <td>0.0</td>\n    </tr>\n  </tbody>\n</table>\n<p>147 rows × 20 columns</p>\n</div>"
     },
     "execution_count": 352,
     "metadata": {},
     "output_type": "execute_result"
    }
   ],
   "source": [
    "y_sp = np.array(y_sp)\n",
    "gt = list(dict(y_test)['deceased'])\n",
    "gt = np.array(gt)\n",
    "f_idx = np.reshape(np.argwhere(y_sp != gt), [-1])\n",
    "X_wrong = X_test.iloc[f_idx]\n",
    "X_wrong['deceased'] = y_sp[f_idx]\n",
    "X_wrong"
   ],
   "metadata": {
    "collapsed": false,
    "pycharm": {
     "name": "#%%\n"
    }
   }
  },
  {
   "cell_type": "code",
   "execution_count": 337,
   "outputs": [
    {
     "name": "stderr",
     "output_type": "stream",
     "text": [
      "/var/folders/zw/thvqht1n2q9ggd09wgsw76th0000gn/T/ipykernel_36672/1822508282.py:3: SettingWithCopyWarning: \n",
      "A value is trying to be set on a copy of a slice from a DataFrame.\n",
      "Try using .loc[row_indexer,col_indexer] = value instead\n",
      "\n",
      "See the caveats in the documentation: https://pandas.pydata.org/pandas-docs/stable/user_guide/indexing.html#returning-a-view-versus-a-copy\n",
      "  X_right['deceased']=y_sp[s_idx]\n"
     ]
    },
    {
     "data": {
      "text/plain": "       Age  Systolic BP        BMI     HbA1c      CRP        DHEA  smoker  \\\n321   59.0        148.0  28.500000  6.097641  3.19458   56.285000     0.0   \n1578  73.0        152.0  30.417559  5.400000  5.46500  127.855000     0.0   \n178   75.0        103.5  30.056837  6.097641  1.14300   27.895000     0.0   \n495   68.0        107.0  30.712875  5.500000  3.17500  142.695000     0.0   \n471   67.0        152.5  23.289228  6.097641  3.19458   52.921454     0.0   \n...    ...          ...        ...       ...      ...         ...     ...   \n1610  63.0        143.5  34.942013  5.600000  2.86800   59.215000     0.0   \n2337  62.0        146.5  36.540760  6.000000  8.94300   52.921454     0.0   \n1192  74.0        124.0  30.550123  6.097641  1.96900    7.330000     0.0   \n226   73.0        124.0  26.356962  6.900000  1.96100   48.695000     0.0   \n1911  85.0        111.0  23.823889  5.300000  1.21200   11.660000     0.0   \n\n      alcohol  physical activity  sleep  education    wealth  married  \\\n321       0.0                3.0    6.0        1.0  3.649512        0   \n1578      1.0                4.0    9.0        4.0  3.649512        0   \n178       1.0                4.0    8.0        2.0  4.000000        0   \n495       1.0                4.0    8.0        1.0  3.000000        0   \n471       1.0                4.0    8.0        2.0  3.649512        0   \n...       ...                ...    ...        ...       ...      ...   \n1610      0.0                3.0    5.0        3.0  2.000000        0   \n2337      1.0                4.0    6.0        1.0  3.649512        0   \n1192      0.0                4.0    6.0        2.0  2.000000        0   \n226       0.0                0.0    7.0        2.0  5.000000        0   \n1911      0.0                4.0    8.0        1.0  3.649512        0   \n\n      black race  gender  physical self-rated health  \\\n321            0     1.0                         3.0   \n1578           0     1.0                         4.0   \n178            0     1.0                         3.0   \n495            0     1.0                         2.0   \n471            0     1.0                         5.0   \n...          ...     ...                         ...   \n1610           0     2.0                         4.0   \n2337           0     1.0                         3.0   \n1192           0     2.0                         4.0   \n226            0     1.0                         1.0   \n1911           0     2.0                         4.0   \n\n      mental self-rated health  chronic conditions  walking 1 block  deceased  \n321                        4.0                 0.0              0.0       0.0  \n1578                       4.0                 0.0              0.0       0.0  \n178                        3.0                 0.0              0.0       0.0  \n495                        3.0                 0.0              1.0       0.0  \n471                        5.0                 0.0              0.0       0.0  \n...                        ...                 ...              ...       ...  \n1610                       4.0                 0.0              0.0       0.0  \n2337                       3.0                 0.0              0.0       0.0  \n1192                       4.0                 0.0              0.0       0.0  \n226                        5.0                 0.0              0.0       1.0  \n1911                       4.0                 1.0              1.0       1.0  \n\n[452 rows x 20 columns]",
      "text/html": "<div>\n<style scoped>\n    .dataframe tbody tr th:only-of-type {\n        vertical-align: middle;\n    }\n\n    .dataframe tbody tr th {\n        vertical-align: top;\n    }\n\n    .dataframe thead th {\n        text-align: right;\n    }\n</style>\n<table border=\"1\" class=\"dataframe\">\n  <thead>\n    <tr style=\"text-align: right;\">\n      <th></th>\n      <th>Age</th>\n      <th>Systolic BP</th>\n      <th>BMI</th>\n      <th>HbA1c</th>\n      <th>CRP</th>\n      <th>DHEA</th>\n      <th>smoker</th>\n      <th>alcohol</th>\n      <th>physical activity</th>\n      <th>sleep</th>\n      <th>education</th>\n      <th>wealth</th>\n      <th>married</th>\n      <th>black race</th>\n      <th>gender</th>\n      <th>physical self-rated health</th>\n      <th>mental self-rated health</th>\n      <th>chronic conditions</th>\n      <th>walking 1 block</th>\n      <th>deceased</th>\n    </tr>\n  </thead>\n  <tbody>\n    <tr>\n      <th>321</th>\n      <td>59.0</td>\n      <td>148.0</td>\n      <td>28.500000</td>\n      <td>6.097641</td>\n      <td>3.19458</td>\n      <td>56.285000</td>\n      <td>0.0</td>\n      <td>0.0</td>\n      <td>3.0</td>\n      <td>6.0</td>\n      <td>1.0</td>\n      <td>3.649512</td>\n      <td>0</td>\n      <td>0</td>\n      <td>1.0</td>\n      <td>3.0</td>\n      <td>4.0</td>\n      <td>0.0</td>\n      <td>0.0</td>\n      <td>0.0</td>\n    </tr>\n    <tr>\n      <th>1578</th>\n      <td>73.0</td>\n      <td>152.0</td>\n      <td>30.417559</td>\n      <td>5.400000</td>\n      <td>5.46500</td>\n      <td>127.855000</td>\n      <td>0.0</td>\n      <td>1.0</td>\n      <td>4.0</td>\n      <td>9.0</td>\n      <td>4.0</td>\n      <td>3.649512</td>\n      <td>0</td>\n      <td>0</td>\n      <td>1.0</td>\n      <td>4.0</td>\n      <td>4.0</td>\n      <td>0.0</td>\n      <td>0.0</td>\n      <td>0.0</td>\n    </tr>\n    <tr>\n      <th>178</th>\n      <td>75.0</td>\n      <td>103.5</td>\n      <td>30.056837</td>\n      <td>6.097641</td>\n      <td>1.14300</td>\n      <td>27.895000</td>\n      <td>0.0</td>\n      <td>1.0</td>\n      <td>4.0</td>\n      <td>8.0</td>\n      <td>2.0</td>\n      <td>4.000000</td>\n      <td>0</td>\n      <td>0</td>\n      <td>1.0</td>\n      <td>3.0</td>\n      <td>3.0</td>\n      <td>0.0</td>\n      <td>0.0</td>\n      <td>0.0</td>\n    </tr>\n    <tr>\n      <th>495</th>\n      <td>68.0</td>\n      <td>107.0</td>\n      <td>30.712875</td>\n      <td>5.500000</td>\n      <td>3.17500</td>\n      <td>142.695000</td>\n      <td>0.0</td>\n      <td>1.0</td>\n      <td>4.0</td>\n      <td>8.0</td>\n      <td>1.0</td>\n      <td>3.000000</td>\n      <td>0</td>\n      <td>0</td>\n      <td>1.0</td>\n      <td>2.0</td>\n      <td>3.0</td>\n      <td>0.0</td>\n      <td>1.0</td>\n      <td>0.0</td>\n    </tr>\n    <tr>\n      <th>471</th>\n      <td>67.0</td>\n      <td>152.5</td>\n      <td>23.289228</td>\n      <td>6.097641</td>\n      <td>3.19458</td>\n      <td>52.921454</td>\n      <td>0.0</td>\n      <td>1.0</td>\n      <td>4.0</td>\n      <td>8.0</td>\n      <td>2.0</td>\n      <td>3.649512</td>\n      <td>0</td>\n      <td>0</td>\n      <td>1.0</td>\n      <td>5.0</td>\n      <td>5.0</td>\n      <td>0.0</td>\n      <td>0.0</td>\n      <td>0.0</td>\n    </tr>\n    <tr>\n      <th>...</th>\n      <td>...</td>\n      <td>...</td>\n      <td>...</td>\n      <td>...</td>\n      <td>...</td>\n      <td>...</td>\n      <td>...</td>\n      <td>...</td>\n      <td>...</td>\n      <td>...</td>\n      <td>...</td>\n      <td>...</td>\n      <td>...</td>\n      <td>...</td>\n      <td>...</td>\n      <td>...</td>\n      <td>...</td>\n      <td>...</td>\n      <td>...</td>\n      <td>...</td>\n    </tr>\n    <tr>\n      <th>1610</th>\n      <td>63.0</td>\n      <td>143.5</td>\n      <td>34.942013</td>\n      <td>5.600000</td>\n      <td>2.86800</td>\n      <td>59.215000</td>\n      <td>0.0</td>\n      <td>0.0</td>\n      <td>3.0</td>\n      <td>5.0</td>\n      <td>3.0</td>\n      <td>2.000000</td>\n      <td>0</td>\n      <td>0</td>\n      <td>2.0</td>\n      <td>4.0</td>\n      <td>4.0</td>\n      <td>0.0</td>\n      <td>0.0</td>\n      <td>0.0</td>\n    </tr>\n    <tr>\n      <th>2337</th>\n      <td>62.0</td>\n      <td>146.5</td>\n      <td>36.540760</td>\n      <td>6.000000</td>\n      <td>8.94300</td>\n      <td>52.921454</td>\n      <td>0.0</td>\n      <td>1.0</td>\n      <td>4.0</td>\n      <td>6.0</td>\n      <td>1.0</td>\n      <td>3.649512</td>\n      <td>0</td>\n      <td>0</td>\n      <td>1.0</td>\n      <td>3.0</td>\n      <td>3.0</td>\n      <td>0.0</td>\n      <td>0.0</td>\n      <td>0.0</td>\n    </tr>\n    <tr>\n      <th>1192</th>\n      <td>74.0</td>\n      <td>124.0</td>\n      <td>30.550123</td>\n      <td>6.097641</td>\n      <td>1.96900</td>\n      <td>7.330000</td>\n      <td>0.0</td>\n      <td>0.0</td>\n      <td>4.0</td>\n      <td>6.0</td>\n      <td>2.0</td>\n      <td>2.000000</td>\n      <td>0</td>\n      <td>0</td>\n      <td>2.0</td>\n      <td>4.0</td>\n      <td>4.0</td>\n      <td>0.0</td>\n      <td>0.0</td>\n      <td>0.0</td>\n    </tr>\n    <tr>\n      <th>226</th>\n      <td>73.0</td>\n      <td>124.0</td>\n      <td>26.356962</td>\n      <td>6.900000</td>\n      <td>1.96100</td>\n      <td>48.695000</td>\n      <td>0.0</td>\n      <td>0.0</td>\n      <td>0.0</td>\n      <td>7.0</td>\n      <td>2.0</td>\n      <td>5.000000</td>\n      <td>0</td>\n      <td>0</td>\n      <td>1.0</td>\n      <td>1.0</td>\n      <td>5.0</td>\n      <td>0.0</td>\n      <td>0.0</td>\n      <td>1.0</td>\n    </tr>\n    <tr>\n      <th>1911</th>\n      <td>85.0</td>\n      <td>111.0</td>\n      <td>23.823889</td>\n      <td>5.300000</td>\n      <td>1.21200</td>\n      <td>11.660000</td>\n      <td>0.0</td>\n      <td>0.0</td>\n      <td>4.0</td>\n      <td>8.0</td>\n      <td>1.0</td>\n      <td>3.649512</td>\n      <td>0</td>\n      <td>0</td>\n      <td>2.0</td>\n      <td>4.0</td>\n      <td>4.0</td>\n      <td>1.0</td>\n      <td>1.0</td>\n      <td>1.0</td>\n    </tr>\n  </tbody>\n</table>\n<p>452 rows × 20 columns</p>\n</div>"
     },
     "execution_count": 337,
     "metadata": {},
     "output_type": "execute_result"
    }
   ],
   "source": [
    "s_idx = np.reshape(np.argwhere(y_sp == gt), [-1])\n",
    "X_right = X_test.iloc[s_idx]\n",
    "X_right['deceased'] = y_sp[s_idx]\n",
    "X_right"
   ],
   "metadata": {
    "collapsed": false,
    "pycharm": {
     "name": "#%%\n"
    }
   }
  },
  {
   "cell_type": "code",
   "execution_count": null,
   "outputs": [],
   "source": [
    "# tsne降维可视化\n",
    "# 讨论stacking的实现细节"
   ],
   "metadata": {
    "collapsed": false,
    "pycharm": {
     "name": "#%%\n"
    }
   }
  },
  {
   "cell_type": "code",
   "execution_count": 349,
   "outputs": [],
   "source": [
    "X_test_new = X_test\n",
    "for idx in list(X_test_new.columns):\n",
    "    X_test_new[idx] = (X_test_new[idx] - X_test_new[idx].mean()) / (X_test_new[idx].max() - X_test_new[idx].mean()) * 10\n",
    "X_test_new = X_test_new.drop(columns=['married', 'black race'])"
   ],
   "metadata": {
    "collapsed": false,
    "pycharm": {
     "name": "#%%\n"
    }
   }
  },
  {
   "cell_type": "code",
   "execution_count": 354,
   "outputs": [
    {
     "name": "stderr",
     "output_type": "stream",
     "text": [
      "/Users/lyu/Opt/anaconda3/envs/m1_torch/lib/python3.8/site-packages/sklearn/manifold/_t_sne.py:800: FutureWarning: The default initialization in TSNE will change from 'random' to 'pca' in 1.2.\n",
      "  warnings.warn(\n"
     ]
    },
    {
     "data": {
      "text/plain": "<Figure size 600x600 with 1 Axes>",
      "image/png": "[encoded data removed]"
     },
     "metadata": {},
     "output_type": "display_data"
    }
   ],
   "source": [
    "\n",
    "x_train = np.array(X_test_new)\n",
    "x_tsne = TSNE(n_components=2, learning_rate=100, random_state=501).fit_transform(x_train)\n",
    "\n",
    "plt.figure(figsize=(6, 6))\n",
    "r = 2  # 4ls\n",
    "\n",
    "area = np.pi * r ** 2  # 点面积\n",
    "\n",
    "plt.scatter(x_tsne[s_idx, 0], x_tsne[s_idx, 1], s=area, c='g', alpha=0.4, label='success')\n",
    "plt.scatter(x_tsne[f_idx, 0], x_tsne[f_idx, 1], s=area, c='b', alpha=0.4, label='failed')\n",
    "plt.legend()\n",
    "#plt.savefig(name)\n",
    "plt.show()"
   ],
   "metadata": {
    "collapsed": false,
    "pycharm": {
     "name": "#%%\n"
    }
   }
  },
  {
   "cell_type": "code",
   "execution_count": null,
   "outputs": [],
   "source": [
    "#onehot\n",
    "#validation\n",
    "#model performence interpretation\n",
    "#wrong sample\n",
    "\n",
    "##decision tree classifier,\n",
    "##根据observation在develop下一步改变"
   ],
   "metadata": {
    "collapsed": false,
    "pycharm": {
     "name": "#%%\n"
    }
   }
  }
 ],
 "metadata": {
  "kernelspec": {
   "display_name": "MACS",
   "language": "python",
   "name": "python3"
  },
  "language_info": {
   "codemirror_mode": {
    "name": "ipython",
    "version": 3
   },
   "file_extension": ".py",
   "mimetype": "text/x-python",
   "name": "python",
   "nbconvert_exporter": "python",
   "pygments_lexer": "ipython3",
   "version": "3.9.16 (main, Jan 11 2023, 10:02:19) \n[Clang 14.0.6 ]"
  },
  "orig_nbformat": 4,
  "vscode": {
   "interpreter": {
    "hash": "5febda9ea3b33ffdc95c888fff59ec7615aa10294cac48f80c25517e6a63b54a"
   }
  }
 },
 "nbformat": 4,
 "nbformat_minor": 2
}